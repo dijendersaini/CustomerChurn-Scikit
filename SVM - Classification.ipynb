{
 "cells": [
  {
   "cell_type": "markdown",
   "metadata": {},
   "source": [
    "# Modelling using Support Vector Machines"
   ]
  },
  {
   "cell_type": "code",
   "execution_count": 58,
   "metadata": {},
   "outputs": [
    {
     "data": {
      "text/html": [
       "<div>\n",
       "<style scoped>\n",
       "    .dataframe tbody tr th:only-of-type {\n",
       "        vertical-align: middle;\n",
       "    }\n",
       "\n",
       "    .dataframe tbody tr th {\n",
       "        vertical-align: top;\n",
       "    }\n",
       "\n",
       "    .dataframe thead th {\n",
       "        text-align: right;\n",
       "    }\n",
       "</style>\n",
       "<table border=\"1\" class=\"dataframe\">\n",
       "  <thead>\n",
       "    <tr style=\"text-align: right;\">\n",
       "      <th></th>\n",
       "      <th>gender</th>\n",
       "      <th>SeniorCitizen</th>\n",
       "      <th>Partner</th>\n",
       "      <th>Dependents</th>\n",
       "      <th>tenure</th>\n",
       "      <th>PhoneService</th>\n",
       "      <th>PaperlessBilling</th>\n",
       "      <th>MonthlyCharges</th>\n",
       "      <th>TotalCharges</th>\n",
       "      <th>Churn</th>\n",
       "      <th>...</th>\n",
       "      <th>TechSupportYes</th>\n",
       "      <th>StreamingTVNo internet service</th>\n",
       "      <th>StreamingTVYes</th>\n",
       "      <th>StreamingMoviesNo internet service</th>\n",
       "      <th>StreamingMoviesYes</th>\n",
       "      <th>ContractOne year</th>\n",
       "      <th>ContractTwo year</th>\n",
       "      <th>PaymentMethodCredit card (automatic)</th>\n",
       "      <th>PaymentMethodElectronic check</th>\n",
       "      <th>PaymentMethodMailed check</th>\n",
       "    </tr>\n",
       "  </thead>\n",
       "  <tbody>\n",
       "    <tr>\n",
       "      <th>0</th>\n",
       "      <td>0</td>\n",
       "      <td>0</td>\n",
       "      <td>1</td>\n",
       "      <td>1</td>\n",
       "      <td>45</td>\n",
       "      <td>1</td>\n",
       "      <td>1</td>\n",
       "      <td>81.00</td>\n",
       "      <td>3533.60</td>\n",
       "      <td>No</td>\n",
       "      <td>...</td>\n",
       "      <td>1</td>\n",
       "      <td>0</td>\n",
       "      <td>1</td>\n",
       "      <td>0</td>\n",
       "      <td>1</td>\n",
       "      <td>0</td>\n",
       "      <td>1</td>\n",
       "      <td>0</td>\n",
       "      <td>0</td>\n",
       "      <td>1</td>\n",
       "    </tr>\n",
       "    <tr>\n",
       "      <th>1</th>\n",
       "      <td>1</td>\n",
       "      <td>0</td>\n",
       "      <td>0</td>\n",
       "      <td>0</td>\n",
       "      <td>4</td>\n",
       "      <td>1</td>\n",
       "      <td>1</td>\n",
       "      <td>81.00</td>\n",
       "      <td>340.85</td>\n",
       "      <td>Yes</td>\n",
       "      <td>...</td>\n",
       "      <td>0</td>\n",
       "      <td>0</td>\n",
       "      <td>1</td>\n",
       "      <td>0</td>\n",
       "      <td>0</td>\n",
       "      <td>0</td>\n",
       "      <td>0</td>\n",
       "      <td>0</td>\n",
       "      <td>1</td>\n",
       "      <td>0</td>\n",
       "    </tr>\n",
       "    <tr>\n",
       "      <th>2</th>\n",
       "      <td>0</td>\n",
       "      <td>0</td>\n",
       "      <td>1</td>\n",
       "      <td>1</td>\n",
       "      <td>18</td>\n",
       "      <td>1</td>\n",
       "      <td>1</td>\n",
       "      <td>20.25</td>\n",
       "      <td>401.95</td>\n",
       "      <td>No</td>\n",
       "      <td>...</td>\n",
       "      <td>0</td>\n",
       "      <td>1</td>\n",
       "      <td>0</td>\n",
       "      <td>1</td>\n",
       "      <td>0</td>\n",
       "      <td>0</td>\n",
       "      <td>0</td>\n",
       "      <td>0</td>\n",
       "      <td>0</td>\n",
       "      <td>1</td>\n",
       "    </tr>\n",
       "    <tr>\n",
       "      <th>3</th>\n",
       "      <td>0</td>\n",
       "      <td>0</td>\n",
       "      <td>1</td>\n",
       "      <td>0</td>\n",
       "      <td>53</td>\n",
       "      <td>1</td>\n",
       "      <td>1</td>\n",
       "      <td>93.45</td>\n",
       "      <td>4872.20</td>\n",
       "      <td>No</td>\n",
       "      <td>...</td>\n",
       "      <td>1</td>\n",
       "      <td>0</td>\n",
       "      <td>1</td>\n",
       "      <td>0</td>\n",
       "      <td>1</td>\n",
       "      <td>1</td>\n",
       "      <td>0</td>\n",
       "      <td>0</td>\n",
       "      <td>1</td>\n",
       "      <td>0</td>\n",
       "    </tr>\n",
       "    <tr>\n",
       "      <th>4</th>\n",
       "      <td>0</td>\n",
       "      <td>1</td>\n",
       "      <td>1</td>\n",
       "      <td>0</td>\n",
       "      <td>3</td>\n",
       "      <td>1</td>\n",
       "      <td>1</td>\n",
       "      <td>74.60</td>\n",
       "      <td>239.05</td>\n",
       "      <td>No</td>\n",
       "      <td>...</td>\n",
       "      <td>0</td>\n",
       "      <td>0</td>\n",
       "      <td>0</td>\n",
       "      <td>0</td>\n",
       "      <td>0</td>\n",
       "      <td>0</td>\n",
       "      <td>0</td>\n",
       "      <td>0</td>\n",
       "      <td>0</td>\n",
       "      <td>0</td>\n",
       "    </tr>\n",
       "  </tbody>\n",
       "</table>\n",
       "<p>5 rows × 31 columns</p>\n",
       "</div>"
      ],
      "text/plain": [
       "   gender  SeniorCitizen  Partner  Dependents  tenure  PhoneService  \\\n",
       "0       0              0        1           1      45             1   \n",
       "1       1              0        0           0       4             1   \n",
       "2       0              0        1           1      18             1   \n",
       "3       0              0        1           0      53             1   \n",
       "4       0              1        1           0       3             1   \n",
       "\n",
       "   PaperlessBilling  MonthlyCharges  TotalCharges Churn  \\\n",
       "0                 1           81.00       3533.60    No   \n",
       "1                 1           81.00        340.85   Yes   \n",
       "2                 1           20.25        401.95    No   \n",
       "3                 1           93.45       4872.20    No   \n",
       "4                 1           74.60        239.05    No   \n",
       "\n",
       "             ...              TechSupportYes  StreamingTVNo internet service  \\\n",
       "0            ...                           1                               0   \n",
       "1            ...                           0                               0   \n",
       "2            ...                           0                               1   \n",
       "3            ...                           1                               0   \n",
       "4            ...                           0                               0   \n",
       "\n",
       "   StreamingTVYes  StreamingMoviesNo internet service  StreamingMoviesYes  \\\n",
       "0               1                                   0                   1   \n",
       "1               1                                   0                   0   \n",
       "2               0                                   1                   0   \n",
       "3               1                                   0                   1   \n",
       "4               0                                   0                   0   \n",
       "\n",
       "   ContractOne year  ContractTwo year  PaymentMethodCredit card (automatic)  \\\n",
       "0                 0                 1                                     0   \n",
       "1                 0                 0                                     0   \n",
       "2                 0                 0                                     0   \n",
       "3                 1                 0                                     0   \n",
       "4                 0                 0                                     0   \n",
       "\n",
       "   PaymentMethodElectronic check  PaymentMethodMailed check  \n",
       "0                              0                          1  \n",
       "1                              1                          0  \n",
       "2                              0                          1  \n",
       "3                              1                          0  \n",
       "4                              0                          0  \n",
       "\n",
       "[5 rows x 31 columns]"
      ]
     },
     "execution_count": 58,
     "metadata": {},
     "output_type": "execute_result"
    }
   ],
   "source": [
    "import pandas as pd\n",
    "import matplotlib.pyplot as plt\n",
    "tc_data = pd.read_csv(\"/home2/MyNotes/Python/DataSets/CustomerChurn/telecomChurn.csv\",b\n",
    "                             sep=\",\",\n",
    "                             header=0)\n",
    "tc_data.head(5)"
   ]
  },
  {
   "cell_type": "code",
   "execution_count": 31,
   "metadata": {},
   "outputs": [],
   "source": [
    "# Looks like these are new customers as the tenure is zero. We can update the MonthlyCharges into TotalCharges\n",
    "tc_data[\"TotalCharges\"] = tc_data[\"TotalCharges\"].fillna(value=tc_data[\"MonthlyCharges\"])"
   ]
  },
  {
   "cell_type": "code",
   "execution_count": 3,
   "metadata": {
    "scrolled": true
   },
   "outputs": [
    {
     "name": "stdout",
     "output_type": "stream",
     "text": [
      "<class 'pandas.core.frame.DataFrame'>\n",
      "RangeIndex: 4930 entries, 0 to 4929\n",
      "Data columns (total 31 columns):\n",
      "gender                                  4930 non-null int64\n",
      "SeniorCitizen                           4930 non-null int64\n",
      "Partner                                 4930 non-null int64\n",
      "Dependents                              4930 non-null int64\n",
      "tenure                                  4930 non-null int64\n",
      "PhoneService                            4930 non-null int64\n",
      "PaperlessBilling                        4930 non-null int64\n",
      "MonthlyCharges                          4930 non-null float64\n",
      "TotalCharges                            4930 non-null float64\n",
      "Churn                                   4930 non-null object\n",
      "MultipleLinesNo phone service           4930 non-null int64\n",
      "MultipleLinesYes                        4930 non-null int64\n",
      "InternetServiceFiber optic              4930 non-null int64\n",
      "InternetServiceNo                       4930 non-null int64\n",
      "OnlineSecurityNo internet service       4930 non-null int64\n",
      "OnlineSecurityYes                       4930 non-null int64\n",
      "OnlineBackupNo internet service         4930 non-null int64\n",
      "OnlineBackupYes                         4930 non-null int64\n",
      "DeviceProtectionNo internet service     4930 non-null int64\n",
      "DeviceProtectionYes                     4930 non-null int64\n",
      "TechSupportNo internet service          4930 non-null int64\n",
      "TechSupportYes                          4930 non-null int64\n",
      "StreamingTVNo internet service          4930 non-null int64\n",
      "StreamingTVYes                          4930 non-null int64\n",
      "StreamingMoviesNo internet service      4930 non-null int64\n",
      "StreamingMoviesYes                      4930 non-null int64\n",
      "ContractOne year                        4930 non-null int64\n",
      "ContractTwo year                        4930 non-null int64\n",
      "PaymentMethodCredit card (automatic)    4930 non-null int64\n",
      "PaymentMethodElectronic check           4930 non-null int64\n",
      "PaymentMethodMailed check               4930 non-null int64\n",
      "dtypes: float64(2), int64(28), object(1)\n",
      "memory usage: 1.2+ MB\n"
     ]
    }
   ],
   "source": [
    "tc_data.info()"
   ]
  },
  {
   "cell_type": "code",
   "execution_count": 4,
   "metadata": {
    "scrolled": false
   },
   "outputs": [
    {
     "data": {
      "text/html": [
       "<div>\n",
       "<style scoped>\n",
       "    .dataframe tbody tr th:only-of-type {\n",
       "        vertical-align: middle;\n",
       "    }\n",
       "\n",
       "    .dataframe tbody tr th {\n",
       "        vertical-align: top;\n",
       "    }\n",
       "\n",
       "    .dataframe thead th {\n",
       "        text-align: right;\n",
       "    }\n",
       "</style>\n",
       "<table border=\"1\" class=\"dataframe\">\n",
       "  <thead>\n",
       "    <tr style=\"text-align: right;\">\n",
       "      <th></th>\n",
       "      <th>gender</th>\n",
       "      <th>SeniorCitizen</th>\n",
       "      <th>Partner</th>\n",
       "      <th>Dependents</th>\n",
       "      <th>tenure</th>\n",
       "      <th>PhoneService</th>\n",
       "      <th>PaperlessBilling</th>\n",
       "      <th>MonthlyCharges</th>\n",
       "      <th>TotalCharges</th>\n",
       "      <th>Churn</th>\n",
       "      <th>...</th>\n",
       "      <th>TechSupportYes</th>\n",
       "      <th>StreamingTVNo internet service</th>\n",
       "      <th>StreamingTVYes</th>\n",
       "      <th>StreamingMoviesNo internet service</th>\n",
       "      <th>StreamingMoviesYes</th>\n",
       "      <th>ContractOne year</th>\n",
       "      <th>ContractTwo year</th>\n",
       "      <th>PaymentMethodCredit card (automatic)</th>\n",
       "      <th>PaymentMethodElectronic check</th>\n",
       "      <th>PaymentMethodMailed check</th>\n",
       "    </tr>\n",
       "  </thead>\n",
       "  <tbody>\n",
       "    <tr>\n",
       "      <th>0</th>\n",
       "      <td>0</td>\n",
       "      <td>0</td>\n",
       "      <td>1</td>\n",
       "      <td>1</td>\n",
       "      <td>45</td>\n",
       "      <td>1</td>\n",
       "      <td>1</td>\n",
       "      <td>81.00</td>\n",
       "      <td>3533.60</td>\n",
       "      <td>No</td>\n",
       "      <td>...</td>\n",
       "      <td>1</td>\n",
       "      <td>0</td>\n",
       "      <td>1</td>\n",
       "      <td>0</td>\n",
       "      <td>1</td>\n",
       "      <td>0</td>\n",
       "      <td>1</td>\n",
       "      <td>0</td>\n",
       "      <td>0</td>\n",
       "      <td>1</td>\n",
       "    </tr>\n",
       "    <tr>\n",
       "      <th>1</th>\n",
       "      <td>1</td>\n",
       "      <td>0</td>\n",
       "      <td>0</td>\n",
       "      <td>0</td>\n",
       "      <td>4</td>\n",
       "      <td>1</td>\n",
       "      <td>1</td>\n",
       "      <td>81.00</td>\n",
       "      <td>340.85</td>\n",
       "      <td>Yes</td>\n",
       "      <td>...</td>\n",
       "      <td>0</td>\n",
       "      <td>0</td>\n",
       "      <td>1</td>\n",
       "      <td>0</td>\n",
       "      <td>0</td>\n",
       "      <td>0</td>\n",
       "      <td>0</td>\n",
       "      <td>0</td>\n",
       "      <td>1</td>\n",
       "      <td>0</td>\n",
       "    </tr>\n",
       "    <tr>\n",
       "      <th>2</th>\n",
       "      <td>0</td>\n",
       "      <td>0</td>\n",
       "      <td>1</td>\n",
       "      <td>1</td>\n",
       "      <td>18</td>\n",
       "      <td>1</td>\n",
       "      <td>1</td>\n",
       "      <td>20.25</td>\n",
       "      <td>401.95</td>\n",
       "      <td>No</td>\n",
       "      <td>...</td>\n",
       "      <td>0</td>\n",
       "      <td>1</td>\n",
       "      <td>0</td>\n",
       "      <td>1</td>\n",
       "      <td>0</td>\n",
       "      <td>0</td>\n",
       "      <td>0</td>\n",
       "      <td>0</td>\n",
       "      <td>0</td>\n",
       "      <td>1</td>\n",
       "    </tr>\n",
       "    <tr>\n",
       "      <th>3</th>\n",
       "      <td>0</td>\n",
       "      <td>0</td>\n",
       "      <td>1</td>\n",
       "      <td>0</td>\n",
       "      <td>53</td>\n",
       "      <td>1</td>\n",
       "      <td>1</td>\n",
       "      <td>93.45</td>\n",
       "      <td>4872.20</td>\n",
       "      <td>No</td>\n",
       "      <td>...</td>\n",
       "      <td>1</td>\n",
       "      <td>0</td>\n",
       "      <td>1</td>\n",
       "      <td>0</td>\n",
       "      <td>1</td>\n",
       "      <td>1</td>\n",
       "      <td>0</td>\n",
       "      <td>0</td>\n",
       "      <td>1</td>\n",
       "      <td>0</td>\n",
       "    </tr>\n",
       "    <tr>\n",
       "      <th>4</th>\n",
       "      <td>0</td>\n",
       "      <td>1</td>\n",
       "      <td>1</td>\n",
       "      <td>0</td>\n",
       "      <td>3</td>\n",
       "      <td>1</td>\n",
       "      <td>1</td>\n",
       "      <td>74.60</td>\n",
       "      <td>239.05</td>\n",
       "      <td>No</td>\n",
       "      <td>...</td>\n",
       "      <td>0</td>\n",
       "      <td>0</td>\n",
       "      <td>0</td>\n",
       "      <td>0</td>\n",
       "      <td>0</td>\n",
       "      <td>0</td>\n",
       "      <td>0</td>\n",
       "      <td>0</td>\n",
       "      <td>0</td>\n",
       "      <td>0</td>\n",
       "    </tr>\n",
       "  </tbody>\n",
       "</table>\n",
       "<p>5 rows × 31 columns</p>\n",
       "</div>"
      ],
      "text/plain": [
       "   gender  SeniorCitizen  Partner  Dependents  tenure  PhoneService  \\\n",
       "0       0              0        1           1      45             1   \n",
       "1       1              0        0           0       4             1   \n",
       "2       0              0        1           1      18             1   \n",
       "3       0              0        1           0      53             1   \n",
       "4       0              1        1           0       3             1   \n",
       "\n",
       "   PaperlessBilling  MonthlyCharges  TotalCharges Churn  \\\n",
       "0                 1           81.00       3533.60    No   \n",
       "1                 1           81.00        340.85   Yes   \n",
       "2                 1           20.25        401.95    No   \n",
       "3                 1           93.45       4872.20    No   \n",
       "4                 1           74.60        239.05    No   \n",
       "\n",
       "             ...              TechSupportYes  StreamingTVNo internet service  \\\n",
       "0            ...                           1                               0   \n",
       "1            ...                           0                               0   \n",
       "2            ...                           0                               1   \n",
       "3            ...                           1                               0   \n",
       "4            ...                           0                               0   \n",
       "\n",
       "   StreamingTVYes  StreamingMoviesNo internet service  StreamingMoviesYes  \\\n",
       "0               1                                   0                   1   \n",
       "1               1                                   0                   0   \n",
       "2               0                                   1                   0   \n",
       "3               1                                   0                   1   \n",
       "4               0                                   0                   0   \n",
       "\n",
       "   ContractOne year  ContractTwo year  PaymentMethodCredit card (automatic)  \\\n",
       "0                 0                 1                                     0   \n",
       "1                 0                 0                                     0   \n",
       "2                 0                 0                                     0   \n",
       "3                 1                 0                                     0   \n",
       "4                 0                 0                                     0   \n",
       "\n",
       "   PaymentMethodElectronic check  PaymentMethodMailed check  \n",
       "0                              0                          1  \n",
       "1                              1                          0  \n",
       "2                              0                          1  \n",
       "3                              1                          0  \n",
       "4                              0                          0  \n",
       "\n",
       "[5 rows x 31 columns]"
      ]
     },
     "execution_count": 4,
     "metadata": {},
     "output_type": "execute_result"
    }
   ],
   "source": [
    "tc_data.head(5)"
   ]
  },
  {
   "cell_type": "code",
   "execution_count": 32,
   "metadata": {},
   "outputs": [],
   "source": [
    "# Because Support vector machine algorithm is sensitive to magnitude due to calculation of distances, \n",
    "# we should scale the attributes which have different scale\n",
    "\n",
    "from sklearn import preprocessing\n",
    "scaled = pd.DataFrame(preprocessing.scale(tc_data[[\"TotalCharges\",\"tenure\",\"MonthlyCharges\"]]),columns=[\"ScaledTC\",\"ScaledTenure\",\"ScaledMonChar\"])"
   ]
  },
  {
   "cell_type": "code",
   "execution_count": 33,
   "metadata": {},
   "outputs": [],
   "source": [
    "tc_data = tc_data.join(scaled).drop([\"TotalCharges\",\"tenure\",\"MonthlyCharges\"],axis=1)"
   ]
  },
  {
   "cell_type": "code",
   "execution_count": 34,
   "metadata": {},
   "outputs": [
    {
     "data": {
      "text/html": [
       "<div>\n",
       "<style scoped>\n",
       "    .dataframe tbody tr th:only-of-type {\n",
       "        vertical-align: middle;\n",
       "    }\n",
       "\n",
       "    .dataframe tbody tr th {\n",
       "        vertical-align: top;\n",
       "    }\n",
       "\n",
       "    .dataframe thead th {\n",
       "        text-align: right;\n",
       "    }\n",
       "</style>\n",
       "<table border=\"1\" class=\"dataframe\">\n",
       "  <thead>\n",
       "    <tr style=\"text-align: right;\">\n",
       "      <th></th>\n",
       "      <th>gender</th>\n",
       "      <th>SeniorCitizen</th>\n",
       "      <th>Partner</th>\n",
       "      <th>Dependents</th>\n",
       "      <th>PhoneService</th>\n",
       "      <th>PaperlessBilling</th>\n",
       "      <th>Churn</th>\n",
       "      <th>MultipleLinesNo phone service</th>\n",
       "      <th>MultipleLinesYes</th>\n",
       "      <th>InternetServiceFiber optic</th>\n",
       "      <th>...</th>\n",
       "      <th>StreamingMoviesNo internet service</th>\n",
       "      <th>StreamingMoviesYes</th>\n",
       "      <th>ContractOne year</th>\n",
       "      <th>ContractTwo year</th>\n",
       "      <th>PaymentMethodCredit card (automatic)</th>\n",
       "      <th>PaymentMethodElectronic check</th>\n",
       "      <th>PaymentMethodMailed check</th>\n",
       "      <th>ScaledTC</th>\n",
       "      <th>ScaledTenure</th>\n",
       "      <th>ScaledMonChar</th>\n",
       "    </tr>\n",
       "  </thead>\n",
       "  <tbody>\n",
       "    <tr>\n",
       "      <th>0</th>\n",
       "      <td>0</td>\n",
       "      <td>0</td>\n",
       "      <td>1</td>\n",
       "      <td>1</td>\n",
       "      <td>1</td>\n",
       "      <td>1</td>\n",
       "      <td>No</td>\n",
       "      <td>0</td>\n",
       "      <td>0</td>\n",
       "      <td>0</td>\n",
       "      <td>...</td>\n",
       "      <td>0</td>\n",
       "      <td>1</td>\n",
       "      <td>0</td>\n",
       "      <td>1</td>\n",
       "      <td>0</td>\n",
       "      <td>0</td>\n",
       "      <td>1</td>\n",
       "      <td>0.539749</td>\n",
       "      <td>0.498947</td>\n",
       "      <td>0.535693</td>\n",
       "    </tr>\n",
       "    <tr>\n",
       "      <th>1</th>\n",
       "      <td>1</td>\n",
       "      <td>0</td>\n",
       "      <td>0</td>\n",
       "      <td>0</td>\n",
       "      <td>1</td>\n",
       "      <td>1</td>\n",
       "      <td>Yes</td>\n",
       "      <td>0</td>\n",
       "      <td>0</td>\n",
       "      <td>1</td>\n",
       "      <td>...</td>\n",
       "      <td>0</td>\n",
       "      <td>0</td>\n",
       "      <td>0</td>\n",
       "      <td>0</td>\n",
       "      <td>0</td>\n",
       "      <td>1</td>\n",
       "      <td>0</td>\n",
       "      <td>-0.865600</td>\n",
       "      <td>-1.168417</td>\n",
       "      <td>0.535693</td>\n",
       "    </tr>\n",
       "    <tr>\n",
       "      <th>2</th>\n",
       "      <td>0</td>\n",
       "      <td>0</td>\n",
       "      <td>1</td>\n",
       "      <td>1</td>\n",
       "      <td>1</td>\n",
       "      <td>1</td>\n",
       "      <td>No</td>\n",
       "      <td>0</td>\n",
       "      <td>0</td>\n",
       "      <td>0</td>\n",
       "      <td>...</td>\n",
       "      <td>1</td>\n",
       "      <td>0</td>\n",
       "      <td>0</td>\n",
       "      <td>0</td>\n",
       "      <td>0</td>\n",
       "      <td>0</td>\n",
       "      <td>1</td>\n",
       "      <td>-0.838706</td>\n",
       "      <td>-0.599073</td>\n",
       "      <td>-1.485010</td>\n",
       "    </tr>\n",
       "  </tbody>\n",
       "</table>\n",
       "<p>3 rows × 31 columns</p>\n",
       "</div>"
      ],
      "text/plain": [
       "   gender  SeniorCitizen  Partner  Dependents  PhoneService  PaperlessBilling  \\\n",
       "0       0              0        1           1             1                 1   \n",
       "1       1              0        0           0             1                 1   \n",
       "2       0              0        1           1             1                 1   \n",
       "\n",
       "  Churn  MultipleLinesNo phone service  MultipleLinesYes  \\\n",
       "0    No                              0                 0   \n",
       "1   Yes                              0                 0   \n",
       "2    No                              0                 0   \n",
       "\n",
       "   InternetServiceFiber optic      ...        \\\n",
       "0                           0      ...         \n",
       "1                           1      ...         \n",
       "2                           0      ...         \n",
       "\n",
       "   StreamingMoviesNo internet service  StreamingMoviesYes  ContractOne year  \\\n",
       "0                                   0                   1                 0   \n",
       "1                                   0                   0                 0   \n",
       "2                                   1                   0                 0   \n",
       "\n",
       "   ContractTwo year  PaymentMethodCredit card (automatic)  \\\n",
       "0                 1                                     0   \n",
       "1                 0                                     0   \n",
       "2                 0                                     0   \n",
       "\n",
       "   PaymentMethodElectronic check  PaymentMethodMailed check  ScaledTC  \\\n",
       "0                              0                          1  0.539749   \n",
       "1                              1                          0 -0.865600   \n",
       "2                              0                          1 -0.838706   \n",
       "\n",
       "   ScaledTenure  ScaledMonChar  \n",
       "0      0.498947       0.535693  \n",
       "1     -1.168417       0.535693  \n",
       "2     -0.599073      -1.485010  \n",
       "\n",
       "[3 rows x 31 columns]"
      ]
     },
     "execution_count": 34,
     "metadata": {},
     "output_type": "execute_result"
    }
   ],
   "source": [
    "tc_data.head(3)"
   ]
  },
  {
   "cell_type": "code",
   "execution_count": 35,
   "metadata": {},
   "outputs": [],
   "source": [
    "# Treating categorical variables\n",
    "Churn_f = pd.get_dummies(tc_data[\"Churn\"],drop_first=True,prefix=\"Churn\")\n",
    "tc_data_clean = pd.concat([tc_data,Churn_f],axis=1)"
   ]
  },
  {
   "cell_type": "code",
   "execution_count": 36,
   "metadata": {
    "scrolled": false
   },
   "outputs": [
    {
     "data": {
      "text/html": [
       "<div>\n",
       "<style scoped>\n",
       "    .dataframe tbody tr th:only-of-type {\n",
       "        vertical-align: middle;\n",
       "    }\n",
       "\n",
       "    .dataframe tbody tr th {\n",
       "        vertical-align: top;\n",
       "    }\n",
       "\n",
       "    .dataframe thead th {\n",
       "        text-align: right;\n",
       "    }\n",
       "</style>\n",
       "<table border=\"1\" class=\"dataframe\">\n",
       "  <thead>\n",
       "    <tr style=\"text-align: right;\">\n",
       "      <th></th>\n",
       "      <th>gender</th>\n",
       "      <th>SeniorCitizen</th>\n",
       "      <th>Partner</th>\n",
       "      <th>Dependents</th>\n",
       "      <th>PhoneService</th>\n",
       "      <th>PaperlessBilling</th>\n",
       "      <th>Churn</th>\n",
       "      <th>MultipleLinesNo phone service</th>\n",
       "      <th>MultipleLinesYes</th>\n",
       "      <th>InternetServiceFiber optic</th>\n",
       "      <th>...</th>\n",
       "      <th>StreamingMoviesYes</th>\n",
       "      <th>ContractOne year</th>\n",
       "      <th>ContractTwo year</th>\n",
       "      <th>PaymentMethodCredit card (automatic)</th>\n",
       "      <th>PaymentMethodElectronic check</th>\n",
       "      <th>PaymentMethodMailed check</th>\n",
       "      <th>ScaledTC</th>\n",
       "      <th>ScaledTenure</th>\n",
       "      <th>ScaledMonChar</th>\n",
       "      <th>Churn_Yes</th>\n",
       "    </tr>\n",
       "  </thead>\n",
       "  <tbody>\n",
       "    <tr>\n",
       "      <th>0</th>\n",
       "      <td>0</td>\n",
       "      <td>0</td>\n",
       "      <td>1</td>\n",
       "      <td>1</td>\n",
       "      <td>1</td>\n",
       "      <td>1</td>\n",
       "      <td>No</td>\n",
       "      <td>0</td>\n",
       "      <td>0</td>\n",
       "      <td>0</td>\n",
       "      <td>...</td>\n",
       "      <td>1</td>\n",
       "      <td>0</td>\n",
       "      <td>1</td>\n",
       "      <td>0</td>\n",
       "      <td>0</td>\n",
       "      <td>1</td>\n",
       "      <td>0.539749</td>\n",
       "      <td>0.498947</td>\n",
       "      <td>0.535693</td>\n",
       "      <td>0</td>\n",
       "    </tr>\n",
       "    <tr>\n",
       "      <th>1</th>\n",
       "      <td>1</td>\n",
       "      <td>0</td>\n",
       "      <td>0</td>\n",
       "      <td>0</td>\n",
       "      <td>1</td>\n",
       "      <td>1</td>\n",
       "      <td>Yes</td>\n",
       "      <td>0</td>\n",
       "      <td>0</td>\n",
       "      <td>1</td>\n",
       "      <td>...</td>\n",
       "      <td>0</td>\n",
       "      <td>0</td>\n",
       "      <td>0</td>\n",
       "      <td>0</td>\n",
       "      <td>1</td>\n",
       "      <td>0</td>\n",
       "      <td>-0.865600</td>\n",
       "      <td>-1.168417</td>\n",
       "      <td>0.535693</td>\n",
       "      <td>1</td>\n",
       "    </tr>\n",
       "    <tr>\n",
       "      <th>2</th>\n",
       "      <td>0</td>\n",
       "      <td>0</td>\n",
       "      <td>1</td>\n",
       "      <td>1</td>\n",
       "      <td>1</td>\n",
       "      <td>1</td>\n",
       "      <td>No</td>\n",
       "      <td>0</td>\n",
       "      <td>0</td>\n",
       "      <td>0</td>\n",
       "      <td>...</td>\n",
       "      <td>0</td>\n",
       "      <td>0</td>\n",
       "      <td>0</td>\n",
       "      <td>0</td>\n",
       "      <td>0</td>\n",
       "      <td>1</td>\n",
       "      <td>-0.838706</td>\n",
       "      <td>-0.599073</td>\n",
       "      <td>-1.485010</td>\n",
       "      <td>0</td>\n",
       "    </tr>\n",
       "    <tr>\n",
       "      <th>3</th>\n",
       "      <td>0</td>\n",
       "      <td>0</td>\n",
       "      <td>1</td>\n",
       "      <td>0</td>\n",
       "      <td>1</td>\n",
       "      <td>1</td>\n",
       "      <td>No</td>\n",
       "      <td>0</td>\n",
       "      <td>0</td>\n",
       "      <td>1</td>\n",
       "      <td>...</td>\n",
       "      <td>1</td>\n",
       "      <td>1</td>\n",
       "      <td>0</td>\n",
       "      <td>0</td>\n",
       "      <td>1</td>\n",
       "      <td>0</td>\n",
       "      <td>1.128959</td>\n",
       "      <td>0.824286</td>\n",
       "      <td>0.949812</td>\n",
       "      <td>0</td>\n",
       "    </tr>\n",
       "    <tr>\n",
       "      <th>4</th>\n",
       "      <td>0</td>\n",
       "      <td>1</td>\n",
       "      <td>1</td>\n",
       "      <td>0</td>\n",
       "      <td>1</td>\n",
       "      <td>1</td>\n",
       "      <td>No</td>\n",
       "      <td>0</td>\n",
       "      <td>0</td>\n",
       "      <td>1</td>\n",
       "      <td>...</td>\n",
       "      <td>0</td>\n",
       "      <td>0</td>\n",
       "      <td>0</td>\n",
       "      <td>0</td>\n",
       "      <td>0</td>\n",
       "      <td>0</td>\n",
       "      <td>-0.910409</td>\n",
       "      <td>-1.209084</td>\n",
       "      <td>0.322812</td>\n",
       "      <td>0</td>\n",
       "    </tr>\n",
       "  </tbody>\n",
       "</table>\n",
       "<p>5 rows × 32 columns</p>\n",
       "</div>"
      ],
      "text/plain": [
       "   gender  SeniorCitizen  Partner  Dependents  PhoneService  PaperlessBilling  \\\n",
       "0       0              0        1           1             1                 1   \n",
       "1       1              0        0           0             1                 1   \n",
       "2       0              0        1           1             1                 1   \n",
       "3       0              0        1           0             1                 1   \n",
       "4       0              1        1           0             1                 1   \n",
       "\n",
       "  Churn  MultipleLinesNo phone service  MultipleLinesYes  \\\n",
       "0    No                              0                 0   \n",
       "1   Yes                              0                 0   \n",
       "2    No                              0                 0   \n",
       "3    No                              0                 0   \n",
       "4    No                              0                 0   \n",
       "\n",
       "   InternetServiceFiber optic    ...      StreamingMoviesYes  \\\n",
       "0                           0    ...                       1   \n",
       "1                           1    ...                       0   \n",
       "2                           0    ...                       0   \n",
       "3                           1    ...                       1   \n",
       "4                           1    ...                       0   \n",
       "\n",
       "   ContractOne year  ContractTwo year  PaymentMethodCredit card (automatic)  \\\n",
       "0                 0                 1                                     0   \n",
       "1                 0                 0                                     0   \n",
       "2                 0                 0                                     0   \n",
       "3                 1                 0                                     0   \n",
       "4                 0                 0                                     0   \n",
       "\n",
       "   PaymentMethodElectronic check  PaymentMethodMailed check  ScaledTC  \\\n",
       "0                              0                          1  0.539749   \n",
       "1                              1                          0 -0.865600   \n",
       "2                              0                          1 -0.838706   \n",
       "3                              1                          0  1.128959   \n",
       "4                              0                          0 -0.910409   \n",
       "\n",
       "   ScaledTenure  ScaledMonChar  Churn_Yes  \n",
       "0      0.498947       0.535693          0  \n",
       "1     -1.168417       0.535693          1  \n",
       "2     -0.599073      -1.485010          0  \n",
       "3      0.824286       0.949812          0  \n",
       "4     -1.209084       0.322812          0  \n",
       "\n",
       "[5 rows x 32 columns]"
      ]
     },
     "execution_count": 36,
     "metadata": {},
     "output_type": "execute_result"
    }
   ],
   "source": [
    "tc_data_clean.head(5)"
   ]
  },
  {
   "cell_type": "code",
   "execution_count": 57,
   "metadata": {},
   "outputs": [
    {
     "data": {
      "text/plain": [
       "<matplotlib.axes._subplots.AxesSubplot at 0x7fbf2ea223c8>"
      ]
     },
     "execution_count": 57,
     "metadata": {},
     "output_type": "execute_result"
    },
    {
     "data": {
      "image/png": "[encoded data removed]",
      "text/plain": [
       "<Figure size 432x288 with 2 Axes>"
      ]
     },
     "metadata": {
      "needs_background": "light"
     },
     "output_type": "display_data"
    }
   ],
   "source": [
    "import seaborn as sns\n",
    "sns.heatmap(tc_data_clean.corr())"
   ]
  },
  {
   "cell_type": "code",
   "execution_count": 37,
   "metadata": {},
   "outputs": [],
   "source": [
    "tc_data_features = tc_data_clean.drop(\"Churn\",axis=1)\n",
    "tc_data_target = tc_data_clean[\"Churn_Yes\"]"
   ]
  },
  {
   "cell_type": "code",
   "execution_count": 38,
   "metadata": {
    "scrolled": true
   },
   "outputs": [
    {
     "name": "stdout",
     "output_type": "stream",
     "text": [
      "Sizes:4930 4930\n",
      "Types:<class 'pandas.core.frame.DataFrame'> <class 'pandas.core.series.Series'>\n"
     ]
    }
   ],
   "source": [
    "print(\"Sizes:{} {}\".format(tc_data_features[\"gender\"].count(),tc_data_target.size))\n",
    "print(\"Types:{} {}\".format(type(tc_data_features),type(tc_data_target)))"
   ]
  },
  {
   "cell_type": "code",
   "execution_count": 39,
   "metadata": {},
   "outputs": [],
   "source": [
    "from sklearn.model_selection import train_test_split\n",
    "X_train, X_test, y_train, y_test = train_test_split(tc_data_features,tc_data_target, test_size=0.30, random_state=101)"
   ]
  },
  {
   "cell_type": "code",
   "execution_count": 40,
   "metadata": {},
   "outputs": [
    {
     "name": "stdout",
     "output_type": "stream",
     "text": [
      "Sizes:3451 3451\n",
      "Sizes:1479 1479\n",
      "Types:<class 'pandas.core.frame.DataFrame'> <class 'pandas.core.series.Series'>\n"
     ]
    }
   ],
   "source": [
    "print(\"Sizes:{} {}\".format(X_train[\"gender\"].count(),y_train.size))\n",
    "print(\"Sizes:{} {}\".format(X_test[\"gender\"].count(),y_test.size))\n",
    "print(\"Types:{} {}\".format(type(X_train),type(y_train)))"
   ]
  },
  {
   "cell_type": "code",
   "execution_count": 43,
   "metadata": {},
   "outputs": [
    {
     "data": {
      "text/plain": [
       "SVC(C=1.0, cache_size=200, class_weight=None, coef0=0.0,\n",
       "  decision_function_shape='ovr', degree=3, gamma='auto', kernel='rbf',\n",
       "  max_iter=-1, probability=False, random_state=None, shrinking=True,\n",
       "  tol=0.001, verbose=False)"
      ]
     },
     "execution_count": 43,
     "metadata": {},
     "output_type": "execute_result"
    }
   ],
   "source": [
    "from sklearn.svm import SVC\n",
    "SVMmodel = SVC()\n",
    "SVMmodel.fit(X_train,y_train)"
   ]
  },
  {
   "cell_type": "code",
   "execution_count": 45,
   "metadata": {},
   "outputs": [],
   "source": [
    "predictions = SVMmodel.predict(X_test)"
   ]
  },
  {
   "cell_type": "code",
   "execution_count": 48,
   "metadata": {
    "scrolled": true
   },
   "outputs": [
    {
     "name": "stdout",
     "output_type": "stream",
     "text": [
      "             precision    recall  f1-score   support\n",
      "\n",
      "          0       1.00      1.00      1.00      1096\n",
      "          1       1.00      1.00      1.00       383\n",
      "\n",
      "avg / total       1.00      1.00      1.00      1479\n",
      "\n",
      "[[1096    0]\n",
      " [   0  383]]\n"
     ]
    }
   ],
   "source": [
    "from sklearn.metrics import classification_report,confusion_matrix\n",
    "print(classification_report(y_test,predictions))\n",
    "print(confusion_matrix(y_test,predictions))"
   ]
  },
  {
   "cell_type": "code",
   "execution_count": 49,
   "metadata": {},
   "outputs": [],
   "source": [
    "# Using grid search\n",
    "# We can have various values of C, max_iter,tol, solver\n",
    "from sklearn.model_selection import GridSearchCV\n",
    "param_grid = {'C': [0.1,1,10, 100, 1000], 'max_iter': [50,100,150], 'tol':[0.001,0.0001,0.01]} "
   ]
  },
  {
   "cell_type": "code",
   "execution_count": 50,
   "metadata": {},
   "outputs": [],
   "source": [
    "grid = GridSearchCV(SVC(),param_grid,refit=True,verbose=3)"
   ]
  },
  {
   "cell_type": "code",
   "execution_count": 51,
   "metadata": {},
   "outputs": [
    {
     "name": "stdout",
     "output_type": "stream",
     "text": [
      "Fitting 3 folds for each of 45 candidates, totalling 135 fits\n",
      "[CV] C=0.1, max_iter=50, tol=0.001 ...................................\n"
     ]
    },
    {
     "name": "stderr",
     "output_type": "stream",
     "text": [
      "/home2/BigData/anaconda3/lib/python3.7/site-packages/sklearn/svm/base.py:218: ConvergenceWarning: Solver terminated early (max_iter=50).  Consider pre-processing your data with StandardScaler or MinMaxScaler.\n",
      "  % self.max_iter, ConvergenceWarning)\n",
      "[Parallel(n_jobs=1)]: Done   1 out of   1 | elapsed:    0.4s remaining:    0.0s\n",
      "/home2/BigData/anaconda3/lib/python3.7/site-packages/sklearn/svm/base.py:218: ConvergenceWarning: Solver terminated early (max_iter=50).  Consider pre-processing your data with StandardScaler or MinMaxScaler.\n",
      "  % self.max_iter, ConvergenceWarning)\n",
      "[Parallel(n_jobs=1)]: Done   2 out of   2 | elapsed:    0.4s remaining:    0.0s\n",
      "/home2/BigData/anaconda3/lib/python3.7/site-packages/sklearn/svm/base.py:218: ConvergenceWarning: Solver terminated early (max_iter=50).  Consider pre-processing your data with StandardScaler or MinMaxScaler.\n",
      "  % self.max_iter, ConvergenceWarning)\n",
      "/home2/BigData/anaconda3/lib/python3.7/site-packages/sklearn/svm/base.py:218: ConvergenceWarning: Solver terminated early (max_iter=50).  Consider pre-processing your data with StandardScaler or MinMaxScaler.\n",
      "  % self.max_iter, ConvergenceWarning)\n",
      "/home2/BigData/anaconda3/lib/python3.7/site-packages/sklearn/svm/base.py:218: ConvergenceWarning: Solver terminated early (max_iter=50).  Consider pre-processing your data with StandardScaler or MinMaxScaler.\n",
      "  % self.max_iter, ConvergenceWarning)\n",
      "/home2/BigData/anaconda3/lib/python3.7/site-packages/sklearn/svm/base.py:218: ConvergenceWarning: Solver terminated early (max_iter=50).  Consider pre-processing your data with StandardScaler or MinMaxScaler.\n",
      "  % self.max_iter, ConvergenceWarning)\n"
     ]
    },
    {
     "name": "stdout",
     "output_type": "stream",
     "text": [
      "[CV] ......... C=0.1, max_iter=50, tol=0.001, score=1.0, total=   0.3s\n",
      "[CV] C=0.1, max_iter=50, tol=0.001 ...................................\n",
      "[CV] ......... C=0.1, max_iter=50, tol=0.001, score=1.0, total=   0.0s\n",
      "[CV] C=0.1, max_iter=50, tol=0.001 ...................................\n",
      "[CV] ......... C=0.1, max_iter=50, tol=0.001, score=1.0, total=   0.0s\n",
      "[CV] C=0.1, max_iter=50, tol=0.0001 ..................................\n",
      "[CV] ........ C=0.1, max_iter=50, tol=0.0001, score=1.0, total=   0.0s\n",
      "[CV] C=0.1, max_iter=50, tol=0.0001 ..................................\n",
      "[CV] ........ C=0.1, max_iter=50, tol=0.0001, score=1.0, total=   0.0s\n",
      "[CV] C=0.1, max_iter=50, tol=0.0001 ..................................\n",
      "[CV] ........ C=0.1, max_iter=50, tol=0.0001, score=1.0, total=   0.0s\n",
      "[CV] C=0.1, max_iter=50, tol=0.01 ....................................\n"
     ]
    },
    {
     "name": "stderr",
     "output_type": "stream",
     "text": [
      "/home2/BigData/anaconda3/lib/python3.7/site-packages/sklearn/svm/base.py:218: ConvergenceWarning: Solver terminated early (max_iter=50).  Consider pre-processing your data with StandardScaler or MinMaxScaler.\n",
      "  % self.max_iter, ConvergenceWarning)\n",
      "/home2/BigData/anaconda3/lib/python3.7/site-packages/sklearn/svm/base.py:218: ConvergenceWarning: Solver terminated early (max_iter=50).  Consider pre-processing your data with StandardScaler or MinMaxScaler.\n",
      "  % self.max_iter, ConvergenceWarning)\n",
      "/home2/BigData/anaconda3/lib/python3.7/site-packages/sklearn/svm/base.py:218: ConvergenceWarning: Solver terminated early (max_iter=50).  Consider pre-processing your data with StandardScaler or MinMaxScaler.\n",
      "  % self.max_iter, ConvergenceWarning)\n",
      "/home2/BigData/anaconda3/lib/python3.7/site-packages/sklearn/svm/base.py:218: ConvergenceWarning: Solver terminated early (max_iter=100).  Consider pre-processing your data with StandardScaler or MinMaxScaler.\n",
      "  % self.max_iter, ConvergenceWarning)\n",
      "/home2/BigData/anaconda3/lib/python3.7/site-packages/sklearn/svm/base.py:218: ConvergenceWarning: Solver terminated early (max_iter=100).  Consider pre-processing your data with StandardScaler or MinMaxScaler.\n",
      "  % self.max_iter, ConvergenceWarning)\n"
     ]
    },
    {
     "name": "stdout",
     "output_type": "stream",
     "text": [
      "[CV] .......... C=0.1, max_iter=50, tol=0.01, score=1.0, total=   0.0s\n",
      "[CV] C=0.1, max_iter=50, tol=0.01 ....................................\n",
      "[CV] .......... C=0.1, max_iter=50, tol=0.01, score=1.0, total=   0.0s\n",
      "[CV] C=0.1, max_iter=50, tol=0.01 ....................................\n",
      "[CV] .......... C=0.1, max_iter=50, tol=0.01, score=1.0, total=   0.0s\n",
      "[CV] C=0.1, max_iter=100, tol=0.001 ..................................\n",
      "[CV] ........ C=0.1, max_iter=100, tol=0.001, score=1.0, total=   0.0s\n",
      "[CV] C=0.1, max_iter=100, tol=0.001 ..................................\n",
      "[CV] ........ C=0.1, max_iter=100, tol=0.001, score=1.0, total=   0.0s\n",
      "[CV] C=0.1, max_iter=100, tol=0.001 ..................................\n",
      "[CV] ........ C=0.1, max_iter=100, tol=0.001, score=1.0, total=   0.0s\n",
      "[CV] C=0.1, max_iter=100, tol=0.0001 .................................\n",
      "[CV] ....... C=0.1, max_iter=100, tol=0.0001, score=1.0, total=   0.0s\n",
      "[CV] C=0.1, max_iter=100, tol=0.0001 .................................\n"
     ]
    },
    {
     "name": "stderr",
     "output_type": "stream",
     "text": [
      "/home2/BigData/anaconda3/lib/python3.7/site-packages/sklearn/svm/base.py:218: ConvergenceWarning: Solver terminated early (max_iter=100).  Consider pre-processing your data with StandardScaler or MinMaxScaler.\n",
      "  % self.max_iter, ConvergenceWarning)\n",
      "/home2/BigData/anaconda3/lib/python3.7/site-packages/sklearn/svm/base.py:218: ConvergenceWarning: Solver terminated early (max_iter=100).  Consider pre-processing your data with StandardScaler or MinMaxScaler.\n",
      "  % self.max_iter, ConvergenceWarning)\n",
      "/home2/BigData/anaconda3/lib/python3.7/site-packages/sklearn/svm/base.py:218: ConvergenceWarning: Solver terminated early (max_iter=100).  Consider pre-processing your data with StandardScaler or MinMaxScaler.\n",
      "  % self.max_iter, ConvergenceWarning)\n"
     ]
    },
    {
     "name": "stdout",
     "output_type": "stream",
     "text": [
      "[CV] ....... C=0.1, max_iter=100, tol=0.0001, score=1.0, total=   0.0s\n",
      "[CV] C=0.1, max_iter=100, tol=0.0001 .................................\n",
      "[CV] ....... C=0.1, max_iter=100, tol=0.0001, score=1.0, total=   0.1s\n",
      "[CV] C=0.1, max_iter=100, tol=0.01 ...................................\n",
      "[CV] ......... C=0.1, max_iter=100, tol=0.01, score=1.0, total=   0.0s\n",
      "[CV] C=0.1, max_iter=100, tol=0.01 ...................................\n"
     ]
    },
    {
     "name": "stderr",
     "output_type": "stream",
     "text": [
      "/home2/BigData/anaconda3/lib/python3.7/site-packages/sklearn/svm/base.py:218: ConvergenceWarning: Solver terminated early (max_iter=100).  Consider pre-processing your data with StandardScaler or MinMaxScaler.\n",
      "  % self.max_iter, ConvergenceWarning)\n",
      "/home2/BigData/anaconda3/lib/python3.7/site-packages/sklearn/svm/base.py:218: ConvergenceWarning: Solver terminated early (max_iter=100).  Consider pre-processing your data with StandardScaler or MinMaxScaler.\n",
      "  % self.max_iter, ConvergenceWarning)\n",
      "/home2/BigData/anaconda3/lib/python3.7/site-packages/sklearn/svm/base.py:218: ConvergenceWarning: Solver terminated early (max_iter=100).  Consider pre-processing your data with StandardScaler or MinMaxScaler.\n",
      "  % self.max_iter, ConvergenceWarning)\n"
     ]
    },
    {
     "name": "stdout",
     "output_type": "stream",
     "text": [
      "[CV] ......... C=0.1, max_iter=100, tol=0.01, score=1.0, total=   0.0s\n",
      "[CV] C=0.1, max_iter=100, tol=0.01 ...................................\n",
      "[CV] ......... C=0.1, max_iter=100, tol=0.01, score=1.0, total=   0.1s\n",
      "[CV] C=0.1, max_iter=150, tol=0.001 ..................................\n",
      "[CV] ........ C=0.1, max_iter=150, tol=0.001, score=1.0, total=   0.1s\n",
      "[CV] C=0.1, max_iter=150, tol=0.001 ..................................\n"
     ]
    },
    {
     "name": "stderr",
     "output_type": "stream",
     "text": [
      "/home2/BigData/anaconda3/lib/python3.7/site-packages/sklearn/svm/base.py:218: ConvergenceWarning: Solver terminated early (max_iter=100).  Consider pre-processing your data with StandardScaler or MinMaxScaler.\n",
      "  % self.max_iter, ConvergenceWarning)\n",
      "/home2/BigData/anaconda3/lib/python3.7/site-packages/sklearn/svm/base.py:218: ConvergenceWarning: Solver terminated early (max_iter=150).  Consider pre-processing your data with StandardScaler or MinMaxScaler.\n",
      "  % self.max_iter, ConvergenceWarning)\n",
      "/home2/BigData/anaconda3/lib/python3.7/site-packages/sklearn/svm/base.py:218: ConvergenceWarning: Solver terminated early (max_iter=150).  Consider pre-processing your data with StandardScaler or MinMaxScaler.\n",
      "  % self.max_iter, ConvergenceWarning)\n"
     ]
    },
    {
     "name": "stdout",
     "output_type": "stream",
     "text": [
      "[CV] ........ C=0.1, max_iter=150, tol=0.001, score=1.0, total=   0.1s\n",
      "[CV] C=0.1, max_iter=150, tol=0.001 ..................................\n",
      "[CV] ........ C=0.1, max_iter=150, tol=0.001, score=1.0, total=   0.1s\n",
      "[CV] C=0.1, max_iter=150, tol=0.0001 .................................\n",
      "[CV] ....... C=0.1, max_iter=150, tol=0.0001, score=1.0, total=   0.1s\n",
      "[CV] C=0.1, max_iter=150, tol=0.0001 .................................\n"
     ]
    },
    {
     "name": "stderr",
     "output_type": "stream",
     "text": [
      "/home2/BigData/anaconda3/lib/python3.7/site-packages/sklearn/svm/base.py:218: ConvergenceWarning: Solver terminated early (max_iter=150).  Consider pre-processing your data with StandardScaler or MinMaxScaler.\n",
      "  % self.max_iter, ConvergenceWarning)\n",
      "/home2/BigData/anaconda3/lib/python3.7/site-packages/sklearn/svm/base.py:218: ConvergenceWarning: Solver terminated early (max_iter=150).  Consider pre-processing your data with StandardScaler or MinMaxScaler.\n",
      "  % self.max_iter, ConvergenceWarning)\n",
      "/home2/BigData/anaconda3/lib/python3.7/site-packages/sklearn/svm/base.py:218: ConvergenceWarning: Solver terminated early (max_iter=150).  Consider pre-processing your data with StandardScaler or MinMaxScaler.\n",
      "  % self.max_iter, ConvergenceWarning)\n"
     ]
    },
    {
     "name": "stdout",
     "output_type": "stream",
     "text": [
      "[CV] ....... C=0.1, max_iter=150, tol=0.0001, score=1.0, total=   0.1s\n",
      "[CV] C=0.1, max_iter=150, tol=0.0001 .................................\n",
      "[CV] ....... C=0.1, max_iter=150, tol=0.0001, score=1.0, total=   0.1s\n",
      "[CV] C=0.1, max_iter=150, tol=0.01 ...................................\n",
      "[CV] ......... C=0.1, max_iter=150, tol=0.01, score=1.0, total=   0.1s\n",
      "[CV] C=0.1, max_iter=150, tol=0.01 ...................................\n"
     ]
    },
    {
     "name": "stderr",
     "output_type": "stream",
     "text": [
      "/home2/BigData/anaconda3/lib/python3.7/site-packages/sklearn/svm/base.py:218: ConvergenceWarning: Solver terminated early (max_iter=150).  Consider pre-processing your data with StandardScaler or MinMaxScaler.\n",
      "  % self.max_iter, ConvergenceWarning)\n",
      "/home2/BigData/anaconda3/lib/python3.7/site-packages/sklearn/svm/base.py:218: ConvergenceWarning: Solver terminated early (max_iter=150).  Consider pre-processing your data with StandardScaler or MinMaxScaler.\n",
      "  % self.max_iter, ConvergenceWarning)\n",
      "/home2/BigData/anaconda3/lib/python3.7/site-packages/sklearn/svm/base.py:218: ConvergenceWarning: Solver terminated early (max_iter=150).  Consider pre-processing your data with StandardScaler or MinMaxScaler.\n",
      "  % self.max_iter, ConvergenceWarning)\n"
     ]
    },
    {
     "name": "stdout",
     "output_type": "stream",
     "text": [
      "[CV] ......... C=0.1, max_iter=150, tol=0.01, score=1.0, total=   0.1s\n",
      "[CV] C=0.1, max_iter=150, tol=0.01 ...................................\n",
      "[CV] ......... C=0.1, max_iter=150, tol=0.01, score=1.0, total=   0.1s\n",
      "[CV] C=1, max_iter=50, tol=0.001 .....................................\n",
      "[CV] ........... C=1, max_iter=50, tol=0.001, score=1.0, total=   0.0s\n",
      "[CV] C=1, max_iter=50, tol=0.001 .....................................\n",
      "[CV] ........... C=1, max_iter=50, tol=0.001, score=1.0, total=   0.0s\n",
      "[CV] C=1, max_iter=50, tol=0.001 .....................................\n"
     ]
    },
    {
     "name": "stderr",
     "output_type": "stream",
     "text": [
      "/home2/BigData/anaconda3/lib/python3.7/site-packages/sklearn/svm/base.py:218: ConvergenceWarning: Solver terminated early (max_iter=150).  Consider pre-processing your data with StandardScaler or MinMaxScaler.\n",
      "  % self.max_iter, ConvergenceWarning)\n",
      "/home2/BigData/anaconda3/lib/python3.7/site-packages/sklearn/svm/base.py:218: ConvergenceWarning: Solver terminated early (max_iter=50).  Consider pre-processing your data with StandardScaler or MinMaxScaler.\n",
      "  % self.max_iter, ConvergenceWarning)\n",
      "/home2/BigData/anaconda3/lib/python3.7/site-packages/sklearn/svm/base.py:218: ConvergenceWarning: Solver terminated early (max_iter=50).  Consider pre-processing your data with StandardScaler or MinMaxScaler.\n",
      "  % self.max_iter, ConvergenceWarning)\n",
      "/home2/BigData/anaconda3/lib/python3.7/site-packages/sklearn/svm/base.py:218: ConvergenceWarning: Solver terminated early (max_iter=50).  Consider pre-processing your data with StandardScaler or MinMaxScaler.\n",
      "  % self.max_iter, ConvergenceWarning)\n",
      "/home2/BigData/anaconda3/lib/python3.7/site-packages/sklearn/svm/base.py:218: ConvergenceWarning: Solver terminated early (max_iter=50).  Consider pre-processing your data with StandardScaler or MinMaxScaler.\n",
      "  % self.max_iter, ConvergenceWarning)\n"
     ]
    },
    {
     "name": "stdout",
     "output_type": "stream",
     "text": [
      "[CV] ........... C=1, max_iter=50, tol=0.001, score=1.0, total=   0.0s\n",
      "[CV] C=1, max_iter=50, tol=0.0001 ....................................\n",
      "[CV] .......... C=1, max_iter=50, tol=0.0001, score=1.0, total=   0.0s\n",
      "[CV] C=1, max_iter=50, tol=0.0001 ....................................\n",
      "[CV] .......... C=1, max_iter=50, tol=0.0001, score=1.0, total=   0.0s\n",
      "[CV] C=1, max_iter=50, tol=0.0001 ....................................\n",
      "[CV] .......... C=1, max_iter=50, tol=0.0001, score=1.0, total=   0.0s\n",
      "[CV] C=1, max_iter=50, tol=0.01 ......................................\n",
      "[CV] ............ C=1, max_iter=50, tol=0.01, score=1.0, total=   0.0s\n",
      "[CV] C=1, max_iter=50, tol=0.01 ......................................\n",
      "[CV] ............ C=1, max_iter=50, tol=0.01, score=1.0, total=   0.0s\n",
      "[CV] C=1, max_iter=50, tol=0.01 ......................................\n"
     ]
    },
    {
     "name": "stderr",
     "output_type": "stream",
     "text": [
      "/home2/BigData/anaconda3/lib/python3.7/site-packages/sklearn/svm/base.py:218: ConvergenceWarning: Solver terminated early (max_iter=50).  Consider pre-processing your data with StandardScaler or MinMaxScaler.\n",
      "  % self.max_iter, ConvergenceWarning)\n",
      "/home2/BigData/anaconda3/lib/python3.7/site-packages/sklearn/svm/base.py:218: ConvergenceWarning: Solver terminated early (max_iter=50).  Consider pre-processing your data with StandardScaler or MinMaxScaler.\n",
      "  % self.max_iter, ConvergenceWarning)\n",
      "/home2/BigData/anaconda3/lib/python3.7/site-packages/sklearn/svm/base.py:218: ConvergenceWarning: Solver terminated early (max_iter=50).  Consider pre-processing your data with StandardScaler or MinMaxScaler.\n",
      "  % self.max_iter, ConvergenceWarning)\n",
      "/home2/BigData/anaconda3/lib/python3.7/site-packages/sklearn/svm/base.py:218: ConvergenceWarning: Solver terminated early (max_iter=50).  Consider pre-processing your data with StandardScaler or MinMaxScaler.\n",
      "  % self.max_iter, ConvergenceWarning)\n",
      "/home2/BigData/anaconda3/lib/python3.7/site-packages/sklearn/svm/base.py:218: ConvergenceWarning: Solver terminated early (max_iter=50).  Consider pre-processing your data with StandardScaler or MinMaxScaler.\n",
      "  % self.max_iter, ConvergenceWarning)\n",
      "/home2/BigData/anaconda3/lib/python3.7/site-packages/sklearn/svm/base.py:218: ConvergenceWarning: Solver terminated early (max_iter=100).  Consider pre-processing your data with StandardScaler or MinMaxScaler.\n",
      "  % self.max_iter, ConvergenceWarning)\n"
     ]
    },
    {
     "name": "stdout",
     "output_type": "stream",
     "text": [
      "[CV] ............ C=1, max_iter=50, tol=0.01, score=1.0, total=   0.0s\n",
      "[CV] C=1, max_iter=100, tol=0.001 ....................................\n",
      "[CV] .......... C=1, max_iter=100, tol=0.001, score=1.0, total=   0.0s\n",
      "[CV] C=1, max_iter=100, tol=0.001 ....................................\n",
      "[CV] .......... C=1, max_iter=100, tol=0.001, score=1.0, total=   0.0s\n",
      "[CV] C=1, max_iter=100, tol=0.001 ....................................\n",
      "[CV] .......... C=1, max_iter=100, tol=0.001, score=1.0, total=   0.0s\n",
      "[CV] C=1, max_iter=100, tol=0.0001 ...................................\n"
     ]
    },
    {
     "name": "stderr",
     "output_type": "stream",
     "text": [
      "/home2/BigData/anaconda3/lib/python3.7/site-packages/sklearn/svm/base.py:218: ConvergenceWarning: Solver terminated early (max_iter=100).  Consider pre-processing your data with StandardScaler or MinMaxScaler.\n",
      "  % self.max_iter, ConvergenceWarning)\n",
      "/home2/BigData/anaconda3/lib/python3.7/site-packages/sklearn/svm/base.py:218: ConvergenceWarning: Solver terminated early (max_iter=100).  Consider pre-processing your data with StandardScaler or MinMaxScaler.\n",
      "  % self.max_iter, ConvergenceWarning)\n",
      "/home2/BigData/anaconda3/lib/python3.7/site-packages/sklearn/svm/base.py:218: ConvergenceWarning: Solver terminated early (max_iter=100).  Consider pre-processing your data with StandardScaler or MinMaxScaler.\n",
      "  % self.max_iter, ConvergenceWarning)\n",
      "/home2/BigData/anaconda3/lib/python3.7/site-packages/sklearn/svm/base.py:218: ConvergenceWarning: Solver terminated early (max_iter=100).  Consider pre-processing your data with StandardScaler or MinMaxScaler.\n",
      "  % self.max_iter, ConvergenceWarning)\n"
     ]
    },
    {
     "name": "stdout",
     "output_type": "stream",
     "text": [
      "[CV] ......... C=1, max_iter=100, tol=0.0001, score=1.0, total=   0.0s\n",
      "[CV] C=1, max_iter=100, tol=0.0001 ...................................\n",
      "[CV] ......... C=1, max_iter=100, tol=0.0001, score=1.0, total=   0.0s\n",
      "[CV] C=1, max_iter=100, tol=0.0001 ...................................\n",
      "[CV] ......... C=1, max_iter=100, tol=0.0001, score=1.0, total=   0.0s\n",
      "[CV] C=1, max_iter=100, tol=0.01 .....................................\n",
      "[CV] ........... C=1, max_iter=100, tol=0.01, score=1.0, total=   0.0s\n",
      "[CV] C=1, max_iter=100, tol=0.01 .....................................\n"
     ]
    },
    {
     "name": "stderr",
     "output_type": "stream",
     "text": [
      "/home2/BigData/anaconda3/lib/python3.7/site-packages/sklearn/svm/base.py:218: ConvergenceWarning: Solver terminated early (max_iter=100).  Consider pre-processing your data with StandardScaler or MinMaxScaler.\n",
      "  % self.max_iter, ConvergenceWarning)\n",
      "/home2/BigData/anaconda3/lib/python3.7/site-packages/sklearn/svm/base.py:218: ConvergenceWarning: Solver terminated early (max_iter=100).  Consider pre-processing your data with StandardScaler or MinMaxScaler.\n",
      "  % self.max_iter, ConvergenceWarning)\n",
      "/home2/BigData/anaconda3/lib/python3.7/site-packages/sklearn/svm/base.py:218: ConvergenceWarning: Solver terminated early (max_iter=100).  Consider pre-processing your data with StandardScaler or MinMaxScaler.\n",
      "  % self.max_iter, ConvergenceWarning)\n",
      "/home2/BigData/anaconda3/lib/python3.7/site-packages/sklearn/svm/base.py:218: ConvergenceWarning: Solver terminated early (max_iter=100).  Consider pre-processing your data with StandardScaler or MinMaxScaler.\n",
      "  % self.max_iter, ConvergenceWarning)\n"
     ]
    },
    {
     "name": "stdout",
     "output_type": "stream",
     "text": [
      "[CV] ........... C=1, max_iter=100, tol=0.01, score=1.0, total=   0.0s\n",
      "[CV] C=1, max_iter=100, tol=0.01 .....................................\n",
      "[CV] ........... C=1, max_iter=100, tol=0.01, score=1.0, total=   0.0s\n",
      "[CV] C=1, max_iter=150, tol=0.001 ....................................\n",
      "[CV] .......... C=1, max_iter=150, tol=0.001, score=1.0, total=   0.0s\n",
      "[CV] C=1, max_iter=150, tol=0.001 ....................................\n",
      "[CV] .......... C=1, max_iter=150, tol=0.001, score=1.0, total=   0.0s\n",
      "[CV] C=1, max_iter=150, tol=0.001 ....................................\n"
     ]
    },
    {
     "name": "stderr",
     "output_type": "stream",
     "text": [
      "/home2/BigData/anaconda3/lib/python3.7/site-packages/sklearn/svm/base.py:218: ConvergenceWarning: Solver terminated early (max_iter=150).  Consider pre-processing your data with StandardScaler or MinMaxScaler.\n",
      "  % self.max_iter, ConvergenceWarning)\n",
      "/home2/BigData/anaconda3/lib/python3.7/site-packages/sklearn/svm/base.py:218: ConvergenceWarning: Solver terminated early (max_iter=150).  Consider pre-processing your data with StandardScaler or MinMaxScaler.\n",
      "  % self.max_iter, ConvergenceWarning)\n",
      "/home2/BigData/anaconda3/lib/python3.7/site-packages/sklearn/svm/base.py:218: ConvergenceWarning: Solver terminated early (max_iter=150).  Consider pre-processing your data with StandardScaler or MinMaxScaler.\n",
      "  % self.max_iter, ConvergenceWarning)\n",
      "/home2/BigData/anaconda3/lib/python3.7/site-packages/sklearn/svm/base.py:218: ConvergenceWarning: Solver terminated early (max_iter=150).  Consider pre-processing your data with StandardScaler or MinMaxScaler.\n",
      "  % self.max_iter, ConvergenceWarning)\n"
     ]
    },
    {
     "name": "stdout",
     "output_type": "stream",
     "text": [
      "[CV] .......... C=1, max_iter=150, tol=0.001, score=1.0, total=   0.0s\n",
      "[CV] C=1, max_iter=150, tol=0.0001 ...................................\n",
      "[CV] ......... C=1, max_iter=150, tol=0.0001, score=1.0, total=   0.0s\n",
      "[CV] C=1, max_iter=150, tol=0.0001 ...................................\n",
      "[CV] ......... C=1, max_iter=150, tol=0.0001, score=1.0, total=   0.0s\n",
      "[CV] C=1, max_iter=150, tol=0.0001 ...................................\n",
      "[CV] ......... C=1, max_iter=150, tol=0.0001, score=1.0, total=   0.0s\n",
      "[CV] C=1, max_iter=150, tol=0.01 .....................................\n"
     ]
    },
    {
     "name": "stderr",
     "output_type": "stream",
     "text": [
      "/home2/BigData/anaconda3/lib/python3.7/site-packages/sklearn/svm/base.py:218: ConvergenceWarning: Solver terminated early (max_iter=150).  Consider pre-processing your data with StandardScaler or MinMaxScaler.\n",
      "  % self.max_iter, ConvergenceWarning)\n",
      "/home2/BigData/anaconda3/lib/python3.7/site-packages/sklearn/svm/base.py:218: ConvergenceWarning: Solver terminated early (max_iter=150).  Consider pre-processing your data with StandardScaler or MinMaxScaler.\n",
      "  % self.max_iter, ConvergenceWarning)\n",
      "/home2/BigData/anaconda3/lib/python3.7/site-packages/sklearn/svm/base.py:218: ConvergenceWarning: Solver terminated early (max_iter=150).  Consider pre-processing your data with StandardScaler or MinMaxScaler.\n",
      "  % self.max_iter, ConvergenceWarning)\n",
      "/home2/BigData/anaconda3/lib/python3.7/site-packages/sklearn/svm/base.py:218: ConvergenceWarning: Solver terminated early (max_iter=150).  Consider pre-processing your data with StandardScaler or MinMaxScaler.\n",
      "  % self.max_iter, ConvergenceWarning)\n"
     ]
    },
    {
     "name": "stdout",
     "output_type": "stream",
     "text": [
      "[CV] ........... C=1, max_iter=150, tol=0.01, score=1.0, total=   0.0s\n",
      "[CV] C=1, max_iter=150, tol=0.01 .....................................\n",
      "[CV] ........... C=1, max_iter=150, tol=0.01, score=1.0, total=   0.0s\n",
      "[CV] C=1, max_iter=150, tol=0.01 .....................................\n",
      "[CV] ........... C=1, max_iter=150, tol=0.01, score=1.0, total=   0.0s\n",
      "[CV] C=10, max_iter=50, tol=0.001 ....................................\n",
      "[CV] .......... C=10, max_iter=50, tol=0.001, score=1.0, total=   0.0s\n",
      "[CV] C=10, max_iter=50, tol=0.001 ....................................\n",
      "[CV] .......... C=10, max_iter=50, tol=0.001, score=1.0, total=   0.0s\n",
      "[CV] C=10, max_iter=50, tol=0.001 ....................................\n",
      "[CV] .......... C=10, max_iter=50, tol=0.001, score=1.0, total=   0.0s\n",
      "[CV] C=10, max_iter=50, tol=0.0001 ...................................\n"
     ]
    },
    {
     "name": "stderr",
     "output_type": "stream",
     "text": [
      "/home2/BigData/anaconda3/lib/python3.7/site-packages/sklearn/svm/base.py:218: ConvergenceWarning: Solver terminated early (max_iter=150).  Consider pre-processing your data with StandardScaler or MinMaxScaler.\n",
      "  % self.max_iter, ConvergenceWarning)\n",
      "/home2/BigData/anaconda3/lib/python3.7/site-packages/sklearn/svm/base.py:218: ConvergenceWarning: Solver terminated early (max_iter=50).  Consider pre-processing your data with StandardScaler or MinMaxScaler.\n",
      "  % self.max_iter, ConvergenceWarning)\n",
      "/home2/BigData/anaconda3/lib/python3.7/site-packages/sklearn/svm/base.py:218: ConvergenceWarning: Solver terminated early (max_iter=50).  Consider pre-processing your data with StandardScaler or MinMaxScaler.\n",
      "  % self.max_iter, ConvergenceWarning)\n",
      "/home2/BigData/anaconda3/lib/python3.7/site-packages/sklearn/svm/base.py:218: ConvergenceWarning: Solver terminated early (max_iter=50).  Consider pre-processing your data with StandardScaler or MinMaxScaler.\n",
      "  % self.max_iter, ConvergenceWarning)\n",
      "/home2/BigData/anaconda3/lib/python3.7/site-packages/sklearn/svm/base.py:218: ConvergenceWarning: Solver terminated early (max_iter=50).  Consider pre-processing your data with StandardScaler or MinMaxScaler.\n",
      "  % self.max_iter, ConvergenceWarning)\n",
      "/home2/BigData/anaconda3/lib/python3.7/site-packages/sklearn/svm/base.py:218: ConvergenceWarning: Solver terminated early (max_iter=50).  Consider pre-processing your data with StandardScaler or MinMaxScaler.\n",
      "  % self.max_iter, ConvergenceWarning)\n",
      "/home2/BigData/anaconda3/lib/python3.7/site-packages/sklearn/svm/base.py:218: ConvergenceWarning: Solver terminated early (max_iter=50).  Consider pre-processing your data with StandardScaler or MinMaxScaler.\n",
      "  % self.max_iter, ConvergenceWarning)\n",
      "/home2/BigData/anaconda3/lib/python3.7/site-packages/sklearn/svm/base.py:218: ConvergenceWarning: Solver terminated early (max_iter=50).  Consider pre-processing your data with StandardScaler or MinMaxScaler.\n",
      "  % self.max_iter, ConvergenceWarning)\n"
     ]
    },
    {
     "name": "stdout",
     "output_type": "stream",
     "text": [
      "[CV] ......... C=10, max_iter=50, tol=0.0001, score=1.0, total=   0.0s\n",
      "[CV] C=10, max_iter=50, tol=0.0001 ...................................\n",
      "[CV] ......... C=10, max_iter=50, tol=0.0001, score=1.0, total=   0.0s\n",
      "[CV] C=10, max_iter=50, tol=0.0001 ...................................\n",
      "[CV] ......... C=10, max_iter=50, tol=0.0001, score=1.0, total=   0.0s\n",
      "[CV] C=10, max_iter=50, tol=0.01 .....................................\n",
      "[CV] ........... C=10, max_iter=50, tol=0.01, score=1.0, total=   0.0s\n",
      "[CV] C=10, max_iter=50, tol=0.01 .....................................\n",
      "[CV] ........... C=10, max_iter=50, tol=0.01, score=1.0, total=   0.0s\n",
      "[CV] C=10, max_iter=50, tol=0.01 .....................................\n",
      "[CV] ........... C=10, max_iter=50, tol=0.01, score=1.0, total=   0.0s\n",
      "[CV] C=10, max_iter=100, tol=0.001 ...................................\n",
      "[CV] ......... C=10, max_iter=100, tol=0.001, score=1.0, total=   0.0s\n",
      "[CV] C=10, max_iter=100, tol=0.001 ...................................\n",
      "[CV] ......... C=10, max_iter=100, tol=0.001, score=1.0, total=   0.0s\n",
      "[CV] C=10, max_iter=100, tol=0.001 ...................................\n"
     ]
    },
    {
     "name": "stderr",
     "output_type": "stream",
     "text": [
      "/home2/BigData/anaconda3/lib/python3.7/site-packages/sklearn/svm/base.py:218: ConvergenceWarning: Solver terminated early (max_iter=50).  Consider pre-processing your data with StandardScaler or MinMaxScaler.\n",
      "  % self.max_iter, ConvergenceWarning)\n",
      "/home2/BigData/anaconda3/lib/python3.7/site-packages/sklearn/svm/base.py:218: ConvergenceWarning: Solver terminated early (max_iter=50).  Consider pre-processing your data with StandardScaler or MinMaxScaler.\n",
      "  % self.max_iter, ConvergenceWarning)\n",
      "/home2/BigData/anaconda3/lib/python3.7/site-packages/sklearn/svm/base.py:218: ConvergenceWarning: Solver terminated early (max_iter=100).  Consider pre-processing your data with StandardScaler or MinMaxScaler.\n",
      "  % self.max_iter, ConvergenceWarning)\n",
      "/home2/BigData/anaconda3/lib/python3.7/site-packages/sklearn/svm/base.py:218: ConvergenceWarning: Solver terminated early (max_iter=100).  Consider pre-processing your data with StandardScaler or MinMaxScaler.\n",
      "  % self.max_iter, ConvergenceWarning)\n",
      "/home2/BigData/anaconda3/lib/python3.7/site-packages/sklearn/svm/base.py:218: ConvergenceWarning: Solver terminated early (max_iter=100).  Consider pre-processing your data with StandardScaler or MinMaxScaler.\n",
      "  % self.max_iter, ConvergenceWarning)\n",
      "/home2/BigData/anaconda3/lib/python3.7/site-packages/sklearn/svm/base.py:218: ConvergenceWarning: Solver terminated early (max_iter=100).  Consider pre-processing your data with StandardScaler or MinMaxScaler.\n",
      "  % self.max_iter, ConvergenceWarning)\n",
      "/home2/BigData/anaconda3/lib/python3.7/site-packages/sklearn/svm/base.py:218: ConvergenceWarning: Solver terminated early (max_iter=100).  Consider pre-processing your data with StandardScaler or MinMaxScaler.\n",
      "  % self.max_iter, ConvergenceWarning)\n"
     ]
    },
    {
     "name": "stdout",
     "output_type": "stream",
     "text": [
      "[CV] ......... C=10, max_iter=100, tol=0.001, score=1.0, total=   0.0s\n",
      "[CV] C=10, max_iter=100, tol=0.0001 ..................................\n",
      "[CV] ........ C=10, max_iter=100, tol=0.0001, score=1.0, total=   0.0s\n",
      "[CV] C=10, max_iter=100, tol=0.0001 ..................................\n",
      "[CV] ........ C=10, max_iter=100, tol=0.0001, score=1.0, total=   0.0s\n",
      "[CV] C=10, max_iter=100, tol=0.0001 ..................................\n",
      "[CV] ........ C=10, max_iter=100, tol=0.0001, score=1.0, total=   0.0s\n",
      "[CV] C=10, max_iter=100, tol=0.01 ....................................\n",
      "[CV] .......... C=10, max_iter=100, tol=0.01, score=1.0, total=   0.0s\n",
      "[CV] C=10, max_iter=100, tol=0.01 ....................................\n",
      "[CV] .......... C=10, max_iter=100, tol=0.01, score=1.0, total=   0.0s\n",
      "[CV] C=10, max_iter=100, tol=0.01 ....................................\n"
     ]
    },
    {
     "name": "stderr",
     "output_type": "stream",
     "text": [
      "/home2/BigData/anaconda3/lib/python3.7/site-packages/sklearn/svm/base.py:218: ConvergenceWarning: Solver terminated early (max_iter=100).  Consider pre-processing your data with StandardScaler or MinMaxScaler.\n",
      "  % self.max_iter, ConvergenceWarning)\n",
      "/home2/BigData/anaconda3/lib/python3.7/site-packages/sklearn/svm/base.py:218: ConvergenceWarning: Solver terminated early (max_iter=100).  Consider pre-processing your data with StandardScaler or MinMaxScaler.\n",
      "  % self.max_iter, ConvergenceWarning)\n",
      "/home2/BigData/anaconda3/lib/python3.7/site-packages/sklearn/svm/base.py:218: ConvergenceWarning: Solver terminated early (max_iter=100).  Consider pre-processing your data with StandardScaler or MinMaxScaler.\n",
      "  % self.max_iter, ConvergenceWarning)\n",
      "/home2/BigData/anaconda3/lib/python3.7/site-packages/sklearn/svm/base.py:218: ConvergenceWarning: Solver terminated early (max_iter=100).  Consider pre-processing your data with StandardScaler or MinMaxScaler.\n",
      "  % self.max_iter, ConvergenceWarning)\n",
      "/home2/BigData/anaconda3/lib/python3.7/site-packages/sklearn/svm/base.py:218: ConvergenceWarning: Solver terminated early (max_iter=150).  Consider pre-processing your data with StandardScaler or MinMaxScaler.\n",
      "  % self.max_iter, ConvergenceWarning)\n",
      "/home2/BigData/anaconda3/lib/python3.7/site-packages/sklearn/svm/base.py:218: ConvergenceWarning: Solver terminated early (max_iter=150).  Consider pre-processing your data with StandardScaler or MinMaxScaler.\n",
      "  % self.max_iter, ConvergenceWarning)\n"
     ]
    },
    {
     "name": "stdout",
     "output_type": "stream",
     "text": [
      "[CV] .......... C=10, max_iter=100, tol=0.01, score=1.0, total=   0.0s\n",
      "[CV] C=10, max_iter=150, tol=0.001 ...................................\n",
      "[CV] ......... C=10, max_iter=150, tol=0.001, score=1.0, total=   0.0s\n",
      "[CV] C=10, max_iter=150, tol=0.001 ...................................\n",
      "[CV] ......... C=10, max_iter=150, tol=0.001, score=1.0, total=   0.0s\n",
      "[CV] C=10, max_iter=150, tol=0.001 ...................................\n",
      "[CV] ......... C=10, max_iter=150, tol=0.001, score=1.0, total=   0.0s\n",
      "[CV] C=10, max_iter=150, tol=0.0001 ..................................\n",
      "[CV] ........ C=10, max_iter=150, tol=0.0001, score=1.0, total=   0.0s\n",
      "[CV] C=10, max_iter=150, tol=0.0001 ..................................\n"
     ]
    },
    {
     "name": "stderr",
     "output_type": "stream",
     "text": [
      "/home2/BigData/anaconda3/lib/python3.7/site-packages/sklearn/svm/base.py:218: ConvergenceWarning: Solver terminated early (max_iter=150).  Consider pre-processing your data with StandardScaler or MinMaxScaler.\n",
      "  % self.max_iter, ConvergenceWarning)\n",
      "/home2/BigData/anaconda3/lib/python3.7/site-packages/sklearn/svm/base.py:218: ConvergenceWarning: Solver terminated early (max_iter=150).  Consider pre-processing your data with StandardScaler or MinMaxScaler.\n",
      "  % self.max_iter, ConvergenceWarning)\n",
      "/home2/BigData/anaconda3/lib/python3.7/site-packages/sklearn/svm/base.py:218: ConvergenceWarning: Solver terminated early (max_iter=150).  Consider pre-processing your data with StandardScaler or MinMaxScaler.\n",
      "  % self.max_iter, ConvergenceWarning)\n",
      "/home2/BigData/anaconda3/lib/python3.7/site-packages/sklearn/svm/base.py:218: ConvergenceWarning: Solver terminated early (max_iter=150).  Consider pre-processing your data with StandardScaler or MinMaxScaler.\n",
      "  % self.max_iter, ConvergenceWarning)\n",
      "/home2/BigData/anaconda3/lib/python3.7/site-packages/sklearn/svm/base.py:218: ConvergenceWarning: Solver terminated early (max_iter=150).  Consider pre-processing your data with StandardScaler or MinMaxScaler.\n",
      "  % self.max_iter, ConvergenceWarning)\n"
     ]
    },
    {
     "name": "stdout",
     "output_type": "stream",
     "text": [
      "[CV] ........ C=10, max_iter=150, tol=0.0001, score=1.0, total=   0.0s\n",
      "[CV] C=10, max_iter=150, tol=0.0001 ..................................\n",
      "[CV] ........ C=10, max_iter=150, tol=0.0001, score=1.0, total=   0.0s\n",
      "[CV] C=10, max_iter=150, tol=0.01 ....................................\n",
      "[CV] .......... C=10, max_iter=150, tol=0.01, score=1.0, total=   0.0s\n",
      "[CV] C=10, max_iter=150, tol=0.01 ....................................\n",
      "[CV] .......... C=10, max_iter=150, tol=0.01, score=1.0, total=   0.0s\n",
      "[CV] C=10, max_iter=150, tol=0.01 ....................................\n",
      "[CV] .......... C=10, max_iter=150, tol=0.01, score=1.0, total=   0.0s\n",
      "[CV] C=100, max_iter=50, tol=0.001 ...................................\n",
      "[CV] ......... C=100, max_iter=50, tol=0.001, score=1.0, total=   0.0s\n",
      "[CV] C=100, max_iter=50, tol=0.001 ...................................\n"
     ]
    },
    {
     "name": "stderr",
     "output_type": "stream",
     "text": [
      "/home2/BigData/anaconda3/lib/python3.7/site-packages/sklearn/svm/base.py:218: ConvergenceWarning: Solver terminated early (max_iter=150).  Consider pre-processing your data with StandardScaler or MinMaxScaler.\n",
      "  % self.max_iter, ConvergenceWarning)\n",
      "/home2/BigData/anaconda3/lib/python3.7/site-packages/sklearn/svm/base.py:218: ConvergenceWarning: Solver terminated early (max_iter=150).  Consider pre-processing your data with StandardScaler or MinMaxScaler.\n",
      "  % self.max_iter, ConvergenceWarning)\n",
      "/home2/BigData/anaconda3/lib/python3.7/site-packages/sklearn/svm/base.py:218: ConvergenceWarning: Solver terminated early (max_iter=50).  Consider pre-processing your data with StandardScaler or MinMaxScaler.\n",
      "  % self.max_iter, ConvergenceWarning)\n",
      "/home2/BigData/anaconda3/lib/python3.7/site-packages/sklearn/svm/base.py:218: ConvergenceWarning: Solver terminated early (max_iter=50).  Consider pre-processing your data with StandardScaler or MinMaxScaler.\n",
      "  % self.max_iter, ConvergenceWarning)\n",
      "/home2/BigData/anaconda3/lib/python3.7/site-packages/sklearn/svm/base.py:218: ConvergenceWarning: Solver terminated early (max_iter=50).  Consider pre-processing your data with StandardScaler or MinMaxScaler.\n",
      "  % self.max_iter, ConvergenceWarning)\n",
      "/home2/BigData/anaconda3/lib/python3.7/site-packages/sklearn/svm/base.py:218: ConvergenceWarning: Solver terminated early (max_iter=50).  Consider pre-processing your data with StandardScaler or MinMaxScaler.\n",
      "  % self.max_iter, ConvergenceWarning)\n",
      "/home2/BigData/anaconda3/lib/python3.7/site-packages/sklearn/svm/base.py:218: ConvergenceWarning: Solver terminated early (max_iter=50).  Consider pre-processing your data with StandardScaler or MinMaxScaler.\n",
      "  % self.max_iter, ConvergenceWarning)\n",
      "/home2/BigData/anaconda3/lib/python3.7/site-packages/sklearn/svm/base.py:218: ConvergenceWarning: Solver terminated early (max_iter=50).  Consider pre-processing your data with StandardScaler or MinMaxScaler.\n",
      "  % self.max_iter, ConvergenceWarning)\n"
     ]
    },
    {
     "name": "stdout",
     "output_type": "stream",
     "text": [
      "[CV] ......... C=100, max_iter=50, tol=0.001, score=1.0, total=   0.0s\n",
      "[CV] C=100, max_iter=50, tol=0.001 ...................................\n",
      "[CV] ......... C=100, max_iter=50, tol=0.001, score=1.0, total=   0.0s\n",
      "[CV] C=100, max_iter=50, tol=0.0001 ..................................\n",
      "[CV] ........ C=100, max_iter=50, tol=0.0001, score=1.0, total=   0.0s\n",
      "[CV] C=100, max_iter=50, tol=0.0001 ..................................\n",
      "[CV] ........ C=100, max_iter=50, tol=0.0001, score=1.0, total=   0.0s\n",
      "[CV] C=100, max_iter=50, tol=0.0001 ..................................\n",
      "[CV] ........ C=100, max_iter=50, tol=0.0001, score=1.0, total=   0.0s\n",
      "[CV] C=100, max_iter=50, tol=0.01 ....................................\n",
      "[CV] .......... C=100, max_iter=50, tol=0.01, score=1.0, total=   0.0s\n",
      "[CV] C=100, max_iter=50, tol=0.01 ....................................\n",
      "[CV] .......... C=100, max_iter=50, tol=0.01, score=1.0, total=   0.0s\n",
      "[CV] C=100, max_iter=50, tol=0.01 ....................................\n",
      "[CV] .......... C=100, max_iter=50, tol=0.01, score=1.0, total=   0.0s\n",
      "[CV] C=100, max_iter=100, tol=0.001 ..................................\n"
     ]
    },
    {
     "name": "stderr",
     "output_type": "stream",
     "text": [
      "/home2/BigData/anaconda3/lib/python3.7/site-packages/sklearn/svm/base.py:218: ConvergenceWarning: Solver terminated early (max_iter=50).  Consider pre-processing your data with StandardScaler or MinMaxScaler.\n",
      "  % self.max_iter, ConvergenceWarning)\n",
      "/home2/BigData/anaconda3/lib/python3.7/site-packages/sklearn/svm/base.py:218: ConvergenceWarning: Solver terminated early (max_iter=50).  Consider pre-processing your data with StandardScaler or MinMaxScaler.\n",
      "  % self.max_iter, ConvergenceWarning)\n",
      "/home2/BigData/anaconda3/lib/python3.7/site-packages/sklearn/svm/base.py:218: ConvergenceWarning: Solver terminated early (max_iter=50).  Consider pre-processing your data with StandardScaler or MinMaxScaler.\n",
      "  % self.max_iter, ConvergenceWarning)\n",
      "/home2/BigData/anaconda3/lib/python3.7/site-packages/sklearn/svm/base.py:218: ConvergenceWarning: Solver terminated early (max_iter=100).  Consider pre-processing your data with StandardScaler or MinMaxScaler.\n",
      "  % self.max_iter, ConvergenceWarning)\n",
      "/home2/BigData/anaconda3/lib/python3.7/site-packages/sklearn/svm/base.py:218: ConvergenceWarning: Solver terminated early (max_iter=100).  Consider pre-processing your data with StandardScaler or MinMaxScaler.\n",
      "  % self.max_iter, ConvergenceWarning)\n",
      "/home2/BigData/anaconda3/lib/python3.7/site-packages/sklearn/svm/base.py:218: ConvergenceWarning: Solver terminated early (max_iter=100).  Consider pre-processing your data with StandardScaler or MinMaxScaler.\n",
      "  % self.max_iter, ConvergenceWarning)\n",
      "/home2/BigData/anaconda3/lib/python3.7/site-packages/sklearn/svm/base.py:218: ConvergenceWarning: Solver terminated early (max_iter=100).  Consider pre-processing your data with StandardScaler or MinMaxScaler.\n",
      "  % self.max_iter, ConvergenceWarning)\n"
     ]
    },
    {
     "name": "stdout",
     "output_type": "stream",
     "text": [
      "[CV] ........ C=100, max_iter=100, tol=0.001, score=1.0, total=   0.0s\n",
      "[CV] C=100, max_iter=100, tol=0.001 ..................................\n",
      "[CV] ........ C=100, max_iter=100, tol=0.001, score=1.0, total=   0.0s\n",
      "[CV] C=100, max_iter=100, tol=0.001 ..................................\n",
      "[CV] ........ C=100, max_iter=100, tol=0.001, score=1.0, total=   0.0s\n",
      "[CV] C=100, max_iter=100, tol=0.0001 .................................\n",
      "[CV] ....... C=100, max_iter=100, tol=0.0001, score=1.0, total=   0.0s\n",
      "[CV] C=100, max_iter=100, tol=0.0001 .................................\n",
      "[CV] ....... C=100, max_iter=100, tol=0.0001, score=1.0, total=   0.0s\n",
      "[CV] C=100, max_iter=100, tol=0.0001 .................................\n",
      "[CV] ....... C=100, max_iter=100, tol=0.0001, score=1.0, total=   0.0s\n",
      "[CV] C=100, max_iter=100, tol=0.01 ...................................\n"
     ]
    },
    {
     "name": "stderr",
     "output_type": "stream",
     "text": [
      "/home2/BigData/anaconda3/lib/python3.7/site-packages/sklearn/svm/base.py:218: ConvergenceWarning: Solver terminated early (max_iter=100).  Consider pre-processing your data with StandardScaler or MinMaxScaler.\n",
      "  % self.max_iter, ConvergenceWarning)\n",
      "/home2/BigData/anaconda3/lib/python3.7/site-packages/sklearn/svm/base.py:218: ConvergenceWarning: Solver terminated early (max_iter=100).  Consider pre-processing your data with StandardScaler or MinMaxScaler.\n",
      "  % self.max_iter, ConvergenceWarning)\n",
      "/home2/BigData/anaconda3/lib/python3.7/site-packages/sklearn/svm/base.py:218: ConvergenceWarning: Solver terminated early (max_iter=100).  Consider pre-processing your data with StandardScaler or MinMaxScaler.\n",
      "  % self.max_iter, ConvergenceWarning)\n",
      "/home2/BigData/anaconda3/lib/python3.7/site-packages/sklearn/svm/base.py:218: ConvergenceWarning: Solver terminated early (max_iter=100).  Consider pre-processing your data with StandardScaler or MinMaxScaler.\n",
      "  % self.max_iter, ConvergenceWarning)\n",
      "/home2/BigData/anaconda3/lib/python3.7/site-packages/sklearn/svm/base.py:218: ConvergenceWarning: Solver terminated early (max_iter=100).  Consider pre-processing your data with StandardScaler or MinMaxScaler.\n",
      "  % self.max_iter, ConvergenceWarning)\n",
      "/home2/BigData/anaconda3/lib/python3.7/site-packages/sklearn/svm/base.py:218: ConvergenceWarning: Solver terminated early (max_iter=150).  Consider pre-processing your data with StandardScaler or MinMaxScaler.\n",
      "  % self.max_iter, ConvergenceWarning)\n"
     ]
    },
    {
     "name": "stdout",
     "output_type": "stream",
     "text": [
      "[CV] ......... C=100, max_iter=100, tol=0.01, score=1.0, total=   0.0s\n",
      "[CV] C=100, max_iter=100, tol=0.01 ...................................\n",
      "[CV] ......... C=100, max_iter=100, tol=0.01, score=1.0, total=   0.0s\n",
      "[CV] C=100, max_iter=100, tol=0.01 ...................................\n",
      "[CV] ......... C=100, max_iter=100, tol=0.01, score=1.0, total=   0.0s\n",
      "[CV] C=100, max_iter=150, tol=0.001 ..................................\n",
      "[CV] ........ C=100, max_iter=150, tol=0.001, score=1.0, total=   0.0s\n",
      "[CV] C=100, max_iter=150, tol=0.001 ..................................\n",
      "[CV] ........ C=100, max_iter=150, tol=0.001, score=1.0, total=   0.0s\n",
      "[CV] C=100, max_iter=150, tol=0.001 ..................................\n"
     ]
    },
    {
     "name": "stderr",
     "output_type": "stream",
     "text": [
      "/home2/BigData/anaconda3/lib/python3.7/site-packages/sklearn/svm/base.py:218: ConvergenceWarning: Solver terminated early (max_iter=150).  Consider pre-processing your data with StandardScaler or MinMaxScaler.\n",
      "  % self.max_iter, ConvergenceWarning)\n",
      "/home2/BigData/anaconda3/lib/python3.7/site-packages/sklearn/svm/base.py:218: ConvergenceWarning: Solver terminated early (max_iter=150).  Consider pre-processing your data with StandardScaler or MinMaxScaler.\n",
      "  % self.max_iter, ConvergenceWarning)\n",
      "/home2/BigData/anaconda3/lib/python3.7/site-packages/sklearn/svm/base.py:218: ConvergenceWarning: Solver terminated early (max_iter=150).  Consider pre-processing your data with StandardScaler or MinMaxScaler.\n",
      "  % self.max_iter, ConvergenceWarning)\n",
      "/home2/BigData/anaconda3/lib/python3.7/site-packages/sklearn/svm/base.py:218: ConvergenceWarning: Solver terminated early (max_iter=150).  Consider pre-processing your data with StandardScaler or MinMaxScaler.\n",
      "  % self.max_iter, ConvergenceWarning)\n",
      "/home2/BigData/anaconda3/lib/python3.7/site-packages/sklearn/svm/base.py:218: ConvergenceWarning: Solver terminated early (max_iter=150).  Consider pre-processing your data with StandardScaler or MinMaxScaler.\n",
      "  % self.max_iter, ConvergenceWarning)\n"
     ]
    },
    {
     "name": "stdout",
     "output_type": "stream",
     "text": [
      "[CV] ........ C=100, max_iter=150, tol=0.001, score=1.0, total=   0.0s\n",
      "[CV] C=100, max_iter=150, tol=0.0001 .................................\n",
      "[CV] ....... C=100, max_iter=150, tol=0.0001, score=1.0, total=   0.0s\n",
      "[CV] C=100, max_iter=150, tol=0.0001 .................................\n",
      "[CV] ....... C=100, max_iter=150, tol=0.0001, score=1.0, total=   0.0s\n",
      "[CV] C=100, max_iter=150, tol=0.0001 .................................\n",
      "[CV] ....... C=100, max_iter=150, tol=0.0001, score=1.0, total=   0.0s\n",
      "[CV] C=100, max_iter=150, tol=0.01 ...................................\n",
      "[CV] ......... C=100, max_iter=150, tol=0.01, score=1.0, total=   0.0s\n",
      "[CV] C=100, max_iter=150, tol=0.01 ...................................\n"
     ]
    },
    {
     "name": "stderr",
     "output_type": "stream",
     "text": [
      "/home2/BigData/anaconda3/lib/python3.7/site-packages/sklearn/svm/base.py:218: ConvergenceWarning: Solver terminated early (max_iter=150).  Consider pre-processing your data with StandardScaler or MinMaxScaler.\n",
      "  % self.max_iter, ConvergenceWarning)\n",
      "/home2/BigData/anaconda3/lib/python3.7/site-packages/sklearn/svm/base.py:218: ConvergenceWarning: Solver terminated early (max_iter=150).  Consider pre-processing your data with StandardScaler or MinMaxScaler.\n",
      "  % self.max_iter, ConvergenceWarning)\n",
      "/home2/BigData/anaconda3/lib/python3.7/site-packages/sklearn/svm/base.py:218: ConvergenceWarning: Solver terminated early (max_iter=150).  Consider pre-processing your data with StandardScaler or MinMaxScaler.\n",
      "  % self.max_iter, ConvergenceWarning)\n",
      "/home2/BigData/anaconda3/lib/python3.7/site-packages/sklearn/svm/base.py:218: ConvergenceWarning: Solver terminated early (max_iter=50).  Consider pre-processing your data with StandardScaler or MinMaxScaler.\n",
      "  % self.max_iter, ConvergenceWarning)\n",
      "/home2/BigData/anaconda3/lib/python3.7/site-packages/sklearn/svm/base.py:218: ConvergenceWarning: Solver terminated early (max_iter=50).  Consider pre-processing your data with StandardScaler or MinMaxScaler.\n",
      "  % self.max_iter, ConvergenceWarning)\n",
      "/home2/BigData/anaconda3/lib/python3.7/site-packages/sklearn/svm/base.py:218: ConvergenceWarning: Solver terminated early (max_iter=50).  Consider pre-processing your data with StandardScaler or MinMaxScaler.\n",
      "  % self.max_iter, ConvergenceWarning)\n"
     ]
    },
    {
     "name": "stdout",
     "output_type": "stream",
     "text": [
      "[CV] ......... C=100, max_iter=150, tol=0.01, score=1.0, total=   0.0s\n",
      "[CV] C=100, max_iter=150, tol=0.01 ...................................\n",
      "[CV] ......... C=100, max_iter=150, tol=0.01, score=1.0, total=   0.0s\n",
      "[CV] C=1000, max_iter=50, tol=0.001 ..................................\n",
      "[CV] ........ C=1000, max_iter=50, tol=0.001, score=1.0, total=   0.0s\n",
      "[CV] C=1000, max_iter=50, tol=0.001 ..................................\n",
      "[CV] ........ C=1000, max_iter=50, tol=0.001, score=1.0, total=   0.0s\n",
      "[CV] C=1000, max_iter=50, tol=0.001 ..................................\n",
      "[CV] ........ C=1000, max_iter=50, tol=0.001, score=1.0, total=   0.0s\n",
      "[CV] C=1000, max_iter=50, tol=0.0001 .................................\n",
      "[CV] ....... C=1000, max_iter=50, tol=0.0001, score=1.0, total=   0.0s\n",
      "[CV] C=1000, max_iter=50, tol=0.0001 .................................\n"
     ]
    },
    {
     "name": "stderr",
     "output_type": "stream",
     "text": [
      "/home2/BigData/anaconda3/lib/python3.7/site-packages/sklearn/svm/base.py:218: ConvergenceWarning: Solver terminated early (max_iter=50).  Consider pre-processing your data with StandardScaler or MinMaxScaler.\n",
      "  % self.max_iter, ConvergenceWarning)\n",
      "/home2/BigData/anaconda3/lib/python3.7/site-packages/sklearn/svm/base.py:218: ConvergenceWarning: Solver terminated early (max_iter=50).  Consider pre-processing your data with StandardScaler or MinMaxScaler.\n",
      "  % self.max_iter, ConvergenceWarning)\n",
      "/home2/BigData/anaconda3/lib/python3.7/site-packages/sklearn/svm/base.py:218: ConvergenceWarning: Solver terminated early (max_iter=50).  Consider pre-processing your data with StandardScaler or MinMaxScaler.\n",
      "  % self.max_iter, ConvergenceWarning)\n",
      "/home2/BigData/anaconda3/lib/python3.7/site-packages/sklearn/svm/base.py:218: ConvergenceWarning: Solver terminated early (max_iter=50).  Consider pre-processing your data with StandardScaler or MinMaxScaler.\n",
      "  % self.max_iter, ConvergenceWarning)\n",
      "/home2/BigData/anaconda3/lib/python3.7/site-packages/sklearn/svm/base.py:218: ConvergenceWarning: Solver terminated early (max_iter=50).  Consider pre-processing your data with StandardScaler or MinMaxScaler.\n",
      "  % self.max_iter, ConvergenceWarning)\n",
      "/home2/BigData/anaconda3/lib/python3.7/site-packages/sklearn/svm/base.py:218: ConvergenceWarning: Solver terminated early (max_iter=50).  Consider pre-processing your data with StandardScaler or MinMaxScaler.\n",
      "  % self.max_iter, ConvergenceWarning)\n"
     ]
    },
    {
     "name": "stdout",
     "output_type": "stream",
     "text": [
      "[CV] ....... C=1000, max_iter=50, tol=0.0001, score=1.0, total=   0.0s\n",
      "[CV] C=1000, max_iter=50, tol=0.0001 .................................\n",
      "[CV] ....... C=1000, max_iter=50, tol=0.0001, score=1.0, total=   0.0s\n",
      "[CV] C=1000, max_iter=50, tol=0.01 ...................................\n",
      "[CV] ......... C=1000, max_iter=50, tol=0.01, score=1.0, total=   0.0s\n",
      "[CV] C=1000, max_iter=50, tol=0.01 ...................................\n",
      "[CV] ......... C=1000, max_iter=50, tol=0.01, score=1.0, total=   0.0s\n",
      "[CV] C=1000, max_iter=50, tol=0.01 ...................................\n",
      "[CV] ......... C=1000, max_iter=50, tol=0.01, score=1.0, total=   0.0s\n",
      "[CV] C=1000, max_iter=100, tol=0.001 .................................\n",
      "[CV] ....... C=1000, max_iter=100, tol=0.001, score=1.0, total=   0.0s\n",
      "[CV] C=1000, max_iter=100, tol=0.001 .................................\n"
     ]
    },
    {
     "name": "stderr",
     "output_type": "stream",
     "text": [
      "/home2/BigData/anaconda3/lib/python3.7/site-packages/sklearn/svm/base.py:218: ConvergenceWarning: Solver terminated early (max_iter=100).  Consider pre-processing your data with StandardScaler or MinMaxScaler.\n",
      "  % self.max_iter, ConvergenceWarning)\n",
      "/home2/BigData/anaconda3/lib/python3.7/site-packages/sklearn/svm/base.py:218: ConvergenceWarning: Solver terminated early (max_iter=100).  Consider pre-processing your data with StandardScaler or MinMaxScaler.\n",
      "  % self.max_iter, ConvergenceWarning)\n",
      "/home2/BigData/anaconda3/lib/python3.7/site-packages/sklearn/svm/base.py:218: ConvergenceWarning: Solver terminated early (max_iter=100).  Consider pre-processing your data with StandardScaler or MinMaxScaler.\n",
      "  % self.max_iter, ConvergenceWarning)\n",
      "/home2/BigData/anaconda3/lib/python3.7/site-packages/sklearn/svm/base.py:218: ConvergenceWarning: Solver terminated early (max_iter=100).  Consider pre-processing your data with StandardScaler or MinMaxScaler.\n",
      "  % self.max_iter, ConvergenceWarning)\n",
      "/home2/BigData/anaconda3/lib/python3.7/site-packages/sklearn/svm/base.py:218: ConvergenceWarning: Solver terminated early (max_iter=100).  Consider pre-processing your data with StandardScaler or MinMaxScaler.\n",
      "  % self.max_iter, ConvergenceWarning)\n",
      "/home2/BigData/anaconda3/lib/python3.7/site-packages/sklearn/svm/base.py:218: ConvergenceWarning: Solver terminated early (max_iter=100).  Consider pre-processing your data with StandardScaler or MinMaxScaler.\n",
      "  % self.max_iter, ConvergenceWarning)\n"
     ]
    },
    {
     "name": "stdout",
     "output_type": "stream",
     "text": [
      "[CV] ....... C=1000, max_iter=100, tol=0.001, score=1.0, total=   0.0s\n",
      "[CV] C=1000, max_iter=100, tol=0.001 .................................\n",
      "[CV] ....... C=1000, max_iter=100, tol=0.001, score=1.0, total=   0.0s\n",
      "[CV] C=1000, max_iter=100, tol=0.0001 ................................\n",
      "[CV] ...... C=1000, max_iter=100, tol=0.0001, score=1.0, total=   0.0s\n",
      "[CV] C=1000, max_iter=100, tol=0.0001 ................................\n",
      "[CV] ...... C=1000, max_iter=100, tol=0.0001, score=1.0, total=   0.0s\n",
      "[CV] C=1000, max_iter=100, tol=0.0001 ................................\n",
      "[CV] ...... C=1000, max_iter=100, tol=0.0001, score=1.0, total=   0.0s\n",
      "[CV] C=1000, max_iter=100, tol=0.01 ..................................\n",
      "[CV] ........ C=1000, max_iter=100, tol=0.01, score=1.0, total=   0.0s\n",
      "[CV] C=1000, max_iter=100, tol=0.01 ..................................\n"
     ]
    },
    {
     "name": "stderr",
     "output_type": "stream",
     "text": [
      "/home2/BigData/anaconda3/lib/python3.7/site-packages/sklearn/svm/base.py:218: ConvergenceWarning: Solver terminated early (max_iter=100).  Consider pre-processing your data with StandardScaler or MinMaxScaler.\n",
      "  % self.max_iter, ConvergenceWarning)\n",
      "/home2/BigData/anaconda3/lib/python3.7/site-packages/sklearn/svm/base.py:218: ConvergenceWarning: Solver terminated early (max_iter=100).  Consider pre-processing your data with StandardScaler or MinMaxScaler.\n",
      "  % self.max_iter, ConvergenceWarning)\n",
      "/home2/BigData/anaconda3/lib/python3.7/site-packages/sklearn/svm/base.py:218: ConvergenceWarning: Solver terminated early (max_iter=100).  Consider pre-processing your data with StandardScaler or MinMaxScaler.\n",
      "  % self.max_iter, ConvergenceWarning)\n",
      "/home2/BigData/anaconda3/lib/python3.7/site-packages/sklearn/svm/base.py:218: ConvergenceWarning: Solver terminated early (max_iter=150).  Consider pre-processing your data with StandardScaler or MinMaxScaler.\n",
      "  % self.max_iter, ConvergenceWarning)\n",
      "/home2/BigData/anaconda3/lib/python3.7/site-packages/sklearn/svm/base.py:218: ConvergenceWarning: Solver terminated early (max_iter=150).  Consider pre-processing your data with StandardScaler or MinMaxScaler.\n",
      "  % self.max_iter, ConvergenceWarning)\n",
      "/home2/BigData/anaconda3/lib/python3.7/site-packages/sklearn/svm/base.py:218: ConvergenceWarning: Solver terminated early (max_iter=150).  Consider pre-processing your data with StandardScaler or MinMaxScaler.\n",
      "  % self.max_iter, ConvergenceWarning)\n"
     ]
    },
    {
     "name": "stdout",
     "output_type": "stream",
     "text": [
      "[CV] ........ C=1000, max_iter=100, tol=0.01, score=1.0, total=   0.0s\n",
      "[CV] C=1000, max_iter=100, tol=0.01 ..................................\n",
      "[CV] ........ C=1000, max_iter=100, tol=0.01, score=1.0, total=   0.0s\n",
      "[CV] C=1000, max_iter=150, tol=0.001 .................................\n",
      "[CV] ....... C=1000, max_iter=150, tol=0.001, score=1.0, total=   0.0s\n",
      "[CV] C=1000, max_iter=150, tol=0.001 .................................\n",
      "[CV] ....... C=1000, max_iter=150, tol=0.001, score=1.0, total=   0.0s\n",
      "[CV] C=1000, max_iter=150, tol=0.001 .................................\n",
      "[CV] ....... C=1000, max_iter=150, tol=0.001, score=1.0, total=   0.0s\n",
      "[CV] C=1000, max_iter=150, tol=0.0001 ................................\n"
     ]
    },
    {
     "name": "stderr",
     "output_type": "stream",
     "text": [
      "/home2/BigData/anaconda3/lib/python3.7/site-packages/sklearn/svm/base.py:218: ConvergenceWarning: Solver terminated early (max_iter=150).  Consider pre-processing your data with StandardScaler or MinMaxScaler.\n",
      "  % self.max_iter, ConvergenceWarning)\n",
      "/home2/BigData/anaconda3/lib/python3.7/site-packages/sklearn/svm/base.py:218: ConvergenceWarning: Solver terminated early (max_iter=150).  Consider pre-processing your data with StandardScaler or MinMaxScaler.\n",
      "  % self.max_iter, ConvergenceWarning)\n",
      "/home2/BigData/anaconda3/lib/python3.7/site-packages/sklearn/svm/base.py:218: ConvergenceWarning: Solver terminated early (max_iter=150).  Consider pre-processing your data with StandardScaler or MinMaxScaler.\n",
      "  % self.max_iter, ConvergenceWarning)\n",
      "/home2/BigData/anaconda3/lib/python3.7/site-packages/sklearn/svm/base.py:218: ConvergenceWarning: Solver terminated early (max_iter=150).  Consider pre-processing your data with StandardScaler or MinMaxScaler.\n",
      "  % self.max_iter, ConvergenceWarning)\n",
      "/home2/BigData/anaconda3/lib/python3.7/site-packages/sklearn/svm/base.py:218: ConvergenceWarning: Solver terminated early (max_iter=150).  Consider pre-processing your data with StandardScaler or MinMaxScaler.\n",
      "  % self.max_iter, ConvergenceWarning)\n"
     ]
    },
    {
     "name": "stdout",
     "output_type": "stream",
     "text": [
      "[CV] ...... C=1000, max_iter=150, tol=0.0001, score=1.0, total=   0.0s\n",
      "[CV] C=1000, max_iter=150, tol=0.0001 ................................\n",
      "[CV] ...... C=1000, max_iter=150, tol=0.0001, score=1.0, total=   0.0s\n",
      "[CV] C=1000, max_iter=150, tol=0.0001 ................................\n",
      "[CV] ...... C=1000, max_iter=150, tol=0.0001, score=1.0, total=   0.0s\n",
      "[CV] C=1000, max_iter=150, tol=0.01 ..................................\n",
      "[CV] ........ C=1000, max_iter=150, tol=0.01, score=1.0, total=   0.0s\n",
      "[CV] C=1000, max_iter=150, tol=0.01 ..................................\n",
      "[CV] ........ C=1000, max_iter=150, tol=0.01, score=1.0, total=   0.0s\n",
      "[CV] C=1000, max_iter=150, tol=0.01 ..................................\n",
      "[CV] ........ C=1000, max_iter=150, tol=0.01, score=1.0, total=   0.0s\n"
     ]
    },
    {
     "name": "stderr",
     "output_type": "stream",
     "text": [
      "/home2/BigData/anaconda3/lib/python3.7/site-packages/sklearn/svm/base.py:218: ConvergenceWarning: Solver terminated early (max_iter=150).  Consider pre-processing your data with StandardScaler or MinMaxScaler.\n",
      "  % self.max_iter, ConvergenceWarning)\n",
      "[Parallel(n_jobs=1)]: Done 135 out of 135 | elapsed:    6.6s finished\n",
      "/home2/BigData/anaconda3/lib/python3.7/site-packages/sklearn/svm/base.py:218: ConvergenceWarning: Solver terminated early (max_iter=50).  Consider pre-processing your data with StandardScaler or MinMaxScaler.\n",
      "  % self.max_iter, ConvergenceWarning)\n"
     ]
    },
    {
     "data": {
      "text/plain": [
       "GridSearchCV(cv=None, error_score='raise',\n",
       "       estimator=SVC(C=1.0, cache_size=200, class_weight=None, coef0=0.0,\n",
       "  decision_function_shape='ovr', degree=3, gamma='auto', kernel='rbf',\n",
       "  max_iter=-1, probability=False, random_state=None, shrinking=True,\n",
       "  tol=0.001, verbose=False),\n",
       "       fit_params=None, iid=True, n_jobs=1,\n",
       "       param_grid={'C': [0.1, 1, 10, 100, 1000], 'max_iter': [50, 100, 150], 'tol': [0.001, 0.0001, 0.01]},\n",
       "       pre_dispatch='2*n_jobs', refit=True, return_train_score='warn',\n",
       "       scoring=None, verbose=3)"
      ]
     },
     "execution_count": 51,
     "metadata": {},
     "output_type": "execute_result"
    }
   ],
   "source": [
    "grid.fit(X_train,y_train)"
   ]
  },
  {
   "cell_type": "code",
   "execution_count": 52,
   "metadata": {},
   "outputs": [
    {
     "data": {
      "text/plain": [
       "{'C': 0.1, 'max_iter': 50, 'tol': 0.001}"
      ]
     },
     "execution_count": 52,
     "metadata": {},
     "output_type": "execute_result"
    }
   ],
   "source": [
    "grid.best_params_"
   ]
  },
  {
   "cell_type": "code",
   "execution_count": 53,
   "metadata": {},
   "outputs": [
    {
     "data": {
      "text/plain": [
       "SVC(C=0.1, cache_size=200, class_weight=None, coef0=0.0,\n",
       "  decision_function_shape='ovr', degree=3, gamma='auto', kernel='rbf',\n",
       "  max_iter=50, probability=False, random_state=None, shrinking=True,\n",
       "  tol=0.001, verbose=False)"
      ]
     },
     "execution_count": 53,
     "metadata": {},
     "output_type": "execute_result"
    }
   ],
   "source": [
    "grid.best_estimator_"
   ]
  },
  {
   "cell_type": "code",
   "execution_count": 54,
   "metadata": {},
   "outputs": [],
   "source": [
    "predictions = grid.predict(X_test)"
   ]
  },
  {
   "cell_type": "code",
   "execution_count": 70,
   "metadata": {},
   "outputs": [
    {
     "name": "stdout",
     "output_type": "stream",
     "text": [
      "             precision    recall  f1-score   support\n",
      "\n",
      "          0       1.00      1.00      1.00      1096\n",
      "          1       1.00      1.00      1.00       383\n",
      "\n",
      "avg / total       1.00      1.00      1.00      1479\n",
      "\n",
      "[[1096    0]\n",
      " [   0  383]]\n"
     ]
    }
   ],
   "source": [
    "from sklearn.metrics import classification_report,confusion_matrix\n",
    "print(classification_report(predictions,y_test))\n",
    "print(confusion_matrix(predictions,y_test))"
   ]
  }
 ],
 "metadata": {
  "kernelspec": {
   "display_name": "Python 3",
   "language": "python",
   "name": "python3"
  },
  "language_info": {
   "codemirror_mode": {
    "name": "ipython",
    "version": 3
   },
   "file_extension": ".py",
   "mimetype": "text/x-python",
   "name": "python",
   "nbconvert_exporter": "python",
   "pygments_lexer": "ipython3",
   "version": "3.7.0"
  }
 },
 "nbformat": 4,
 "nbformat_minor": 2
}

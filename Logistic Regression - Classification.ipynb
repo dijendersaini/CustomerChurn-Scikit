{
 "cells": [
  {
   "cell_type": "markdown",
   "metadata": {},
   "source": [
    "# Modelling using Logistic regression"
   ]
  },
  {
   "cell_type": "code",
   "execution_count": 1,
   "metadata": {},
   "outputs": [
    {
     "data": {
      "text/html": [
       "<div>\n",
       "<style scoped>\n",
       "    .dataframe tbody tr th:only-of-type {\n",
       "        vertical-align: middle;\n",
       "    }\n",
       "\n",
       "    .dataframe tbody tr th {\n",
       "        vertical-align: top;\n",
       "    }\n",
       "\n",
       "    .dataframe thead th {\n",
       "        text-align: right;\n",
       "    }\n",
       "</style>\n",
       "<table border=\"1\" class=\"dataframe\">\n",
       "  <thead>\n",
       "    <tr style=\"text-align: right;\">\n",
       "      <th></th>\n",
       "      <th>gender</th>\n",
       "      <th>SeniorCitizen</th>\n",
       "      <th>Partner</th>\n",
       "      <th>Dependents</th>\n",
       "      <th>tenure</th>\n",
       "      <th>PhoneService</th>\n",
       "      <th>PaperlessBilling</th>\n",
       "      <th>MonthlyCharges</th>\n",
       "      <th>TotalCharges</th>\n",
       "      <th>Churn</th>\n",
       "      <th>...</th>\n",
       "      <th>TechSupportYes</th>\n",
       "      <th>StreamingTVNo internet service</th>\n",
       "      <th>StreamingTVYes</th>\n",
       "      <th>StreamingMoviesNo internet service</th>\n",
       "      <th>StreamingMoviesYes</th>\n",
       "      <th>ContractOne year</th>\n",
       "      <th>ContractTwo year</th>\n",
       "      <th>PaymentMethodCredit card (automatic)</th>\n",
       "      <th>PaymentMethodElectronic check</th>\n",
       "      <th>PaymentMethodMailed check</th>\n",
       "    </tr>\n",
       "  </thead>\n",
       "  <tbody>\n",
       "    <tr>\n",
       "      <th>0</th>\n",
       "      <td>0</td>\n",
       "      <td>0</td>\n",
       "      <td>1</td>\n",
       "      <td>1</td>\n",
       "      <td>45</td>\n",
       "      <td>1</td>\n",
       "      <td>1</td>\n",
       "      <td>81.00</td>\n",
       "      <td>3533.60</td>\n",
       "      <td>No</td>\n",
       "      <td>...</td>\n",
       "      <td>1</td>\n",
       "      <td>0</td>\n",
       "      <td>1</td>\n",
       "      <td>0</td>\n",
       "      <td>1</td>\n",
       "      <td>0</td>\n",
       "      <td>1</td>\n",
       "      <td>0</td>\n",
       "      <td>0</td>\n",
       "      <td>1</td>\n",
       "    </tr>\n",
       "    <tr>\n",
       "      <th>1</th>\n",
       "      <td>1</td>\n",
       "      <td>0</td>\n",
       "      <td>0</td>\n",
       "      <td>0</td>\n",
       "      <td>4</td>\n",
       "      <td>1</td>\n",
       "      <td>1</td>\n",
       "      <td>81.00</td>\n",
       "      <td>340.85</td>\n",
       "      <td>Yes</td>\n",
       "      <td>...</td>\n",
       "      <td>0</td>\n",
       "      <td>0</td>\n",
       "      <td>1</td>\n",
       "      <td>0</td>\n",
       "      <td>0</td>\n",
       "      <td>0</td>\n",
       "      <td>0</td>\n",
       "      <td>0</td>\n",
       "      <td>1</td>\n",
       "      <td>0</td>\n",
       "    </tr>\n",
       "    <tr>\n",
       "      <th>2</th>\n",
       "      <td>0</td>\n",
       "      <td>0</td>\n",
       "      <td>1</td>\n",
       "      <td>1</td>\n",
       "      <td>18</td>\n",
       "      <td>1</td>\n",
       "      <td>1</td>\n",
       "      <td>20.25</td>\n",
       "      <td>401.95</td>\n",
       "      <td>No</td>\n",
       "      <td>...</td>\n",
       "      <td>0</td>\n",
       "      <td>1</td>\n",
       "      <td>0</td>\n",
       "      <td>1</td>\n",
       "      <td>0</td>\n",
       "      <td>0</td>\n",
       "      <td>0</td>\n",
       "      <td>0</td>\n",
       "      <td>0</td>\n",
       "      <td>1</td>\n",
       "    </tr>\n",
       "    <tr>\n",
       "      <th>3</th>\n",
       "      <td>0</td>\n",
       "      <td>0</td>\n",
       "      <td>1</td>\n",
       "      <td>0</td>\n",
       "      <td>53</td>\n",
       "      <td>1</td>\n",
       "      <td>1</td>\n",
       "      <td>93.45</td>\n",
       "      <td>4872.20</td>\n",
       "      <td>No</td>\n",
       "      <td>...</td>\n",
       "      <td>1</td>\n",
       "      <td>0</td>\n",
       "      <td>1</td>\n",
       "      <td>0</td>\n",
       "      <td>1</td>\n",
       "      <td>1</td>\n",
       "      <td>0</td>\n",
       "      <td>0</td>\n",
       "      <td>1</td>\n",
       "      <td>0</td>\n",
       "    </tr>\n",
       "    <tr>\n",
       "      <th>4</th>\n",
       "      <td>0</td>\n",
       "      <td>1</td>\n",
       "      <td>1</td>\n",
       "      <td>0</td>\n",
       "      <td>3</td>\n",
       "      <td>1</td>\n",
       "      <td>1</td>\n",
       "      <td>74.60</td>\n",
       "      <td>239.05</td>\n",
       "      <td>No</td>\n",
       "      <td>...</td>\n",
       "      <td>0</td>\n",
       "      <td>0</td>\n",
       "      <td>0</td>\n",
       "      <td>0</td>\n",
       "      <td>0</td>\n",
       "      <td>0</td>\n",
       "      <td>0</td>\n",
       "      <td>0</td>\n",
       "      <td>0</td>\n",
       "      <td>0</td>\n",
       "    </tr>\n",
       "  </tbody>\n",
       "</table>\n",
       "<p>5 rows × 31 columns</p>\n",
       "</div>"
      ],
      "text/plain": [
       "   gender  SeniorCitizen  Partner  Dependents  tenure  PhoneService  \\\n",
       "0       0              0        1           1      45             1   \n",
       "1       1              0        0           0       4             1   \n",
       "2       0              0        1           1      18             1   \n",
       "3       0              0        1           0      53             1   \n",
       "4       0              1        1           0       3             1   \n",
       "\n",
       "   PaperlessBilling  MonthlyCharges  TotalCharges Churn  \\\n",
       "0                 1           81.00       3533.60    No   \n",
       "1                 1           81.00        340.85   Yes   \n",
       "2                 1           20.25        401.95    No   \n",
       "3                 1           93.45       4872.20    No   \n",
       "4                 1           74.60        239.05    No   \n",
       "\n",
       "             ...              TechSupportYes  StreamingTVNo internet service  \\\n",
       "0            ...                           1                               0   \n",
       "1            ...                           0                               0   \n",
       "2            ...                           0                               1   \n",
       "3            ...                           1                               0   \n",
       "4            ...                           0                               0   \n",
       "\n",
       "   StreamingTVYes  StreamingMoviesNo internet service  StreamingMoviesYes  \\\n",
       "0               1                                   0                   1   \n",
       "1               1                                   0                   0   \n",
       "2               0                                   1                   0   \n",
       "3               1                                   0                   1   \n",
       "4               0                                   0                   0   \n",
       "\n",
       "   ContractOne year  ContractTwo year  PaymentMethodCredit card (automatic)  \\\n",
       "0                 0                 1                                     0   \n",
       "1                 0                 0                                     0   \n",
       "2                 0                 0                                     0   \n",
       "3                 1                 0                                     0   \n",
       "4                 0                 0                                     0   \n",
       "\n",
       "   PaymentMethodElectronic check  PaymentMethodMailed check  \n",
       "0                              0                          1  \n",
       "1                              1                          0  \n",
       "2                              0                          1  \n",
       "3                              1                          0  \n",
       "4                              0                          0  \n",
       "\n",
       "[5 rows x 31 columns]"
      ]
     },
     "execution_count": 1,
     "metadata": {},
     "output_type": "execute_result"
    }
   ],
   "source": [
    "import pandas as pd\n",
    "import matplotlib.pyplot as plt\n",
    "tc_data = pd.read_csv(\"/home2/MyNotes/Python/DataSets/CustomerChurn/telecomChurn.csv\",\n",
    "                             sep=\",\",\n",
    "                             header=0)\n",
    "tc_data.head(5)"
   ]
  },
  {
   "cell_type": "code",
   "execution_count": 2,
   "metadata": {},
   "outputs": [],
   "source": [
    "# Looks like these are new customers as the tenure is zero. We can update the MonthlyCharges into TotalCharges\n",
    "tc_data[\"TotalCharges\"] = tc_data[\"TotalCharges\"].fillna(value=tc_data[\"MonthlyCharges\"])"
   ]
  },
  {
   "cell_type": "code",
   "execution_count": 5,
   "metadata": {
    "scrolled": true
   },
   "outputs": [
    {
     "name": "stdout",
     "output_type": "stream",
     "text": [
      "<class 'pandas.core.frame.DataFrame'>\n",
      "RangeIndex: 4930 entries, 0 to 4929\n",
      "Data columns (total 31 columns):\n",
      "gender                                  4930 non-null int64\n",
      "SeniorCitizen                           4930 non-null int64\n",
      "Partner                                 4930 non-null int64\n",
      "Dependents                              4930 non-null int64\n",
      "tenure                                  4930 non-null int64\n",
      "PhoneService                            4930 non-null int64\n",
      "PaperlessBilling                        4930 non-null int64\n",
      "MonthlyCharges                          4930 non-null float64\n",
      "TotalCharges                            4930 non-null float64\n",
      "Churn                                   4930 non-null object\n",
      "MultipleLinesNo phone service           4930 non-null int64\n",
      "MultipleLinesYes                        4930 non-null int64\n",
      "InternetServiceFiber optic              4930 non-null int64\n",
      "InternetServiceNo                       4930 non-null int64\n",
      "OnlineSecurityNo internet service       4930 non-null int64\n",
      "OnlineSecurityYes                       4930 non-null int64\n",
      "OnlineBackupNo internet service         4930 non-null int64\n",
      "OnlineBackupYes                         4930 non-null int64\n",
      "DeviceProtectionNo internet service     4930 non-null int64\n",
      "DeviceProtectionYes                     4930 non-null int64\n",
      "TechSupportNo internet service          4930 non-null int64\n",
      "TechSupportYes                          4930 non-null int64\n",
      "StreamingTVNo internet service          4930 non-null int64\n",
      "StreamingTVYes                          4930 non-null int64\n",
      "StreamingMoviesNo internet service      4930 non-null int64\n",
      "StreamingMoviesYes                      4930 non-null int64\n",
      "ContractOne year                        4930 non-null int64\n",
      "ContractTwo year                        4930 non-null int64\n",
      "PaymentMethodCredit card (automatic)    4930 non-null int64\n",
      "PaymentMethodElectronic check           4930 non-null int64\n",
      "PaymentMethodMailed check               4930 non-null int64\n",
      "dtypes: float64(2), int64(28), object(1)\n",
      "memory usage: 1.2+ MB\n"
     ]
    }
   ],
   "source": [
    "tc_data.info()"
   ]
  },
  {
   "cell_type": "code",
   "execution_count": 8,
   "metadata": {
    "scrolled": false
   },
   "outputs": [
    {
     "data": {
      "text/html": [
       "<div>\n",
       "<style scoped>\n",
       "    .dataframe tbody tr th:only-of-type {\n",
       "        vertical-align: middle;\n",
       "    }\n",
       "\n",
       "    .dataframe tbody tr th {\n",
       "        vertical-align: top;\n",
       "    }\n",
       "\n",
       "    .dataframe thead th {\n",
       "        text-align: right;\n",
       "    }\n",
       "</style>\n",
       "<table border=\"1\" class=\"dataframe\">\n",
       "  <thead>\n",
       "    <tr style=\"text-align: right;\">\n",
       "      <th></th>\n",
       "      <th>gender</th>\n",
       "      <th>SeniorCitizen</th>\n",
       "      <th>Partner</th>\n",
       "      <th>Dependents</th>\n",
       "      <th>tenure</th>\n",
       "      <th>PhoneService</th>\n",
       "      <th>PaperlessBilling</th>\n",
       "      <th>MonthlyCharges</th>\n",
       "      <th>TotalCharges</th>\n",
       "      <th>Churn</th>\n",
       "      <th>...</th>\n",
       "      <th>TechSupportYes</th>\n",
       "      <th>StreamingTVNo internet service</th>\n",
       "      <th>StreamingTVYes</th>\n",
       "      <th>StreamingMoviesNo internet service</th>\n",
       "      <th>StreamingMoviesYes</th>\n",
       "      <th>ContractOne year</th>\n",
       "      <th>ContractTwo year</th>\n",
       "      <th>PaymentMethodCredit card (automatic)</th>\n",
       "      <th>PaymentMethodElectronic check</th>\n",
       "      <th>PaymentMethodMailed check</th>\n",
       "    </tr>\n",
       "  </thead>\n",
       "  <tbody>\n",
       "    <tr>\n",
       "      <th>0</th>\n",
       "      <td>0</td>\n",
       "      <td>0</td>\n",
       "      <td>1</td>\n",
       "      <td>1</td>\n",
       "      <td>45</td>\n",
       "      <td>1</td>\n",
       "      <td>1</td>\n",
       "      <td>81.00</td>\n",
       "      <td>3533.60</td>\n",
       "      <td>No</td>\n",
       "      <td>...</td>\n",
       "      <td>1</td>\n",
       "      <td>0</td>\n",
       "      <td>1</td>\n",
       "      <td>0</td>\n",
       "      <td>1</td>\n",
       "      <td>0</td>\n",
       "      <td>1</td>\n",
       "      <td>0</td>\n",
       "      <td>0</td>\n",
       "      <td>1</td>\n",
       "    </tr>\n",
       "    <tr>\n",
       "      <th>1</th>\n",
       "      <td>1</td>\n",
       "      <td>0</td>\n",
       "      <td>0</td>\n",
       "      <td>0</td>\n",
       "      <td>4</td>\n",
       "      <td>1</td>\n",
       "      <td>1</td>\n",
       "      <td>81.00</td>\n",
       "      <td>340.85</td>\n",
       "      <td>Yes</td>\n",
       "      <td>...</td>\n",
       "      <td>0</td>\n",
       "      <td>0</td>\n",
       "      <td>1</td>\n",
       "      <td>0</td>\n",
       "      <td>0</td>\n",
       "      <td>0</td>\n",
       "      <td>0</td>\n",
       "      <td>0</td>\n",
       "      <td>1</td>\n",
       "      <td>0</td>\n",
       "    </tr>\n",
       "    <tr>\n",
       "      <th>2</th>\n",
       "      <td>0</td>\n",
       "      <td>0</td>\n",
       "      <td>1</td>\n",
       "      <td>1</td>\n",
       "      <td>18</td>\n",
       "      <td>1</td>\n",
       "      <td>1</td>\n",
       "      <td>20.25</td>\n",
       "      <td>401.95</td>\n",
       "      <td>No</td>\n",
       "      <td>...</td>\n",
       "      <td>0</td>\n",
       "      <td>1</td>\n",
       "      <td>0</td>\n",
       "      <td>1</td>\n",
       "      <td>0</td>\n",
       "      <td>0</td>\n",
       "      <td>0</td>\n",
       "      <td>0</td>\n",
       "      <td>0</td>\n",
       "      <td>1</td>\n",
       "    </tr>\n",
       "    <tr>\n",
       "      <th>3</th>\n",
       "      <td>0</td>\n",
       "      <td>0</td>\n",
       "      <td>1</td>\n",
       "      <td>0</td>\n",
       "      <td>53</td>\n",
       "      <td>1</td>\n",
       "      <td>1</td>\n",
       "      <td>93.45</td>\n",
       "      <td>4872.20</td>\n",
       "      <td>No</td>\n",
       "      <td>...</td>\n",
       "      <td>1</td>\n",
       "      <td>0</td>\n",
       "      <td>1</td>\n",
       "      <td>0</td>\n",
       "      <td>1</td>\n",
       "      <td>1</td>\n",
       "      <td>0</td>\n",
       "      <td>0</td>\n",
       "      <td>1</td>\n",
       "      <td>0</td>\n",
       "    </tr>\n",
       "    <tr>\n",
       "      <th>4</th>\n",
       "      <td>0</td>\n",
       "      <td>1</td>\n",
       "      <td>1</td>\n",
       "      <td>0</td>\n",
       "      <td>3</td>\n",
       "      <td>1</td>\n",
       "      <td>1</td>\n",
       "      <td>74.60</td>\n",
       "      <td>239.05</td>\n",
       "      <td>No</td>\n",
       "      <td>...</td>\n",
       "      <td>0</td>\n",
       "      <td>0</td>\n",
       "      <td>0</td>\n",
       "      <td>0</td>\n",
       "      <td>0</td>\n",
       "      <td>0</td>\n",
       "      <td>0</td>\n",
       "      <td>0</td>\n",
       "      <td>0</td>\n",
       "      <td>0</td>\n",
       "    </tr>\n",
       "  </tbody>\n",
       "</table>\n",
       "<p>5 rows × 31 columns</p>\n",
       "</div>"
      ],
      "text/plain": [
       "   gender  SeniorCitizen  Partner  Dependents  tenure  PhoneService  \\\n",
       "0       0              0        1           1      45             1   \n",
       "1       1              0        0           0       4             1   \n",
       "2       0              0        1           1      18             1   \n",
       "3       0              0        1           0      53             1   \n",
       "4       0              1        1           0       3             1   \n",
       "\n",
       "   PaperlessBilling  MonthlyCharges  TotalCharges Churn  \\\n",
       "0                 1           81.00       3533.60    No   \n",
       "1                 1           81.00        340.85   Yes   \n",
       "2                 1           20.25        401.95    No   \n",
       "3                 1           93.45       4872.20    No   \n",
       "4                 1           74.60        239.05    No   \n",
       "\n",
       "             ...              TechSupportYes  StreamingTVNo internet service  \\\n",
       "0            ...                           1                               0   \n",
       "1            ...                           0                               0   \n",
       "2            ...                           0                               1   \n",
       "3            ...                           1                               0   \n",
       "4            ...                           0                               0   \n",
       "\n",
       "   StreamingTVYes  StreamingMoviesNo internet service  StreamingMoviesYes  \\\n",
       "0               1                                   0                   1   \n",
       "1               1                                   0                   0   \n",
       "2               0                                   1                   0   \n",
       "3               1                                   0                   1   \n",
       "4               0                                   0                   0   \n",
       "\n",
       "   ContractOne year  ContractTwo year  PaymentMethodCredit card (automatic)  \\\n",
       "0                 0                 1                                     0   \n",
       "1                 0                 0                                     0   \n",
       "2                 0                 0                                     0   \n",
       "3                 1                 0                                     0   \n",
       "4                 0                 0                                     0   \n",
       "\n",
       "   PaymentMethodElectronic check  PaymentMethodMailed check  \n",
       "0                              0                          1  \n",
       "1                              1                          0  \n",
       "2                              0                          1  \n",
       "3                              1                          0  \n",
       "4                              0                          0  \n",
       "\n",
       "[5 rows x 31 columns]"
      ]
     },
     "execution_count": 8,
     "metadata": {},
     "output_type": "execute_result"
    }
   ],
   "source": [
    "tc_data.head(5)"
   ]
  },
  {
   "cell_type": "code",
   "execution_count": 16,
   "metadata": {},
   "outputs": [],
   "source": [
    "# Treating categorical variables\n",
    "Churn_f = pd.get_dummies(tc_data[\"Churn\"],drop_first=True,prefix=\"Churn\")\n",
    "tc_data_clean = pd.concat([tc_data,Churn_f],axis=1)"
   ]
  },
  {
   "cell_type": "code",
   "execution_count": 17,
   "metadata": {
    "scrolled": true
   },
   "outputs": [
    {
     "data": {
      "text/html": [
       "<div>\n",
       "<style scoped>\n",
       "    .dataframe tbody tr th:only-of-type {\n",
       "        vertical-align: middle;\n",
       "    }\n",
       "\n",
       "    .dataframe tbody tr th {\n",
       "        vertical-align: top;\n",
       "    }\n",
       "\n",
       "    .dataframe thead th {\n",
       "        text-align: right;\n",
       "    }\n",
       "</style>\n",
       "<table border=\"1\" class=\"dataframe\">\n",
       "  <thead>\n",
       "    <tr style=\"text-align: right;\">\n",
       "      <th></th>\n",
       "      <th>gender</th>\n",
       "      <th>SeniorCitizen</th>\n",
       "      <th>Partner</th>\n",
       "      <th>Dependents</th>\n",
       "      <th>tenure</th>\n",
       "      <th>PhoneService</th>\n",
       "      <th>PaperlessBilling</th>\n",
       "      <th>MonthlyCharges</th>\n",
       "      <th>TotalCharges</th>\n",
       "      <th>Churn</th>\n",
       "      <th>...</th>\n",
       "      <th>StreamingTVNo internet service</th>\n",
       "      <th>StreamingTVYes</th>\n",
       "      <th>StreamingMoviesNo internet service</th>\n",
       "      <th>StreamingMoviesYes</th>\n",
       "      <th>ContractOne year</th>\n",
       "      <th>ContractTwo year</th>\n",
       "      <th>PaymentMethodCredit card (automatic)</th>\n",
       "      <th>PaymentMethodElectronic check</th>\n",
       "      <th>PaymentMethodMailed check</th>\n",
       "      <th>Churn_Yes</th>\n",
       "    </tr>\n",
       "  </thead>\n",
       "  <tbody>\n",
       "    <tr>\n",
       "      <th>0</th>\n",
       "      <td>0</td>\n",
       "      <td>0</td>\n",
       "      <td>1</td>\n",
       "      <td>1</td>\n",
       "      <td>45</td>\n",
       "      <td>1</td>\n",
       "      <td>1</td>\n",
       "      <td>81.00</td>\n",
       "      <td>3533.60</td>\n",
       "      <td>No</td>\n",
       "      <td>...</td>\n",
       "      <td>0</td>\n",
       "      <td>1</td>\n",
       "      <td>0</td>\n",
       "      <td>1</td>\n",
       "      <td>0</td>\n",
       "      <td>1</td>\n",
       "      <td>0</td>\n",
       "      <td>0</td>\n",
       "      <td>1</td>\n",
       "      <td>0</td>\n",
       "    </tr>\n",
       "    <tr>\n",
       "      <th>1</th>\n",
       "      <td>1</td>\n",
       "      <td>0</td>\n",
       "      <td>0</td>\n",
       "      <td>0</td>\n",
       "      <td>4</td>\n",
       "      <td>1</td>\n",
       "      <td>1</td>\n",
       "      <td>81.00</td>\n",
       "      <td>340.85</td>\n",
       "      <td>Yes</td>\n",
       "      <td>...</td>\n",
       "      <td>0</td>\n",
       "      <td>1</td>\n",
       "      <td>0</td>\n",
       "      <td>0</td>\n",
       "      <td>0</td>\n",
       "      <td>0</td>\n",
       "      <td>0</td>\n",
       "      <td>1</td>\n",
       "      <td>0</td>\n",
       "      <td>1</td>\n",
       "    </tr>\n",
       "    <tr>\n",
       "      <th>2</th>\n",
       "      <td>0</td>\n",
       "      <td>0</td>\n",
       "      <td>1</td>\n",
       "      <td>1</td>\n",
       "      <td>18</td>\n",
       "      <td>1</td>\n",
       "      <td>1</td>\n",
       "      <td>20.25</td>\n",
       "      <td>401.95</td>\n",
       "      <td>No</td>\n",
       "      <td>...</td>\n",
       "      <td>1</td>\n",
       "      <td>0</td>\n",
       "      <td>1</td>\n",
       "      <td>0</td>\n",
       "      <td>0</td>\n",
       "      <td>0</td>\n",
       "      <td>0</td>\n",
       "      <td>0</td>\n",
       "      <td>1</td>\n",
       "      <td>0</td>\n",
       "    </tr>\n",
       "    <tr>\n",
       "      <th>3</th>\n",
       "      <td>0</td>\n",
       "      <td>0</td>\n",
       "      <td>1</td>\n",
       "      <td>0</td>\n",
       "      <td>53</td>\n",
       "      <td>1</td>\n",
       "      <td>1</td>\n",
       "      <td>93.45</td>\n",
       "      <td>4872.20</td>\n",
       "      <td>No</td>\n",
       "      <td>...</td>\n",
       "      <td>0</td>\n",
       "      <td>1</td>\n",
       "      <td>0</td>\n",
       "      <td>1</td>\n",
       "      <td>1</td>\n",
       "      <td>0</td>\n",
       "      <td>0</td>\n",
       "      <td>1</td>\n",
       "      <td>0</td>\n",
       "      <td>0</td>\n",
       "    </tr>\n",
       "    <tr>\n",
       "      <th>4</th>\n",
       "      <td>0</td>\n",
       "      <td>1</td>\n",
       "      <td>1</td>\n",
       "      <td>0</td>\n",
       "      <td>3</td>\n",
       "      <td>1</td>\n",
       "      <td>1</td>\n",
       "      <td>74.60</td>\n",
       "      <td>239.05</td>\n",
       "      <td>No</td>\n",
       "      <td>...</td>\n",
       "      <td>0</td>\n",
       "      <td>0</td>\n",
       "      <td>0</td>\n",
       "      <td>0</td>\n",
       "      <td>0</td>\n",
       "      <td>0</td>\n",
       "      <td>0</td>\n",
       "      <td>0</td>\n",
       "      <td>0</td>\n",
       "      <td>0</td>\n",
       "    </tr>\n",
       "  </tbody>\n",
       "</table>\n",
       "<p>5 rows × 32 columns</p>\n",
       "</div>"
      ],
      "text/plain": [
       "   gender  SeniorCitizen  Partner  Dependents  tenure  PhoneService  \\\n",
       "0       0              0        1           1      45             1   \n",
       "1       1              0        0           0       4             1   \n",
       "2       0              0        1           1      18             1   \n",
       "3       0              0        1           0      53             1   \n",
       "4       0              1        1           0       3             1   \n",
       "\n",
       "   PaperlessBilling  MonthlyCharges  TotalCharges Churn    ...      \\\n",
       "0                 1           81.00       3533.60    No    ...       \n",
       "1                 1           81.00        340.85   Yes    ...       \n",
       "2                 1           20.25        401.95    No    ...       \n",
       "3                 1           93.45       4872.20    No    ...       \n",
       "4                 1           74.60        239.05    No    ...       \n",
       "\n",
       "   StreamingTVNo internet service  StreamingTVYes  \\\n",
       "0                               0               1   \n",
       "1                               0               1   \n",
       "2                               1               0   \n",
       "3                               0               1   \n",
       "4                               0               0   \n",
       "\n",
       "   StreamingMoviesNo internet service  StreamingMoviesYes  ContractOne year  \\\n",
       "0                                   0                   1                 0   \n",
       "1                                   0                   0                 0   \n",
       "2                                   1                   0                 0   \n",
       "3                                   0                   1                 1   \n",
       "4                                   0                   0                 0   \n",
       "\n",
       "   ContractTwo year  PaymentMethodCredit card (automatic)  \\\n",
       "0                 1                                     0   \n",
       "1                 0                                     0   \n",
       "2                 0                                     0   \n",
       "3                 0                                     0   \n",
       "4                 0                                     0   \n",
       "\n",
       "   PaymentMethodElectronic check  PaymentMethodMailed check  Churn_Yes  \n",
       "0                              0                          1          0  \n",
       "1                              1                          0          1  \n",
       "2                              0                          1          0  \n",
       "3                              1                          0          0  \n",
       "4                              0                          0          0  \n",
       "\n",
       "[5 rows x 32 columns]"
      ]
     },
     "execution_count": 17,
     "metadata": {},
     "output_type": "execute_result"
    }
   ],
   "source": [
    "tc_data_clean.head(5)"
   ]
  },
  {
   "cell_type": "code",
   "execution_count": 28,
   "metadata": {},
   "outputs": [],
   "source": [
    "tc_data_features = tc_data_clean.drop(\"Churn\",axis=1)\n",
    "tc_data_target = tc_data_clean[\"Churn_Yes\"]"
   ]
  },
  {
   "cell_type": "code",
   "execution_count": 41,
   "metadata": {
    "scrolled": true
   },
   "outputs": [
    {
     "name": "stdout",
     "output_type": "stream",
     "text": [
      "Sizes:4930 4930\n",
      "Types:<class 'pandas.core.frame.DataFrame'> <class 'pandas.core.series.Series'>\n"
     ]
    }
   ],
   "source": [
    "print(\"Sizes:{} {}\".format(tc_data_features[\"gender\"].count(),tc_data_target.size))\n",
    "print(\"Types:{} {}\".format(type(tc_data_features),type(tc_data_target)))"
   ]
  },
  {
   "cell_type": "code",
   "execution_count": 29,
   "metadata": {},
   "outputs": [],
   "source": [
    "from sklearn.model_selection import train_test_split\n",
    "X_train, X_test, y_train, y_test = train_test_split(tc_data_features,tc_data_target, test_size=0.30, random_state=101)"
   ]
  },
  {
   "cell_type": "code",
   "execution_count": 44,
   "metadata": {},
   "outputs": [
    {
     "name": "stdout",
     "output_type": "stream",
     "text": [
      "Sizes:3451 3451\n",
      "Sizes:1479 1479\n",
      "Types:<class 'pandas.core.frame.DataFrame'> <class 'pandas.core.series.Series'>\n"
     ]
    }
   ],
   "source": [
    "print(\"Sizes:{} {}\".format(X_train[\"gender\"].count(),y_train.size))\n",
    "print(\"Sizes:{} {}\".format(X_test[\"gender\"].count(),y_test.size))\n",
    "print(\"Types:{} {}\".format(type(X_train),type(y_train)))"
   ]
  },
  {
   "cell_type": "code",
   "execution_count": 45,
   "metadata": {},
   "outputs": [
    {
     "data": {
      "text/plain": [
       "LogisticRegression(C=1.0, class_weight=None, dual=False, fit_intercept=True,\n",
       "          intercept_scaling=1, max_iter=100, multi_class='ovr', n_jobs=1,\n",
       "          penalty='l2', random_state=None, solver='liblinear', tol=0.0001,\n",
       "          verbose=0, warm_start=False)"
      ]
     },
     "execution_count": 45,
     "metadata": {},
     "output_type": "execute_result"
    }
   ],
   "source": [
    "from sklearn.linear_model import LogisticRegression\n",
    "logmodel = LogisticRegression()\n",
    "logmodel.fit(X_train,y_train)"
   ]
  },
  {
   "cell_type": "code",
   "execution_count": 46,
   "metadata": {},
   "outputs": [],
   "source": [
    "predictions = logmodel.predict(X_test)"
   ]
  },
  {
   "cell_type": "code",
   "execution_count": 59,
   "metadata": {
    "scrolled": true
   },
   "outputs": [
    {
     "name": "stdout",
     "output_type": "stream",
     "text": [
      "             precision    recall  f1-score   support\n",
      "\n",
      "          0       1.00      1.00      1.00      1096\n",
      "          1       1.00      1.00      1.00       383\n",
      "\n",
      "avg / total       1.00      1.00      1.00      1479\n",
      "\n",
      "[[1096    0]\n",
      " [   0  383]]\n"
     ]
    }
   ],
   "source": [
    "from sklearn.metrics import classification_report,confusion_matrix\n",
    "print(classification_report(y_test,predictions))\n",
    "print(confusion_matrix(y_test,predictions))"
   ]
  },
  {
   "cell_type": "code",
   "execution_count": 64,
   "metadata": {},
   "outputs": [],
   "source": [
    "# Using grid search\n",
    "# We can have various values of C, max_iter,tol, solver\n",
    "from sklearn.model_selection import GridSearchCV\n",
    "param_grid = {'C': [0.1,1,10, 100, 1000], 'max_iter': [50,100,150], 'tol':[0.001,0.0001,0.01],\n",
    "              'solver': ['newton-cg', 'lbfgs', 'liblinear', 'sag', 'saga']} "
   ]
  },
  {
   "cell_type": "code",
   "execution_count": 65,
   "metadata": {},
   "outputs": [],
   "source": [
    "grid = GridSearchCV(LogisticRegression(),param_grid,refit=True,verbose=3)"
   ]
  },
  {
   "cell_type": "code",
   "execution_count": 66,
   "metadata": {},
   "outputs": [
    {
     "name": "stdout",
     "output_type": "stream",
     "text": [
      "Fitting 3 folds for each of 225 candidates, totalling 675 fits\n",
      "[CV] C=0.1, max_iter=50, solver=newton-cg, tol=0.001 .................\n"
     ]
    },
    {
     "name": "stderr",
     "output_type": "stream",
     "text": [
      "/home2/BigData/anaconda3/lib/python3.7/site-packages/sklearn/utils/optimize.py:203: ConvergenceWarning: newton-cg failed to converge. Increase the number of iterations.\n",
      "  \"number of iterations.\", ConvergenceWarning)\n",
      "[Parallel(n_jobs=1)]: Done   1 out of   1 | elapsed:    0.5s remaining:    0.0s\n",
      "/home2/BigData/anaconda3/lib/python3.7/site-packages/sklearn/utils/optimize.py:203: ConvergenceWarning: newton-cg failed to converge. Increase the number of iterations.\n",
      "  \"number of iterations.\", ConvergenceWarning)\n",
      "[Parallel(n_jobs=1)]: Done   2 out of   2 | elapsed:    0.7s remaining:    0.0s\n"
     ]
    },
    {
     "name": "stdout",
     "output_type": "stream",
     "text": [
      "[CV]  C=0.1, max_iter=50, solver=newton-cg, tol=0.001, score=1.0, total=   0.5s\n",
      "[CV] C=0.1, max_iter=50, solver=newton-cg, tol=0.001 .................\n",
      "[CV]  C=0.1, max_iter=50, solver=newton-cg, tol=0.001, score=1.0, total=   0.2s\n",
      "[CV] C=0.1, max_iter=50, solver=newton-cg, tol=0.001 .................\n"
     ]
    },
    {
     "name": "stderr",
     "output_type": "stream",
     "text": [
      "/home2/BigData/anaconda3/lib/python3.7/site-packages/sklearn/utils/optimize.py:203: ConvergenceWarning: newton-cg failed to converge. Increase the number of iterations.\n",
      "  \"number of iterations.\", ConvergenceWarning)\n",
      "/home2/BigData/anaconda3/lib/python3.7/site-packages/sklearn/utils/optimize.py:203: ConvergenceWarning: newton-cg failed to converge. Increase the number of iterations.\n",
      "  \"number of iterations.\", ConvergenceWarning)\n"
     ]
    },
    {
     "name": "stdout",
     "output_type": "stream",
     "text": [
      "[CV]  C=0.1, max_iter=50, solver=newton-cg, tol=0.001, score=0.9973890339425587, total=   0.2s\n",
      "[CV] C=0.1, max_iter=50, solver=newton-cg, tol=0.0001 ................\n",
      "[CV]  C=0.1, max_iter=50, solver=newton-cg, tol=0.0001, score=1.0, total=   0.2s\n",
      "[CV] C=0.1, max_iter=50, solver=newton-cg, tol=0.0001 ................\n"
     ]
    },
    {
     "name": "stderr",
     "output_type": "stream",
     "text": [
      "/home2/BigData/anaconda3/lib/python3.7/site-packages/sklearn/utils/optimize.py:203: ConvergenceWarning: newton-cg failed to converge. Increase the number of iterations.\n",
      "  \"number of iterations.\", ConvergenceWarning)\n",
      "/home2/BigData/anaconda3/lib/python3.7/site-packages/sklearn/utils/optimize.py:203: ConvergenceWarning: newton-cg failed to converge. Increase the number of iterations.\n",
      "  \"number of iterations.\", ConvergenceWarning)\n"
     ]
    },
    {
     "name": "stdout",
     "output_type": "stream",
     "text": [
      "[CV]  C=0.1, max_iter=50, solver=newton-cg, tol=0.0001, score=1.0, total=   0.2s\n",
      "[CV] C=0.1, max_iter=50, solver=newton-cg, tol=0.0001 ................\n",
      "[CV]  C=0.1, max_iter=50, solver=newton-cg, tol=0.0001, score=0.9973890339425587, total=   0.2s\n",
      "[CV] C=0.1, max_iter=50, solver=newton-cg, tol=0.01 ..................\n"
     ]
    },
    {
     "name": "stderr",
     "output_type": "stream",
     "text": [
      "/home2/BigData/anaconda3/lib/python3.7/site-packages/sklearn/utils/optimize.py:203: ConvergenceWarning: newton-cg failed to converge. Increase the number of iterations.\n",
      "  \"number of iterations.\", ConvergenceWarning)\n",
      "/home2/BigData/anaconda3/lib/python3.7/site-packages/sklearn/utils/optimize.py:203: ConvergenceWarning: newton-cg failed to converge. Increase the number of iterations.\n",
      "  \"number of iterations.\", ConvergenceWarning)\n"
     ]
    },
    {
     "name": "stdout",
     "output_type": "stream",
     "text": [
      "[CV]  C=0.1, max_iter=50, solver=newton-cg, tol=0.01, score=1.0, total=   0.2s\n",
      "[CV] C=0.1, max_iter=50, solver=newton-cg, tol=0.01 ..................\n",
      "[CV]  C=0.1, max_iter=50, solver=newton-cg, tol=0.01, score=1.0, total=   0.2s\n",
      "[CV] C=0.1, max_iter=50, solver=newton-cg, tol=0.01 ..................\n"
     ]
    },
    {
     "name": "stderr",
     "output_type": "stream",
     "text": [
      "/home2/BigData/anaconda3/lib/python3.7/site-packages/sklearn/utils/optimize.py:203: ConvergenceWarning: newton-cg failed to converge. Increase the number of iterations.\n",
      "  \"number of iterations.\", ConvergenceWarning)\n"
     ]
    },
    {
     "name": "stdout",
     "output_type": "stream",
     "text": [
      "[CV]  C=0.1, max_iter=50, solver=newton-cg, tol=0.01, score=0.9973890339425587, total=   0.2s\n",
      "[CV] C=0.1, max_iter=50, solver=lbfgs, tol=0.001 .....................\n",
      "[CV]  C=0.1, max_iter=50, solver=lbfgs, tol=0.001, score=0.9834926151172894, total=   0.7s\n",
      "[CV] C=0.1, max_iter=50, solver=lbfgs, tol=0.001 .....................\n",
      "[CV]  C=0.1, max_iter=50, solver=lbfgs, tol=0.001, score=0.9617723718505647, total=   0.0s\n",
      "[CV] C=0.1, max_iter=50, solver=lbfgs, tol=0.001 .....................\n",
      "[CV]  C=0.1, max_iter=50, solver=lbfgs, tol=0.001, score=0.9773716275021758, total=   0.0s\n",
      "[CV] C=0.1, max_iter=50, solver=lbfgs, tol=0.0001 ....................\n",
      "[CV]  C=0.1, max_iter=50, solver=lbfgs, tol=0.0001, score=0.9834926151172894, total=   0.0s\n",
      "[CV] C=0.1, max_iter=50, solver=lbfgs, tol=0.0001 ....................\n",
      "[CV]  C=0.1, max_iter=50, solver=lbfgs, tol=0.0001, score=0.9617723718505647, total=   0.0s\n",
      "[CV] C=0.1, max_iter=50, solver=lbfgs, tol=0.0001 ....................\n",
      "[CV]  C=0.1, max_iter=50, solver=lbfgs, tol=0.0001, score=0.9773716275021758, total=   0.0s\n",
      "[CV] C=0.1, max_iter=50, solver=lbfgs, tol=0.01 ......................\n",
      "[CV]  C=0.1, max_iter=50, solver=lbfgs, tol=0.01, score=0.9834926151172894, total=   0.0s\n",
      "[CV] C=0.1, max_iter=50, solver=lbfgs, tol=0.01 ......................\n",
      "[CV]  C=0.1, max_iter=50, solver=lbfgs, tol=0.01, score=0.9617723718505647, total=   0.0s\n",
      "[CV] C=0.1, max_iter=50, solver=lbfgs, tol=0.01 ......................\n",
      "[CV]  C=0.1, max_iter=50, solver=lbfgs, tol=0.01, score=0.9773716275021758, total=   0.0s\n",
      "[CV] C=0.1, max_iter=50, solver=liblinear, tol=0.001 .................\n",
      "[CV]  C=0.1, max_iter=50, solver=liblinear, tol=0.001, score=0.8010425716768028, total=   0.0s\n",
      "[CV] C=0.1, max_iter=50, solver=liblinear, tol=0.001 .................\n",
      "[CV]  C=0.1, max_iter=50, solver=liblinear, tol=0.001, score=0.996524761077324, total=   0.0s\n",
      "[CV] C=0.1, max_iter=50, solver=liblinear, tol=0.001 .................\n",
      "[CV]  C=0.1, max_iter=50, solver=liblinear, tol=0.001, score=0.835509138381201, total=   0.0s\n",
      "[CV] C=0.1, max_iter=50, solver=liblinear, tol=0.0001 ................\n",
      "[CV]  C=0.1, max_iter=50, solver=liblinear, tol=0.0001, score=0.9991311902693311, total=   0.0s\n",
      "[CV] C=0.1, max_iter=50, solver=liblinear, tol=0.0001 ................\n",
      "[CV]  C=0.1, max_iter=50, solver=liblinear, tol=0.0001, score=1.0, total=   0.0s\n",
      "[CV] C=0.1, max_iter=50, solver=liblinear, tol=0.0001 ................\n",
      "[CV]  C=0.1, max_iter=50, solver=liblinear, tol=0.0001, score=0.9965187119234117, total=   0.0s\n",
      "[CV] C=0.1, max_iter=50, solver=liblinear, tol=0.01 ..................\n",
      "[CV]  C=0.1, max_iter=50, solver=liblinear, tol=0.01, score=0.7854039965247611, total=   0.0s\n",
      "[CV] C=0.1, max_iter=50, solver=liblinear, tol=0.01 ..................\n",
      "[CV]  C=0.1, max_iter=50, solver=liblinear, tol=0.01, score=0.792354474370113, total=   0.0s\n",
      "[CV] C=0.1, max_iter=50, solver=liblinear, tol=0.01 ..................\n",
      "[CV]  C=0.1, max_iter=50, solver=liblinear, tol=0.01, score=0.7815491731940818, total=   0.0s\n",
      "[CV] C=0.1, max_iter=50, solver=sag, tol=0.001 .......................\n"
     ]
    },
    {
     "name": "stderr",
     "output_type": "stream",
     "text": [
      "/home2/BigData/anaconda3/lib/python3.7/site-packages/sklearn/linear_model/sag.py:326: ConvergenceWarning: The max_iter was reached which means the coef_ did not converge\n",
      "  \"the coef_ did not converge\", ConvergenceWarning)\n",
      "/home2/BigData/anaconda3/lib/python3.7/site-packages/sklearn/linear_model/sag.py:326: ConvergenceWarning: The max_iter was reached which means the coef_ did not converge\n",
      "  \"the coef_ did not converge\", ConvergenceWarning)\n",
      "/home2/BigData/anaconda3/lib/python3.7/site-packages/sklearn/linear_model/sag.py:326: ConvergenceWarning: The max_iter was reached which means the coef_ did not converge\n",
      "  \"the coef_ did not converge\", ConvergenceWarning)\n",
      "/home2/BigData/anaconda3/lib/python3.7/site-packages/sklearn/linear_model/sag.py:326: ConvergenceWarning: The max_iter was reached which means the coef_ did not converge\n",
      "  \"the coef_ did not converge\", ConvergenceWarning)\n"
     ]
    },
    {
     "name": "stdout",
     "output_type": "stream",
     "text": [
      "[CV]  C=0.1, max_iter=50, solver=sag, tol=0.001, score=0.7489139878366637, total=   0.1s\n",
      "[CV] C=0.1, max_iter=50, solver=sag, tol=0.001 .......................\n",
      "[CV]  C=0.1, max_iter=50, solver=sag, tol=0.001, score=0.7793223284100782, total=   0.1s\n",
      "[CV] C=0.1, max_iter=50, solver=sag, tol=0.001 .......................\n",
      "[CV]  C=0.1, max_iter=50, solver=sag, tol=0.001, score=0.7502175805047868, total=   0.1s\n",
      "[CV] C=0.1, max_iter=50, solver=sag, tol=0.0001 ......................\n",
      "[CV]  C=0.1, max_iter=50, solver=sag, tol=0.0001, score=0.7489139878366637, total=   0.1s\n",
      "[CV] C=0.1, max_iter=50, solver=sag, tol=0.0001 ......................\n"
     ]
    },
    {
     "name": "stderr",
     "output_type": "stream",
     "text": [
      "/home2/BigData/anaconda3/lib/python3.7/site-packages/sklearn/linear_model/sag.py:326: ConvergenceWarning: The max_iter was reached which means the coef_ did not converge\n",
      "  \"the coef_ did not converge\", ConvergenceWarning)\n",
      "/home2/BigData/anaconda3/lib/python3.7/site-packages/sklearn/linear_model/sag.py:326: ConvergenceWarning: The max_iter was reached which means the coef_ did not converge\n",
      "  \"the coef_ did not converge\", ConvergenceWarning)\n",
      "/home2/BigData/anaconda3/lib/python3.7/site-packages/sklearn/linear_model/sag.py:326: ConvergenceWarning: The max_iter was reached which means the coef_ did not converge\n",
      "  \"the coef_ did not converge\", ConvergenceWarning)\n",
      "/home2/BigData/anaconda3/lib/python3.7/site-packages/sklearn/linear_model/sag.py:326: ConvergenceWarning: The max_iter was reached which means the coef_ did not converge\n",
      "  \"the coef_ did not converge\", ConvergenceWarning)\n"
     ]
    },
    {
     "name": "stdout",
     "output_type": "stream",
     "text": [
      "[CV]  C=0.1, max_iter=50, solver=sag, tol=0.0001, score=0.7793223284100782, total=   0.1s\n",
      "[CV] C=0.1, max_iter=50, solver=sag, tol=0.0001 ......................\n",
      "[CV]  C=0.1, max_iter=50, solver=sag, tol=0.0001, score=0.7502175805047868, total=   0.1s\n",
      "[CV] C=0.1, max_iter=50, solver=sag, tol=0.01 ........................\n",
      "[CV]  C=0.1, max_iter=50, solver=sag, tol=0.01, score=0.7489139878366637, total=   0.1s\n",
      "[CV] C=0.1, max_iter=50, solver=sag, tol=0.01 ........................\n",
      "[CV]  C=0.1, max_iter=50, solver=sag, tol=0.01, score=0.7793223284100782, total=   0.1s\n",
      "[CV] C=0.1, max_iter=50, solver=sag, tol=0.01 ........................\n"
     ]
    },
    {
     "name": "stderr",
     "output_type": "stream",
     "text": [
      "/home2/BigData/anaconda3/lib/python3.7/site-packages/sklearn/linear_model/sag.py:326: ConvergenceWarning: The max_iter was reached which means the coef_ did not converge\n",
      "  \"the coef_ did not converge\", ConvergenceWarning)\n",
      "/home2/BigData/anaconda3/lib/python3.7/site-packages/sklearn/linear_model/sag.py:326: ConvergenceWarning: The max_iter was reached which means the coef_ did not converge\n",
      "  \"the coef_ did not converge\", ConvergenceWarning)\n",
      "/home2/BigData/anaconda3/lib/python3.7/site-packages/sklearn/linear_model/sag.py:326: ConvergenceWarning: The max_iter was reached which means the coef_ did not converge\n",
      "  \"the coef_ did not converge\", ConvergenceWarning)\n"
     ]
    },
    {
     "name": "stdout",
     "output_type": "stream",
     "text": [
      "[CV]  C=0.1, max_iter=50, solver=sag, tol=0.01, score=0.7502175805047868, total=   0.1s\n",
      "[CV] C=0.1, max_iter=50, solver=saga, tol=0.001 ......................\n",
      "[CV]  C=0.1, max_iter=50, solver=saga, tol=0.001, score=0.7532580364900087, total=   0.1s\n",
      "[CV] C=0.1, max_iter=50, solver=saga, tol=0.001 ......................\n",
      "[CV]  C=0.1, max_iter=50, solver=saga, tol=0.001, score=0.7758470894874022, total=   0.1s\n",
      "[CV] C=0.1, max_iter=50, solver=saga, tol=0.001 ......................\n"
     ]
    },
    {
     "name": "stderr",
     "output_type": "stream",
     "text": [
      "/home2/BigData/anaconda3/lib/python3.7/site-packages/sklearn/linear_model/sag.py:326: ConvergenceWarning: The max_iter was reached which means the coef_ did not converge\n",
      "  \"the coef_ did not converge\", ConvergenceWarning)\n",
      "/home2/BigData/anaconda3/lib/python3.7/site-packages/sklearn/linear_model/sag.py:326: ConvergenceWarning: The max_iter was reached which means the coef_ did not converge\n",
      "  \"the coef_ did not converge\", ConvergenceWarning)\n",
      "/home2/BigData/anaconda3/lib/python3.7/site-packages/sklearn/linear_model/sag.py:326: ConvergenceWarning: The max_iter was reached which means the coef_ did not converge\n",
      "  \"the coef_ did not converge\", ConvergenceWarning)\n"
     ]
    },
    {
     "name": "stdout",
     "output_type": "stream",
     "text": [
      "[CV]  C=0.1, max_iter=50, solver=saga, tol=0.001, score=0.7510879025239339, total=   0.1s\n",
      "[CV] C=0.1, max_iter=50, solver=saga, tol=0.0001 .....................\n",
      "[CV]  C=0.1, max_iter=50, solver=saga, tol=0.0001, score=0.7541268462206777, total=   0.1s\n",
      "[CV] C=0.1, max_iter=50, solver=saga, tol=0.0001 .....................\n",
      "[CV]  C=0.1, max_iter=50, solver=saga, tol=0.0001, score=0.7758470894874022, total=   0.1s\n",
      "[CV] C=0.1, max_iter=50, solver=saga, tol=0.0001 .....................\n"
     ]
    },
    {
     "name": "stderr",
     "output_type": "stream",
     "text": [
      "/home2/BigData/anaconda3/lib/python3.7/site-packages/sklearn/linear_model/sag.py:326: ConvergenceWarning: The max_iter was reached which means the coef_ did not converge\n",
      "  \"the coef_ did not converge\", ConvergenceWarning)\n",
      "/home2/BigData/anaconda3/lib/python3.7/site-packages/sklearn/linear_model/sag.py:326: ConvergenceWarning: The max_iter was reached which means the coef_ did not converge\n",
      "  \"the coef_ did not converge\", ConvergenceWarning)\n",
      "/home2/BigData/anaconda3/lib/python3.7/site-packages/sklearn/linear_model/sag.py:326: ConvergenceWarning: The max_iter was reached which means the coef_ did not converge\n",
      "  \"the coef_ did not converge\", ConvergenceWarning)\n"
     ]
    },
    {
     "name": "stdout",
     "output_type": "stream",
     "text": [
      "[CV]  C=0.1, max_iter=50, solver=saga, tol=0.0001, score=0.7519582245430809, total=   0.1s\n",
      "[CV] C=0.1, max_iter=50, solver=saga, tol=0.01 .......................\n",
      "[CV]  C=0.1, max_iter=50, solver=saga, tol=0.01, score=0.7541268462206777, total=   0.1s\n",
      "[CV] C=0.1, max_iter=50, solver=saga, tol=0.01 .......................\n",
      "[CV]  C=0.1, max_iter=50, solver=saga, tol=0.01, score=0.7758470894874022, total=   0.1s\n",
      "[CV] C=0.1, max_iter=50, solver=saga, tol=0.01 .......................\n"
     ]
    },
    {
     "name": "stderr",
     "output_type": "stream",
     "text": [
      "/home2/BigData/anaconda3/lib/python3.7/site-packages/sklearn/linear_model/sag.py:326: ConvergenceWarning: The max_iter was reached which means the coef_ did not converge\n",
      "  \"the coef_ did not converge\", ConvergenceWarning)\n"
     ]
    },
    {
     "name": "stdout",
     "output_type": "stream",
     "text": [
      "[CV]  C=0.1, max_iter=50, solver=saga, tol=0.01, score=0.7510879025239339, total=   0.1s\n",
      "[CV] C=0.1, max_iter=100, solver=newton-cg, tol=0.001 ................\n",
      "[CV]  C=0.1, max_iter=100, solver=newton-cg, tol=0.001, score=1.0, total=   0.2s\n",
      "[CV] C=0.1, max_iter=100, solver=newton-cg, tol=0.001 ................\n",
      "[CV]  C=0.1, max_iter=100, solver=newton-cg, tol=0.001, score=1.0, total=   0.2s\n",
      "[CV] C=0.1, max_iter=100, solver=newton-cg, tol=0.001 ................\n",
      "[CV]  C=0.1, max_iter=100, solver=newton-cg, tol=0.001, score=0.9982593559617058, total=   0.2s\n",
      "[CV] C=0.1, max_iter=100, solver=newton-cg, tol=0.0001 ...............\n",
      "[CV]  C=0.1, max_iter=100, solver=newton-cg, tol=0.0001, score=1.0, total=   0.2s\n",
      "[CV] C=0.1, max_iter=100, solver=newton-cg, tol=0.0001 ...............\n",
      "[CV]  C=0.1, max_iter=100, solver=newton-cg, tol=0.0001, score=1.0, total=   0.2s\n",
      "[CV] C=0.1, max_iter=100, solver=newton-cg, tol=0.0001 ...............\n",
      "[CV]  C=0.1, max_iter=100, solver=newton-cg, tol=0.0001, score=0.9982593559617058, total=   0.2s\n",
      "[CV] C=0.1, max_iter=100, solver=newton-cg, tol=0.01 .................\n",
      "[CV]  C=0.1, max_iter=100, solver=newton-cg, tol=0.01, score=1.0, total=   0.2s\n",
      "[CV] C=0.1, max_iter=100, solver=newton-cg, tol=0.01 .................\n",
      "[CV]  C=0.1, max_iter=100, solver=newton-cg, tol=0.01, score=1.0, total=   0.2s\n",
      "[CV] C=0.1, max_iter=100, solver=newton-cg, tol=0.01 .................\n",
      "[CV]  C=0.1, max_iter=100, solver=newton-cg, tol=0.01, score=0.9982593559617058, total=   0.2s\n",
      "[CV] C=0.1, max_iter=100, solver=lbfgs, tol=0.001 ....................\n",
      "[CV]  C=0.1, max_iter=100, solver=lbfgs, tol=0.001, score=0.9991311902693311, total=   0.1s\n",
      "[CV] C=0.1, max_iter=100, solver=lbfgs, tol=0.001 ....................\n",
      "[CV]  C=0.1, max_iter=100, solver=lbfgs, tol=0.001, score=1.0, total=   0.0s\n",
      "[CV] C=0.1, max_iter=100, solver=lbfgs, tol=0.001 ....................\n",
      "[CV]  C=0.1, max_iter=100, solver=lbfgs, tol=0.001, score=0.9973890339425587, total=   0.0s\n",
      "[CV] C=0.1, max_iter=100, solver=lbfgs, tol=0.0001 ...................\n",
      "[CV]  C=0.1, max_iter=100, solver=lbfgs, tol=0.0001, score=0.9991311902693311, total=   0.0s\n",
      "[CV] C=0.1, max_iter=100, solver=lbfgs, tol=0.0001 ...................\n",
      "[CV]  C=0.1, max_iter=100, solver=lbfgs, tol=0.0001, score=1.0, total=   0.1s\n",
      "[CV] C=0.1, max_iter=100, solver=lbfgs, tol=0.0001 ...................\n",
      "[CV]  C=0.1, max_iter=100, solver=lbfgs, tol=0.0001, score=0.9973890339425587, total=   0.1s\n",
      "[CV] C=0.1, max_iter=100, solver=lbfgs, tol=0.01 .....................\n",
      "[CV]  C=0.1, max_iter=100, solver=lbfgs, tol=0.01, score=0.9991311902693311, total=   0.0s\n",
      "[CV] C=0.1, max_iter=100, solver=lbfgs, tol=0.01 .....................\n",
      "[CV]  C=0.1, max_iter=100, solver=lbfgs, tol=0.01, score=1.0, total=   0.0s\n",
      "[CV] C=0.1, max_iter=100, solver=lbfgs, tol=0.01 .....................\n",
      "[CV]  C=0.1, max_iter=100, solver=lbfgs, tol=0.01, score=0.9973890339425587, total=   0.1s\n",
      "[CV] C=0.1, max_iter=100, solver=liblinear, tol=0.001 ................\n",
      "[CV]  C=0.1, max_iter=100, solver=liblinear, tol=0.001, score=0.8010425716768028, total=   0.0s\n",
      "[CV] C=0.1, max_iter=100, solver=liblinear, tol=0.001 ................\n",
      "[CV]  C=0.1, max_iter=100, solver=liblinear, tol=0.001, score=0.996524761077324, total=   0.0s\n",
      "[CV] C=0.1, max_iter=100, solver=liblinear, tol=0.001 ................\n",
      "[CV]  C=0.1, max_iter=100, solver=liblinear, tol=0.001, score=0.835509138381201, total=   0.0s\n",
      "[CV] C=0.1, max_iter=100, solver=liblinear, tol=0.0001 ...............\n",
      "[CV]  C=0.1, max_iter=100, solver=liblinear, tol=0.0001, score=0.9991311902693311, total=   0.0s\n",
      "[CV] C=0.1, max_iter=100, solver=liblinear, tol=0.0001 ...............\n",
      "[CV]  C=0.1, max_iter=100, solver=liblinear, tol=0.0001, score=1.0, total=   0.0s\n",
      "[CV] C=0.1, max_iter=100, solver=liblinear, tol=0.0001 ...............\n",
      "[CV]  C=0.1, max_iter=100, solver=liblinear, tol=0.0001, score=0.9965187119234117, total=   0.0s\n",
      "[CV] C=0.1, max_iter=100, solver=liblinear, tol=0.01 .................\n",
      "[CV]  C=0.1, max_iter=100, solver=liblinear, tol=0.01, score=0.7854039965247611, total=   0.0s\n",
      "[CV] C=0.1, max_iter=100, solver=liblinear, tol=0.01 .................\n",
      "[CV]  C=0.1, max_iter=100, solver=liblinear, tol=0.01, score=0.792354474370113, total=   0.0s\n",
      "[CV] C=0.1, max_iter=100, solver=liblinear, tol=0.01 .................\n",
      "[CV]  C=0.1, max_iter=100, solver=liblinear, tol=0.01, score=0.7815491731940818, total=   0.0s\n",
      "[CV] C=0.1, max_iter=100, solver=sag, tol=0.001 ......................\n"
     ]
    },
    {
     "name": "stderr",
     "output_type": "stream",
     "text": [
      "/home2/BigData/anaconda3/lib/python3.7/site-packages/sklearn/linear_model/sag.py:326: ConvergenceWarning: The max_iter was reached which means the coef_ did not converge\n",
      "  \"the coef_ did not converge\", ConvergenceWarning)\n",
      "/home2/BigData/anaconda3/lib/python3.7/site-packages/sklearn/linear_model/sag.py:326: ConvergenceWarning: The max_iter was reached which means the coef_ did not converge\n",
      "  \"the coef_ did not converge\", ConvergenceWarning)\n"
     ]
    },
    {
     "name": "stdout",
     "output_type": "stream",
     "text": [
      "[CV]  C=0.1, max_iter=100, solver=sag, tol=0.001, score=0.7515204170286707, total=   0.1s\n",
      "[CV] C=0.1, max_iter=100, solver=sag, tol=0.001 ......................\n",
      "[CV]  C=0.1, max_iter=100, solver=sag, tol=0.001, score=0.7784535186794093, total=   0.1s\n",
      "[CV] C=0.1, max_iter=100, solver=sag, tol=0.001 ......................\n"
     ]
    },
    {
     "name": "stderr",
     "output_type": "stream",
     "text": [
      "/home2/BigData/anaconda3/lib/python3.7/site-packages/sklearn/linear_model/sag.py:326: ConvergenceWarning: The max_iter was reached which means the coef_ did not converge\n",
      "  \"the coef_ did not converge\", ConvergenceWarning)\n",
      "/home2/BigData/anaconda3/lib/python3.7/site-packages/sklearn/linear_model/sag.py:326: ConvergenceWarning: The max_iter was reached which means the coef_ did not converge\n",
      "  \"the coef_ did not converge\", ConvergenceWarning)\n"
     ]
    },
    {
     "name": "stdout",
     "output_type": "stream",
     "text": [
      "[CV]  C=0.1, max_iter=100, solver=sag, tol=0.001, score=0.7589208006962577, total=   0.1s\n",
      "[CV] C=0.1, max_iter=100, solver=sag, tol=0.0001 .....................\n",
      "[CV]  C=0.1, max_iter=100, solver=sag, tol=0.0001, score=0.7515204170286707, total=   0.1s\n",
      "[CV] C=0.1, max_iter=100, solver=sag, tol=0.0001 .....................\n"
     ]
    },
    {
     "name": "stderr",
     "output_type": "stream",
     "text": [
      "/home2/BigData/anaconda3/lib/python3.7/site-packages/sklearn/linear_model/sag.py:326: ConvergenceWarning: The max_iter was reached which means the coef_ did not converge\n",
      "  \"the coef_ did not converge\", ConvergenceWarning)\n",
      "/home2/BigData/anaconda3/lib/python3.7/site-packages/sklearn/linear_model/sag.py:326: ConvergenceWarning: The max_iter was reached which means the coef_ did not converge\n",
      "  \"the coef_ did not converge\", ConvergenceWarning)\n"
     ]
    },
    {
     "name": "stdout",
     "output_type": "stream",
     "text": [
      "[CV]  C=0.1, max_iter=100, solver=sag, tol=0.0001, score=0.7784535186794093, total=   0.1s\n",
      "[CV] C=0.1, max_iter=100, solver=sag, tol=0.0001 .....................\n",
      "[CV]  C=0.1, max_iter=100, solver=sag, tol=0.0001, score=0.7589208006962577, total=   0.1s\n",
      "[CV] C=0.1, max_iter=100, solver=sag, tol=0.01 .......................\n",
      "[CV]  C=0.1, max_iter=100, solver=sag, tol=0.01, score=0.7489139878366637, total=   0.1s\n",
      "[CV] C=0.1, max_iter=100, solver=sag, tol=0.01 .......................\n",
      "[CV]  C=0.1, max_iter=100, solver=sag, tol=0.01, score=0.7784535186794093, total=   0.1s\n",
      "[CV] C=0.1, max_iter=100, solver=sag, tol=0.01 .......................\n",
      "[CV]  C=0.1, max_iter=100, solver=sag, tol=0.01, score=0.7615317667536988, total=   0.1s\n",
      "[CV] C=0.1, max_iter=100, solver=saga, tol=0.001 .....................\n"
     ]
    },
    {
     "name": "stderr",
     "output_type": "stream",
     "text": [
      "/home2/BigData/anaconda3/lib/python3.7/site-packages/sklearn/linear_model/sag.py:326: ConvergenceWarning: The max_iter was reached which means the coef_ did not converge\n",
      "  \"the coef_ did not converge\", ConvergenceWarning)\n",
      "/home2/BigData/anaconda3/lib/python3.7/site-packages/sklearn/linear_model/sag.py:326: ConvergenceWarning: The max_iter was reached which means the coef_ did not converge\n",
      "  \"the coef_ did not converge\", ConvergenceWarning)\n"
     ]
    },
    {
     "name": "stdout",
     "output_type": "stream",
     "text": [
      "[CV]  C=0.1, max_iter=100, solver=saga, tol=0.001, score=0.7497827975673328, total=   0.2s\n",
      "[CV] C=0.1, max_iter=100, solver=saga, tol=0.001 .....................\n",
      "[CV]  C=0.1, max_iter=100, solver=saga, tol=0.001, score=0.7801911381407471, total=   0.2s\n",
      "[CV] C=0.1, max_iter=100, solver=saga, tol=0.001 .....................\n"
     ]
    },
    {
     "name": "stderr",
     "output_type": "stream",
     "text": [
      "/home2/BigData/anaconda3/lib/python3.7/site-packages/sklearn/linear_model/sag.py:326: ConvergenceWarning: The max_iter was reached which means the coef_ did not converge\n",
      "  \"the coef_ did not converge\", ConvergenceWarning)\n"
     ]
    },
    {
     "name": "stdout",
     "output_type": "stream",
     "text": [
      "[CV]  C=0.1, max_iter=100, solver=saga, tol=0.001, score=0.7493472584856397, total=   0.2s\n",
      "[CV] C=0.1, max_iter=100, solver=saga, tol=0.0001 ....................\n"
     ]
    },
    {
     "name": "stderr",
     "output_type": "stream",
     "text": [
      "/home2/BigData/anaconda3/lib/python3.7/site-packages/sklearn/linear_model/sag.py:326: ConvergenceWarning: The max_iter was reached which means the coef_ did not converge\n",
      "  \"the coef_ did not converge\", ConvergenceWarning)\n"
     ]
    },
    {
     "name": "stdout",
     "output_type": "stream",
     "text": [
      "[CV]  C=0.1, max_iter=100, solver=saga, tol=0.0001, score=0.7497827975673328, total=   0.2s\n",
      "[CV] C=0.1, max_iter=100, solver=saga, tol=0.0001 ....................\n"
     ]
    },
    {
     "name": "stderr",
     "output_type": "stream",
     "text": [
      "/home2/BigData/anaconda3/lib/python3.7/site-packages/sklearn/linear_model/sag.py:326: ConvergenceWarning: The max_iter was reached which means the coef_ did not converge\n",
      "  \"the coef_ did not converge\", ConvergenceWarning)\n",
      "/home2/BigData/anaconda3/lib/python3.7/site-packages/sklearn/linear_model/sag.py:326: ConvergenceWarning: The max_iter was reached which means the coef_ did not converge\n",
      "  \"the coef_ did not converge\", ConvergenceWarning)\n"
     ]
    },
    {
     "name": "stdout",
     "output_type": "stream",
     "text": [
      "[CV]  C=0.1, max_iter=100, solver=saga, tol=0.0001, score=0.7793223284100782, total=   0.2s\n",
      "[CV] C=0.1, max_iter=100, solver=saga, tol=0.0001 ....................\n",
      "[CV]  C=0.1, max_iter=100, solver=saga, tol=0.0001, score=0.7493472584856397, total=   0.2s\n",
      "[CV] C=0.1, max_iter=100, solver=saga, tol=0.01 ......................\n",
      "[CV]  C=0.1, max_iter=100, solver=saga, tol=0.01, score=0.7532580364900087, total=   0.1s\n",
      "[CV] C=0.1, max_iter=100, solver=saga, tol=0.01 ......................\n",
      "[CV]  C=0.1, max_iter=100, solver=saga, tol=0.01, score=0.7767158992180713, total=   0.1s\n",
      "[CV] C=0.1, max_iter=100, solver=saga, tol=0.01 ......................\n",
      "[CV]  C=0.1, max_iter=100, solver=saga, tol=0.01, score=0.7493472584856397, total=   0.1s\n",
      "[CV] C=0.1, max_iter=150, solver=newton-cg, tol=0.001 ................\n",
      "[CV]  C=0.1, max_iter=150, solver=newton-cg, tol=0.001, score=1.0, total=   0.2s\n",
      "[CV] C=0.1, max_iter=150, solver=newton-cg, tol=0.001 ................\n",
      "[CV]  C=0.1, max_iter=150, solver=newton-cg, tol=0.001, score=1.0, total=   0.2s\n",
      "[CV] C=0.1, max_iter=150, solver=newton-cg, tol=0.001 ................\n",
      "[CV]  C=0.1, max_iter=150, solver=newton-cg, tol=0.001, score=0.9982593559617058, total=   0.2s\n",
      "[CV] C=0.1, max_iter=150, solver=newton-cg, tol=0.0001 ...............\n",
      "[CV]  C=0.1, max_iter=150, solver=newton-cg, tol=0.0001, score=1.0, total=   0.2s\n",
      "[CV] C=0.1, max_iter=150, solver=newton-cg, tol=0.0001 ...............\n",
      "[CV]  C=0.1, max_iter=150, solver=newton-cg, tol=0.0001, score=1.0, total=   0.2s\n",
      "[CV] C=0.1, max_iter=150, solver=newton-cg, tol=0.0001 ...............\n",
      "[CV]  C=0.1, max_iter=150, solver=newton-cg, tol=0.0001, score=0.9982593559617058, total=   0.2s\n",
      "[CV] C=0.1, max_iter=150, solver=newton-cg, tol=0.01 .................\n",
      "[CV]  C=0.1, max_iter=150, solver=newton-cg, tol=0.01, score=1.0, total=   0.2s\n",
      "[CV] C=0.1, max_iter=150, solver=newton-cg, tol=0.01 .................\n",
      "[CV]  C=0.1, max_iter=150, solver=newton-cg, tol=0.01, score=1.0, total=   0.2s\n",
      "[CV] C=0.1, max_iter=150, solver=newton-cg, tol=0.01 .................\n",
      "[CV]  C=0.1, max_iter=150, solver=newton-cg, tol=0.01, score=0.9982593559617058, total=   0.2s\n",
      "[CV] C=0.1, max_iter=150, solver=lbfgs, tol=0.001 ....................\n",
      "[CV]  C=0.1, max_iter=150, solver=lbfgs, tol=0.001, score=0.9991311902693311, total=   0.1s\n",
      "[CV] C=0.1, max_iter=150, solver=lbfgs, tol=0.001 ....................\n",
      "[CV]  C=0.1, max_iter=150, solver=lbfgs, tol=0.001, score=1.0, total=   0.1s\n",
      "[CV] C=0.1, max_iter=150, solver=lbfgs, tol=0.001 ....................\n",
      "[CV]  C=0.1, max_iter=150, solver=lbfgs, tol=0.001, score=0.9973890339425587, total=   0.1s\n",
      "[CV] C=0.1, max_iter=150, solver=lbfgs, tol=0.0001 ...................\n",
      "[CV]  C=0.1, max_iter=150, solver=lbfgs, tol=0.0001, score=0.9991311902693311, total=   0.1s\n",
      "[CV] C=0.1, max_iter=150, solver=lbfgs, tol=0.0001 ...................\n",
      "[CV]  C=0.1, max_iter=150, solver=lbfgs, tol=0.0001, score=1.0, total=   0.1s\n",
      "[CV] C=0.1, max_iter=150, solver=lbfgs, tol=0.0001 ...................\n",
      "[CV]  C=0.1, max_iter=150, solver=lbfgs, tol=0.0001, score=0.9973890339425587, total=   0.1s\n",
      "[CV] C=0.1, max_iter=150, solver=lbfgs, tol=0.01 .....................\n",
      "[CV]  C=0.1, max_iter=150, solver=lbfgs, tol=0.01, score=0.9991311902693311, total=   0.1s\n",
      "[CV] C=0.1, max_iter=150, solver=lbfgs, tol=0.01 .....................\n",
      "[CV]  C=0.1, max_iter=150, solver=lbfgs, tol=0.01, score=1.0, total=   0.1s\n",
      "[CV] C=0.1, max_iter=150, solver=lbfgs, tol=0.01 .....................\n",
      "[CV]  C=0.1, max_iter=150, solver=lbfgs, tol=0.01, score=0.9973890339425587, total=   0.1s\n",
      "[CV] C=0.1, max_iter=150, solver=liblinear, tol=0.001 ................\n",
      "[CV]  C=0.1, max_iter=150, solver=liblinear, tol=0.001, score=0.8010425716768028, total=   0.0s\n",
      "[CV] C=0.1, max_iter=150, solver=liblinear, tol=0.001 ................\n",
      "[CV]  C=0.1, max_iter=150, solver=liblinear, tol=0.001, score=0.996524761077324, total=   0.0s\n",
      "[CV] C=0.1, max_iter=150, solver=liblinear, tol=0.001 ................\n",
      "[CV]  C=0.1, max_iter=150, solver=liblinear, tol=0.001, score=0.835509138381201, total=   0.0s\n",
      "[CV] C=0.1, max_iter=150, solver=liblinear, tol=0.0001 ...............\n",
      "[CV]  C=0.1, max_iter=150, solver=liblinear, tol=0.0001, score=0.9991311902693311, total=   0.0s\n",
      "[CV] C=0.1, max_iter=150, solver=liblinear, tol=0.0001 ...............\n",
      "[CV]  C=0.1, max_iter=150, solver=liblinear, tol=0.0001, score=1.0, total=   0.0s\n",
      "[CV] C=0.1, max_iter=150, solver=liblinear, tol=0.0001 ...............\n",
      "[CV]  C=0.1, max_iter=150, solver=liblinear, tol=0.0001, score=0.9965187119234117, total=   0.0s\n",
      "[CV] C=0.1, max_iter=150, solver=liblinear, tol=0.01 .................\n",
      "[CV]  C=0.1, max_iter=150, solver=liblinear, tol=0.01, score=0.7854039965247611, total=   0.0s\n",
      "[CV] C=0.1, max_iter=150, solver=liblinear, tol=0.01 .................\n",
      "[CV]  C=0.1, max_iter=150, solver=liblinear, tol=0.01, score=0.792354474370113, total=   0.0s\n",
      "[CV] C=0.1, max_iter=150, solver=liblinear, tol=0.01 .................\n",
      "[CV]  C=0.1, max_iter=150, solver=liblinear, tol=0.01, score=0.7815491731940818, total=   0.0s\n",
      "[CV] C=0.1, max_iter=150, solver=sag, tol=0.001 ......................\n"
     ]
    },
    {
     "name": "stderr",
     "output_type": "stream",
     "text": [
      "/home2/BigData/anaconda3/lib/python3.7/site-packages/sklearn/linear_model/sag.py:326: ConvergenceWarning: The max_iter was reached which means the coef_ did not converge\n",
      "  \"the coef_ did not converge\", ConvergenceWarning)\n",
      "/home2/BigData/anaconda3/lib/python3.7/site-packages/sklearn/linear_model/sag.py:326: ConvergenceWarning: The max_iter was reached which means the coef_ did not converge\n",
      "  \"the coef_ did not converge\", ConvergenceWarning)\n"
     ]
    },
    {
     "name": "stdout",
     "output_type": "stream",
     "text": [
      "[CV]  C=0.1, max_iter=150, solver=sag, tol=0.001, score=0.7602085143353605, total=   0.2s\n",
      "[CV] C=0.1, max_iter=150, solver=sag, tol=0.001 ......................\n",
      "[CV]  C=0.1, max_iter=150, solver=sag, tol=0.001, score=0.7845351867940921, total=   0.2s\n",
      "[CV] C=0.1, max_iter=150, solver=sag, tol=0.001 ......................\n"
     ]
    },
    {
     "name": "stderr",
     "output_type": "stream",
     "text": [
      "/home2/BigData/anaconda3/lib/python3.7/site-packages/sklearn/linear_model/sag.py:326: ConvergenceWarning: The max_iter was reached which means the coef_ did not converge\n",
      "  \"the coef_ did not converge\", ConvergenceWarning)\n",
      "/home2/BigData/anaconda3/lib/python3.7/site-packages/sklearn/linear_model/sag.py:326: ConvergenceWarning: The max_iter was reached which means the coef_ did not converge\n",
      "  \"the coef_ did not converge\", ConvergenceWarning)\n"
     ]
    },
    {
     "name": "stdout",
     "output_type": "stream",
     "text": [
      "[CV]  C=0.1, max_iter=150, solver=sag, tol=0.001, score=0.7641427328111401, total=   0.2s\n",
      "[CV] C=0.1, max_iter=150, solver=sag, tol=0.0001 .....................\n",
      "[CV]  C=0.1, max_iter=150, solver=sag, tol=0.0001, score=0.7602085143353605, total=   0.2s\n",
      "[CV] C=0.1, max_iter=150, solver=sag, tol=0.0001 .....................\n"
     ]
    },
    {
     "name": "stderr",
     "output_type": "stream",
     "text": [
      "/home2/BigData/anaconda3/lib/python3.7/site-packages/sklearn/linear_model/sag.py:326: ConvergenceWarning: The max_iter was reached which means the coef_ did not converge\n",
      "  \"the coef_ did not converge\", ConvergenceWarning)\n",
      "/home2/BigData/anaconda3/lib/python3.7/site-packages/sklearn/linear_model/sag.py:326: ConvergenceWarning: The max_iter was reached which means the coef_ did not converge\n",
      "  \"the coef_ did not converge\", ConvergenceWarning)\n"
     ]
    },
    {
     "name": "stdout",
     "output_type": "stream",
     "text": [
      "[CV]  C=0.1, max_iter=150, solver=sag, tol=0.0001, score=0.7845351867940921, total=   0.2s\n",
      "[CV] C=0.1, max_iter=150, solver=sag, tol=0.0001 .....................\n",
      "[CV]  C=0.1, max_iter=150, solver=sag, tol=0.0001, score=0.7641427328111401, total=   0.2s\n",
      "[CV] C=0.1, max_iter=150, solver=sag, tol=0.01 .......................\n",
      "[CV]  C=0.1, max_iter=150, solver=sag, tol=0.01, score=0.7489139878366637, total=   0.1s\n",
      "[CV] C=0.1, max_iter=150, solver=sag, tol=0.01 .......................\n",
      "[CV]  C=0.1, max_iter=150, solver=sag, tol=0.01, score=0.7784535186794093, total=   0.1s\n",
      "[CV] C=0.1, max_iter=150, solver=sag, tol=0.01 .......................\n",
      "[CV]  C=0.1, max_iter=150, solver=sag, tol=0.01, score=0.7615317667536988, total=   0.1s\n",
      "[CV] C=0.1, max_iter=150, solver=saga, tol=0.001 .....................\n"
     ]
    },
    {
     "name": "stderr",
     "output_type": "stream",
     "text": [
      "/home2/BigData/anaconda3/lib/python3.7/site-packages/sklearn/linear_model/sag.py:326: ConvergenceWarning: The max_iter was reached which means the coef_ did not converge\n",
      "  \"the coef_ did not converge\", ConvergenceWarning)\n"
     ]
    },
    {
     "name": "stdout",
     "output_type": "stream",
     "text": [
      "[CV]  C=0.1, max_iter=150, solver=saga, tol=0.001, score=0.7489139878366637, total=   0.2s\n",
      "[CV] C=0.1, max_iter=150, solver=saga, tol=0.001 .....................\n"
     ]
    },
    {
     "name": "stderr",
     "output_type": "stream",
     "text": [
      "/home2/BigData/anaconda3/lib/python3.7/site-packages/sklearn/linear_model/sag.py:326: ConvergenceWarning: The max_iter was reached which means the coef_ did not converge\n",
      "  \"the coef_ did not converge\", ConvergenceWarning)\n"
     ]
    },
    {
     "name": "stdout",
     "output_type": "stream",
     "text": [
      "[CV]  C=0.1, max_iter=150, solver=saga, tol=0.001, score=0.7758470894874022, total=   0.2s\n",
      "[CV] C=0.1, max_iter=150, solver=saga, tol=0.001 .....................\n"
     ]
    },
    {
     "name": "stderr",
     "output_type": "stream",
     "text": [
      "/home2/BigData/anaconda3/lib/python3.7/site-packages/sklearn/linear_model/sag.py:326: ConvergenceWarning: The max_iter was reached which means the coef_ did not converge\n",
      "  \"the coef_ did not converge\", ConvergenceWarning)\n"
     ]
    },
    {
     "name": "stdout",
     "output_type": "stream",
     "text": [
      "[CV]  C=0.1, max_iter=150, solver=saga, tol=0.001, score=0.7589208006962577, total=   0.2s\n",
      "[CV] C=0.1, max_iter=150, solver=saga, tol=0.0001 ....................\n"
     ]
    },
    {
     "name": "stderr",
     "output_type": "stream",
     "text": [
      "/home2/BigData/anaconda3/lib/python3.7/site-packages/sklearn/linear_model/sag.py:326: ConvergenceWarning: The max_iter was reached which means the coef_ did not converge\n",
      "  \"the coef_ did not converge\", ConvergenceWarning)\n"
     ]
    },
    {
     "name": "stdout",
     "output_type": "stream",
     "text": [
      "[CV]  C=0.1, max_iter=150, solver=saga, tol=0.0001, score=0.7489139878366637, total=   0.2s\n",
      "[CV] C=0.1, max_iter=150, solver=saga, tol=0.0001 ....................\n"
     ]
    },
    {
     "name": "stderr",
     "output_type": "stream",
     "text": [
      "/home2/BigData/anaconda3/lib/python3.7/site-packages/sklearn/linear_model/sag.py:326: ConvergenceWarning: The max_iter was reached which means the coef_ did not converge\n",
      "  \"the coef_ did not converge\", ConvergenceWarning)\n"
     ]
    },
    {
     "name": "stdout",
     "output_type": "stream",
     "text": [
      "[CV]  C=0.1, max_iter=150, solver=saga, tol=0.0001, score=0.7758470894874022, total=   0.2s\n",
      "[CV] C=0.1, max_iter=150, solver=saga, tol=0.0001 ....................\n"
     ]
    },
    {
     "name": "stderr",
     "output_type": "stream",
     "text": [
      "/home2/BigData/anaconda3/lib/python3.7/site-packages/sklearn/linear_model/sag.py:326: ConvergenceWarning: The max_iter was reached which means the coef_ did not converge\n",
      "  \"the coef_ did not converge\", ConvergenceWarning)\n"
     ]
    },
    {
     "name": "stdout",
     "output_type": "stream",
     "text": [
      "[CV]  C=0.1, max_iter=150, solver=saga, tol=0.0001, score=0.7589208006962577, total=   0.2s\n",
      "[CV] C=0.1, max_iter=150, solver=saga, tol=0.01 ......................\n",
      "[CV]  C=0.1, max_iter=150, solver=saga, tol=0.01, score=0.7532580364900087, total=   0.1s\n",
      "[CV] C=0.1, max_iter=150, solver=saga, tol=0.01 ......................\n",
      "[CV]  C=0.1, max_iter=150, solver=saga, tol=0.01, score=0.7767158992180713, total=   0.1s\n",
      "[CV] C=0.1, max_iter=150, solver=saga, tol=0.01 ......................\n",
      "[CV]  C=0.1, max_iter=150, solver=saga, tol=0.01, score=0.7493472584856397, total=   0.1s\n",
      "[CV] C=1, max_iter=50, solver=newton-cg, tol=0.001 ...................\n"
     ]
    },
    {
     "name": "stderr",
     "output_type": "stream",
     "text": [
      "/home2/BigData/anaconda3/lib/python3.7/site-packages/sklearn/utils/optimize.py:203: ConvergenceWarning: newton-cg failed to converge. Increase the number of iterations.\n",
      "  \"number of iterations.\", ConvergenceWarning)\n",
      "/home2/BigData/anaconda3/lib/python3.7/site-packages/sklearn/utils/optimize.py:203: ConvergenceWarning: newton-cg failed to converge. Increase the number of iterations.\n",
      "  \"number of iterations.\", ConvergenceWarning)\n"
     ]
    },
    {
     "name": "stdout",
     "output_type": "stream",
     "text": [
      "[CV]  C=1, max_iter=50, solver=newton-cg, tol=0.001, score=1.0, total=   0.2s\n",
      "[CV] C=1, max_iter=50, solver=newton-cg, tol=0.001 ...................\n",
      "[CV]  C=1, max_iter=50, solver=newton-cg, tol=0.001, score=1.0, total=   0.2s\n",
      "[CV] C=1, max_iter=50, solver=newton-cg, tol=0.001 ...................\n"
     ]
    },
    {
     "name": "stderr",
     "output_type": "stream",
     "text": [
      "/home2/BigData/anaconda3/lib/python3.7/site-packages/sklearn/utils/optimize.py:203: ConvergenceWarning: newton-cg failed to converge. Increase the number of iterations.\n",
      "  \"number of iterations.\", ConvergenceWarning)\n",
      "/home2/BigData/anaconda3/lib/python3.7/site-packages/sklearn/utils/optimize.py:203: ConvergenceWarning: newton-cg failed to converge. Increase the number of iterations.\n",
      "  \"number of iterations.\", ConvergenceWarning)\n"
     ]
    },
    {
     "name": "stdout",
     "output_type": "stream",
     "text": [
      "[CV]  C=1, max_iter=50, solver=newton-cg, tol=0.001, score=1.0, total=   0.2s\n",
      "[CV] C=1, max_iter=50, solver=newton-cg, tol=0.0001 ..................\n",
      "[CV]  C=1, max_iter=50, solver=newton-cg, tol=0.0001, score=1.0, total=   0.2s\n",
      "[CV] C=1, max_iter=50, solver=newton-cg, tol=0.0001 ..................\n"
     ]
    },
    {
     "name": "stderr",
     "output_type": "stream",
     "text": [
      "/home2/BigData/anaconda3/lib/python3.7/site-packages/sklearn/utils/optimize.py:203: ConvergenceWarning: newton-cg failed to converge. Increase the number of iterations.\n",
      "  \"number of iterations.\", ConvergenceWarning)\n",
      "/home2/BigData/anaconda3/lib/python3.7/site-packages/sklearn/utils/optimize.py:203: ConvergenceWarning: newton-cg failed to converge. Increase the number of iterations.\n",
      "  \"number of iterations.\", ConvergenceWarning)\n"
     ]
    },
    {
     "name": "stdout",
     "output_type": "stream",
     "text": [
      "[CV]  C=1, max_iter=50, solver=newton-cg, tol=0.0001, score=1.0, total=   0.2s\n",
      "[CV] C=1, max_iter=50, solver=newton-cg, tol=0.0001 ..................\n",
      "[CV]  C=1, max_iter=50, solver=newton-cg, tol=0.0001, score=1.0, total=   0.2s\n",
      "[CV] C=1, max_iter=50, solver=newton-cg, tol=0.01 ....................\n"
     ]
    },
    {
     "name": "stderr",
     "output_type": "stream",
     "text": [
      "/home2/BigData/anaconda3/lib/python3.7/site-packages/sklearn/utils/optimize.py:203: ConvergenceWarning: newton-cg failed to converge. Increase the number of iterations.\n",
      "  \"number of iterations.\", ConvergenceWarning)\n",
      "/home2/BigData/anaconda3/lib/python3.7/site-packages/sklearn/utils/optimize.py:203: ConvergenceWarning: newton-cg failed to converge. Increase the number of iterations.\n",
      "  \"number of iterations.\", ConvergenceWarning)\n"
     ]
    },
    {
     "name": "stdout",
     "output_type": "stream",
     "text": [
      "[CV]  C=1, max_iter=50, solver=newton-cg, tol=0.01, score=1.0, total=   0.2s\n",
      "[CV] C=1, max_iter=50, solver=newton-cg, tol=0.01 ....................\n",
      "[CV]  C=1, max_iter=50, solver=newton-cg, tol=0.01, score=1.0, total=   0.2s\n",
      "[CV] C=1, max_iter=50, solver=newton-cg, tol=0.01 ....................\n"
     ]
    },
    {
     "name": "stderr",
     "output_type": "stream",
     "text": [
      "/home2/BigData/anaconda3/lib/python3.7/site-packages/sklearn/utils/optimize.py:203: ConvergenceWarning: newton-cg failed to converge. Increase the number of iterations.\n",
      "  \"number of iterations.\", ConvergenceWarning)\n"
     ]
    },
    {
     "name": "stdout",
     "output_type": "stream",
     "text": [
      "[CV]  C=1, max_iter=50, solver=newton-cg, tol=0.01, score=1.0, total=   0.2s\n",
      "[CV] C=1, max_iter=50, solver=lbfgs, tol=0.001 .......................\n",
      "[CV]  C=1, max_iter=50, solver=lbfgs, tol=0.001, score=0.9869678540399652, total=   0.0s\n",
      "[CV] C=1, max_iter=50, solver=lbfgs, tol=0.001 .......................\n",
      "[CV]  C=1, max_iter=50, solver=lbfgs, tol=0.001, score=0.9669852302345786, total=   0.0s\n",
      "[CV] C=1, max_iter=50, solver=lbfgs, tol=0.001 .......................\n",
      "[CV]  C=1, max_iter=50, solver=lbfgs, tol=0.001, score=0.97911227154047, total=   0.0s\n",
      "[CV] C=1, max_iter=50, solver=lbfgs, tol=0.0001 ......................\n",
      "[CV]  C=1, max_iter=50, solver=lbfgs, tol=0.0001, score=0.9869678540399652, total=   0.0s\n",
      "[CV] C=1, max_iter=50, solver=lbfgs, tol=0.0001 ......................\n",
      "[CV]  C=1, max_iter=50, solver=lbfgs, tol=0.0001, score=0.9669852302345786, total=   0.0s\n",
      "[CV] C=1, max_iter=50, solver=lbfgs, tol=0.0001 ......................\n",
      "[CV]  C=1, max_iter=50, solver=lbfgs, tol=0.0001, score=0.97911227154047, total=   0.0s\n",
      "[CV] C=1, max_iter=50, solver=lbfgs, tol=0.01 ........................\n",
      "[CV]  C=1, max_iter=50, solver=lbfgs, tol=0.01, score=0.9869678540399652, total=   0.0s\n",
      "[CV] C=1, max_iter=50, solver=lbfgs, tol=0.01 ........................\n",
      "[CV]  C=1, max_iter=50, solver=lbfgs, tol=0.01, score=0.9669852302345786, total=   0.0s\n",
      "[CV] C=1, max_iter=50, solver=lbfgs, tol=0.01 ........................\n",
      "[CV]  C=1, max_iter=50, solver=lbfgs, tol=0.01, score=0.97911227154047, total=   0.0s\n",
      "[CV] C=1, max_iter=50, solver=liblinear, tol=0.001 ...................\n",
      "[CV]  C=1, max_iter=50, solver=liblinear, tol=0.001, score=0.8010425716768028, total=   0.0s\n",
      "[CV] C=1, max_iter=50, solver=liblinear, tol=0.001 ...................\n",
      "[CV]  C=1, max_iter=50, solver=liblinear, tol=0.001, score=0.996524761077324, total=   0.0s\n",
      "[CV] C=1, max_iter=50, solver=liblinear, tol=0.001 ...................\n",
      "[CV]  C=1, max_iter=50, solver=liblinear, tol=0.001, score=0.835509138381201, total=   0.0s\n",
      "[CV] C=1, max_iter=50, solver=liblinear, tol=0.0001 ..................\n",
      "[CV]  C=1, max_iter=50, solver=liblinear, tol=0.0001, score=1.0, total=   0.0s\n",
      "[CV] C=1, max_iter=50, solver=liblinear, tol=0.0001 ..................\n",
      "[CV]  C=1, max_iter=50, solver=liblinear, tol=0.0001, score=1.0, total=   0.0s\n",
      "[CV] C=1, max_iter=50, solver=liblinear, tol=0.0001 ..................\n",
      "[CV]  C=1, max_iter=50, solver=liblinear, tol=0.0001, score=1.0, total=   0.0s\n",
      "[CV] C=1, max_iter=50, solver=liblinear, tol=0.01 ....................\n",
      "[CV]  C=1, max_iter=50, solver=liblinear, tol=0.01, score=0.7854039965247611, total=   0.0s\n",
      "[CV] C=1, max_iter=50, solver=liblinear, tol=0.01 ....................\n",
      "[CV]  C=1, max_iter=50, solver=liblinear, tol=0.01, score=0.792354474370113, total=   0.0s\n",
      "[CV] C=1, max_iter=50, solver=liblinear, tol=0.01 ....................\n",
      "[CV]  C=1, max_iter=50, solver=liblinear, tol=0.01, score=0.7815491731940818, total=   0.0s\n",
      "[CV] C=1, max_iter=50, solver=sag, tol=0.001 .........................\n",
      "[CV]  C=1, max_iter=50, solver=sag, tol=0.001, score=0.7480451781059948, total=   0.1s\n",
      "[CV] C=1, max_iter=50, solver=sag, tol=0.001 .........................\n",
      "[CV]  C=1, max_iter=50, solver=sag, tol=0.001, score=0.7793223284100782, total=   0.1s\n",
      "[CV] C=1, max_iter=50, solver=sag, tol=0.001 .........................\n"
     ]
    },
    {
     "name": "stderr",
     "output_type": "stream",
     "text": [
      "/home2/BigData/anaconda3/lib/python3.7/site-packages/sklearn/linear_model/sag.py:326: ConvergenceWarning: The max_iter was reached which means the coef_ did not converge\n",
      "  \"the coef_ did not converge\", ConvergenceWarning)\n",
      "/home2/BigData/anaconda3/lib/python3.7/site-packages/sklearn/linear_model/sag.py:326: ConvergenceWarning: The max_iter was reached which means the coef_ did not converge\n",
      "  \"the coef_ did not converge\", ConvergenceWarning)\n",
      "/home2/BigData/anaconda3/lib/python3.7/site-packages/sklearn/linear_model/sag.py:326: ConvergenceWarning: The max_iter was reached which means the coef_ did not converge\n",
      "  \"the coef_ did not converge\", ConvergenceWarning)\n",
      "/home2/BigData/anaconda3/lib/python3.7/site-packages/sklearn/linear_model/sag.py:326: ConvergenceWarning: The max_iter was reached which means the coef_ did not converge\n",
      "  \"the coef_ did not converge\", ConvergenceWarning)\n"
     ]
    },
    {
     "name": "stdout",
     "output_type": "stream",
     "text": [
      "[CV]  C=1, max_iter=50, solver=sag, tol=0.001, score=0.7502175805047868, total=   0.1s\n",
      "[CV] C=1, max_iter=50, solver=sag, tol=0.0001 ........................\n",
      "[CV]  C=1, max_iter=50, solver=sag, tol=0.0001, score=0.7480451781059948, total=   0.1s\n",
      "[CV] C=1, max_iter=50, solver=sag, tol=0.0001 ........................\n",
      "[CV]  C=1, max_iter=50, solver=sag, tol=0.0001, score=0.7784535186794093, total=   0.1s\n",
      "[CV] C=1, max_iter=50, solver=sag, tol=0.0001 ........................\n",
      "[CV]  C=1, max_iter=50, solver=sag, tol=0.0001, score=0.7502175805047868, total=   0.1s\n",
      "[CV] C=1, max_iter=50, solver=sag, tol=0.01 ..........................\n"
     ]
    },
    {
     "name": "stderr",
     "output_type": "stream",
     "text": [
      "/home2/BigData/anaconda3/lib/python3.7/site-packages/sklearn/linear_model/sag.py:326: ConvergenceWarning: The max_iter was reached which means the coef_ did not converge\n",
      "  \"the coef_ did not converge\", ConvergenceWarning)\n",
      "/home2/BigData/anaconda3/lib/python3.7/site-packages/sklearn/linear_model/sag.py:326: ConvergenceWarning: The max_iter was reached which means the coef_ did not converge\n",
      "  \"the coef_ did not converge\", ConvergenceWarning)\n",
      "/home2/BigData/anaconda3/lib/python3.7/site-packages/sklearn/linear_model/sag.py:326: ConvergenceWarning: The max_iter was reached which means the coef_ did not converge\n",
      "  \"the coef_ did not converge\", ConvergenceWarning)\n"
     ]
    },
    {
     "name": "stdout",
     "output_type": "stream",
     "text": [
      "[CV]  C=1, max_iter=50, solver=sag, tol=0.01, score=0.7489139878366637, total=   0.1s\n",
      "[CV] C=1, max_iter=50, solver=sag, tol=0.01 ..........................\n",
      "[CV]  C=1, max_iter=50, solver=sag, tol=0.01, score=0.7793223284100782, total=   0.1s\n",
      "[CV] C=1, max_iter=50, solver=sag, tol=0.01 ..........................\n",
      "[CV]  C=1, max_iter=50, solver=sag, tol=0.01, score=0.7502175805047868, total=   0.1s\n",
      "[CV] C=1, max_iter=50, solver=saga, tol=0.001 ........................\n"
     ]
    },
    {
     "name": "stderr",
     "output_type": "stream",
     "text": [
      "/home2/BigData/anaconda3/lib/python3.7/site-packages/sklearn/linear_model/sag.py:326: ConvergenceWarning: The max_iter was reached which means the coef_ did not converge\n",
      "  \"the coef_ did not converge\", ConvergenceWarning)\n",
      "/home2/BigData/anaconda3/lib/python3.7/site-packages/sklearn/linear_model/sag.py:326: ConvergenceWarning: The max_iter was reached which means the coef_ did not converge\n",
      "  \"the coef_ did not converge\", ConvergenceWarning)\n",
      "/home2/BigData/anaconda3/lib/python3.7/site-packages/sklearn/linear_model/sag.py:326: ConvergenceWarning: The max_iter was reached which means the coef_ did not converge\n",
      "  \"the coef_ did not converge\", ConvergenceWarning)\n"
     ]
    },
    {
     "name": "stdout",
     "output_type": "stream",
     "text": [
      "[CV]  C=1, max_iter=50, solver=saga, tol=0.001, score=0.7541268462206777, total=   0.1s\n",
      "[CV] C=1, max_iter=50, solver=saga, tol=0.001 ........................\n",
      "[CV]  C=1, max_iter=50, solver=saga, tol=0.001, score=0.7749782797567333, total=   0.1s\n",
      "[CV] C=1, max_iter=50, solver=saga, tol=0.001 ........................\n"
     ]
    },
    {
     "name": "stderr",
     "output_type": "stream",
     "text": [
      "/home2/BigData/anaconda3/lib/python3.7/site-packages/sklearn/linear_model/sag.py:326: ConvergenceWarning: The max_iter was reached which means the coef_ did not converge\n",
      "  \"the coef_ did not converge\", ConvergenceWarning)\n",
      "/home2/BigData/anaconda3/lib/python3.7/site-packages/sklearn/linear_model/sag.py:326: ConvergenceWarning: The max_iter was reached which means the coef_ did not converge\n",
      "  \"the coef_ did not converge\", ConvergenceWarning)\n"
     ]
    },
    {
     "name": "stdout",
     "output_type": "stream",
     "text": [
      "[CV]  C=1, max_iter=50, solver=saga, tol=0.001, score=0.752828546562228, total=   0.1s\n",
      "[CV] C=1, max_iter=50, solver=saga, tol=0.0001 .......................\n",
      "[CV]  C=1, max_iter=50, solver=saga, tol=0.0001, score=0.7541268462206777, total=   0.1s\n",
      "[CV] C=1, max_iter=50, solver=saga, tol=0.0001 .......................\n"
     ]
    },
    {
     "name": "stderr",
     "output_type": "stream",
     "text": [
      "/home2/BigData/anaconda3/lib/python3.7/site-packages/sklearn/linear_model/sag.py:326: ConvergenceWarning: The max_iter was reached which means the coef_ did not converge\n",
      "  \"the coef_ did not converge\", ConvergenceWarning)\n",
      "/home2/BigData/anaconda3/lib/python3.7/site-packages/sklearn/linear_model/sag.py:326: ConvergenceWarning: The max_iter was reached which means the coef_ did not converge\n",
      "  \"the coef_ did not converge\", ConvergenceWarning)\n"
     ]
    },
    {
     "name": "stdout",
     "output_type": "stream",
     "text": [
      "[CV]  C=1, max_iter=50, solver=saga, tol=0.0001, score=0.7758470894874022, total=   0.1s\n",
      "[CV] C=1, max_iter=50, solver=saga, tol=0.0001 .......................\n",
      "[CV]  C=1, max_iter=50, solver=saga, tol=0.0001, score=0.7536988685813751, total=   0.1s\n",
      "[CV] C=1, max_iter=50, solver=saga, tol=0.01 .........................\n"
     ]
    },
    {
     "name": "stderr",
     "output_type": "stream",
     "text": [
      "/home2/BigData/anaconda3/lib/python3.7/site-packages/sklearn/linear_model/sag.py:326: ConvergenceWarning: The max_iter was reached which means the coef_ did not converge\n",
      "  \"the coef_ did not converge\", ConvergenceWarning)\n",
      "/home2/BigData/anaconda3/lib/python3.7/site-packages/sklearn/linear_model/sag.py:326: ConvergenceWarning: The max_iter was reached which means the coef_ did not converge\n",
      "  \"the coef_ did not converge\", ConvergenceWarning)\n"
     ]
    },
    {
     "name": "stdout",
     "output_type": "stream",
     "text": [
      "[CV]  C=1, max_iter=50, solver=saga, tol=0.01, score=0.7541268462206777, total=   0.1s\n",
      "[CV] C=1, max_iter=50, solver=saga, tol=0.01 .........................\n",
      "[CV]  C=1, max_iter=50, solver=saga, tol=0.01, score=0.7758470894874022, total=   0.1s\n",
      "[CV] C=1, max_iter=50, solver=saga, tol=0.01 .........................\n"
     ]
    },
    {
     "name": "stderr",
     "output_type": "stream",
     "text": [
      "/home2/BigData/anaconda3/lib/python3.7/site-packages/sklearn/linear_model/sag.py:326: ConvergenceWarning: The max_iter was reached which means the coef_ did not converge\n",
      "  \"the coef_ did not converge\", ConvergenceWarning)\n",
      "/home2/BigData/anaconda3/lib/python3.7/site-packages/sklearn/linear_model/sag.py:326: ConvergenceWarning: The max_iter was reached which means the coef_ did not converge\n",
      "  \"the coef_ did not converge\", ConvergenceWarning)\n"
     ]
    },
    {
     "name": "stdout",
     "output_type": "stream",
     "text": [
      "[CV]  C=1, max_iter=50, solver=saga, tol=0.01, score=0.752828546562228, total=   0.1s\n",
      "[CV] C=1, max_iter=100, solver=newton-cg, tol=0.001 ..................\n",
      "[CV]  C=1, max_iter=100, solver=newton-cg, tol=0.001, score=1.0, total=   0.3s\n",
      "[CV] C=1, max_iter=100, solver=newton-cg, tol=0.001 ..................\n",
      "[CV]  C=1, max_iter=100, solver=newton-cg, tol=0.001, score=1.0, total=   0.3s\n",
      "[CV] C=1, max_iter=100, solver=newton-cg, tol=0.001 ..................\n",
      "[CV]  C=1, max_iter=100, solver=newton-cg, tol=0.001, score=1.0, total=   0.2s\n",
      "[CV] C=1, max_iter=100, solver=newton-cg, tol=0.0001 .................\n",
      "[CV]  C=1, max_iter=100, solver=newton-cg, tol=0.0001, score=1.0, total=   0.2s\n",
      "[CV] C=1, max_iter=100, solver=newton-cg, tol=0.0001 .................\n",
      "[CV]  C=1, max_iter=100, solver=newton-cg, tol=0.0001, score=1.0, total=   0.3s\n",
      "[CV] C=1, max_iter=100, solver=newton-cg, tol=0.0001 .................\n",
      "[CV]  C=1, max_iter=100, solver=newton-cg, tol=0.0001, score=1.0, total=   0.3s\n",
      "[CV] C=1, max_iter=100, solver=newton-cg, tol=0.01 ...................\n",
      "[CV]  C=1, max_iter=100, solver=newton-cg, tol=0.01, score=1.0, total=   0.2s\n",
      "[CV] C=1, max_iter=100, solver=newton-cg, tol=0.01 ...................\n",
      "[CV]  C=1, max_iter=100, solver=newton-cg, tol=0.01, score=1.0, total=   0.2s\n",
      "[CV] C=1, max_iter=100, solver=newton-cg, tol=0.01 ...................\n",
      "[CV]  C=1, max_iter=100, solver=newton-cg, tol=0.01, score=1.0, total=   0.2s\n",
      "[CV] C=1, max_iter=100, solver=lbfgs, tol=0.001 ......................\n",
      "[CV]  C=1, max_iter=100, solver=lbfgs, tol=0.001, score=1.0, total=   0.1s\n",
      "[CV] C=1, max_iter=100, solver=lbfgs, tol=0.001 ......................\n",
      "[CV]  C=1, max_iter=100, solver=lbfgs, tol=0.001, score=1.0, total=   0.1s\n",
      "[CV] C=1, max_iter=100, solver=lbfgs, tol=0.001 ......................\n",
      "[CV]  C=1, max_iter=100, solver=lbfgs, tol=0.001, score=0.999129677980853, total=   0.0s\n",
      "[CV] C=1, max_iter=100, solver=lbfgs, tol=0.0001 .....................\n",
      "[CV]  C=1, max_iter=100, solver=lbfgs, tol=0.0001, score=1.0, total=   0.1s\n",
      "[CV] C=1, max_iter=100, solver=lbfgs, tol=0.0001 .....................\n",
      "[CV]  C=1, max_iter=100, solver=lbfgs, tol=0.0001, score=1.0, total=   0.1s\n",
      "[CV] C=1, max_iter=100, solver=lbfgs, tol=0.0001 .....................\n",
      "[CV]  C=1, max_iter=100, solver=lbfgs, tol=0.0001, score=0.999129677980853, total=   0.1s\n",
      "[CV] C=1, max_iter=100, solver=lbfgs, tol=0.01 .......................\n",
      "[CV]  C=1, max_iter=100, solver=lbfgs, tol=0.01, score=1.0, total=   0.0s\n",
      "[CV] C=1, max_iter=100, solver=lbfgs, tol=0.01 .......................\n",
      "[CV]  C=1, max_iter=100, solver=lbfgs, tol=0.01, score=1.0, total=   0.0s\n",
      "[CV] C=1, max_iter=100, solver=lbfgs, tol=0.01 .......................\n",
      "[CV]  C=1, max_iter=100, solver=lbfgs, tol=0.01, score=0.999129677980853, total=   0.0s\n",
      "[CV] C=1, max_iter=100, solver=liblinear, tol=0.001 ..................\n",
      "[CV]  C=1, max_iter=100, solver=liblinear, tol=0.001, score=0.8010425716768028, total=   0.0s\n",
      "[CV] C=1, max_iter=100, solver=liblinear, tol=0.001 ..................\n",
      "[CV]  C=1, max_iter=100, solver=liblinear, tol=0.001, score=0.996524761077324, total=   0.0s\n",
      "[CV] C=1, max_iter=100, solver=liblinear, tol=0.001 ..................\n",
      "[CV]  C=1, max_iter=100, solver=liblinear, tol=0.001, score=0.835509138381201, total=   0.0s\n",
      "[CV] C=1, max_iter=100, solver=liblinear, tol=0.0001 .................\n",
      "[CV]  C=1, max_iter=100, solver=liblinear, tol=0.0001, score=1.0, total=   0.0s\n",
      "[CV] C=1, max_iter=100, solver=liblinear, tol=0.0001 .................\n",
      "[CV]  C=1, max_iter=100, solver=liblinear, tol=0.0001, score=1.0, total=   0.0s\n",
      "[CV] C=1, max_iter=100, solver=liblinear, tol=0.0001 .................\n",
      "[CV]  C=1, max_iter=100, solver=liblinear, tol=0.0001, score=1.0, total=   0.0s\n",
      "[CV] C=1, max_iter=100, solver=liblinear, tol=0.01 ...................\n",
      "[CV]  C=1, max_iter=100, solver=liblinear, tol=0.01, score=0.7854039965247611, total=   0.0s\n",
      "[CV] C=1, max_iter=100, solver=liblinear, tol=0.01 ...................\n",
      "[CV]  C=1, max_iter=100, solver=liblinear, tol=0.01, score=0.792354474370113, total=   0.0s\n",
      "[CV] C=1, max_iter=100, solver=liblinear, tol=0.01 ...................\n",
      "[CV]  C=1, max_iter=100, solver=liblinear, tol=0.01, score=0.7815491731940818, total=   0.0s\n",
      "[CV] C=1, max_iter=100, solver=sag, tol=0.001 ........................\n"
     ]
    },
    {
     "name": "stderr",
     "output_type": "stream",
     "text": [
      "/home2/BigData/anaconda3/lib/python3.7/site-packages/sklearn/linear_model/sag.py:326: ConvergenceWarning: The max_iter was reached which means the coef_ did not converge\n",
      "  \"the coef_ did not converge\", ConvergenceWarning)\n",
      "/home2/BigData/anaconda3/lib/python3.7/site-packages/sklearn/linear_model/sag.py:326: ConvergenceWarning: The max_iter was reached which means the coef_ did not converge\n",
      "  \"the coef_ did not converge\", ConvergenceWarning)\n"
     ]
    },
    {
     "name": "stdout",
     "output_type": "stream",
     "text": [
      "[CV]  C=1, max_iter=100, solver=sag, tol=0.001, score=0.7515204170286707, total=   0.1s\n",
      "[CV] C=1, max_iter=100, solver=sag, tol=0.001 ........................\n",
      "[CV]  C=1, max_iter=100, solver=sag, tol=0.001, score=0.7784535186794093, total=   0.1s\n",
      "[CV] C=1, max_iter=100, solver=sag, tol=0.001 ........................\n"
     ]
    },
    {
     "name": "stderr",
     "output_type": "stream",
     "text": [
      "/home2/BigData/anaconda3/lib/python3.7/site-packages/sklearn/linear_model/sag.py:326: ConvergenceWarning: The max_iter was reached which means the coef_ did not converge\n",
      "  \"the coef_ did not converge\", ConvergenceWarning)\n",
      "/home2/BigData/anaconda3/lib/python3.7/site-packages/sklearn/linear_model/sag.py:326: ConvergenceWarning: The max_iter was reached which means the coef_ did not converge\n",
      "  \"the coef_ did not converge\", ConvergenceWarning)\n"
     ]
    },
    {
     "name": "stdout",
     "output_type": "stream",
     "text": [
      "[CV]  C=1, max_iter=100, solver=sag, tol=0.001, score=0.7589208006962577, total=   0.1s\n",
      "[CV] C=1, max_iter=100, solver=sag, tol=0.0001 .......................\n",
      "[CV]  C=1, max_iter=100, solver=sag, tol=0.0001, score=0.7515204170286707, total=   0.1s\n",
      "[CV] C=1, max_iter=100, solver=sag, tol=0.0001 .......................\n"
     ]
    },
    {
     "name": "stderr",
     "output_type": "stream",
     "text": [
      "/home2/BigData/anaconda3/lib/python3.7/site-packages/sklearn/linear_model/sag.py:326: ConvergenceWarning: The max_iter was reached which means the coef_ did not converge\n",
      "  \"the coef_ did not converge\", ConvergenceWarning)\n",
      "/home2/BigData/anaconda3/lib/python3.7/site-packages/sklearn/linear_model/sag.py:326: ConvergenceWarning: The max_iter was reached which means the coef_ did not converge\n",
      "  \"the coef_ did not converge\", ConvergenceWarning)\n"
     ]
    },
    {
     "name": "stdout",
     "output_type": "stream",
     "text": [
      "[CV]  C=1, max_iter=100, solver=sag, tol=0.0001, score=0.7784535186794093, total=   0.1s\n",
      "[CV] C=1, max_iter=100, solver=sag, tol=0.0001 .......................\n",
      "[CV]  C=1, max_iter=100, solver=sag, tol=0.0001, score=0.7589208006962577, total=   0.1s\n",
      "[CV] C=1, max_iter=100, solver=sag, tol=0.01 .........................\n",
      "[CV]  C=1, max_iter=100, solver=sag, tol=0.01, score=0.7489139878366637, total=   0.1s\n",
      "[CV] C=1, max_iter=100, solver=sag, tol=0.01 .........................\n",
      "[CV]  C=1, max_iter=100, solver=sag, tol=0.01, score=0.7784535186794093, total=   0.1s\n",
      "[CV] C=1, max_iter=100, solver=sag, tol=0.01 .........................\n",
      "[CV]  C=1, max_iter=100, solver=sag, tol=0.01, score=0.7615317667536988, total=   0.1s\n",
      "[CV] C=1, max_iter=100, solver=saga, tol=0.001 .......................\n"
     ]
    },
    {
     "name": "stderr",
     "output_type": "stream",
     "text": [
      "/home2/BigData/anaconda3/lib/python3.7/site-packages/sklearn/linear_model/sag.py:326: ConvergenceWarning: The max_iter was reached which means the coef_ did not converge\n",
      "  \"the coef_ did not converge\", ConvergenceWarning)\n",
      "/home2/BigData/anaconda3/lib/python3.7/site-packages/sklearn/linear_model/sag.py:326: ConvergenceWarning: The max_iter was reached which means the coef_ did not converge\n",
      "  \"the coef_ did not converge\", ConvergenceWarning)\n"
     ]
    },
    {
     "name": "stdout",
     "output_type": "stream",
     "text": [
      "[CV]  C=1, max_iter=100, solver=saga, tol=0.001, score=0.7497827975673328, total=   0.2s\n",
      "[CV] C=1, max_iter=100, solver=saga, tol=0.001 .......................\n",
      "[CV]  C=1, max_iter=100, solver=saga, tol=0.001, score=0.7784535186794093, total=   0.1s\n",
      "[CV] C=1, max_iter=100, solver=saga, tol=0.001 .......................\n"
     ]
    },
    {
     "name": "stderr",
     "output_type": "stream",
     "text": [
      "/home2/BigData/anaconda3/lib/python3.7/site-packages/sklearn/linear_model/sag.py:326: ConvergenceWarning: The max_iter was reached which means the coef_ did not converge\n",
      "  \"the coef_ did not converge\", ConvergenceWarning)\n",
      "/home2/BigData/anaconda3/lib/python3.7/site-packages/sklearn/linear_model/sag.py:326: ConvergenceWarning: The max_iter was reached which means the coef_ did not converge\n",
      "  \"the coef_ did not converge\", ConvergenceWarning)\n"
     ]
    },
    {
     "name": "stdout",
     "output_type": "stream",
     "text": [
      "[CV]  C=1, max_iter=100, solver=saga, tol=0.001, score=0.7493472584856397, total=   0.2s\n",
      "[CV] C=1, max_iter=100, solver=saga, tol=0.0001 ......................\n",
      "[CV]  C=1, max_iter=100, solver=saga, tol=0.0001, score=0.7497827975673328, total=   0.2s\n",
      "[CV] C=1, max_iter=100, solver=saga, tol=0.0001 ......................\n"
     ]
    },
    {
     "name": "stderr",
     "output_type": "stream",
     "text": [
      "/home2/BigData/anaconda3/lib/python3.7/site-packages/sklearn/linear_model/sag.py:326: ConvergenceWarning: The max_iter was reached which means the coef_ did not converge\n",
      "  \"the coef_ did not converge\", ConvergenceWarning)\n",
      "/home2/BigData/anaconda3/lib/python3.7/site-packages/sklearn/linear_model/sag.py:326: ConvergenceWarning: The max_iter was reached which means the coef_ did not converge\n",
      "  \"the coef_ did not converge\", ConvergenceWarning)\n"
     ]
    },
    {
     "name": "stdout",
     "output_type": "stream",
     "text": [
      "[CV]  C=1, max_iter=100, solver=saga, tol=0.0001, score=0.7784535186794093, total=   0.2s\n",
      "[CV] C=1, max_iter=100, solver=saga, tol=0.0001 ......................\n",
      "[CV]  C=1, max_iter=100, solver=saga, tol=0.0001, score=0.7493472584856397, total=   0.2s\n",
      "[CV] C=1, max_iter=100, solver=saga, tol=0.01 ........................\n",
      "[CV]  C=1, max_iter=100, solver=saga, tol=0.01, score=0.7532580364900087, total=   0.1s\n",
      "[CV] C=1, max_iter=100, solver=saga, tol=0.01 ........................\n",
      "[CV]  C=1, max_iter=100, solver=saga, tol=0.01, score=0.7767158992180713, total=   0.1s\n",
      "[CV] C=1, max_iter=100, solver=saga, tol=0.01 ........................\n",
      "[CV]  C=1, max_iter=100, solver=saga, tol=0.01, score=0.7493472584856397, total=   0.1s\n",
      "[CV] C=1, max_iter=150, solver=newton-cg, tol=0.001 ..................\n",
      "[CV]  C=1, max_iter=150, solver=newton-cg, tol=0.001, score=1.0, total=   0.2s\n",
      "[CV] C=1, max_iter=150, solver=newton-cg, tol=0.001 ..................\n",
      "[CV]  C=1, max_iter=150, solver=newton-cg, tol=0.001, score=1.0, total=   0.2s\n",
      "[CV] C=1, max_iter=150, solver=newton-cg, tol=0.001 ..................\n",
      "[CV]  C=1, max_iter=150, solver=newton-cg, tol=0.001, score=1.0, total=   0.2s\n",
      "[CV] C=1, max_iter=150, solver=newton-cg, tol=0.0001 .................\n",
      "[CV]  C=1, max_iter=150, solver=newton-cg, tol=0.0001, score=1.0, total=   0.3s\n",
      "[CV] C=1, max_iter=150, solver=newton-cg, tol=0.0001 .................\n",
      "[CV]  C=1, max_iter=150, solver=newton-cg, tol=0.0001, score=1.0, total=   0.2s\n",
      "[CV] C=1, max_iter=150, solver=newton-cg, tol=0.0001 .................\n",
      "[CV]  C=1, max_iter=150, solver=newton-cg, tol=0.0001, score=1.0, total=   0.2s\n",
      "[CV] C=1, max_iter=150, solver=newton-cg, tol=0.01 ...................\n",
      "[CV]  C=1, max_iter=150, solver=newton-cg, tol=0.01, score=1.0, total=   0.2s\n",
      "[CV] C=1, max_iter=150, solver=newton-cg, tol=0.01 ...................\n",
      "[CV]  C=1, max_iter=150, solver=newton-cg, tol=0.01, score=1.0, total=   0.2s\n",
      "[CV] C=1, max_iter=150, solver=newton-cg, tol=0.01 ...................\n",
      "[CV]  C=1, max_iter=150, solver=newton-cg, tol=0.01, score=1.0, total=   0.2s\n",
      "[CV] C=1, max_iter=150, solver=lbfgs, tol=0.001 ......................\n",
      "[CV]  C=1, max_iter=150, solver=lbfgs, tol=0.001, score=1.0, total=   0.1s\n",
      "[CV] C=1, max_iter=150, solver=lbfgs, tol=0.001 ......................\n",
      "[CV]  C=1, max_iter=150, solver=lbfgs, tol=0.001, score=1.0, total=   0.1s\n",
      "[CV] C=1, max_iter=150, solver=lbfgs, tol=0.001 ......................\n",
      "[CV]  C=1, max_iter=150, solver=lbfgs, tol=0.001, score=1.0, total=   0.1s\n",
      "[CV] C=1, max_iter=150, solver=lbfgs, tol=0.0001 .....................\n",
      "[CV]  C=1, max_iter=150, solver=lbfgs, tol=0.0001, score=1.0, total=   0.1s\n",
      "[CV] C=1, max_iter=150, solver=lbfgs, tol=0.0001 .....................\n",
      "[CV]  C=1, max_iter=150, solver=lbfgs, tol=0.0001, score=1.0, total=   0.1s\n",
      "[CV] C=1, max_iter=150, solver=lbfgs, tol=0.0001 .....................\n",
      "[CV]  C=1, max_iter=150, solver=lbfgs, tol=0.0001, score=1.0, total=   0.1s\n",
      "[CV] C=1, max_iter=150, solver=lbfgs, tol=0.01 .......................\n",
      "[CV]  C=1, max_iter=150, solver=lbfgs, tol=0.01, score=1.0, total=   0.1s\n",
      "[CV] C=1, max_iter=150, solver=lbfgs, tol=0.01 .......................\n",
      "[CV]  C=1, max_iter=150, solver=lbfgs, tol=0.01, score=1.0, total=   0.1s\n",
      "[CV] C=1, max_iter=150, solver=lbfgs, tol=0.01 .......................\n",
      "[CV]  C=1, max_iter=150, solver=lbfgs, tol=0.01, score=1.0, total=   0.1s\n",
      "[CV] C=1, max_iter=150, solver=liblinear, tol=0.001 ..................\n",
      "[CV]  C=1, max_iter=150, solver=liblinear, tol=0.001, score=0.8010425716768028, total=   0.0s\n",
      "[CV] C=1, max_iter=150, solver=liblinear, tol=0.001 ..................\n",
      "[CV]  C=1, max_iter=150, solver=liblinear, tol=0.001, score=0.996524761077324, total=   0.0s\n",
      "[CV] C=1, max_iter=150, solver=liblinear, tol=0.001 ..................\n",
      "[CV]  C=1, max_iter=150, solver=liblinear, tol=0.001, score=0.835509138381201, total=   0.0s\n",
      "[CV] C=1, max_iter=150, solver=liblinear, tol=0.0001 .................\n",
      "[CV]  C=1, max_iter=150, solver=liblinear, tol=0.0001, score=1.0, total=   0.0s\n",
      "[CV] C=1, max_iter=150, solver=liblinear, tol=0.0001 .................\n",
      "[CV]  C=1, max_iter=150, solver=liblinear, tol=0.0001, score=1.0, total=   0.0s\n",
      "[CV] C=1, max_iter=150, solver=liblinear, tol=0.0001 .................\n",
      "[CV]  C=1, max_iter=150, solver=liblinear, tol=0.0001, score=1.0, total=   0.0s\n",
      "[CV] C=1, max_iter=150, solver=liblinear, tol=0.01 ...................\n",
      "[CV]  C=1, max_iter=150, solver=liblinear, tol=0.01, score=0.7854039965247611, total=   0.0s\n",
      "[CV] C=1, max_iter=150, solver=liblinear, tol=0.01 ...................\n",
      "[CV]  C=1, max_iter=150, solver=liblinear, tol=0.01, score=0.792354474370113, total=   0.0s\n",
      "[CV] C=1, max_iter=150, solver=liblinear, tol=0.01 ...................\n",
      "[CV]  C=1, max_iter=150, solver=liblinear, tol=0.01, score=0.7815491731940818, total=   0.0s\n",
      "[CV] C=1, max_iter=150, solver=sag, tol=0.001 ........................\n"
     ]
    },
    {
     "name": "stderr",
     "output_type": "stream",
     "text": [
      "/home2/BigData/anaconda3/lib/python3.7/site-packages/sklearn/linear_model/sag.py:326: ConvergenceWarning: The max_iter was reached which means the coef_ did not converge\n",
      "  \"the coef_ did not converge\", ConvergenceWarning)\n"
     ]
    },
    {
     "name": "stdout",
     "output_type": "stream",
     "text": [
      "[CV]  C=1, max_iter=150, solver=sag, tol=0.001, score=0.7602085143353605, total=   0.2s\n",
      "[CV] C=1, max_iter=150, solver=sag, tol=0.001 ........................\n"
     ]
    },
    {
     "name": "stderr",
     "output_type": "stream",
     "text": [
      "/home2/BigData/anaconda3/lib/python3.7/site-packages/sklearn/linear_model/sag.py:326: ConvergenceWarning: The max_iter was reached which means the coef_ did not converge\n",
      "  \"the coef_ did not converge\", ConvergenceWarning)\n",
      "/home2/BigData/anaconda3/lib/python3.7/site-packages/sklearn/linear_model/sag.py:326: ConvergenceWarning: The max_iter was reached which means the coef_ did not converge\n",
      "  \"the coef_ did not converge\", ConvergenceWarning)\n"
     ]
    },
    {
     "name": "stdout",
     "output_type": "stream",
     "text": [
      "[CV]  C=1, max_iter=150, solver=sag, tol=0.001, score=0.7845351867940921, total=   0.2s\n",
      "[CV] C=1, max_iter=150, solver=sag, tol=0.001 ........................\n",
      "[CV]  C=1, max_iter=150, solver=sag, tol=0.001, score=0.7641427328111401, total=   0.2s\n",
      "[CV] C=1, max_iter=150, solver=sag, tol=0.0001 .......................\n"
     ]
    },
    {
     "name": "stderr",
     "output_type": "stream",
     "text": [
      "/home2/BigData/anaconda3/lib/python3.7/site-packages/sklearn/linear_model/sag.py:326: ConvergenceWarning: The max_iter was reached which means the coef_ did not converge\n",
      "  \"the coef_ did not converge\", ConvergenceWarning)\n",
      "/home2/BigData/anaconda3/lib/python3.7/site-packages/sklearn/linear_model/sag.py:326: ConvergenceWarning: The max_iter was reached which means the coef_ did not converge\n",
      "  \"the coef_ did not converge\", ConvergenceWarning)\n"
     ]
    },
    {
     "name": "stdout",
     "output_type": "stream",
     "text": [
      "[CV]  C=1, max_iter=150, solver=sag, tol=0.0001, score=0.7602085143353605, total=   0.2s\n",
      "[CV] C=1, max_iter=150, solver=sag, tol=0.0001 .......................\n",
      "[CV]  C=1, max_iter=150, solver=sag, tol=0.0001, score=0.7845351867940921, total=   0.2s\n",
      "[CV] C=1, max_iter=150, solver=sag, tol=0.0001 .......................\n"
     ]
    },
    {
     "name": "stderr",
     "output_type": "stream",
     "text": [
      "/home2/BigData/anaconda3/lib/python3.7/site-packages/sklearn/linear_model/sag.py:326: ConvergenceWarning: The max_iter was reached which means the coef_ did not converge\n",
      "  \"the coef_ did not converge\", ConvergenceWarning)\n"
     ]
    },
    {
     "name": "stdout",
     "output_type": "stream",
     "text": [
      "[CV]  C=1, max_iter=150, solver=sag, tol=0.0001, score=0.7641427328111401, total=   0.2s\n",
      "[CV] C=1, max_iter=150, solver=sag, tol=0.01 .........................\n",
      "[CV]  C=1, max_iter=150, solver=sag, tol=0.01, score=0.7489139878366637, total=   0.1s\n",
      "[CV] C=1, max_iter=150, solver=sag, tol=0.01 .........................\n",
      "[CV]  C=1, max_iter=150, solver=sag, tol=0.01, score=0.7784535186794093, total=   0.1s\n",
      "[CV] C=1, max_iter=150, solver=sag, tol=0.01 .........................\n",
      "[CV]  C=1, max_iter=150, solver=sag, tol=0.01, score=0.7606614447345518, total=   0.1s\n",
      "[CV] C=1, max_iter=150, solver=saga, tol=0.001 .......................\n"
     ]
    },
    {
     "name": "stderr",
     "output_type": "stream",
     "text": [
      "/home2/BigData/anaconda3/lib/python3.7/site-packages/sklearn/linear_model/sag.py:326: ConvergenceWarning: The max_iter was reached which means the coef_ did not converge\n",
      "  \"the coef_ did not converge\", ConvergenceWarning)\n"
     ]
    },
    {
     "name": "stdout",
     "output_type": "stream",
     "text": [
      "[CV]  C=1, max_iter=150, solver=saga, tol=0.001, score=0.7489139878366637, total=   0.2s\n",
      "[CV] C=1, max_iter=150, solver=saga, tol=0.001 .......................\n"
     ]
    },
    {
     "name": "stderr",
     "output_type": "stream",
     "text": [
      "/home2/BigData/anaconda3/lib/python3.7/site-packages/sklearn/linear_model/sag.py:326: ConvergenceWarning: The max_iter was reached which means the coef_ did not converge\n",
      "  \"the coef_ did not converge\", ConvergenceWarning)\n"
     ]
    },
    {
     "name": "stdout",
     "output_type": "stream",
     "text": [
      "[CV]  C=1, max_iter=150, solver=saga, tol=0.001, score=0.7758470894874022, total=   0.2s\n",
      "[CV] C=1, max_iter=150, solver=saga, tol=0.001 .......................\n"
     ]
    },
    {
     "name": "stderr",
     "output_type": "stream",
     "text": [
      "/home2/BigData/anaconda3/lib/python3.7/site-packages/sklearn/linear_model/sag.py:326: ConvergenceWarning: The max_iter was reached which means the coef_ did not converge\n",
      "  \"the coef_ did not converge\", ConvergenceWarning)\n"
     ]
    },
    {
     "name": "stdout",
     "output_type": "stream",
     "text": [
      "[CV]  C=1, max_iter=150, solver=saga, tol=0.001, score=0.7589208006962577, total=   0.2s\n",
      "[CV] C=1, max_iter=150, solver=saga, tol=0.0001 ......................\n"
     ]
    },
    {
     "name": "stderr",
     "output_type": "stream",
     "text": [
      "/home2/BigData/anaconda3/lib/python3.7/site-packages/sklearn/linear_model/sag.py:326: ConvergenceWarning: The max_iter was reached which means the coef_ did not converge\n",
      "  \"the coef_ did not converge\", ConvergenceWarning)\n"
     ]
    },
    {
     "name": "stdout",
     "output_type": "stream",
     "text": [
      "[CV]  C=1, max_iter=150, solver=saga, tol=0.0001, score=0.7489139878366637, total=   0.2s\n",
      "[CV] C=1, max_iter=150, solver=saga, tol=0.0001 ......................\n"
     ]
    },
    {
     "name": "stderr",
     "output_type": "stream",
     "text": [
      "/home2/BigData/anaconda3/lib/python3.7/site-packages/sklearn/linear_model/sag.py:326: ConvergenceWarning: The max_iter was reached which means the coef_ did not converge\n",
      "  \"the coef_ did not converge\", ConvergenceWarning)\n"
     ]
    },
    {
     "name": "stdout",
     "output_type": "stream",
     "text": [
      "[CV]  C=1, max_iter=150, solver=saga, tol=0.0001, score=0.7758470894874022, total=   0.2s\n",
      "[CV] C=1, max_iter=150, solver=saga, tol=0.0001 ......................\n"
     ]
    },
    {
     "name": "stderr",
     "output_type": "stream",
     "text": [
      "/home2/BigData/anaconda3/lib/python3.7/site-packages/sklearn/linear_model/sag.py:326: ConvergenceWarning: The max_iter was reached which means the coef_ did not converge\n",
      "  \"the coef_ did not converge\", ConvergenceWarning)\n"
     ]
    },
    {
     "name": "stdout",
     "output_type": "stream",
     "text": [
      "[CV]  C=1, max_iter=150, solver=saga, tol=0.0001, score=0.7589208006962577, total=   0.2s\n",
      "[CV] C=1, max_iter=150, solver=saga, tol=0.01 ........................\n",
      "[CV]  C=1, max_iter=150, solver=saga, tol=0.01, score=0.7532580364900087, total=   0.1s\n",
      "[CV] C=1, max_iter=150, solver=saga, tol=0.01 ........................\n",
      "[CV]  C=1, max_iter=150, solver=saga, tol=0.01, score=0.7767158992180713, total=   0.1s\n",
      "[CV] C=1, max_iter=150, solver=saga, tol=0.01 ........................\n",
      "[CV]  C=1, max_iter=150, solver=saga, tol=0.01, score=0.7493472584856397, total=   0.1s\n",
      "[CV] C=10, max_iter=50, solver=newton-cg, tol=0.001 ..................\n"
     ]
    },
    {
     "name": "stderr",
     "output_type": "stream",
     "text": [
      "/home2/BigData/anaconda3/lib/python3.7/site-packages/sklearn/utils/optimize.py:203: ConvergenceWarning: newton-cg failed to converge. Increase the number of iterations.\n",
      "  \"number of iterations.\", ConvergenceWarning)\n",
      "/home2/BigData/anaconda3/lib/python3.7/site-packages/sklearn/utils/optimize.py:203: ConvergenceWarning: newton-cg failed to converge. Increase the number of iterations.\n",
      "  \"number of iterations.\", ConvergenceWarning)\n"
     ]
    },
    {
     "name": "stdout",
     "output_type": "stream",
     "text": [
      "[CV]  C=10, max_iter=50, solver=newton-cg, tol=0.001, score=1.0, total=   0.1s\n",
      "[CV] C=10, max_iter=50, solver=newton-cg, tol=0.001 ..................\n",
      "[CV]  C=10, max_iter=50, solver=newton-cg, tol=0.001, score=1.0, total=   0.1s\n",
      "[CV] C=10, max_iter=50, solver=newton-cg, tol=0.001 ..................\n"
     ]
    },
    {
     "name": "stderr",
     "output_type": "stream",
     "text": [
      "/home2/BigData/anaconda3/lib/python3.7/site-packages/sklearn/utils/optimize.py:203: ConvergenceWarning: newton-cg failed to converge. Increase the number of iterations.\n",
      "  \"number of iterations.\", ConvergenceWarning)\n",
      "/home2/BigData/anaconda3/lib/python3.7/site-packages/sklearn/utils/optimize.py:203: ConvergenceWarning: newton-cg failed to converge. Increase the number of iterations.\n",
      "  \"number of iterations.\", ConvergenceWarning)\n"
     ]
    },
    {
     "name": "stdout",
     "output_type": "stream",
     "text": [
      "[CV]  C=10, max_iter=50, solver=newton-cg, tol=0.001, score=1.0, total=   0.2s\n",
      "[CV] C=10, max_iter=50, solver=newton-cg, tol=0.0001 .................\n",
      "[CV]  C=10, max_iter=50, solver=newton-cg, tol=0.0001, score=1.0, total=   0.1s\n",
      "[CV] C=10, max_iter=50, solver=newton-cg, tol=0.0001 .................\n"
     ]
    },
    {
     "name": "stderr",
     "output_type": "stream",
     "text": [
      "/home2/BigData/anaconda3/lib/python3.7/site-packages/sklearn/utils/optimize.py:203: ConvergenceWarning: newton-cg failed to converge. Increase the number of iterations.\n",
      "  \"number of iterations.\", ConvergenceWarning)\n",
      "/home2/BigData/anaconda3/lib/python3.7/site-packages/sklearn/utils/optimize.py:203: ConvergenceWarning: newton-cg failed to converge. Increase the number of iterations.\n",
      "  \"number of iterations.\", ConvergenceWarning)\n"
     ]
    },
    {
     "name": "stdout",
     "output_type": "stream",
     "text": [
      "[CV]  C=10, max_iter=50, solver=newton-cg, tol=0.0001, score=1.0, total=   0.2s\n",
      "[CV] C=10, max_iter=50, solver=newton-cg, tol=0.0001 .................\n",
      "[CV]  C=10, max_iter=50, solver=newton-cg, tol=0.0001, score=1.0, total=   0.2s\n",
      "[CV] C=10, max_iter=50, solver=newton-cg, tol=0.01 ...................\n"
     ]
    },
    {
     "name": "stderr",
     "output_type": "stream",
     "text": [
      "/home2/BigData/anaconda3/lib/python3.7/site-packages/sklearn/utils/optimize.py:203: ConvergenceWarning: newton-cg failed to converge. Increase the number of iterations.\n",
      "  \"number of iterations.\", ConvergenceWarning)\n",
      "/home2/BigData/anaconda3/lib/python3.7/site-packages/sklearn/utils/optimize.py:203: ConvergenceWarning: newton-cg failed to converge. Increase the number of iterations.\n",
      "  \"number of iterations.\", ConvergenceWarning)\n"
     ]
    },
    {
     "name": "stdout",
     "output_type": "stream",
     "text": [
      "[CV]  C=10, max_iter=50, solver=newton-cg, tol=0.01, score=1.0, total=   0.1s\n",
      "[CV] C=10, max_iter=50, solver=newton-cg, tol=0.01 ...................\n",
      "[CV]  C=10, max_iter=50, solver=newton-cg, tol=0.01, score=1.0, total=   0.1s\n",
      "[CV] C=10, max_iter=50, solver=newton-cg, tol=0.01 ...................\n"
     ]
    },
    {
     "name": "stderr",
     "output_type": "stream",
     "text": [
      "/home2/BigData/anaconda3/lib/python3.7/site-packages/sklearn/utils/optimize.py:203: ConvergenceWarning: newton-cg failed to converge. Increase the number of iterations.\n",
      "  \"number of iterations.\", ConvergenceWarning)\n"
     ]
    },
    {
     "name": "stdout",
     "output_type": "stream",
     "text": [
      "[CV]  C=10, max_iter=50, solver=newton-cg, tol=0.01, score=1.0, total=   0.2s\n",
      "[CV] C=10, max_iter=50, solver=lbfgs, tol=0.001 ......................\n",
      "[CV]  C=10, max_iter=50, solver=lbfgs, tol=0.001, score=0.9860990443092963, total=   0.0s\n",
      "[CV] C=10, max_iter=50, solver=lbfgs, tol=0.001 ......................\n",
      "[CV]  C=10, max_iter=50, solver=lbfgs, tol=0.001, score=0.9661164205039097, total=   0.0s\n",
      "[CV] C=10, max_iter=50, solver=lbfgs, tol=0.001 ......................\n",
      "[CV]  C=10, max_iter=50, solver=lbfgs, tol=0.001, score=0.9782419495213229, total=   0.0s\n",
      "[CV] C=10, max_iter=50, solver=lbfgs, tol=0.0001 .....................\n",
      "[CV]  C=10, max_iter=50, solver=lbfgs, tol=0.0001, score=0.9860990443092963, total=   0.0s\n",
      "[CV] C=10, max_iter=50, solver=lbfgs, tol=0.0001 .....................\n",
      "[CV]  C=10, max_iter=50, solver=lbfgs, tol=0.0001, score=0.9661164205039097, total=   0.0s\n",
      "[CV] C=10, max_iter=50, solver=lbfgs, tol=0.0001 .....................\n",
      "[CV]  C=10, max_iter=50, solver=lbfgs, tol=0.0001, score=0.9782419495213229, total=   0.0s\n",
      "[CV] C=10, max_iter=50, solver=lbfgs, tol=0.01 .......................\n",
      "[CV]  C=10, max_iter=50, solver=lbfgs, tol=0.01, score=0.9860990443092963, total=   0.0s\n",
      "[CV] C=10, max_iter=50, solver=lbfgs, tol=0.01 .......................\n",
      "[CV]  C=10, max_iter=50, solver=lbfgs, tol=0.01, score=0.9661164205039097, total=   0.0s\n",
      "[CV] C=10, max_iter=50, solver=lbfgs, tol=0.01 .......................\n",
      "[CV]  C=10, max_iter=50, solver=lbfgs, tol=0.01, score=0.9782419495213229, total=   0.0s\n",
      "[CV] C=10, max_iter=50, solver=liblinear, tol=0.001 ..................\n",
      "[CV]  C=10, max_iter=50, solver=liblinear, tol=0.001, score=0.8010425716768028, total=   0.0s\n",
      "[CV] C=10, max_iter=50, solver=liblinear, tol=0.001 ..................\n",
      "[CV]  C=10, max_iter=50, solver=liblinear, tol=0.001, score=0.996524761077324, total=   0.0s\n",
      "[CV] C=10, max_iter=50, solver=liblinear, tol=0.001 ..................\n",
      "[CV]  C=10, max_iter=50, solver=liblinear, tol=0.001, score=0.835509138381201, total=   0.0s\n",
      "[CV] C=10, max_iter=50, solver=liblinear, tol=0.0001 .................\n",
      "[CV]  C=10, max_iter=50, solver=liblinear, tol=0.0001, score=1.0, total=   0.0s\n",
      "[CV] C=10, max_iter=50, solver=liblinear, tol=0.0001 .................\n",
      "[CV]  C=10, max_iter=50, solver=liblinear, tol=0.0001, score=1.0, total=   0.0s\n",
      "[CV] C=10, max_iter=50, solver=liblinear, tol=0.0001 .................\n",
      "[CV]  C=10, max_iter=50, solver=liblinear, tol=0.0001, score=1.0, total=   0.0s\n",
      "[CV] C=10, max_iter=50, solver=liblinear, tol=0.01 ...................\n",
      "[CV]  C=10, max_iter=50, solver=liblinear, tol=0.01, score=0.7854039965247611, total=   0.0s\n",
      "[CV] C=10, max_iter=50, solver=liblinear, tol=0.01 ...................\n",
      "[CV]  C=10, max_iter=50, solver=liblinear, tol=0.01, score=0.792354474370113, total=   0.0s\n",
      "[CV] C=10, max_iter=50, solver=liblinear, tol=0.01 ...................\n",
      "[CV]  C=10, max_iter=50, solver=liblinear, tol=0.01, score=0.7815491731940818, total=   0.0s\n",
      "[CV] C=10, max_iter=50, solver=sag, tol=0.001 ........................\n"
     ]
    },
    {
     "name": "stderr",
     "output_type": "stream",
     "text": [
      "/home2/BigData/anaconda3/lib/python3.7/site-packages/sklearn/linear_model/sag.py:326: ConvergenceWarning: The max_iter was reached which means the coef_ did not converge\n",
      "  \"the coef_ did not converge\", ConvergenceWarning)\n",
      "/home2/BigData/anaconda3/lib/python3.7/site-packages/sklearn/linear_model/sag.py:326: ConvergenceWarning: The max_iter was reached which means the coef_ did not converge\n",
      "  \"the coef_ did not converge\", ConvergenceWarning)\n",
      "/home2/BigData/anaconda3/lib/python3.7/site-packages/sklearn/linear_model/sag.py:326: ConvergenceWarning: The max_iter was reached which means the coef_ did not converge\n",
      "  \"the coef_ did not converge\", ConvergenceWarning)\n",
      "/home2/BigData/anaconda3/lib/python3.7/site-packages/sklearn/linear_model/sag.py:326: ConvergenceWarning: The max_iter was reached which means the coef_ did not converge\n",
      "  \"the coef_ did not converge\", ConvergenceWarning)\n"
     ]
    },
    {
     "name": "stdout",
     "output_type": "stream",
     "text": [
      "[CV]  C=10, max_iter=50, solver=sag, tol=0.001, score=0.7489139878366637, total=   0.1s\n",
      "[CV] C=10, max_iter=50, solver=sag, tol=0.001 ........................\n",
      "[CV]  C=10, max_iter=50, solver=sag, tol=0.001, score=0.7793223284100782, total=   0.1s\n",
      "[CV] C=10, max_iter=50, solver=sag, tol=0.001 ........................\n",
      "[CV]  C=10, max_iter=50, solver=sag, tol=0.001, score=0.7502175805047868, total=   0.1s\n",
      "[CV] C=10, max_iter=50, solver=sag, tol=0.0001 .......................\n",
      "[CV]  C=10, max_iter=50, solver=sag, tol=0.0001, score=0.7489139878366637, total=   0.1s\n",
      "[CV] C=10, max_iter=50, solver=sag, tol=0.0001 .......................\n"
     ]
    },
    {
     "name": "stderr",
     "output_type": "stream",
     "text": [
      "/home2/BigData/anaconda3/lib/python3.7/site-packages/sklearn/linear_model/sag.py:326: ConvergenceWarning: The max_iter was reached which means the coef_ did not converge\n",
      "  \"the coef_ did not converge\", ConvergenceWarning)\n",
      "/home2/BigData/anaconda3/lib/python3.7/site-packages/sklearn/linear_model/sag.py:326: ConvergenceWarning: The max_iter was reached which means the coef_ did not converge\n",
      "  \"the coef_ did not converge\", ConvergenceWarning)\n",
      "/home2/BigData/anaconda3/lib/python3.7/site-packages/sklearn/linear_model/sag.py:326: ConvergenceWarning: The max_iter was reached which means the coef_ did not converge\n",
      "  \"the coef_ did not converge\", ConvergenceWarning)\n",
      "/home2/BigData/anaconda3/lib/python3.7/site-packages/sklearn/linear_model/sag.py:326: ConvergenceWarning: The max_iter was reached which means the coef_ did not converge\n",
      "  \"the coef_ did not converge\", ConvergenceWarning)\n"
     ]
    },
    {
     "name": "stdout",
     "output_type": "stream",
     "text": [
      "[CV]  C=10, max_iter=50, solver=sag, tol=0.0001, score=0.7793223284100782, total=   0.1s\n",
      "[CV] C=10, max_iter=50, solver=sag, tol=0.0001 .......................\n",
      "[CV]  C=10, max_iter=50, solver=sag, tol=0.0001, score=0.7502175805047868, total=   0.1s\n",
      "[CV] C=10, max_iter=50, solver=sag, tol=0.01 .........................\n",
      "[CV]  C=10, max_iter=50, solver=sag, tol=0.01, score=0.7489139878366637, total=   0.1s\n",
      "[CV] C=10, max_iter=50, solver=sag, tol=0.01 .........................\n",
      "[CV]  C=10, max_iter=50, solver=sag, tol=0.01, score=0.7793223284100782, total=   0.1s\n",
      "[CV] C=10, max_iter=50, solver=sag, tol=0.01 .........................\n"
     ]
    },
    {
     "name": "stderr",
     "output_type": "stream",
     "text": [
      "/home2/BigData/anaconda3/lib/python3.7/site-packages/sklearn/linear_model/sag.py:326: ConvergenceWarning: The max_iter was reached which means the coef_ did not converge\n",
      "  \"the coef_ did not converge\", ConvergenceWarning)\n",
      "/home2/BigData/anaconda3/lib/python3.7/site-packages/sklearn/linear_model/sag.py:326: ConvergenceWarning: The max_iter was reached which means the coef_ did not converge\n",
      "  \"the coef_ did not converge\", ConvergenceWarning)\n",
      "/home2/BigData/anaconda3/lib/python3.7/site-packages/sklearn/linear_model/sag.py:326: ConvergenceWarning: The max_iter was reached which means the coef_ did not converge\n",
      "  \"the coef_ did not converge\", ConvergenceWarning)\n"
     ]
    },
    {
     "name": "stdout",
     "output_type": "stream",
     "text": [
      "[CV]  C=10, max_iter=50, solver=sag, tol=0.01, score=0.7502175805047868, total=   0.1s\n",
      "[CV] C=10, max_iter=50, solver=saga, tol=0.001 .......................\n",
      "[CV]  C=10, max_iter=50, solver=saga, tol=0.001, score=0.7541268462206777, total=   0.1s\n",
      "[CV] C=10, max_iter=50, solver=saga, tol=0.001 .......................\n",
      "[CV]  C=10, max_iter=50, solver=saga, tol=0.001, score=0.7758470894874022, total=   0.1s\n",
      "[CV] C=10, max_iter=50, solver=saga, tol=0.001 .......................\n"
     ]
    },
    {
     "name": "stderr",
     "output_type": "stream",
     "text": [
      "/home2/BigData/anaconda3/lib/python3.7/site-packages/sklearn/linear_model/sag.py:326: ConvergenceWarning: The max_iter was reached which means the coef_ did not converge\n",
      "  \"the coef_ did not converge\", ConvergenceWarning)\n",
      "/home2/BigData/anaconda3/lib/python3.7/site-packages/sklearn/linear_model/sag.py:326: ConvergenceWarning: The max_iter was reached which means the coef_ did not converge\n",
      "  \"the coef_ did not converge\", ConvergenceWarning)\n",
      "/home2/BigData/anaconda3/lib/python3.7/site-packages/sklearn/linear_model/sag.py:326: ConvergenceWarning: The max_iter was reached which means the coef_ did not converge\n",
      "  \"the coef_ did not converge\", ConvergenceWarning)\n"
     ]
    },
    {
     "name": "stdout",
     "output_type": "stream",
     "text": [
      "[CV]  C=10, max_iter=50, solver=saga, tol=0.001, score=0.7510879025239339, total=   0.1s\n",
      "[CV] C=10, max_iter=50, solver=saga, tol=0.0001 ......................\n",
      "[CV]  C=10, max_iter=50, solver=saga, tol=0.0001, score=0.7541268462206777, total=   0.1s\n",
      "[CV] C=10, max_iter=50, solver=saga, tol=0.0001 ......................\n",
      "[CV]  C=10, max_iter=50, solver=saga, tol=0.0001, score=0.7749782797567333, total=   0.1s\n",
      "[CV] C=10, max_iter=50, solver=saga, tol=0.0001 ......................\n"
     ]
    },
    {
     "name": "stderr",
     "output_type": "stream",
     "text": [
      "/home2/BigData/anaconda3/lib/python3.7/site-packages/sklearn/linear_model/sag.py:326: ConvergenceWarning: The max_iter was reached which means the coef_ did not converge\n",
      "  \"the coef_ did not converge\", ConvergenceWarning)\n",
      "/home2/BigData/anaconda3/lib/python3.7/site-packages/sklearn/linear_model/sag.py:326: ConvergenceWarning: The max_iter was reached which means the coef_ did not converge\n",
      "  \"the coef_ did not converge\", ConvergenceWarning)\n",
      "/home2/BigData/anaconda3/lib/python3.7/site-packages/sklearn/linear_model/sag.py:326: ConvergenceWarning: The max_iter was reached which means the coef_ did not converge\n",
      "  \"the coef_ did not converge\", ConvergenceWarning)\n"
     ]
    },
    {
     "name": "stdout",
     "output_type": "stream",
     "text": [
      "[CV]  C=10, max_iter=50, solver=saga, tol=0.0001, score=0.752828546562228, total=   0.1s\n",
      "[CV] C=10, max_iter=50, solver=saga, tol=0.01 ........................\n",
      "[CV]  C=10, max_iter=50, solver=saga, tol=0.01, score=0.7532580364900087, total=   0.1s\n",
      "[CV] C=10, max_iter=50, solver=saga, tol=0.01 ........................\n",
      "[CV]  C=10, max_iter=50, solver=saga, tol=0.01, score=0.7749782797567333, total=   0.1s\n",
      "[CV] C=10, max_iter=50, solver=saga, tol=0.01 ........................\n"
     ]
    },
    {
     "name": "stderr",
     "output_type": "stream",
     "text": [
      "/home2/BigData/anaconda3/lib/python3.7/site-packages/sklearn/linear_model/sag.py:326: ConvergenceWarning: The max_iter was reached which means the coef_ did not converge\n",
      "  \"the coef_ did not converge\", ConvergenceWarning)\n"
     ]
    },
    {
     "name": "stdout",
     "output_type": "stream",
     "text": [
      "[CV]  C=10, max_iter=50, solver=saga, tol=0.01, score=0.752828546562228, total=   0.1s\n",
      "[CV] C=10, max_iter=100, solver=newton-cg, tol=0.001 .................\n",
      "[CV]  C=10, max_iter=100, solver=newton-cg, tol=0.001, score=1.0, total=   0.2s\n",
      "[CV] C=10, max_iter=100, solver=newton-cg, tol=0.001 .................\n",
      "[CV]  C=10, max_iter=100, solver=newton-cg, tol=0.001, score=1.0, total=   0.2s\n",
      "[CV] C=10, max_iter=100, solver=newton-cg, tol=0.001 .................\n",
      "[CV]  C=10, max_iter=100, solver=newton-cg, tol=0.001, score=1.0, total=   0.2s\n",
      "[CV] C=10, max_iter=100, solver=newton-cg, tol=0.0001 ................\n",
      "[CV]  C=10, max_iter=100, solver=newton-cg, tol=0.0001, score=1.0, total=   0.2s\n",
      "[CV] C=10, max_iter=100, solver=newton-cg, tol=0.0001 ................\n",
      "[CV]  C=10, max_iter=100, solver=newton-cg, tol=0.0001, score=1.0, total=   0.2s\n",
      "[CV] C=10, max_iter=100, solver=newton-cg, tol=0.0001 ................\n",
      "[CV]  C=10, max_iter=100, solver=newton-cg, tol=0.0001, score=1.0, total=   0.2s\n",
      "[CV] C=10, max_iter=100, solver=newton-cg, tol=0.01 ..................\n",
      "[CV]  C=10, max_iter=100, solver=newton-cg, tol=0.01, score=1.0, total=   0.2s\n",
      "[CV] C=10, max_iter=100, solver=newton-cg, tol=0.01 ..................\n",
      "[CV]  C=10, max_iter=100, solver=newton-cg, tol=0.01, score=1.0, total=   0.2s\n",
      "[CV] C=10, max_iter=100, solver=newton-cg, tol=0.01 ..................\n",
      "[CV]  C=10, max_iter=100, solver=newton-cg, tol=0.01, score=1.0, total=   0.2s\n",
      "[CV] C=10, max_iter=100, solver=lbfgs, tol=0.001 .....................\n",
      "[CV]  C=10, max_iter=100, solver=lbfgs, tol=0.001, score=1.0, total=   0.1s\n",
      "[CV] C=10, max_iter=100, solver=lbfgs, tol=0.001 .....................\n",
      "[CV]  C=10, max_iter=100, solver=lbfgs, tol=0.001, score=1.0, total=   0.1s\n",
      "[CV] C=10, max_iter=100, solver=lbfgs, tol=0.001 .....................\n",
      "[CV]  C=10, max_iter=100, solver=lbfgs, tol=0.001, score=0.9982593559617058, total=   0.1s\n",
      "[CV] C=10, max_iter=100, solver=lbfgs, tol=0.0001 ....................\n",
      "[CV]  C=10, max_iter=100, solver=lbfgs, tol=0.0001, score=1.0, total=   0.1s\n",
      "[CV] C=10, max_iter=100, solver=lbfgs, tol=0.0001 ....................\n",
      "[CV]  C=10, max_iter=100, solver=lbfgs, tol=0.0001, score=1.0, total=   0.1s\n",
      "[CV] C=10, max_iter=100, solver=lbfgs, tol=0.0001 ....................\n",
      "[CV]  C=10, max_iter=100, solver=lbfgs, tol=0.0001, score=0.9982593559617058, total=   0.1s\n",
      "[CV] C=10, max_iter=100, solver=lbfgs, tol=0.01 ......................\n",
      "[CV]  C=10, max_iter=100, solver=lbfgs, tol=0.01, score=1.0, total=   0.1s\n",
      "[CV] C=10, max_iter=100, solver=lbfgs, tol=0.01 ......................\n",
      "[CV]  C=10, max_iter=100, solver=lbfgs, tol=0.01, score=1.0, total=   0.1s\n",
      "[CV] C=10, max_iter=100, solver=lbfgs, tol=0.01 ......................\n",
      "[CV]  C=10, max_iter=100, solver=lbfgs, tol=0.01, score=0.9982593559617058, total=   0.0s\n",
      "[CV] C=10, max_iter=100, solver=liblinear, tol=0.001 .................\n",
      "[CV]  C=10, max_iter=100, solver=liblinear, tol=0.001, score=0.8010425716768028, total=   0.0s\n",
      "[CV] C=10, max_iter=100, solver=liblinear, tol=0.001 .................\n",
      "[CV]  C=10, max_iter=100, solver=liblinear, tol=0.001, score=0.996524761077324, total=   0.0s\n",
      "[CV] C=10, max_iter=100, solver=liblinear, tol=0.001 .................\n",
      "[CV]  C=10, max_iter=100, solver=liblinear, tol=0.001, score=0.835509138381201, total=   0.0s\n",
      "[CV] C=10, max_iter=100, solver=liblinear, tol=0.0001 ................\n",
      "[CV]  C=10, max_iter=100, solver=liblinear, tol=0.0001, score=1.0, total=   0.0s\n",
      "[CV] C=10, max_iter=100, solver=liblinear, tol=0.0001 ................\n",
      "[CV]  C=10, max_iter=100, solver=liblinear, tol=0.0001, score=1.0, total=   0.0s\n",
      "[CV] C=10, max_iter=100, solver=liblinear, tol=0.0001 ................\n",
      "[CV]  C=10, max_iter=100, solver=liblinear, tol=0.0001, score=1.0, total=   0.0s\n",
      "[CV] C=10, max_iter=100, solver=liblinear, tol=0.01 ..................\n",
      "[CV]  C=10, max_iter=100, solver=liblinear, tol=0.01, score=0.7854039965247611, total=   0.0s\n",
      "[CV] C=10, max_iter=100, solver=liblinear, tol=0.01 ..................\n",
      "[CV]  C=10, max_iter=100, solver=liblinear, tol=0.01, score=0.792354474370113, total=   0.0s\n",
      "[CV] C=10, max_iter=100, solver=liblinear, tol=0.01 ..................\n",
      "[CV]  C=10, max_iter=100, solver=liblinear, tol=0.01, score=0.7815491731940818, total=   0.0s\n",
      "[CV] C=10, max_iter=100, solver=sag, tol=0.001 .......................\n",
      "[CV]  C=10, max_iter=100, solver=sag, tol=0.001, score=0.7515204170286707, total=   0.1s\n",
      "[CV] C=10, max_iter=100, solver=sag, tol=0.001 .......................\n"
     ]
    },
    {
     "name": "stderr",
     "output_type": "stream",
     "text": [
      "/home2/BigData/anaconda3/lib/python3.7/site-packages/sklearn/linear_model/sag.py:326: ConvergenceWarning: The max_iter was reached which means the coef_ did not converge\n",
      "  \"the coef_ did not converge\", ConvergenceWarning)\n",
      "/home2/BigData/anaconda3/lib/python3.7/site-packages/sklearn/linear_model/sag.py:326: ConvergenceWarning: The max_iter was reached which means the coef_ did not converge\n",
      "  \"the coef_ did not converge\", ConvergenceWarning)\n"
     ]
    },
    {
     "name": "stdout",
     "output_type": "stream",
     "text": [
      "[CV]  C=10, max_iter=100, solver=sag, tol=0.001, score=0.7784535186794093, total=   0.1s\n",
      "[CV] C=10, max_iter=100, solver=sag, tol=0.001 .......................\n",
      "[CV]  C=10, max_iter=100, solver=sag, tol=0.001, score=0.7589208006962577, total=   0.1s\n",
      "[CV] C=10, max_iter=100, solver=sag, tol=0.0001 ......................\n"
     ]
    },
    {
     "name": "stderr",
     "output_type": "stream",
     "text": [
      "/home2/BigData/anaconda3/lib/python3.7/site-packages/sklearn/linear_model/sag.py:326: ConvergenceWarning: The max_iter was reached which means the coef_ did not converge\n",
      "  \"the coef_ did not converge\", ConvergenceWarning)\n",
      "/home2/BigData/anaconda3/lib/python3.7/site-packages/sklearn/linear_model/sag.py:326: ConvergenceWarning: The max_iter was reached which means the coef_ did not converge\n",
      "  \"the coef_ did not converge\", ConvergenceWarning)\n"
     ]
    },
    {
     "name": "stdout",
     "output_type": "stream",
     "text": [
      "[CV]  C=10, max_iter=100, solver=sag, tol=0.0001, score=0.7515204170286707, total=   0.1s\n",
      "[CV] C=10, max_iter=100, solver=sag, tol=0.0001 ......................\n",
      "[CV]  C=10, max_iter=100, solver=sag, tol=0.0001, score=0.7784535186794093, total=   0.1s\n",
      "[CV] C=10, max_iter=100, solver=sag, tol=0.0001 ......................\n"
     ]
    },
    {
     "name": "stderr",
     "output_type": "stream",
     "text": [
      "/home2/BigData/anaconda3/lib/python3.7/site-packages/sklearn/linear_model/sag.py:326: ConvergenceWarning: The max_iter was reached which means the coef_ did not converge\n",
      "  \"the coef_ did not converge\", ConvergenceWarning)\n",
      "/home2/BigData/anaconda3/lib/python3.7/site-packages/sklearn/linear_model/sag.py:326: ConvergenceWarning: The max_iter was reached which means the coef_ did not converge\n",
      "  \"the coef_ did not converge\", ConvergenceWarning)\n"
     ]
    },
    {
     "name": "stdout",
     "output_type": "stream",
     "text": [
      "[CV]  C=10, max_iter=100, solver=sag, tol=0.0001, score=0.7589208006962577, total=   0.1s\n",
      "[CV] C=10, max_iter=100, solver=sag, tol=0.01 ........................\n",
      "[CV]  C=10, max_iter=100, solver=sag, tol=0.01, score=0.7489139878366637, total=   0.1s\n",
      "[CV] C=10, max_iter=100, solver=sag, tol=0.01 ........................\n",
      "[CV]  C=10, max_iter=100, solver=sag, tol=0.01, score=0.7784535186794093, total=   0.1s\n",
      "[CV] C=10, max_iter=100, solver=sag, tol=0.01 ........................\n",
      "[CV]  C=10, max_iter=100, solver=sag, tol=0.01, score=0.7615317667536988, total=   0.1s\n",
      "[CV] C=10, max_iter=100, solver=saga, tol=0.001 ......................\n",
      "[CV]  C=10, max_iter=100, solver=saga, tol=0.001, score=0.7497827975673328, total=   0.1s\n",
      "[CV] C=10, max_iter=100, solver=saga, tol=0.001 ......................\n"
     ]
    },
    {
     "name": "stderr",
     "output_type": "stream",
     "text": [
      "/home2/BigData/anaconda3/lib/python3.7/site-packages/sklearn/linear_model/sag.py:326: ConvergenceWarning: The max_iter was reached which means the coef_ did not converge\n",
      "  \"the coef_ did not converge\", ConvergenceWarning)\n",
      "/home2/BigData/anaconda3/lib/python3.7/site-packages/sklearn/linear_model/sag.py:326: ConvergenceWarning: The max_iter was reached which means the coef_ did not converge\n",
      "  \"the coef_ did not converge\", ConvergenceWarning)\n"
     ]
    },
    {
     "name": "stdout",
     "output_type": "stream",
     "text": [
      "[CV]  C=10, max_iter=100, solver=saga, tol=0.001, score=0.7784535186794093, total=   0.2s\n",
      "[CV] C=10, max_iter=100, solver=saga, tol=0.001 ......................\n",
      "[CV]  C=10, max_iter=100, solver=saga, tol=0.001, score=0.7493472584856397, total=   0.2s\n",
      "[CV] C=10, max_iter=100, solver=saga, tol=0.0001 .....................\n"
     ]
    },
    {
     "name": "stderr",
     "output_type": "stream",
     "text": [
      "/home2/BigData/anaconda3/lib/python3.7/site-packages/sklearn/linear_model/sag.py:326: ConvergenceWarning: The max_iter was reached which means the coef_ did not converge\n",
      "  \"the coef_ did not converge\", ConvergenceWarning)\n",
      "/home2/BigData/anaconda3/lib/python3.7/site-packages/sklearn/linear_model/sag.py:326: ConvergenceWarning: The max_iter was reached which means the coef_ did not converge\n",
      "  \"the coef_ did not converge\", ConvergenceWarning)\n"
     ]
    },
    {
     "name": "stdout",
     "output_type": "stream",
     "text": [
      "[CV]  C=10, max_iter=100, solver=saga, tol=0.0001, score=0.7497827975673328, total=   0.2s\n",
      "[CV] C=10, max_iter=100, solver=saga, tol=0.0001 .....................\n",
      "[CV]  C=10, max_iter=100, solver=saga, tol=0.0001, score=0.7793223284100782, total=   0.2s\n",
      "[CV] C=10, max_iter=100, solver=saga, tol=0.0001 .....................\n"
     ]
    },
    {
     "name": "stderr",
     "output_type": "stream",
     "text": [
      "/home2/BigData/anaconda3/lib/python3.7/site-packages/sklearn/linear_model/sag.py:326: ConvergenceWarning: The max_iter was reached which means the coef_ did not converge\n",
      "  \"the coef_ did not converge\", ConvergenceWarning)\n",
      "/home2/BigData/anaconda3/lib/python3.7/site-packages/sklearn/linear_model/sag.py:326: ConvergenceWarning: The max_iter was reached which means the coef_ did not converge\n",
      "  \"the coef_ did not converge\", ConvergenceWarning)\n"
     ]
    },
    {
     "name": "stdout",
     "output_type": "stream",
     "text": [
      "[CV]  C=10, max_iter=100, solver=saga, tol=0.0001, score=0.7493472584856397, total=   0.2s\n",
      "[CV] C=10, max_iter=100, solver=saga, tol=0.01 .......................\n",
      "[CV]  C=10, max_iter=100, solver=saga, tol=0.01, score=0.7532580364900087, total=   0.1s\n",
      "[CV] C=10, max_iter=100, solver=saga, tol=0.01 .......................\n",
      "[CV]  C=10, max_iter=100, solver=saga, tol=0.01, score=0.7767158992180713, total=   0.1s\n",
      "[CV] C=10, max_iter=100, solver=saga, tol=0.01 .......................\n",
      "[CV]  C=10, max_iter=100, solver=saga, tol=0.01, score=0.7493472584856397, total=   0.1s\n",
      "[CV] C=10, max_iter=150, solver=newton-cg, tol=0.001 .................\n",
      "[CV]  C=10, max_iter=150, solver=newton-cg, tol=0.001, score=1.0, total=   0.2s\n",
      "[CV] C=10, max_iter=150, solver=newton-cg, tol=0.001 .................\n",
      "[CV]  C=10, max_iter=150, solver=newton-cg, tol=0.001, score=1.0, total=   0.2s\n",
      "[CV] C=10, max_iter=150, solver=newton-cg, tol=0.001 .................\n",
      "[CV]  C=10, max_iter=150, solver=newton-cg, tol=0.001, score=1.0, total=   0.2s\n",
      "[CV] C=10, max_iter=150, solver=newton-cg, tol=0.0001 ................\n",
      "[CV]  C=10, max_iter=150, solver=newton-cg, tol=0.0001, score=1.0, total=   0.2s\n",
      "[CV] C=10, max_iter=150, solver=newton-cg, tol=0.0001 ................\n",
      "[CV]  C=10, max_iter=150, solver=newton-cg, tol=0.0001, score=1.0, total=   0.2s\n",
      "[CV] C=10, max_iter=150, solver=newton-cg, tol=0.0001 ................\n",
      "[CV]  C=10, max_iter=150, solver=newton-cg, tol=0.0001, score=1.0, total=   0.2s\n",
      "[CV] C=10, max_iter=150, solver=newton-cg, tol=0.01 ..................\n",
      "[CV]  C=10, max_iter=150, solver=newton-cg, tol=0.01, score=1.0, total=   0.2s\n",
      "[CV] C=10, max_iter=150, solver=newton-cg, tol=0.01 ..................\n",
      "[CV]  C=10, max_iter=150, solver=newton-cg, tol=0.01, score=1.0, total=   0.2s\n",
      "[CV] C=10, max_iter=150, solver=newton-cg, tol=0.01 ..................\n",
      "[CV]  C=10, max_iter=150, solver=newton-cg, tol=0.01, score=1.0, total=   0.2s\n",
      "[CV] C=10, max_iter=150, solver=lbfgs, tol=0.001 .....................\n",
      "[CV]  C=10, max_iter=150, solver=lbfgs, tol=0.001, score=1.0, total=   0.1s\n",
      "[CV] C=10, max_iter=150, solver=lbfgs, tol=0.001 .....................\n",
      "[CV]  C=10, max_iter=150, solver=lbfgs, tol=0.001, score=1.0, total=   0.1s\n",
      "[CV] C=10, max_iter=150, solver=lbfgs, tol=0.001 .....................\n",
      "[CV]  C=10, max_iter=150, solver=lbfgs, tol=0.001, score=1.0, total=   0.1s\n",
      "[CV] C=10, max_iter=150, solver=lbfgs, tol=0.0001 ....................\n",
      "[CV]  C=10, max_iter=150, solver=lbfgs, tol=0.0001, score=1.0, total=   0.1s\n",
      "[CV] C=10, max_iter=150, solver=lbfgs, tol=0.0001 ....................\n",
      "[CV]  C=10, max_iter=150, solver=lbfgs, tol=0.0001, score=1.0, total=   0.1s\n",
      "[CV] C=10, max_iter=150, solver=lbfgs, tol=0.0001 ....................\n",
      "[CV]  C=10, max_iter=150, solver=lbfgs, tol=0.0001, score=1.0, total=   0.1s\n",
      "[CV] C=10, max_iter=150, solver=lbfgs, tol=0.01 ......................\n",
      "[CV]  C=10, max_iter=150, solver=lbfgs, tol=0.01, score=1.0, total=   0.1s\n",
      "[CV] C=10, max_iter=150, solver=lbfgs, tol=0.01 ......................\n",
      "[CV]  C=10, max_iter=150, solver=lbfgs, tol=0.01, score=1.0, total=   0.1s\n",
      "[CV] C=10, max_iter=150, solver=lbfgs, tol=0.01 ......................\n",
      "[CV]  C=10, max_iter=150, solver=lbfgs, tol=0.01, score=1.0, total=   0.1s\n",
      "[CV] C=10, max_iter=150, solver=liblinear, tol=0.001 .................\n",
      "[CV]  C=10, max_iter=150, solver=liblinear, tol=0.001, score=0.8010425716768028, total=   0.0s\n",
      "[CV] C=10, max_iter=150, solver=liblinear, tol=0.001 .................\n",
      "[CV]  C=10, max_iter=150, solver=liblinear, tol=0.001, score=0.996524761077324, total=   0.0s\n",
      "[CV] C=10, max_iter=150, solver=liblinear, tol=0.001 .................\n",
      "[CV]  C=10, max_iter=150, solver=liblinear, tol=0.001, score=0.835509138381201, total=   0.0s\n",
      "[CV] C=10, max_iter=150, solver=liblinear, tol=0.0001 ................\n",
      "[CV]  C=10, max_iter=150, solver=liblinear, tol=0.0001, score=1.0, total=   0.0s\n",
      "[CV] C=10, max_iter=150, solver=liblinear, tol=0.0001 ................\n",
      "[CV]  C=10, max_iter=150, solver=liblinear, tol=0.0001, score=1.0, total=   0.0s\n",
      "[CV] C=10, max_iter=150, solver=liblinear, tol=0.0001 ................\n",
      "[CV]  C=10, max_iter=150, solver=liblinear, tol=0.0001, score=1.0, total=   0.0s\n",
      "[CV] C=10, max_iter=150, solver=liblinear, tol=0.01 ..................\n",
      "[CV]  C=10, max_iter=150, solver=liblinear, tol=0.01, score=0.7854039965247611, total=   0.0s\n",
      "[CV] C=10, max_iter=150, solver=liblinear, tol=0.01 ..................\n",
      "[CV]  C=10, max_iter=150, solver=liblinear, tol=0.01, score=0.792354474370113, total=   0.0s\n",
      "[CV] C=10, max_iter=150, solver=liblinear, tol=0.01 ..................\n",
      "[CV]  C=10, max_iter=150, solver=liblinear, tol=0.01, score=0.7815491731940818, total=   0.0s\n",
      "[CV] C=10, max_iter=150, solver=sag, tol=0.001 .......................\n"
     ]
    },
    {
     "name": "stderr",
     "output_type": "stream",
     "text": [
      "/home2/BigData/anaconda3/lib/python3.7/site-packages/sklearn/linear_model/sag.py:326: ConvergenceWarning: The max_iter was reached which means the coef_ did not converge\n",
      "  \"the coef_ did not converge\", ConvergenceWarning)\n",
      "/home2/BigData/anaconda3/lib/python3.7/site-packages/sklearn/linear_model/sag.py:326: ConvergenceWarning: The max_iter was reached which means the coef_ did not converge\n",
      "  \"the coef_ did not converge\", ConvergenceWarning)\n"
     ]
    },
    {
     "name": "stdout",
     "output_type": "stream",
     "text": [
      "[CV]  C=10, max_iter=150, solver=sag, tol=0.001, score=0.7602085143353605, total=   0.2s\n",
      "[CV] C=10, max_iter=150, solver=sag, tol=0.001 .......................\n",
      "[CV]  C=10, max_iter=150, solver=sag, tol=0.001, score=0.7845351867940921, total=   0.2s\n",
      "[CV] C=10, max_iter=150, solver=sag, tol=0.001 .......................\n"
     ]
    },
    {
     "name": "stderr",
     "output_type": "stream",
     "text": [
      "/home2/BigData/anaconda3/lib/python3.7/site-packages/sklearn/linear_model/sag.py:326: ConvergenceWarning: The max_iter was reached which means the coef_ did not converge\n",
      "  \"the coef_ did not converge\", ConvergenceWarning)\n",
      "/home2/BigData/anaconda3/lib/python3.7/site-packages/sklearn/linear_model/sag.py:326: ConvergenceWarning: The max_iter was reached which means the coef_ did not converge\n",
      "  \"the coef_ did not converge\", ConvergenceWarning)\n"
     ]
    },
    {
     "name": "stdout",
     "output_type": "stream",
     "text": [
      "[CV]  C=10, max_iter=150, solver=sag, tol=0.001, score=0.7641427328111401, total=   0.2s\n",
      "[CV] C=10, max_iter=150, solver=sag, tol=0.0001 ......................\n",
      "[CV]  C=10, max_iter=150, solver=sag, tol=0.0001, score=0.7602085143353605, total=   0.2s\n",
      "[CV] C=10, max_iter=150, solver=sag, tol=0.0001 ......................\n"
     ]
    },
    {
     "name": "stderr",
     "output_type": "stream",
     "text": [
      "/home2/BigData/anaconda3/lib/python3.7/site-packages/sklearn/linear_model/sag.py:326: ConvergenceWarning: The max_iter was reached which means the coef_ did not converge\n",
      "  \"the coef_ did not converge\", ConvergenceWarning)\n",
      "/home2/BigData/anaconda3/lib/python3.7/site-packages/sklearn/linear_model/sag.py:326: ConvergenceWarning: The max_iter was reached which means the coef_ did not converge\n",
      "  \"the coef_ did not converge\", ConvergenceWarning)\n"
     ]
    },
    {
     "name": "stdout",
     "output_type": "stream",
     "text": [
      "[CV]  C=10, max_iter=150, solver=sag, tol=0.0001, score=0.7845351867940921, total=   0.2s\n",
      "[CV] C=10, max_iter=150, solver=sag, tol=0.0001 ......................\n",
      "[CV]  C=10, max_iter=150, solver=sag, tol=0.0001, score=0.7641427328111401, total=   0.2s\n",
      "[CV] C=10, max_iter=150, solver=sag, tol=0.01 ........................\n",
      "[CV]  C=10, max_iter=150, solver=sag, tol=0.01, score=0.7489139878366637, total=   0.1s\n",
      "[CV] C=10, max_iter=150, solver=sag, tol=0.01 ........................\n",
      "[CV]  C=10, max_iter=150, solver=sag, tol=0.01, score=0.7784535186794093, total=   0.1s\n",
      "[CV] C=10, max_iter=150, solver=sag, tol=0.01 ........................\n",
      "[CV]  C=10, max_iter=150, solver=sag, tol=0.01, score=0.7615317667536988, total=   0.1s\n",
      "[CV] C=10, max_iter=150, solver=saga, tol=0.001 ......................\n"
     ]
    },
    {
     "name": "stderr",
     "output_type": "stream",
     "text": [
      "/home2/BigData/anaconda3/lib/python3.7/site-packages/sklearn/linear_model/sag.py:326: ConvergenceWarning: The max_iter was reached which means the coef_ did not converge\n",
      "  \"the coef_ did not converge\", ConvergenceWarning)\n"
     ]
    },
    {
     "name": "stdout",
     "output_type": "stream",
     "text": [
      "[CV]  C=10, max_iter=150, solver=saga, tol=0.001, score=0.7489139878366637, total=   0.2s\n",
      "[CV] C=10, max_iter=150, solver=saga, tol=0.001 ......................\n"
     ]
    },
    {
     "name": "stderr",
     "output_type": "stream",
     "text": [
      "/home2/BigData/anaconda3/lib/python3.7/site-packages/sklearn/linear_model/sag.py:326: ConvergenceWarning: The max_iter was reached which means the coef_ did not converge\n",
      "  \"the coef_ did not converge\", ConvergenceWarning)\n"
     ]
    },
    {
     "name": "stdout",
     "output_type": "stream",
     "text": [
      "[CV]  C=10, max_iter=150, solver=saga, tol=0.001, score=0.7758470894874022, total=   0.2s\n",
      "[CV] C=10, max_iter=150, solver=saga, tol=0.001 ......................\n"
     ]
    },
    {
     "name": "stderr",
     "output_type": "stream",
     "text": [
      "/home2/BigData/anaconda3/lib/python3.7/site-packages/sklearn/linear_model/sag.py:326: ConvergenceWarning: The max_iter was reached which means the coef_ did not converge\n",
      "  \"the coef_ did not converge\", ConvergenceWarning)\n"
     ]
    },
    {
     "name": "stdout",
     "output_type": "stream",
     "text": [
      "[CV]  C=10, max_iter=150, solver=saga, tol=0.001, score=0.7589208006962577, total=   0.2s\n",
      "[CV] C=10, max_iter=150, solver=saga, tol=0.0001 .....................\n"
     ]
    },
    {
     "name": "stderr",
     "output_type": "stream",
     "text": [
      "/home2/BigData/anaconda3/lib/python3.7/site-packages/sklearn/linear_model/sag.py:326: ConvergenceWarning: The max_iter was reached which means the coef_ did not converge\n",
      "  \"the coef_ did not converge\", ConvergenceWarning)\n"
     ]
    },
    {
     "name": "stdout",
     "output_type": "stream",
     "text": [
      "[CV]  C=10, max_iter=150, solver=saga, tol=0.0001, score=0.7489139878366637, total=   0.2s\n",
      "[CV] C=10, max_iter=150, solver=saga, tol=0.0001 .....................\n"
     ]
    },
    {
     "name": "stderr",
     "output_type": "stream",
     "text": [
      "/home2/BigData/anaconda3/lib/python3.7/site-packages/sklearn/linear_model/sag.py:326: ConvergenceWarning: The max_iter was reached which means the coef_ did not converge\n",
      "  \"the coef_ did not converge\", ConvergenceWarning)\n"
     ]
    },
    {
     "name": "stdout",
     "output_type": "stream",
     "text": [
      "[CV]  C=10, max_iter=150, solver=saga, tol=0.0001, score=0.7758470894874022, total=   0.2s\n",
      "[CV] C=10, max_iter=150, solver=saga, tol=0.0001 .....................\n"
     ]
    },
    {
     "name": "stderr",
     "output_type": "stream",
     "text": [
      "/home2/BigData/anaconda3/lib/python3.7/site-packages/sklearn/linear_model/sag.py:326: ConvergenceWarning: The max_iter was reached which means the coef_ did not converge\n",
      "  \"the coef_ did not converge\", ConvergenceWarning)\n"
     ]
    },
    {
     "name": "stdout",
     "output_type": "stream",
     "text": [
      "[CV]  C=10, max_iter=150, solver=saga, tol=0.0001, score=0.7589208006962577, total=   0.2s\n",
      "[CV] C=10, max_iter=150, solver=saga, tol=0.01 .......................\n",
      "[CV]  C=10, max_iter=150, solver=saga, tol=0.01, score=0.7532580364900087, total=   0.1s\n",
      "[CV] C=10, max_iter=150, solver=saga, tol=0.01 .......................\n",
      "[CV]  C=10, max_iter=150, solver=saga, tol=0.01, score=0.7767158992180713, total=   0.1s\n",
      "[CV] C=10, max_iter=150, solver=saga, tol=0.01 .......................\n",
      "[CV]  C=10, max_iter=150, solver=saga, tol=0.01, score=0.7493472584856397, total=   0.1s\n",
      "[CV] C=100, max_iter=50, solver=newton-cg, tol=0.001 .................\n"
     ]
    },
    {
     "name": "stderr",
     "output_type": "stream",
     "text": [
      "/home2/BigData/anaconda3/lib/python3.7/site-packages/sklearn/utils/optimize.py:203: ConvergenceWarning: newton-cg failed to converge. Increase the number of iterations.\n",
      "  \"number of iterations.\", ConvergenceWarning)\n",
      "/home2/BigData/anaconda3/lib/python3.7/site-packages/sklearn/utils/optimize.py:203: ConvergenceWarning: newton-cg failed to converge. Increase the number of iterations.\n",
      "  \"number of iterations.\", ConvergenceWarning)\n"
     ]
    },
    {
     "name": "stdout",
     "output_type": "stream",
     "text": [
      "[CV]  C=100, max_iter=50, solver=newton-cg, tol=0.001, score=1.0, total=   0.2s\n",
      "[CV] C=100, max_iter=50, solver=newton-cg, tol=0.001 .................\n",
      "[CV]  C=100, max_iter=50, solver=newton-cg, tol=0.001, score=1.0, total=   0.2s\n",
      "[CV] C=100, max_iter=50, solver=newton-cg, tol=0.001 .................\n"
     ]
    },
    {
     "name": "stderr",
     "output_type": "stream",
     "text": [
      "/home2/BigData/anaconda3/lib/python3.7/site-packages/sklearn/utils/optimize.py:203: ConvergenceWarning: newton-cg failed to converge. Increase the number of iterations.\n",
      "  \"number of iterations.\", ConvergenceWarning)\n",
      "/home2/BigData/anaconda3/lib/python3.7/site-packages/sklearn/utils/optimize.py:203: ConvergenceWarning: newton-cg failed to converge. Increase the number of iterations.\n",
      "  \"number of iterations.\", ConvergenceWarning)\n"
     ]
    },
    {
     "name": "stdout",
     "output_type": "stream",
     "text": [
      "[CV]  C=100, max_iter=50, solver=newton-cg, tol=0.001, score=1.0, total=   0.2s\n",
      "[CV] C=100, max_iter=50, solver=newton-cg, tol=0.0001 ................\n",
      "[CV]  C=100, max_iter=50, solver=newton-cg, tol=0.0001, score=1.0, total=   0.2s\n",
      "[CV] C=100, max_iter=50, solver=newton-cg, tol=0.0001 ................\n"
     ]
    },
    {
     "name": "stderr",
     "output_type": "stream",
     "text": [
      "/home2/BigData/anaconda3/lib/python3.7/site-packages/sklearn/utils/optimize.py:203: ConvergenceWarning: newton-cg failed to converge. Increase the number of iterations.\n",
      "  \"number of iterations.\", ConvergenceWarning)\n",
      "/home2/BigData/anaconda3/lib/python3.7/site-packages/sklearn/utils/optimize.py:203: ConvergenceWarning: newton-cg failed to converge. Increase the number of iterations.\n",
      "  \"number of iterations.\", ConvergenceWarning)\n"
     ]
    },
    {
     "name": "stdout",
     "output_type": "stream",
     "text": [
      "[CV]  C=100, max_iter=50, solver=newton-cg, tol=0.0001, score=1.0, total=   0.2s\n",
      "[CV] C=100, max_iter=50, solver=newton-cg, tol=0.0001 ................\n",
      "[CV]  C=100, max_iter=50, solver=newton-cg, tol=0.0001, score=1.0, total=   0.2s\n",
      "[CV] C=100, max_iter=50, solver=newton-cg, tol=0.01 ..................\n"
     ]
    },
    {
     "name": "stderr",
     "output_type": "stream",
     "text": [
      "/home2/BigData/anaconda3/lib/python3.7/site-packages/sklearn/utils/optimize.py:203: ConvergenceWarning: newton-cg failed to converge. Increase the number of iterations.\n",
      "  \"number of iterations.\", ConvergenceWarning)\n",
      "/home2/BigData/anaconda3/lib/python3.7/site-packages/sklearn/utils/optimize.py:203: ConvergenceWarning: newton-cg failed to converge. Increase the number of iterations.\n",
      "  \"number of iterations.\", ConvergenceWarning)\n"
     ]
    },
    {
     "name": "stdout",
     "output_type": "stream",
     "text": [
      "[CV]  C=100, max_iter=50, solver=newton-cg, tol=0.01, score=1.0, total=   0.2s\n",
      "[CV] C=100, max_iter=50, solver=newton-cg, tol=0.01 ..................\n",
      "[CV]  C=100, max_iter=50, solver=newton-cg, tol=0.01, score=1.0, total=   0.2s\n",
      "[CV] C=100, max_iter=50, solver=newton-cg, tol=0.01 ..................\n"
     ]
    },
    {
     "name": "stderr",
     "output_type": "stream",
     "text": [
      "/home2/BigData/anaconda3/lib/python3.7/site-packages/sklearn/utils/optimize.py:203: ConvergenceWarning: newton-cg failed to converge. Increase the number of iterations.\n",
      "  \"number of iterations.\", ConvergenceWarning)\n"
     ]
    },
    {
     "name": "stdout",
     "output_type": "stream",
     "text": [
      "[CV]  C=100, max_iter=50, solver=newton-cg, tol=0.01, score=1.0, total=   0.2s\n",
      "[CV] C=100, max_iter=50, solver=lbfgs, tol=0.001 .....................\n",
      "[CV]  C=100, max_iter=50, solver=lbfgs, tol=0.001, score=0.9860990443092963, total=   0.0s\n",
      "[CV] C=100, max_iter=50, solver=lbfgs, tol=0.001 .....................\n",
      "[CV]  C=100, max_iter=50, solver=lbfgs, tol=0.001, score=0.9678540399652477, total=   0.0s\n",
      "[CV] C=100, max_iter=50, solver=lbfgs, tol=0.001 .....................\n",
      "[CV]  C=100, max_iter=50, solver=lbfgs, tol=0.001, score=0.9782419495213229, total=   0.0s\n",
      "[CV] C=100, max_iter=50, solver=lbfgs, tol=0.0001 ....................\n",
      "[CV]  C=100, max_iter=50, solver=lbfgs, tol=0.0001, score=0.9860990443092963, total=   0.0s\n",
      "[CV] C=100, max_iter=50, solver=lbfgs, tol=0.0001 ....................\n",
      "[CV]  C=100, max_iter=50, solver=lbfgs, tol=0.0001, score=0.9678540399652477, total=   0.0s\n",
      "[CV] C=100, max_iter=50, solver=lbfgs, tol=0.0001 ....................\n",
      "[CV]  C=100, max_iter=50, solver=lbfgs, tol=0.0001, score=0.9782419495213229, total=   0.0s\n",
      "[CV] C=100, max_iter=50, solver=lbfgs, tol=0.01 ......................\n",
      "[CV]  C=100, max_iter=50, solver=lbfgs, tol=0.01, score=0.9860990443092963, total=   0.0s\n",
      "[CV] C=100, max_iter=50, solver=lbfgs, tol=0.01 ......................\n",
      "[CV]  C=100, max_iter=50, solver=lbfgs, tol=0.01, score=0.9678540399652477, total=   0.0s\n",
      "[CV] C=100, max_iter=50, solver=lbfgs, tol=0.01 ......................\n",
      "[CV]  C=100, max_iter=50, solver=lbfgs, tol=0.01, score=0.9782419495213229, total=   0.0s\n",
      "[CV] C=100, max_iter=50, solver=liblinear, tol=0.001 .................\n",
      "[CV]  C=100, max_iter=50, solver=liblinear, tol=0.001, score=0.8010425716768028, total=   0.0s\n",
      "[CV] C=100, max_iter=50, solver=liblinear, tol=0.001 .................\n",
      "[CV]  C=100, max_iter=50, solver=liblinear, tol=0.001, score=0.996524761077324, total=   0.0s\n",
      "[CV] C=100, max_iter=50, solver=liblinear, tol=0.001 .................\n",
      "[CV]  C=100, max_iter=50, solver=liblinear, tol=0.001, score=0.835509138381201, total=   0.0s\n",
      "[CV] C=100, max_iter=50, solver=liblinear, tol=0.0001 ................\n",
      "[CV]  C=100, max_iter=50, solver=liblinear, tol=0.0001, score=1.0, total=   0.0s\n",
      "[CV] C=100, max_iter=50, solver=liblinear, tol=0.0001 ................\n",
      "[CV]  C=100, max_iter=50, solver=liblinear, tol=0.0001, score=1.0, total=   0.0s\n",
      "[CV] C=100, max_iter=50, solver=liblinear, tol=0.0001 ................\n",
      "[CV]  C=100, max_iter=50, solver=liblinear, tol=0.0001, score=1.0, total=   0.0s\n",
      "[CV] C=100, max_iter=50, solver=liblinear, tol=0.01 ..................\n",
      "[CV]  C=100, max_iter=50, solver=liblinear, tol=0.01, score=0.7854039965247611, total=   0.0s\n",
      "[CV] C=100, max_iter=50, solver=liblinear, tol=0.01 ..................\n",
      "[CV]  C=100, max_iter=50, solver=liblinear, tol=0.01, score=0.792354474370113, total=   0.0s\n",
      "[CV] C=100, max_iter=50, solver=liblinear, tol=0.01 ..................\n",
      "[CV]  C=100, max_iter=50, solver=liblinear, tol=0.01, score=0.7815491731940818, total=   0.0s\n",
      "[CV] C=100, max_iter=50, solver=sag, tol=0.001 .......................\n",
      "[CV]  C=100, max_iter=50, solver=sag, tol=0.001, score=0.7489139878366637, total=   0.1s\n",
      "[CV] C=100, max_iter=50, solver=sag, tol=0.001 .......................\n",
      "[CV]  C=100, max_iter=50, solver=sag, tol=0.001, score=0.7793223284100782, total=   0.1s\n",
      "[CV] C=100, max_iter=50, solver=sag, tol=0.001 .......................\n"
     ]
    },
    {
     "name": "stderr",
     "output_type": "stream",
     "text": [
      "/home2/BigData/anaconda3/lib/python3.7/site-packages/sklearn/linear_model/sag.py:326: ConvergenceWarning: The max_iter was reached which means the coef_ did not converge\n",
      "  \"the coef_ did not converge\", ConvergenceWarning)\n",
      "/home2/BigData/anaconda3/lib/python3.7/site-packages/sklearn/linear_model/sag.py:326: ConvergenceWarning: The max_iter was reached which means the coef_ did not converge\n",
      "  \"the coef_ did not converge\", ConvergenceWarning)\n",
      "/home2/BigData/anaconda3/lib/python3.7/site-packages/sklearn/linear_model/sag.py:326: ConvergenceWarning: The max_iter was reached which means the coef_ did not converge\n",
      "  \"the coef_ did not converge\", ConvergenceWarning)\n",
      "/home2/BigData/anaconda3/lib/python3.7/site-packages/sklearn/linear_model/sag.py:326: ConvergenceWarning: The max_iter was reached which means the coef_ did not converge\n",
      "  \"the coef_ did not converge\", ConvergenceWarning)\n"
     ]
    },
    {
     "name": "stdout",
     "output_type": "stream",
     "text": [
      "[CV]  C=100, max_iter=50, solver=sag, tol=0.001, score=0.7502175805047868, total=   0.1s\n",
      "[CV] C=100, max_iter=50, solver=sag, tol=0.0001 ......................\n",
      "[CV]  C=100, max_iter=50, solver=sag, tol=0.0001, score=0.7489139878366637, total=   0.1s\n",
      "[CV] C=100, max_iter=50, solver=sag, tol=0.0001 ......................\n",
      "[CV]  C=100, max_iter=50, solver=sag, tol=0.0001, score=0.7793223284100782, total=   0.1s\n",
      "[CV] C=100, max_iter=50, solver=sag, tol=0.0001 ......................\n",
      "[CV]  C=100, max_iter=50, solver=sag, tol=0.0001, score=0.7502175805047868, total=   0.1s\n",
      "[CV] C=100, max_iter=50, solver=sag, tol=0.01 ........................\n"
     ]
    },
    {
     "name": "stderr",
     "output_type": "stream",
     "text": [
      "/home2/BigData/anaconda3/lib/python3.7/site-packages/sklearn/linear_model/sag.py:326: ConvergenceWarning: The max_iter was reached which means the coef_ did not converge\n",
      "  \"the coef_ did not converge\", ConvergenceWarning)\n",
      "/home2/BigData/anaconda3/lib/python3.7/site-packages/sklearn/linear_model/sag.py:326: ConvergenceWarning: The max_iter was reached which means the coef_ did not converge\n",
      "  \"the coef_ did not converge\", ConvergenceWarning)\n",
      "/home2/BigData/anaconda3/lib/python3.7/site-packages/sklearn/linear_model/sag.py:326: ConvergenceWarning: The max_iter was reached which means the coef_ did not converge\n",
      "  \"the coef_ did not converge\", ConvergenceWarning)\n",
      "/home2/BigData/anaconda3/lib/python3.7/site-packages/sklearn/linear_model/sag.py:326: ConvergenceWarning: The max_iter was reached which means the coef_ did not converge\n",
      "  \"the coef_ did not converge\", ConvergenceWarning)\n"
     ]
    },
    {
     "name": "stdout",
     "output_type": "stream",
     "text": [
      "[CV]  C=100, max_iter=50, solver=sag, tol=0.01, score=0.7480451781059948, total=   0.1s\n",
      "[CV] C=100, max_iter=50, solver=sag, tol=0.01 ........................\n",
      "[CV]  C=100, max_iter=50, solver=sag, tol=0.01, score=0.7793223284100782, total=   0.1s\n",
      "[CV] C=100, max_iter=50, solver=sag, tol=0.01 ........................\n",
      "[CV]  C=100, max_iter=50, solver=sag, tol=0.01, score=0.7502175805047868, total=   0.1s\n",
      "[CV] C=100, max_iter=50, solver=saga, tol=0.001 ......................\n"
     ]
    },
    {
     "name": "stderr",
     "output_type": "stream",
     "text": [
      "/home2/BigData/anaconda3/lib/python3.7/site-packages/sklearn/linear_model/sag.py:326: ConvergenceWarning: The max_iter was reached which means the coef_ did not converge\n",
      "  \"the coef_ did not converge\", ConvergenceWarning)\n",
      "/home2/BigData/anaconda3/lib/python3.7/site-packages/sklearn/linear_model/sag.py:326: ConvergenceWarning: The max_iter was reached which means the coef_ did not converge\n",
      "  \"the coef_ did not converge\", ConvergenceWarning)\n",
      "/home2/BigData/anaconda3/lib/python3.7/site-packages/sklearn/linear_model/sag.py:326: ConvergenceWarning: The max_iter was reached which means the coef_ did not converge\n",
      "  \"the coef_ did not converge\", ConvergenceWarning)\n"
     ]
    },
    {
     "name": "stdout",
     "output_type": "stream",
     "text": [
      "[CV]  C=100, max_iter=50, solver=saga, tol=0.001, score=0.7532580364900087, total=   0.1s\n",
      "[CV] C=100, max_iter=50, solver=saga, tol=0.001 ......................\n",
      "[CV]  C=100, max_iter=50, solver=saga, tol=0.001, score=0.7758470894874022, total=   0.1s\n",
      "[CV] C=100, max_iter=50, solver=saga, tol=0.001 ......................\n",
      "[CV]  C=100, max_iter=50, solver=saga, tol=0.001, score=0.7510879025239339, total=   0.1s\n",
      "[CV] C=100, max_iter=50, solver=saga, tol=0.0001 .....................\n"
     ]
    },
    {
     "name": "stderr",
     "output_type": "stream",
     "text": [
      "/home2/BigData/anaconda3/lib/python3.7/site-packages/sklearn/linear_model/sag.py:326: ConvergenceWarning: The max_iter was reached which means the coef_ did not converge\n",
      "  \"the coef_ did not converge\", ConvergenceWarning)\n",
      "/home2/BigData/anaconda3/lib/python3.7/site-packages/sklearn/linear_model/sag.py:326: ConvergenceWarning: The max_iter was reached which means the coef_ did not converge\n",
      "  \"the coef_ did not converge\", ConvergenceWarning)\n",
      "/home2/BigData/anaconda3/lib/python3.7/site-packages/sklearn/linear_model/sag.py:326: ConvergenceWarning: The max_iter was reached which means the coef_ did not converge\n",
      "  \"the coef_ did not converge\", ConvergenceWarning)\n"
     ]
    },
    {
     "name": "stdout",
     "output_type": "stream",
     "text": [
      "[CV]  C=100, max_iter=50, solver=saga, tol=0.0001, score=0.7541268462206777, total=   0.1s\n",
      "[CV] C=100, max_iter=50, solver=saga, tol=0.0001 .....................\n",
      "[CV]  C=100, max_iter=50, solver=saga, tol=0.0001, score=0.7758470894874022, total=   0.1s\n",
      "[CV] C=100, max_iter=50, solver=saga, tol=0.0001 .....................\n",
      "[CV]  C=100, max_iter=50, solver=saga, tol=0.0001, score=0.752828546562228, total=   0.1s\n",
      "[CV] C=100, max_iter=50, solver=saga, tol=0.01 .......................\n"
     ]
    },
    {
     "name": "stderr",
     "output_type": "stream",
     "text": [
      "/home2/BigData/anaconda3/lib/python3.7/site-packages/sklearn/linear_model/sag.py:326: ConvergenceWarning: The max_iter was reached which means the coef_ did not converge\n",
      "  \"the coef_ did not converge\", ConvergenceWarning)\n",
      "/home2/BigData/anaconda3/lib/python3.7/site-packages/sklearn/linear_model/sag.py:326: ConvergenceWarning: The max_iter was reached which means the coef_ did not converge\n",
      "  \"the coef_ did not converge\", ConvergenceWarning)\n",
      "/home2/BigData/anaconda3/lib/python3.7/site-packages/sklearn/linear_model/sag.py:326: ConvergenceWarning: The max_iter was reached which means the coef_ did not converge\n",
      "  \"the coef_ did not converge\", ConvergenceWarning)\n"
     ]
    },
    {
     "name": "stdout",
     "output_type": "stream",
     "text": [
      "[CV]  C=100, max_iter=50, solver=saga, tol=0.01, score=0.7541268462206777, total=   0.1s\n",
      "[CV] C=100, max_iter=50, solver=saga, tol=0.01 .......................\n",
      "[CV]  C=100, max_iter=50, solver=saga, tol=0.01, score=0.7758470894874022, total=   0.1s\n",
      "[CV] C=100, max_iter=50, solver=saga, tol=0.01 .......................\n",
      "[CV]  C=100, max_iter=50, solver=saga, tol=0.01, score=0.7519582245430809, total=   0.1s\n",
      "[CV] C=100, max_iter=100, solver=newton-cg, tol=0.001 ................\n"
     ]
    },
    {
     "name": "stderr",
     "output_type": "stream",
     "text": [
      "/home2/BigData/anaconda3/lib/python3.7/site-packages/sklearn/linear_model/sag.py:326: ConvergenceWarning: The max_iter was reached which means the coef_ did not converge\n",
      "  \"the coef_ did not converge\", ConvergenceWarning)\n"
     ]
    },
    {
     "name": "stdout",
     "output_type": "stream",
     "text": [
      "[CV]  C=100, max_iter=100, solver=newton-cg, tol=0.001, score=1.0, total=   0.2s\n",
      "[CV] C=100, max_iter=100, solver=newton-cg, tol=0.001 ................\n",
      "[CV]  C=100, max_iter=100, solver=newton-cg, tol=0.001, score=1.0, total=   0.2s\n",
      "[CV] C=100, max_iter=100, solver=newton-cg, tol=0.001 ................\n",
      "[CV]  C=100, max_iter=100, solver=newton-cg, tol=0.001, score=1.0, total=   0.2s\n",
      "[CV] C=100, max_iter=100, solver=newton-cg, tol=0.0001 ...............\n",
      "[CV]  C=100, max_iter=100, solver=newton-cg, tol=0.0001, score=1.0, total=   0.2s\n",
      "[CV] C=100, max_iter=100, solver=newton-cg, tol=0.0001 ...............\n",
      "[CV]  C=100, max_iter=100, solver=newton-cg, tol=0.0001, score=1.0, total=   0.3s\n",
      "[CV] C=100, max_iter=100, solver=newton-cg, tol=0.0001 ...............\n",
      "[CV]  C=100, max_iter=100, solver=newton-cg, tol=0.0001, score=1.0, total=   0.2s\n",
      "[CV] C=100, max_iter=100, solver=newton-cg, tol=0.01 .................\n",
      "[CV]  C=100, max_iter=100, solver=newton-cg, tol=0.01, score=1.0, total=   0.2s\n",
      "[CV] C=100, max_iter=100, solver=newton-cg, tol=0.01 .................\n",
      "[CV]  C=100, max_iter=100, solver=newton-cg, tol=0.01, score=1.0, total=   0.2s\n",
      "[CV] C=100, max_iter=100, solver=newton-cg, tol=0.01 .................\n",
      "[CV]  C=100, max_iter=100, solver=newton-cg, tol=0.01, score=1.0, total=   0.2s\n",
      "[CV] C=100, max_iter=100, solver=lbfgs, tol=0.001 ....................\n",
      "[CV]  C=100, max_iter=100, solver=lbfgs, tol=0.001, score=1.0, total=   0.1s\n",
      "[CV] C=100, max_iter=100, solver=lbfgs, tol=0.001 ....................\n",
      "[CV]  C=100, max_iter=100, solver=lbfgs, tol=0.001, score=1.0, total=   0.0s\n",
      "[CV] C=100, max_iter=100, solver=lbfgs, tol=0.001 ....................\n",
      "[CV]  C=100, max_iter=100, solver=lbfgs, tol=0.001, score=1.0, total=   0.0s\n",
      "[CV] C=100, max_iter=100, solver=lbfgs, tol=0.0001 ...................\n",
      "[CV]  C=100, max_iter=100, solver=lbfgs, tol=0.0001, score=1.0, total=   0.1s\n",
      "[CV] C=100, max_iter=100, solver=lbfgs, tol=0.0001 ...................\n",
      "[CV]  C=100, max_iter=100, solver=lbfgs, tol=0.0001, score=1.0, total=   0.1s\n",
      "[CV] C=100, max_iter=100, solver=lbfgs, tol=0.0001 ...................\n",
      "[CV]  C=100, max_iter=100, solver=lbfgs, tol=0.0001, score=1.0, total=   0.0s\n",
      "[CV] C=100, max_iter=100, solver=lbfgs, tol=0.01 .....................\n",
      "[CV]  C=100, max_iter=100, solver=lbfgs, tol=0.01, score=1.0, total=   0.0s\n",
      "[CV] C=100, max_iter=100, solver=lbfgs, tol=0.01 .....................\n",
      "[CV]  C=100, max_iter=100, solver=lbfgs, tol=0.01, score=1.0, total=   0.0s\n",
      "[CV] C=100, max_iter=100, solver=lbfgs, tol=0.01 .....................\n",
      "[CV]  C=100, max_iter=100, solver=lbfgs, tol=0.01, score=1.0, total=   0.1s\n",
      "[CV] C=100, max_iter=100, solver=liblinear, tol=0.001 ................\n",
      "[CV]  C=100, max_iter=100, solver=liblinear, tol=0.001, score=0.8010425716768028, total=   0.0s\n",
      "[CV] C=100, max_iter=100, solver=liblinear, tol=0.001 ................\n",
      "[CV]  C=100, max_iter=100, solver=liblinear, tol=0.001, score=0.996524761077324, total=   0.0s\n",
      "[CV] C=100, max_iter=100, solver=liblinear, tol=0.001 ................\n",
      "[CV]  C=100, max_iter=100, solver=liblinear, tol=0.001, score=0.835509138381201, total=   0.0s\n",
      "[CV] C=100, max_iter=100, solver=liblinear, tol=0.0001 ...............\n",
      "[CV]  C=100, max_iter=100, solver=liblinear, tol=0.0001, score=1.0, total=   0.0s\n",
      "[CV] C=100, max_iter=100, solver=liblinear, tol=0.0001 ...............\n",
      "[CV]  C=100, max_iter=100, solver=liblinear, tol=0.0001, score=1.0, total=   0.0s\n",
      "[CV] C=100, max_iter=100, solver=liblinear, tol=0.0001 ...............\n",
      "[CV]  C=100, max_iter=100, solver=liblinear, tol=0.0001, score=1.0, total=   0.0s\n",
      "[CV] C=100, max_iter=100, solver=liblinear, tol=0.01 .................\n",
      "[CV]  C=100, max_iter=100, solver=liblinear, tol=0.01, score=0.7854039965247611, total=   0.0s\n",
      "[CV] C=100, max_iter=100, solver=liblinear, tol=0.01 .................\n",
      "[CV]  C=100, max_iter=100, solver=liblinear, tol=0.01, score=0.792354474370113, total=   0.0s\n",
      "[CV] C=100, max_iter=100, solver=liblinear, tol=0.01 .................\n",
      "[CV]  C=100, max_iter=100, solver=liblinear, tol=0.01, score=0.7815491731940818, total=   0.0s\n",
      "[CV] C=100, max_iter=100, solver=sag, tol=0.001 ......................\n",
      "[CV]  C=100, max_iter=100, solver=sag, tol=0.001, score=0.7515204170286707, total=   0.1s\n",
      "[CV] C=100, max_iter=100, solver=sag, tol=0.001 ......................\n"
     ]
    },
    {
     "name": "stderr",
     "output_type": "stream",
     "text": [
      "/home2/BigData/anaconda3/lib/python3.7/site-packages/sklearn/linear_model/sag.py:326: ConvergenceWarning: The max_iter was reached which means the coef_ did not converge\n",
      "  \"the coef_ did not converge\", ConvergenceWarning)\n",
      "/home2/BigData/anaconda3/lib/python3.7/site-packages/sklearn/linear_model/sag.py:326: ConvergenceWarning: The max_iter was reached which means the coef_ did not converge\n",
      "  \"the coef_ did not converge\", ConvergenceWarning)\n"
     ]
    },
    {
     "name": "stdout",
     "output_type": "stream",
     "text": [
      "[CV]  C=100, max_iter=100, solver=sag, tol=0.001, score=0.7784535186794093, total=   0.1s\n",
      "[CV] C=100, max_iter=100, solver=sag, tol=0.001 ......................\n",
      "[CV]  C=100, max_iter=100, solver=sag, tol=0.001, score=0.7589208006962577, total=   0.1s\n",
      "[CV] C=100, max_iter=100, solver=sag, tol=0.0001 .....................\n"
     ]
    },
    {
     "name": "stderr",
     "output_type": "stream",
     "text": [
      "/home2/BigData/anaconda3/lib/python3.7/site-packages/sklearn/linear_model/sag.py:326: ConvergenceWarning: The max_iter was reached which means the coef_ did not converge\n",
      "  \"the coef_ did not converge\", ConvergenceWarning)\n",
      "/home2/BigData/anaconda3/lib/python3.7/site-packages/sklearn/linear_model/sag.py:326: ConvergenceWarning: The max_iter was reached which means the coef_ did not converge\n",
      "  \"the coef_ did not converge\", ConvergenceWarning)\n"
     ]
    },
    {
     "name": "stdout",
     "output_type": "stream",
     "text": [
      "[CV]  C=100, max_iter=100, solver=sag, tol=0.0001, score=0.7515204170286707, total=   0.1s\n",
      "[CV] C=100, max_iter=100, solver=sag, tol=0.0001 .....................\n",
      "[CV]  C=100, max_iter=100, solver=sag, tol=0.0001, score=0.7784535186794093, total=   0.1s\n",
      "[CV] C=100, max_iter=100, solver=sag, tol=0.0001 .....................\n"
     ]
    },
    {
     "name": "stderr",
     "output_type": "stream",
     "text": [
      "/home2/BigData/anaconda3/lib/python3.7/site-packages/sklearn/linear_model/sag.py:326: ConvergenceWarning: The max_iter was reached which means the coef_ did not converge\n",
      "  \"the coef_ did not converge\", ConvergenceWarning)\n",
      "/home2/BigData/anaconda3/lib/python3.7/site-packages/sklearn/linear_model/sag.py:326: ConvergenceWarning: The max_iter was reached which means the coef_ did not converge\n",
      "  \"the coef_ did not converge\", ConvergenceWarning)\n"
     ]
    },
    {
     "name": "stdout",
     "output_type": "stream",
     "text": [
      "[CV]  C=100, max_iter=100, solver=sag, tol=0.0001, score=0.7589208006962577, total=   0.1s\n",
      "[CV] C=100, max_iter=100, solver=sag, tol=0.01 .......................\n",
      "[CV]  C=100, max_iter=100, solver=sag, tol=0.01, score=0.7489139878366637, total=   0.1s\n",
      "[CV] C=100, max_iter=100, solver=sag, tol=0.01 .......................\n",
      "[CV]  C=100, max_iter=100, solver=sag, tol=0.01, score=0.7784535186794093, total=   0.1s\n",
      "[CV] C=100, max_iter=100, solver=sag, tol=0.01 .......................\n",
      "[CV]  C=100, max_iter=100, solver=sag, tol=0.01, score=0.7615317667536988, total=   0.1s\n",
      "[CV] C=100, max_iter=100, solver=saga, tol=0.001 .....................\n",
      "[CV]  C=100, max_iter=100, solver=saga, tol=0.001, score=0.7497827975673328, total=   0.1s\n",
      "[CV] C=100, max_iter=100, solver=saga, tol=0.001 .....................\n"
     ]
    },
    {
     "name": "stderr",
     "output_type": "stream",
     "text": [
      "/home2/BigData/anaconda3/lib/python3.7/site-packages/sklearn/linear_model/sag.py:326: ConvergenceWarning: The max_iter was reached which means the coef_ did not converge\n",
      "  \"the coef_ did not converge\", ConvergenceWarning)\n",
      "/home2/BigData/anaconda3/lib/python3.7/site-packages/sklearn/linear_model/sag.py:326: ConvergenceWarning: The max_iter was reached which means the coef_ did not converge\n",
      "  \"the coef_ did not converge\", ConvergenceWarning)\n"
     ]
    },
    {
     "name": "stdout",
     "output_type": "stream",
     "text": [
      "[CV]  C=100, max_iter=100, solver=saga, tol=0.001, score=0.7793223284100782, total=   0.2s\n",
      "[CV] C=100, max_iter=100, solver=saga, tol=0.001 .....................\n",
      "[CV]  C=100, max_iter=100, solver=saga, tol=0.001, score=0.7493472584856397, total=   0.2s\n",
      "[CV] C=100, max_iter=100, solver=saga, tol=0.0001 ....................\n"
     ]
    },
    {
     "name": "stderr",
     "output_type": "stream",
     "text": [
      "/home2/BigData/anaconda3/lib/python3.7/site-packages/sklearn/linear_model/sag.py:326: ConvergenceWarning: The max_iter was reached which means the coef_ did not converge\n",
      "  \"the coef_ did not converge\", ConvergenceWarning)\n",
      "/home2/BigData/anaconda3/lib/python3.7/site-packages/sklearn/linear_model/sag.py:326: ConvergenceWarning: The max_iter was reached which means the coef_ did not converge\n",
      "  \"the coef_ did not converge\", ConvergenceWarning)\n"
     ]
    },
    {
     "name": "stdout",
     "output_type": "stream",
     "text": [
      "[CV]  C=100, max_iter=100, solver=saga, tol=0.0001, score=0.7497827975673328, total=   0.2s\n",
      "[CV] C=100, max_iter=100, solver=saga, tol=0.0001 ....................\n",
      "[CV]  C=100, max_iter=100, solver=saga, tol=0.0001, score=0.7784535186794093, total=   0.2s\n",
      "[CV] C=100, max_iter=100, solver=saga, tol=0.0001 ....................\n"
     ]
    },
    {
     "name": "stderr",
     "output_type": "stream",
     "text": [
      "/home2/BigData/anaconda3/lib/python3.7/site-packages/sklearn/linear_model/sag.py:326: ConvergenceWarning: The max_iter was reached which means the coef_ did not converge\n",
      "  \"the coef_ did not converge\", ConvergenceWarning)\n",
      "/home2/BigData/anaconda3/lib/python3.7/site-packages/sklearn/linear_model/sag.py:326: ConvergenceWarning: The max_iter was reached which means the coef_ did not converge\n",
      "  \"the coef_ did not converge\", ConvergenceWarning)\n"
     ]
    },
    {
     "name": "stdout",
     "output_type": "stream",
     "text": [
      "[CV]  C=100, max_iter=100, solver=saga, tol=0.0001, score=0.7493472584856397, total=   0.2s\n",
      "[CV] C=100, max_iter=100, solver=saga, tol=0.01 ......................\n",
      "[CV]  C=100, max_iter=100, solver=saga, tol=0.01, score=0.7532580364900087, total=   0.1s\n",
      "[CV] C=100, max_iter=100, solver=saga, tol=0.01 ......................\n",
      "[CV]  C=100, max_iter=100, solver=saga, tol=0.01, score=0.7767158992180713, total=   0.1s\n",
      "[CV] C=100, max_iter=100, solver=saga, tol=0.01 ......................\n",
      "[CV]  C=100, max_iter=100, solver=saga, tol=0.01, score=0.7493472584856397, total=   0.1s\n",
      "[CV] C=100, max_iter=150, solver=newton-cg, tol=0.001 ................\n",
      "[CV]  C=100, max_iter=150, solver=newton-cg, tol=0.001, score=1.0, total=   0.2s\n",
      "[CV] C=100, max_iter=150, solver=newton-cg, tol=0.001 ................\n",
      "[CV]  C=100, max_iter=150, solver=newton-cg, tol=0.001, score=1.0, total=   0.2s\n",
      "[CV] C=100, max_iter=150, solver=newton-cg, tol=0.001 ................\n",
      "[CV]  C=100, max_iter=150, solver=newton-cg, tol=0.001, score=1.0, total=   0.2s\n",
      "[CV] C=100, max_iter=150, solver=newton-cg, tol=0.0001 ...............\n",
      "[CV]  C=100, max_iter=150, solver=newton-cg, tol=0.0001, score=1.0, total=   0.2s\n",
      "[CV] C=100, max_iter=150, solver=newton-cg, tol=0.0001 ...............\n",
      "[CV]  C=100, max_iter=150, solver=newton-cg, tol=0.0001, score=1.0, total=   0.3s\n",
      "[CV] C=100, max_iter=150, solver=newton-cg, tol=0.0001 ...............\n",
      "[CV]  C=100, max_iter=150, solver=newton-cg, tol=0.0001, score=1.0, total=   0.2s\n",
      "[CV] C=100, max_iter=150, solver=newton-cg, tol=0.01 .................\n",
      "[CV]  C=100, max_iter=150, solver=newton-cg, tol=0.01, score=1.0, total=   0.2s\n",
      "[CV] C=100, max_iter=150, solver=newton-cg, tol=0.01 .................\n",
      "[CV]  C=100, max_iter=150, solver=newton-cg, tol=0.01, score=1.0, total=   0.2s\n",
      "[CV] C=100, max_iter=150, solver=newton-cg, tol=0.01 .................\n",
      "[CV]  C=100, max_iter=150, solver=newton-cg, tol=0.01, score=1.0, total=   0.2s\n",
      "[CV] C=100, max_iter=150, solver=lbfgs, tol=0.001 ....................\n",
      "[CV]  C=100, max_iter=150, solver=lbfgs, tol=0.001, score=1.0, total=   0.1s\n",
      "[CV] C=100, max_iter=150, solver=lbfgs, tol=0.001 ....................\n",
      "[CV]  C=100, max_iter=150, solver=lbfgs, tol=0.001, score=1.0, total=   0.1s\n",
      "[CV] C=100, max_iter=150, solver=lbfgs, tol=0.001 ....................\n",
      "[CV]  C=100, max_iter=150, solver=lbfgs, tol=0.001, score=1.0, total=   0.1s\n",
      "[CV] C=100, max_iter=150, solver=lbfgs, tol=0.0001 ...................\n",
      "[CV]  C=100, max_iter=150, solver=lbfgs, tol=0.0001, score=1.0, total=   0.1s\n",
      "[CV] C=100, max_iter=150, solver=lbfgs, tol=0.0001 ...................\n",
      "[CV]  C=100, max_iter=150, solver=lbfgs, tol=0.0001, score=1.0, total=   0.1s\n",
      "[CV] C=100, max_iter=150, solver=lbfgs, tol=0.0001 ...................\n",
      "[CV]  C=100, max_iter=150, solver=lbfgs, tol=0.0001, score=1.0, total=   0.1s\n",
      "[CV] C=100, max_iter=150, solver=lbfgs, tol=0.01 .....................\n",
      "[CV]  C=100, max_iter=150, solver=lbfgs, tol=0.01, score=1.0, total=   0.1s\n",
      "[CV] C=100, max_iter=150, solver=lbfgs, tol=0.01 .....................\n",
      "[CV]  C=100, max_iter=150, solver=lbfgs, tol=0.01, score=1.0, total=   0.1s\n",
      "[CV] C=100, max_iter=150, solver=lbfgs, tol=0.01 .....................\n",
      "[CV]  C=100, max_iter=150, solver=lbfgs, tol=0.01, score=1.0, total=   0.1s\n",
      "[CV] C=100, max_iter=150, solver=liblinear, tol=0.001 ................\n",
      "[CV]  C=100, max_iter=150, solver=liblinear, tol=0.001, score=0.8010425716768028, total=   0.0s\n",
      "[CV] C=100, max_iter=150, solver=liblinear, tol=0.001 ................\n",
      "[CV]  C=100, max_iter=150, solver=liblinear, tol=0.001, score=0.996524761077324, total=   0.0s\n",
      "[CV] C=100, max_iter=150, solver=liblinear, tol=0.001 ................\n",
      "[CV]  C=100, max_iter=150, solver=liblinear, tol=0.001, score=0.835509138381201, total=   0.0s\n",
      "[CV] C=100, max_iter=150, solver=liblinear, tol=0.0001 ...............\n",
      "[CV]  C=100, max_iter=150, solver=liblinear, tol=0.0001, score=1.0, total=   0.0s\n",
      "[CV] C=100, max_iter=150, solver=liblinear, tol=0.0001 ...............\n",
      "[CV]  C=100, max_iter=150, solver=liblinear, tol=0.0001, score=1.0, total=   0.0s\n",
      "[CV] C=100, max_iter=150, solver=liblinear, tol=0.0001 ...............\n",
      "[CV]  C=100, max_iter=150, solver=liblinear, tol=0.0001, score=1.0, total=   0.0s\n",
      "[CV] C=100, max_iter=150, solver=liblinear, tol=0.01 .................\n",
      "[CV]  C=100, max_iter=150, solver=liblinear, tol=0.01, score=0.7854039965247611, total=   0.0s\n",
      "[CV] C=100, max_iter=150, solver=liblinear, tol=0.01 .................\n",
      "[CV]  C=100, max_iter=150, solver=liblinear, tol=0.01, score=0.792354474370113, total=   0.0s\n",
      "[CV] C=100, max_iter=150, solver=liblinear, tol=0.01 .................\n",
      "[CV]  C=100, max_iter=150, solver=liblinear, tol=0.01, score=0.7815491731940818, total=   0.0s\n",
      "[CV] C=100, max_iter=150, solver=sag, tol=0.001 ......................\n"
     ]
    },
    {
     "name": "stderr",
     "output_type": "stream",
     "text": [
      "/home2/BigData/anaconda3/lib/python3.7/site-packages/sklearn/linear_model/sag.py:326: ConvergenceWarning: The max_iter was reached which means the coef_ did not converge\n",
      "  \"the coef_ did not converge\", ConvergenceWarning)\n",
      "/home2/BigData/anaconda3/lib/python3.7/site-packages/sklearn/linear_model/sag.py:326: ConvergenceWarning: The max_iter was reached which means the coef_ did not converge\n",
      "  \"the coef_ did not converge\", ConvergenceWarning)\n"
     ]
    },
    {
     "name": "stdout",
     "output_type": "stream",
     "text": [
      "[CV]  C=100, max_iter=150, solver=sag, tol=0.001, score=0.7602085143353605, total=   0.2s\n",
      "[CV] C=100, max_iter=150, solver=sag, tol=0.001 ......................\n",
      "[CV]  C=100, max_iter=150, solver=sag, tol=0.001, score=0.7845351867940921, total=   0.2s\n",
      "[CV] C=100, max_iter=150, solver=sag, tol=0.001 ......................\n"
     ]
    },
    {
     "name": "stderr",
     "output_type": "stream",
     "text": [
      "/home2/BigData/anaconda3/lib/python3.7/site-packages/sklearn/linear_model/sag.py:326: ConvergenceWarning: The max_iter was reached which means the coef_ did not converge\n",
      "  \"the coef_ did not converge\", ConvergenceWarning)\n",
      "/home2/BigData/anaconda3/lib/python3.7/site-packages/sklearn/linear_model/sag.py:326: ConvergenceWarning: The max_iter was reached which means the coef_ did not converge\n",
      "  \"the coef_ did not converge\", ConvergenceWarning)\n"
     ]
    },
    {
     "name": "stdout",
     "output_type": "stream",
     "text": [
      "[CV]  C=100, max_iter=150, solver=sag, tol=0.001, score=0.7641427328111401, total=   0.2s\n",
      "[CV] C=100, max_iter=150, solver=sag, tol=0.0001 .....................\n",
      "[CV]  C=100, max_iter=150, solver=sag, tol=0.0001, score=0.7602085143353605, total=   0.2s\n",
      "[CV] C=100, max_iter=150, solver=sag, tol=0.0001 .....................\n"
     ]
    },
    {
     "name": "stderr",
     "output_type": "stream",
     "text": [
      "/home2/BigData/anaconda3/lib/python3.7/site-packages/sklearn/linear_model/sag.py:326: ConvergenceWarning: The max_iter was reached which means the coef_ did not converge\n",
      "  \"the coef_ did not converge\", ConvergenceWarning)\n",
      "/home2/BigData/anaconda3/lib/python3.7/site-packages/sklearn/linear_model/sag.py:326: ConvergenceWarning: The max_iter was reached which means the coef_ did not converge\n",
      "  \"the coef_ did not converge\", ConvergenceWarning)\n"
     ]
    },
    {
     "name": "stdout",
     "output_type": "stream",
     "text": [
      "[CV]  C=100, max_iter=150, solver=sag, tol=0.0001, score=0.7845351867940921, total=   0.2s\n",
      "[CV] C=100, max_iter=150, solver=sag, tol=0.0001 .....................\n",
      "[CV]  C=100, max_iter=150, solver=sag, tol=0.0001, score=0.7641427328111401, total=   0.2s\n",
      "[CV] C=100, max_iter=150, solver=sag, tol=0.01 .......................\n",
      "[CV]  C=100, max_iter=150, solver=sag, tol=0.01, score=0.7489139878366637, total=   0.1s\n",
      "[CV] C=100, max_iter=150, solver=sag, tol=0.01 .......................\n",
      "[CV]  C=100, max_iter=150, solver=sag, tol=0.01, score=0.7784535186794093, total=   0.1s\n",
      "[CV] C=100, max_iter=150, solver=sag, tol=0.01 .......................\n",
      "[CV]  C=100, max_iter=150, solver=sag, tol=0.01, score=0.7615317667536988, total=   0.1s\n",
      "[CV] C=100, max_iter=150, solver=saga, tol=0.001 .....................\n"
     ]
    },
    {
     "name": "stderr",
     "output_type": "stream",
     "text": [
      "/home2/BigData/anaconda3/lib/python3.7/site-packages/sklearn/linear_model/sag.py:326: ConvergenceWarning: The max_iter was reached which means the coef_ did not converge\n",
      "  \"the coef_ did not converge\", ConvergenceWarning)\n"
     ]
    },
    {
     "name": "stdout",
     "output_type": "stream",
     "text": [
      "[CV]  C=100, max_iter=150, solver=saga, tol=0.001, score=0.7489139878366637, total=   0.2s\n",
      "[CV] C=100, max_iter=150, solver=saga, tol=0.001 .....................\n"
     ]
    },
    {
     "name": "stderr",
     "output_type": "stream",
     "text": [
      "/home2/BigData/anaconda3/lib/python3.7/site-packages/sklearn/linear_model/sag.py:326: ConvergenceWarning: The max_iter was reached which means the coef_ did not converge\n",
      "  \"the coef_ did not converge\", ConvergenceWarning)\n"
     ]
    },
    {
     "name": "stdout",
     "output_type": "stream",
     "text": [
      "[CV]  C=100, max_iter=150, solver=saga, tol=0.001, score=0.7758470894874022, total=   0.2s\n",
      "[CV] C=100, max_iter=150, solver=saga, tol=0.001 .....................\n"
     ]
    },
    {
     "name": "stderr",
     "output_type": "stream",
     "text": [
      "/home2/BigData/anaconda3/lib/python3.7/site-packages/sklearn/linear_model/sag.py:326: ConvergenceWarning: The max_iter was reached which means the coef_ did not converge\n",
      "  \"the coef_ did not converge\", ConvergenceWarning)\n"
     ]
    },
    {
     "name": "stdout",
     "output_type": "stream",
     "text": [
      "[CV]  C=100, max_iter=150, solver=saga, tol=0.001, score=0.7589208006962577, total=   0.2s\n",
      "[CV] C=100, max_iter=150, solver=saga, tol=0.0001 ....................\n"
     ]
    },
    {
     "name": "stderr",
     "output_type": "stream",
     "text": [
      "/home2/BigData/anaconda3/lib/python3.7/site-packages/sklearn/linear_model/sag.py:326: ConvergenceWarning: The max_iter was reached which means the coef_ did not converge\n",
      "  \"the coef_ did not converge\", ConvergenceWarning)\n"
     ]
    },
    {
     "name": "stdout",
     "output_type": "stream",
     "text": [
      "[CV]  C=100, max_iter=150, solver=saga, tol=0.0001, score=0.7489139878366637, total=   0.2s\n",
      "[CV] C=100, max_iter=150, solver=saga, tol=0.0001 ....................\n"
     ]
    },
    {
     "name": "stderr",
     "output_type": "stream",
     "text": [
      "/home2/BigData/anaconda3/lib/python3.7/site-packages/sklearn/linear_model/sag.py:326: ConvergenceWarning: The max_iter was reached which means the coef_ did not converge\n",
      "  \"the coef_ did not converge\", ConvergenceWarning)\n"
     ]
    },
    {
     "name": "stdout",
     "output_type": "stream",
     "text": [
      "[CV]  C=100, max_iter=150, solver=saga, tol=0.0001, score=0.7758470894874022, total=   0.2s\n",
      "[CV] C=100, max_iter=150, solver=saga, tol=0.0001 ....................\n"
     ]
    },
    {
     "name": "stderr",
     "output_type": "stream",
     "text": [
      "/home2/BigData/anaconda3/lib/python3.7/site-packages/sklearn/linear_model/sag.py:326: ConvergenceWarning: The max_iter was reached which means the coef_ did not converge\n",
      "  \"the coef_ did not converge\", ConvergenceWarning)\n"
     ]
    },
    {
     "name": "stdout",
     "output_type": "stream",
     "text": [
      "[CV]  C=100, max_iter=150, solver=saga, tol=0.0001, score=0.7589208006962577, total=   0.2s\n",
      "[CV] C=100, max_iter=150, solver=saga, tol=0.01 ......................\n",
      "[CV]  C=100, max_iter=150, solver=saga, tol=0.01, score=0.7532580364900087, total=   0.1s\n",
      "[CV] C=100, max_iter=150, solver=saga, tol=0.01 ......................\n",
      "[CV]  C=100, max_iter=150, solver=saga, tol=0.01, score=0.7767158992180713, total=   0.1s\n",
      "[CV] C=100, max_iter=150, solver=saga, tol=0.01 ......................\n",
      "[CV]  C=100, max_iter=150, solver=saga, tol=0.01, score=0.7493472584856397, total=   0.1s\n",
      "[CV] C=1000, max_iter=50, solver=newton-cg, tol=0.001 ................\n"
     ]
    },
    {
     "name": "stderr",
     "output_type": "stream",
     "text": [
      "/home2/BigData/anaconda3/lib/python3.7/site-packages/sklearn/utils/optimize.py:203: ConvergenceWarning: newton-cg failed to converge. Increase the number of iterations.\n",
      "  \"number of iterations.\", ConvergenceWarning)\n",
      "/home2/BigData/anaconda3/lib/python3.7/site-packages/sklearn/utils/optimize.py:203: ConvergenceWarning: newton-cg failed to converge. Increase the number of iterations.\n",
      "  \"number of iterations.\", ConvergenceWarning)\n"
     ]
    },
    {
     "name": "stdout",
     "output_type": "stream",
     "text": [
      "[CV]  C=1000, max_iter=50, solver=newton-cg, tol=0.001, score=1.0, total=   0.2s\n",
      "[CV] C=1000, max_iter=50, solver=newton-cg, tol=0.001 ................\n",
      "[CV]  C=1000, max_iter=50, solver=newton-cg, tol=0.001, score=1.0, total=   0.2s\n",
      "[CV] C=1000, max_iter=50, solver=newton-cg, tol=0.001 ................\n"
     ]
    },
    {
     "name": "stderr",
     "output_type": "stream",
     "text": [
      "/home2/BigData/anaconda3/lib/python3.7/site-packages/sklearn/utils/optimize.py:203: ConvergenceWarning: newton-cg failed to converge. Increase the number of iterations.\n",
      "  \"number of iterations.\", ConvergenceWarning)\n",
      "/home2/BigData/anaconda3/lib/python3.7/site-packages/sklearn/utils/optimize.py:203: ConvergenceWarning: newton-cg failed to converge. Increase the number of iterations.\n",
      "  \"number of iterations.\", ConvergenceWarning)\n"
     ]
    },
    {
     "name": "stdout",
     "output_type": "stream",
     "text": [
      "[CV]  C=1000, max_iter=50, solver=newton-cg, tol=0.001, score=1.0, total=   0.2s\n",
      "[CV] C=1000, max_iter=50, solver=newton-cg, tol=0.0001 ...............\n",
      "[CV]  C=1000, max_iter=50, solver=newton-cg, tol=0.0001, score=1.0, total=   0.2s\n",
      "[CV] C=1000, max_iter=50, solver=newton-cg, tol=0.0001 ...............\n"
     ]
    },
    {
     "name": "stderr",
     "output_type": "stream",
     "text": [
      "/home2/BigData/anaconda3/lib/python3.7/site-packages/sklearn/utils/optimize.py:203: ConvergenceWarning: newton-cg failed to converge. Increase the number of iterations.\n",
      "  \"number of iterations.\", ConvergenceWarning)\n"
     ]
    },
    {
     "name": "stdout",
     "output_type": "stream",
     "text": [
      "[CV]  C=1000, max_iter=50, solver=newton-cg, tol=0.0001, score=1.0, total=   0.2s\n",
      "[CV] C=1000, max_iter=50, solver=newton-cg, tol=0.0001 ...............\n"
     ]
    },
    {
     "name": "stderr",
     "output_type": "stream",
     "text": [
      "/home2/BigData/anaconda3/lib/python3.7/site-packages/sklearn/utils/optimize.py:203: ConvergenceWarning: newton-cg failed to converge. Increase the number of iterations.\n",
      "  \"number of iterations.\", ConvergenceWarning)\n",
      "/home2/BigData/anaconda3/lib/python3.7/site-packages/sklearn/utils/optimize.py:203: ConvergenceWarning: newton-cg failed to converge. Increase the number of iterations.\n",
      "  \"number of iterations.\", ConvergenceWarning)\n"
     ]
    },
    {
     "name": "stdout",
     "output_type": "stream",
     "text": [
      "[CV]  C=1000, max_iter=50, solver=newton-cg, tol=0.0001, score=1.0, total=   0.2s\n",
      "[CV] C=1000, max_iter=50, solver=newton-cg, tol=0.01 .................\n",
      "[CV]  C=1000, max_iter=50, solver=newton-cg, tol=0.01, score=1.0, total=   0.2s\n",
      "[CV] C=1000, max_iter=50, solver=newton-cg, tol=0.01 .................\n"
     ]
    },
    {
     "name": "stderr",
     "output_type": "stream",
     "text": [
      "/home2/BigData/anaconda3/lib/python3.7/site-packages/sklearn/utils/optimize.py:203: ConvergenceWarning: newton-cg failed to converge. Increase the number of iterations.\n",
      "  \"number of iterations.\", ConvergenceWarning)\n",
      "/home2/BigData/anaconda3/lib/python3.7/site-packages/sklearn/utils/optimize.py:203: ConvergenceWarning: newton-cg failed to converge. Increase the number of iterations.\n",
      "  \"number of iterations.\", ConvergenceWarning)\n"
     ]
    },
    {
     "name": "stdout",
     "output_type": "stream",
     "text": [
      "[CV]  C=1000, max_iter=50, solver=newton-cg, tol=0.01, score=1.0, total=   0.2s\n",
      "[CV] C=1000, max_iter=50, solver=newton-cg, tol=0.01 .................\n",
      "[CV]  C=1000, max_iter=50, solver=newton-cg, tol=0.01, score=1.0, total=   0.2s\n",
      "[CV] C=1000, max_iter=50, solver=lbfgs, tol=0.001 ....................\n",
      "[CV]  C=1000, max_iter=50, solver=lbfgs, tol=0.001, score=0.9860990443092963, total=   0.0s\n",
      "[CV] C=1000, max_iter=50, solver=lbfgs, tol=0.001 ....................\n",
      "[CV]  C=1000, max_iter=50, solver=lbfgs, tol=0.001, score=0.9678540399652477, total=   0.0s\n",
      "[CV] C=1000, max_iter=50, solver=lbfgs, tol=0.001 ....................\n",
      "[CV]  C=1000, max_iter=50, solver=lbfgs, tol=0.001, score=0.9782419495213229, total=   0.0s\n",
      "[CV] C=1000, max_iter=50, solver=lbfgs, tol=0.0001 ...................\n",
      "[CV]  C=1000, max_iter=50, solver=lbfgs, tol=0.0001, score=0.9860990443092963, total=   0.0s\n",
      "[CV] C=1000, max_iter=50, solver=lbfgs, tol=0.0001 ...................\n",
      "[CV]  C=1000, max_iter=50, solver=lbfgs, tol=0.0001, score=0.9678540399652477, total=   0.0s\n",
      "[CV] C=1000, max_iter=50, solver=lbfgs, tol=0.0001 ...................\n",
      "[CV]  C=1000, max_iter=50, solver=lbfgs, tol=0.0001, score=0.9782419495213229, total=   0.0s\n",
      "[CV] C=1000, max_iter=50, solver=lbfgs, tol=0.01 .....................\n",
      "[CV]  C=1000, max_iter=50, solver=lbfgs, tol=0.01, score=0.9860990443092963, total=   0.0s\n",
      "[CV] C=1000, max_iter=50, solver=lbfgs, tol=0.01 .....................\n",
      "[CV]  C=1000, max_iter=50, solver=lbfgs, tol=0.01, score=0.9678540399652477, total=   0.0s\n",
      "[CV] C=1000, max_iter=50, solver=lbfgs, tol=0.01 .....................\n",
      "[CV]  C=1000, max_iter=50, solver=lbfgs, tol=0.01, score=0.9782419495213229, total=   0.0s\n",
      "[CV] C=1000, max_iter=50, solver=liblinear, tol=0.001 ................\n",
      "[CV]  C=1000, max_iter=50, solver=liblinear, tol=0.001, score=0.8010425716768028, total=   0.0s\n",
      "[CV] C=1000, max_iter=50, solver=liblinear, tol=0.001 ................\n",
      "[CV]  C=1000, max_iter=50, solver=liblinear, tol=0.001, score=0.996524761077324, total=   0.0s\n",
      "[CV] C=1000, max_iter=50, solver=liblinear, tol=0.001 ................\n",
      "[CV]  C=1000, max_iter=50, solver=liblinear, tol=0.001, score=0.835509138381201, total=   0.0s\n",
      "[CV] C=1000, max_iter=50, solver=liblinear, tol=0.0001 ...............\n",
      "[CV]  C=1000, max_iter=50, solver=liblinear, tol=0.0001, score=1.0, total=   0.0s\n",
      "[CV] C=1000, max_iter=50, solver=liblinear, tol=0.0001 ...............\n",
      "[CV]  C=1000, max_iter=50, solver=liblinear, tol=0.0001, score=1.0, total=   0.0s\n",
      "[CV] C=1000, max_iter=50, solver=liblinear, tol=0.0001 ...............\n",
      "[CV]  C=1000, max_iter=50, solver=liblinear, tol=0.0001, score=1.0, total=   0.0s\n",
      "[CV] C=1000, max_iter=50, solver=liblinear, tol=0.01 .................\n",
      "[CV]  C=1000, max_iter=50, solver=liblinear, tol=0.01, score=0.7854039965247611, total=   0.0s\n",
      "[CV] C=1000, max_iter=50, solver=liblinear, tol=0.01 .................\n",
      "[CV]  C=1000, max_iter=50, solver=liblinear, tol=0.01, score=0.792354474370113, total=   0.0s\n",
      "[CV] C=1000, max_iter=50, solver=liblinear, tol=0.01 .................\n",
      "[CV]  C=1000, max_iter=50, solver=liblinear, tol=0.01, score=0.7815491731940818, total=   0.0s\n",
      "[CV] C=1000, max_iter=50, solver=sag, tol=0.001 ......................\n"
     ]
    },
    {
     "name": "stderr",
     "output_type": "stream",
     "text": [
      "/home2/BigData/anaconda3/lib/python3.7/site-packages/sklearn/linear_model/sag.py:326: ConvergenceWarning: The max_iter was reached which means the coef_ did not converge\n",
      "  \"the coef_ did not converge\", ConvergenceWarning)\n",
      "/home2/BigData/anaconda3/lib/python3.7/site-packages/sklearn/linear_model/sag.py:326: ConvergenceWarning: The max_iter was reached which means the coef_ did not converge\n",
      "  \"the coef_ did not converge\", ConvergenceWarning)\n",
      "/home2/BigData/anaconda3/lib/python3.7/site-packages/sklearn/linear_model/sag.py:326: ConvergenceWarning: The max_iter was reached which means the coef_ did not converge\n",
      "  \"the coef_ did not converge\", ConvergenceWarning)\n",
      "/home2/BigData/anaconda3/lib/python3.7/site-packages/sklearn/linear_model/sag.py:326: ConvergenceWarning: The max_iter was reached which means the coef_ did not converge\n",
      "  \"the coef_ did not converge\", ConvergenceWarning)\n"
     ]
    },
    {
     "name": "stdout",
     "output_type": "stream",
     "text": [
      "[CV]  C=1000, max_iter=50, solver=sag, tol=0.001, score=0.7480451781059948, total=   0.1s\n",
      "[CV] C=1000, max_iter=50, solver=sag, tol=0.001 ......................\n",
      "[CV]  C=1000, max_iter=50, solver=sag, tol=0.001, score=0.7793223284100782, total=   0.1s\n",
      "[CV] C=1000, max_iter=50, solver=sag, tol=0.001 ......................\n",
      "[CV]  C=1000, max_iter=50, solver=sag, tol=0.001, score=0.7502175805047868, total=   0.1s\n",
      "[CV] C=1000, max_iter=50, solver=sag, tol=0.0001 .....................\n",
      "[CV]  C=1000, max_iter=50, solver=sag, tol=0.0001, score=0.7489139878366637, total=   0.1s\n",
      "[CV] C=1000, max_iter=50, solver=sag, tol=0.0001 .....................\n"
     ]
    },
    {
     "name": "stderr",
     "output_type": "stream",
     "text": [
      "/home2/BigData/anaconda3/lib/python3.7/site-packages/sklearn/linear_model/sag.py:326: ConvergenceWarning: The max_iter was reached which means the coef_ did not converge\n",
      "  \"the coef_ did not converge\", ConvergenceWarning)\n",
      "/home2/BigData/anaconda3/lib/python3.7/site-packages/sklearn/linear_model/sag.py:326: ConvergenceWarning: The max_iter was reached which means the coef_ did not converge\n",
      "  \"the coef_ did not converge\", ConvergenceWarning)\n",
      "/home2/BigData/anaconda3/lib/python3.7/site-packages/sklearn/linear_model/sag.py:326: ConvergenceWarning: The max_iter was reached which means the coef_ did not converge\n",
      "  \"the coef_ did not converge\", ConvergenceWarning)\n",
      "/home2/BigData/anaconda3/lib/python3.7/site-packages/sklearn/linear_model/sag.py:326: ConvergenceWarning: The max_iter was reached which means the coef_ did not converge\n",
      "  \"the coef_ did not converge\", ConvergenceWarning)\n"
     ]
    },
    {
     "name": "stdout",
     "output_type": "stream",
     "text": [
      "[CV]  C=1000, max_iter=50, solver=sag, tol=0.0001, score=0.7793223284100782, total=   0.1s\n",
      "[CV] C=1000, max_iter=50, solver=sag, tol=0.0001 .....................\n",
      "[CV]  C=1000, max_iter=50, solver=sag, tol=0.0001, score=0.7502175805047868, total=   0.1s\n",
      "[CV] C=1000, max_iter=50, solver=sag, tol=0.01 .......................\n",
      "[CV]  C=1000, max_iter=50, solver=sag, tol=0.01, score=0.7489139878366637, total=   0.1s\n",
      "[CV] C=1000, max_iter=50, solver=sag, tol=0.01 .......................\n",
      "[CV]  C=1000, max_iter=50, solver=sag, tol=0.01, score=0.7793223284100782, total=   0.1s\n",
      "[CV] C=1000, max_iter=50, solver=sag, tol=0.01 .......................\n"
     ]
    },
    {
     "name": "stderr",
     "output_type": "stream",
     "text": [
      "/home2/BigData/anaconda3/lib/python3.7/site-packages/sklearn/linear_model/sag.py:326: ConvergenceWarning: The max_iter was reached which means the coef_ did not converge\n",
      "  \"the coef_ did not converge\", ConvergenceWarning)\n",
      "/home2/BigData/anaconda3/lib/python3.7/site-packages/sklearn/linear_model/sag.py:326: ConvergenceWarning: The max_iter was reached which means the coef_ did not converge\n",
      "  \"the coef_ did not converge\", ConvergenceWarning)\n",
      "/home2/BigData/anaconda3/lib/python3.7/site-packages/sklearn/linear_model/sag.py:326: ConvergenceWarning: The max_iter was reached which means the coef_ did not converge\n",
      "  \"the coef_ did not converge\", ConvergenceWarning)\n"
     ]
    },
    {
     "name": "stdout",
     "output_type": "stream",
     "text": [
      "[CV]  C=1000, max_iter=50, solver=sag, tol=0.01, score=0.7502175805047868, total=   0.1s\n",
      "[CV] C=1000, max_iter=50, solver=saga, tol=0.001 .....................\n",
      "[CV]  C=1000, max_iter=50, solver=saga, tol=0.001, score=0.7541268462206777, total=   0.1s\n",
      "[CV] C=1000, max_iter=50, solver=saga, tol=0.001 .....................\n",
      "[CV]  C=1000, max_iter=50, solver=saga, tol=0.001, score=0.7749782797567333, total=   0.1s\n",
      "[CV] C=1000, max_iter=50, solver=saga, tol=0.001 .....................\n"
     ]
    },
    {
     "name": "stderr",
     "output_type": "stream",
     "text": [
      "/home2/BigData/anaconda3/lib/python3.7/site-packages/sklearn/linear_model/sag.py:326: ConvergenceWarning: The max_iter was reached which means the coef_ did not converge\n",
      "  \"the coef_ did not converge\", ConvergenceWarning)\n",
      "/home2/BigData/anaconda3/lib/python3.7/site-packages/sklearn/linear_model/sag.py:326: ConvergenceWarning: The max_iter was reached which means the coef_ did not converge\n",
      "  \"the coef_ did not converge\", ConvergenceWarning)\n",
      "/home2/BigData/anaconda3/lib/python3.7/site-packages/sklearn/linear_model/sag.py:326: ConvergenceWarning: The max_iter was reached which means the coef_ did not converge\n",
      "  \"the coef_ did not converge\", ConvergenceWarning)\n"
     ]
    },
    {
     "name": "stdout",
     "output_type": "stream",
     "text": [
      "[CV]  C=1000, max_iter=50, solver=saga, tol=0.001, score=0.7510879025239339, total=   0.1s\n",
      "[CV] C=1000, max_iter=50, solver=saga, tol=0.0001 ....................\n",
      "[CV]  C=1000, max_iter=50, solver=saga, tol=0.0001, score=0.7541268462206777, total=   0.1s\n",
      "[CV] C=1000, max_iter=50, solver=saga, tol=0.0001 ....................\n",
      "[CV]  C=1000, max_iter=50, solver=saga, tol=0.0001, score=0.7749782797567333, total=   0.1s\n",
      "[CV] C=1000, max_iter=50, solver=saga, tol=0.0001 ....................\n"
     ]
    },
    {
     "name": "stderr",
     "output_type": "stream",
     "text": [
      "/home2/BigData/anaconda3/lib/python3.7/site-packages/sklearn/linear_model/sag.py:326: ConvergenceWarning: The max_iter was reached which means the coef_ did not converge\n",
      "  \"the coef_ did not converge\", ConvergenceWarning)\n",
      "/home2/BigData/anaconda3/lib/python3.7/site-packages/sklearn/linear_model/sag.py:326: ConvergenceWarning: The max_iter was reached which means the coef_ did not converge\n",
      "  \"the coef_ did not converge\", ConvergenceWarning)\n",
      "/home2/BigData/anaconda3/lib/python3.7/site-packages/sklearn/linear_model/sag.py:326: ConvergenceWarning: The max_iter was reached which means the coef_ did not converge\n",
      "  \"the coef_ did not converge\", ConvergenceWarning)\n"
     ]
    },
    {
     "name": "stdout",
     "output_type": "stream",
     "text": [
      "[CV]  C=1000, max_iter=50, solver=saga, tol=0.0001, score=0.7519582245430809, total=   0.1s\n",
      "[CV] C=1000, max_iter=50, solver=saga, tol=0.01 ......................\n",
      "[CV]  C=1000, max_iter=50, solver=saga, tol=0.01, score=0.7541268462206777, total=   0.1s\n",
      "[CV] C=1000, max_iter=50, solver=saga, tol=0.01 ......................\n",
      "[CV]  C=1000, max_iter=50, solver=saga, tol=0.01, score=0.7758470894874022, total=   0.1s\n",
      "[CV] C=1000, max_iter=50, solver=saga, tol=0.01 ......................\n"
     ]
    },
    {
     "name": "stderr",
     "output_type": "stream",
     "text": [
      "/home2/BigData/anaconda3/lib/python3.7/site-packages/sklearn/linear_model/sag.py:326: ConvergenceWarning: The max_iter was reached which means the coef_ did not converge\n",
      "  \"the coef_ did not converge\", ConvergenceWarning)\n"
     ]
    },
    {
     "name": "stdout",
     "output_type": "stream",
     "text": [
      "[CV]  C=1000, max_iter=50, solver=saga, tol=0.01, score=0.752828546562228, total=   0.1s\n",
      "[CV] C=1000, max_iter=100, solver=newton-cg, tol=0.001 ...............\n",
      "[CV]  C=1000, max_iter=100, solver=newton-cg, tol=0.001, score=1.0, total=   0.2s\n",
      "[CV] C=1000, max_iter=100, solver=newton-cg, tol=0.001 ...............\n",
      "[CV]  C=1000, max_iter=100, solver=newton-cg, tol=0.001, score=1.0, total=   0.2s\n",
      "[CV] C=1000, max_iter=100, solver=newton-cg, tol=0.001 ...............\n",
      "[CV]  C=1000, max_iter=100, solver=newton-cg, tol=0.001, score=1.0, total=   0.2s\n",
      "[CV] C=1000, max_iter=100, solver=newton-cg, tol=0.0001 ..............\n",
      "[CV]  C=1000, max_iter=100, solver=newton-cg, tol=0.0001, score=1.0, total=   0.2s\n",
      "[CV] C=1000, max_iter=100, solver=newton-cg, tol=0.0001 ..............\n",
      "[CV]  C=1000, max_iter=100, solver=newton-cg, tol=0.0001, score=1.0, total=   0.2s\n",
      "[CV] C=1000, max_iter=100, solver=newton-cg, tol=0.0001 ..............\n",
      "[CV]  C=1000, max_iter=100, solver=newton-cg, tol=0.0001, score=1.0, total=   0.2s\n",
      "[CV] C=1000, max_iter=100, solver=newton-cg, tol=0.01 ................\n",
      "[CV]  C=1000, max_iter=100, solver=newton-cg, tol=0.01, score=1.0, total=   0.2s\n",
      "[CV] C=1000, max_iter=100, solver=newton-cg, tol=0.01 ................\n",
      "[CV]  C=1000, max_iter=100, solver=newton-cg, tol=0.01, score=1.0, total=   0.2s\n",
      "[CV] C=1000, max_iter=100, solver=newton-cg, tol=0.01 ................\n",
      "[CV]  C=1000, max_iter=100, solver=newton-cg, tol=0.01, score=1.0, total=   0.2s\n",
      "[CV] C=1000, max_iter=100, solver=lbfgs, tol=0.001 ...................\n",
      "[CV]  C=1000, max_iter=100, solver=lbfgs, tol=0.001, score=1.0, total=   0.0s\n",
      "[CV] C=1000, max_iter=100, solver=lbfgs, tol=0.001 ...................\n",
      "[CV]  C=1000, max_iter=100, solver=lbfgs, tol=0.001, score=1.0, total=   0.1s\n",
      "[CV] C=1000, max_iter=100, solver=lbfgs, tol=0.001 ...................\n",
      "[CV]  C=1000, max_iter=100, solver=lbfgs, tol=0.001, score=1.0, total=   0.0s\n",
      "[CV] C=1000, max_iter=100, solver=lbfgs, tol=0.0001 ..................\n",
      "[CV]  C=1000, max_iter=100, solver=lbfgs, tol=0.0001, score=1.0, total=   0.1s\n",
      "[CV] C=1000, max_iter=100, solver=lbfgs, tol=0.0001 ..................\n",
      "[CV]  C=1000, max_iter=100, solver=lbfgs, tol=0.0001, score=1.0, total=   0.0s\n",
      "[CV] C=1000, max_iter=100, solver=lbfgs, tol=0.0001 ..................\n",
      "[CV]  C=1000, max_iter=100, solver=lbfgs, tol=0.0001, score=1.0, total=   0.1s\n",
      "[CV] C=1000, max_iter=100, solver=lbfgs, tol=0.01 ....................\n",
      "[CV]  C=1000, max_iter=100, solver=lbfgs, tol=0.01, score=1.0, total=   0.0s\n",
      "[CV] C=1000, max_iter=100, solver=lbfgs, tol=0.01 ....................\n",
      "[CV]  C=1000, max_iter=100, solver=lbfgs, tol=0.01, score=1.0, total=   0.0s\n",
      "[CV] C=1000, max_iter=100, solver=lbfgs, tol=0.01 ....................\n",
      "[CV]  C=1000, max_iter=100, solver=lbfgs, tol=0.01, score=1.0, total=   0.1s\n",
      "[CV] C=1000, max_iter=100, solver=liblinear, tol=0.001 ...............\n",
      "[CV]  C=1000, max_iter=100, solver=liblinear, tol=0.001, score=0.8010425716768028, total=   0.0s\n",
      "[CV] C=1000, max_iter=100, solver=liblinear, tol=0.001 ...............\n",
      "[CV]  C=1000, max_iter=100, solver=liblinear, tol=0.001, score=0.996524761077324, total=   0.0s\n",
      "[CV] C=1000, max_iter=100, solver=liblinear, tol=0.001 ...............\n",
      "[CV]  C=1000, max_iter=100, solver=liblinear, tol=0.001, score=0.835509138381201, total=   0.0s\n",
      "[CV] C=1000, max_iter=100, solver=liblinear, tol=0.0001 ..............\n",
      "[CV]  C=1000, max_iter=100, solver=liblinear, tol=0.0001, score=1.0, total=   0.0s\n",
      "[CV] C=1000, max_iter=100, solver=liblinear, tol=0.0001 ..............\n",
      "[CV]  C=1000, max_iter=100, solver=liblinear, tol=0.0001, score=1.0, total=   0.0s\n",
      "[CV] C=1000, max_iter=100, solver=liblinear, tol=0.0001 ..............\n",
      "[CV]  C=1000, max_iter=100, solver=liblinear, tol=0.0001, score=1.0, total=   0.0s\n",
      "[CV] C=1000, max_iter=100, solver=liblinear, tol=0.01 ................\n",
      "[CV]  C=1000, max_iter=100, solver=liblinear, tol=0.01, score=0.7854039965247611, total=   0.0s\n",
      "[CV] C=1000, max_iter=100, solver=liblinear, tol=0.01 ................\n",
      "[CV]  C=1000, max_iter=100, solver=liblinear, tol=0.01, score=0.792354474370113, total=   0.0s\n",
      "[CV] C=1000, max_iter=100, solver=liblinear, tol=0.01 ................\n",
      "[CV]  C=1000, max_iter=100, solver=liblinear, tol=0.01, score=0.7815491731940818, total=   0.0s\n",
      "[CV] C=1000, max_iter=100, solver=sag, tol=0.001 .....................\n"
     ]
    },
    {
     "name": "stderr",
     "output_type": "stream",
     "text": [
      "/home2/BigData/anaconda3/lib/python3.7/site-packages/sklearn/linear_model/sag.py:326: ConvergenceWarning: The max_iter was reached which means the coef_ did not converge\n",
      "  \"the coef_ did not converge\", ConvergenceWarning)\n",
      "/home2/BigData/anaconda3/lib/python3.7/site-packages/sklearn/linear_model/sag.py:326: ConvergenceWarning: The max_iter was reached which means the coef_ did not converge\n",
      "  \"the coef_ did not converge\", ConvergenceWarning)\n"
     ]
    },
    {
     "name": "stdout",
     "output_type": "stream",
     "text": [
      "[CV]  C=1000, max_iter=100, solver=sag, tol=0.001, score=0.7515204170286707, total=   0.1s\n",
      "[CV] C=1000, max_iter=100, solver=sag, tol=0.001 .....................\n",
      "[CV]  C=1000, max_iter=100, solver=sag, tol=0.001, score=0.7784535186794093, total=   0.1s\n",
      "[CV] C=1000, max_iter=100, solver=sag, tol=0.001 .....................\n"
     ]
    },
    {
     "name": "stderr",
     "output_type": "stream",
     "text": [
      "/home2/BigData/anaconda3/lib/python3.7/site-packages/sklearn/linear_model/sag.py:326: ConvergenceWarning: The max_iter was reached which means the coef_ did not converge\n",
      "  \"the coef_ did not converge\", ConvergenceWarning)\n",
      "/home2/BigData/anaconda3/lib/python3.7/site-packages/sklearn/linear_model/sag.py:326: ConvergenceWarning: The max_iter was reached which means the coef_ did not converge\n",
      "  \"the coef_ did not converge\", ConvergenceWarning)\n"
     ]
    },
    {
     "name": "stdout",
     "output_type": "stream",
     "text": [
      "[CV]  C=1000, max_iter=100, solver=sag, tol=0.001, score=0.7589208006962577, total=   0.1s\n",
      "[CV] C=1000, max_iter=100, solver=sag, tol=0.0001 ....................\n",
      "[CV]  C=1000, max_iter=100, solver=sag, tol=0.0001, score=0.7515204170286707, total=   0.1s\n",
      "[CV] C=1000, max_iter=100, solver=sag, tol=0.0001 ....................\n"
     ]
    },
    {
     "name": "stderr",
     "output_type": "stream",
     "text": [
      "/home2/BigData/anaconda3/lib/python3.7/site-packages/sklearn/linear_model/sag.py:326: ConvergenceWarning: The max_iter was reached which means the coef_ did not converge\n",
      "  \"the coef_ did not converge\", ConvergenceWarning)\n",
      "/home2/BigData/anaconda3/lib/python3.7/site-packages/sklearn/linear_model/sag.py:326: ConvergenceWarning: The max_iter was reached which means the coef_ did not converge\n",
      "  \"the coef_ did not converge\", ConvergenceWarning)\n"
     ]
    },
    {
     "name": "stdout",
     "output_type": "stream",
     "text": [
      "[CV]  C=1000, max_iter=100, solver=sag, tol=0.0001, score=0.7784535186794093, total=   0.1s\n",
      "[CV] C=1000, max_iter=100, solver=sag, tol=0.0001 ....................\n",
      "[CV]  C=1000, max_iter=100, solver=sag, tol=0.0001, score=0.7589208006962577, total=   0.1s\n",
      "[CV] C=1000, max_iter=100, solver=sag, tol=0.01 ......................\n",
      "[CV]  C=1000, max_iter=100, solver=sag, tol=0.01, score=0.7489139878366637, total=   0.1s\n",
      "[CV] C=1000, max_iter=100, solver=sag, tol=0.01 ......................\n",
      "[CV]  C=1000, max_iter=100, solver=sag, tol=0.01, score=0.7784535186794093, total=   0.1s\n",
      "[CV] C=1000, max_iter=100, solver=sag, tol=0.01 ......................\n",
      "[CV]  C=1000, max_iter=100, solver=sag, tol=0.01, score=0.7615317667536988, total=   0.1s\n",
      "[CV] C=1000, max_iter=100, solver=saga, tol=0.001 ....................\n"
     ]
    },
    {
     "name": "stderr",
     "output_type": "stream",
     "text": [
      "/home2/BigData/anaconda3/lib/python3.7/site-packages/sklearn/linear_model/sag.py:326: ConvergenceWarning: The max_iter was reached which means the coef_ did not converge\n",
      "  \"the coef_ did not converge\", ConvergenceWarning)\n",
      "/home2/BigData/anaconda3/lib/python3.7/site-packages/sklearn/linear_model/sag.py:326: ConvergenceWarning: The max_iter was reached which means the coef_ did not converge\n",
      "  \"the coef_ did not converge\", ConvergenceWarning)\n"
     ]
    },
    {
     "name": "stdout",
     "output_type": "stream",
     "text": [
      "[CV]  C=1000, max_iter=100, solver=saga, tol=0.001, score=0.7497827975673328, total=   0.2s\n",
      "[CV] C=1000, max_iter=100, solver=saga, tol=0.001 ....................\n",
      "[CV]  C=1000, max_iter=100, solver=saga, tol=0.001, score=0.7784535186794093, total=   0.1s\n",
      "[CV] C=1000, max_iter=100, solver=saga, tol=0.001 ....................\n"
     ]
    },
    {
     "name": "stderr",
     "output_type": "stream",
     "text": [
      "/home2/BigData/anaconda3/lib/python3.7/site-packages/sklearn/linear_model/sag.py:326: ConvergenceWarning: The max_iter was reached which means the coef_ did not converge\n",
      "  \"the coef_ did not converge\", ConvergenceWarning)\n",
      "/home2/BigData/anaconda3/lib/python3.7/site-packages/sklearn/linear_model/sag.py:326: ConvergenceWarning: The max_iter was reached which means the coef_ did not converge\n",
      "  \"the coef_ did not converge\", ConvergenceWarning)\n"
     ]
    },
    {
     "name": "stdout",
     "output_type": "stream",
     "text": [
      "[CV]  C=1000, max_iter=100, solver=saga, tol=0.001, score=0.7493472584856397, total=   0.2s\n",
      "[CV] C=1000, max_iter=100, solver=saga, tol=0.0001 ...................\n",
      "[CV]  C=1000, max_iter=100, solver=saga, tol=0.0001, score=0.7497827975673328, total=   0.2s\n",
      "[CV] C=1000, max_iter=100, solver=saga, tol=0.0001 ...................\n"
     ]
    },
    {
     "name": "stderr",
     "output_type": "stream",
     "text": [
      "/home2/BigData/anaconda3/lib/python3.7/site-packages/sklearn/linear_model/sag.py:326: ConvergenceWarning: The max_iter was reached which means the coef_ did not converge\n",
      "  \"the coef_ did not converge\", ConvergenceWarning)\n",
      "/home2/BigData/anaconda3/lib/python3.7/site-packages/sklearn/linear_model/sag.py:326: ConvergenceWarning: The max_iter was reached which means the coef_ did not converge\n",
      "  \"the coef_ did not converge\", ConvergenceWarning)\n"
     ]
    },
    {
     "name": "stdout",
     "output_type": "stream",
     "text": [
      "[CV]  C=1000, max_iter=100, solver=saga, tol=0.0001, score=0.7784535186794093, total=   0.2s\n",
      "[CV] C=1000, max_iter=100, solver=saga, tol=0.0001 ...................\n",
      "[CV]  C=1000, max_iter=100, solver=saga, tol=0.0001, score=0.7493472584856397, total=   0.1s\n",
      "[CV] C=1000, max_iter=100, solver=saga, tol=0.01 .....................\n",
      "[CV]  C=1000, max_iter=100, solver=saga, tol=0.01, score=0.7532580364900087, total=   0.1s\n",
      "[CV] C=1000, max_iter=100, solver=saga, tol=0.01 .....................\n",
      "[CV]  C=1000, max_iter=100, solver=saga, tol=0.01, score=0.7767158992180713, total=   0.1s\n",
      "[CV] C=1000, max_iter=100, solver=saga, tol=0.01 .....................\n",
      "[CV]  C=1000, max_iter=100, solver=saga, tol=0.01, score=0.7493472584856397, total=   0.1s\n",
      "[CV] C=1000, max_iter=150, solver=newton-cg, tol=0.001 ...............\n",
      "[CV]  C=1000, max_iter=150, solver=newton-cg, tol=0.001, score=1.0, total=   0.2s\n",
      "[CV] C=1000, max_iter=150, solver=newton-cg, tol=0.001 ...............\n",
      "[CV]  C=1000, max_iter=150, solver=newton-cg, tol=0.001, score=1.0, total=   0.2s\n",
      "[CV] C=1000, max_iter=150, solver=newton-cg, tol=0.001 ...............\n",
      "[CV]  C=1000, max_iter=150, solver=newton-cg, tol=0.001, score=1.0, total=   0.2s\n",
      "[CV] C=1000, max_iter=150, solver=newton-cg, tol=0.0001 ..............\n",
      "[CV]  C=1000, max_iter=150, solver=newton-cg, tol=0.0001, score=1.0, total=   0.2s\n",
      "[CV] C=1000, max_iter=150, solver=newton-cg, tol=0.0001 ..............\n",
      "[CV]  C=1000, max_iter=150, solver=newton-cg, tol=0.0001, score=1.0, total=   0.2s\n",
      "[CV] C=1000, max_iter=150, solver=newton-cg, tol=0.0001 ..............\n",
      "[CV]  C=1000, max_iter=150, solver=newton-cg, tol=0.0001, score=1.0, total=   0.2s\n",
      "[CV] C=1000, max_iter=150, solver=newton-cg, tol=0.01 ................\n",
      "[CV]  C=1000, max_iter=150, solver=newton-cg, tol=0.01, score=1.0, total=   0.2s\n",
      "[CV] C=1000, max_iter=150, solver=newton-cg, tol=0.01 ................\n",
      "[CV]  C=1000, max_iter=150, solver=newton-cg, tol=0.01, score=1.0, total=   0.2s\n",
      "[CV] C=1000, max_iter=150, solver=newton-cg, tol=0.01 ................\n",
      "[CV]  C=1000, max_iter=150, solver=newton-cg, tol=0.01, score=1.0, total=   0.2s\n",
      "[CV] C=1000, max_iter=150, solver=lbfgs, tol=0.001 ...................\n",
      "[CV]  C=1000, max_iter=150, solver=lbfgs, tol=0.001, score=1.0, total=   0.1s\n",
      "[CV] C=1000, max_iter=150, solver=lbfgs, tol=0.001 ...................\n",
      "[CV]  C=1000, max_iter=150, solver=lbfgs, tol=0.001, score=1.0, total=   0.1s\n",
      "[CV] C=1000, max_iter=150, solver=lbfgs, tol=0.001 ...................\n",
      "[CV]  C=1000, max_iter=150, solver=lbfgs, tol=0.001, score=1.0, total=   0.1s\n",
      "[CV] C=1000, max_iter=150, solver=lbfgs, tol=0.0001 ..................\n",
      "[CV]  C=1000, max_iter=150, solver=lbfgs, tol=0.0001, score=1.0, total=   0.1s\n",
      "[CV] C=1000, max_iter=150, solver=lbfgs, tol=0.0001 ..................\n",
      "[CV]  C=1000, max_iter=150, solver=lbfgs, tol=0.0001, score=1.0, total=   0.1s\n",
      "[CV] C=1000, max_iter=150, solver=lbfgs, tol=0.0001 ..................\n",
      "[CV]  C=1000, max_iter=150, solver=lbfgs, tol=0.0001, score=1.0, total=   0.1s\n",
      "[CV] C=1000, max_iter=150, solver=lbfgs, tol=0.01 ....................\n",
      "[CV]  C=1000, max_iter=150, solver=lbfgs, tol=0.01, score=1.0, total=   0.1s\n",
      "[CV] C=1000, max_iter=150, solver=lbfgs, tol=0.01 ....................\n",
      "[CV]  C=1000, max_iter=150, solver=lbfgs, tol=0.01, score=1.0, total=   0.1s\n",
      "[CV] C=1000, max_iter=150, solver=lbfgs, tol=0.01 ....................\n",
      "[CV]  C=1000, max_iter=150, solver=lbfgs, tol=0.01, score=1.0, total=   0.1s\n",
      "[CV] C=1000, max_iter=150, solver=liblinear, tol=0.001 ...............\n",
      "[CV]  C=1000, max_iter=150, solver=liblinear, tol=0.001, score=0.8010425716768028, total=   0.0s\n",
      "[CV] C=1000, max_iter=150, solver=liblinear, tol=0.001 ...............\n",
      "[CV]  C=1000, max_iter=150, solver=liblinear, tol=0.001, score=0.996524761077324, total=   0.0s\n",
      "[CV] C=1000, max_iter=150, solver=liblinear, tol=0.001 ...............\n",
      "[CV]  C=1000, max_iter=150, solver=liblinear, tol=0.001, score=0.835509138381201, total=   0.0s\n",
      "[CV] C=1000, max_iter=150, solver=liblinear, tol=0.0001 ..............\n",
      "[CV]  C=1000, max_iter=150, solver=liblinear, tol=0.0001, score=1.0, total=   0.0s\n",
      "[CV] C=1000, max_iter=150, solver=liblinear, tol=0.0001 ..............\n",
      "[CV]  C=1000, max_iter=150, solver=liblinear, tol=0.0001, score=1.0, total=   0.0s\n",
      "[CV] C=1000, max_iter=150, solver=liblinear, tol=0.0001 ..............\n",
      "[CV]  C=1000, max_iter=150, solver=liblinear, tol=0.0001, score=1.0, total=   0.0s\n",
      "[CV] C=1000, max_iter=150, solver=liblinear, tol=0.01 ................\n",
      "[CV]  C=1000, max_iter=150, solver=liblinear, tol=0.01, score=0.7854039965247611, total=   0.0s\n",
      "[CV] C=1000, max_iter=150, solver=liblinear, tol=0.01 ................\n",
      "[CV]  C=1000, max_iter=150, solver=liblinear, tol=0.01, score=0.792354474370113, total=   0.0s\n",
      "[CV] C=1000, max_iter=150, solver=liblinear, tol=0.01 ................\n",
      "[CV]  C=1000, max_iter=150, solver=liblinear, tol=0.01, score=0.7815491731940818, total=   0.0s\n",
      "[CV] C=1000, max_iter=150, solver=sag, tol=0.001 .....................\n"
     ]
    },
    {
     "name": "stderr",
     "output_type": "stream",
     "text": [
      "/home2/BigData/anaconda3/lib/python3.7/site-packages/sklearn/linear_model/sag.py:326: ConvergenceWarning: The max_iter was reached which means the coef_ did not converge\n",
      "  \"the coef_ did not converge\", ConvergenceWarning)\n",
      "/home2/BigData/anaconda3/lib/python3.7/site-packages/sklearn/linear_model/sag.py:326: ConvergenceWarning: The max_iter was reached which means the coef_ did not converge\n",
      "  \"the coef_ did not converge\", ConvergenceWarning)\n"
     ]
    },
    {
     "name": "stdout",
     "output_type": "stream",
     "text": [
      "[CV]  C=1000, max_iter=150, solver=sag, tol=0.001, score=0.7602085143353605, total=   0.2s\n",
      "[CV] C=1000, max_iter=150, solver=sag, tol=0.001 .....................\n",
      "[CV]  C=1000, max_iter=150, solver=sag, tol=0.001, score=0.7845351867940921, total=   0.2s\n",
      "[CV] C=1000, max_iter=150, solver=sag, tol=0.001 .....................\n"
     ]
    },
    {
     "name": "stderr",
     "output_type": "stream",
     "text": [
      "/home2/BigData/anaconda3/lib/python3.7/site-packages/sklearn/linear_model/sag.py:326: ConvergenceWarning: The max_iter was reached which means the coef_ did not converge\n",
      "  \"the coef_ did not converge\", ConvergenceWarning)\n",
      "/home2/BigData/anaconda3/lib/python3.7/site-packages/sklearn/linear_model/sag.py:326: ConvergenceWarning: The max_iter was reached which means the coef_ did not converge\n",
      "  \"the coef_ did not converge\", ConvergenceWarning)\n"
     ]
    },
    {
     "name": "stdout",
     "output_type": "stream",
     "text": [
      "[CV]  C=1000, max_iter=150, solver=sag, tol=0.001, score=0.7641427328111401, total=   0.2s\n",
      "[CV] C=1000, max_iter=150, solver=sag, tol=0.0001 ....................\n",
      "[CV]  C=1000, max_iter=150, solver=sag, tol=0.0001, score=0.7602085143353605, total=   0.2s\n",
      "[CV] C=1000, max_iter=150, solver=sag, tol=0.0001 ....................\n"
     ]
    },
    {
     "name": "stderr",
     "output_type": "stream",
     "text": [
      "/home2/BigData/anaconda3/lib/python3.7/site-packages/sklearn/linear_model/sag.py:326: ConvergenceWarning: The max_iter was reached which means the coef_ did not converge\n",
      "  \"the coef_ did not converge\", ConvergenceWarning)\n",
      "/home2/BigData/anaconda3/lib/python3.7/site-packages/sklearn/linear_model/sag.py:326: ConvergenceWarning: The max_iter was reached which means the coef_ did not converge\n",
      "  \"the coef_ did not converge\", ConvergenceWarning)\n"
     ]
    },
    {
     "name": "stdout",
     "output_type": "stream",
     "text": [
      "[CV]  C=1000, max_iter=150, solver=sag, tol=0.0001, score=0.7845351867940921, total=   0.2s\n",
      "[CV] C=1000, max_iter=150, solver=sag, tol=0.0001 ....................\n",
      "[CV]  C=1000, max_iter=150, solver=sag, tol=0.0001, score=0.7641427328111401, total=   0.2s\n",
      "[CV] C=1000, max_iter=150, solver=sag, tol=0.01 ......................\n",
      "[CV]  C=1000, max_iter=150, solver=sag, tol=0.01, score=0.7489139878366637, total=   0.1s\n",
      "[CV] C=1000, max_iter=150, solver=sag, tol=0.01 ......................\n",
      "[CV]  C=1000, max_iter=150, solver=sag, tol=0.01, score=0.7784535186794093, total=   0.1s\n",
      "[CV] C=1000, max_iter=150, solver=sag, tol=0.01 ......................\n",
      "[CV]  C=1000, max_iter=150, solver=sag, tol=0.01, score=0.7615317667536988, total=   0.1s\n",
      "[CV] C=1000, max_iter=150, solver=saga, tol=0.001 ....................\n"
     ]
    },
    {
     "name": "stderr",
     "output_type": "stream",
     "text": [
      "/home2/BigData/anaconda3/lib/python3.7/site-packages/sklearn/linear_model/sag.py:326: ConvergenceWarning: The max_iter was reached which means the coef_ did not converge\n",
      "  \"the coef_ did not converge\", ConvergenceWarning)\n"
     ]
    },
    {
     "name": "stdout",
     "output_type": "stream",
     "text": [
      "[CV]  C=1000, max_iter=150, solver=saga, tol=0.001, score=0.7489139878366637, total=   0.2s\n",
      "[CV] C=1000, max_iter=150, solver=saga, tol=0.001 ....................\n"
     ]
    },
    {
     "name": "stderr",
     "output_type": "stream",
     "text": [
      "/home2/BigData/anaconda3/lib/python3.7/site-packages/sklearn/linear_model/sag.py:326: ConvergenceWarning: The max_iter was reached which means the coef_ did not converge\n",
      "  \"the coef_ did not converge\", ConvergenceWarning)\n"
     ]
    },
    {
     "name": "stdout",
     "output_type": "stream",
     "text": [
      "[CV]  C=1000, max_iter=150, solver=saga, tol=0.001, score=0.7758470894874022, total=   0.2s\n",
      "[CV] C=1000, max_iter=150, solver=saga, tol=0.001 ....................\n"
     ]
    },
    {
     "name": "stderr",
     "output_type": "stream",
     "text": [
      "/home2/BigData/anaconda3/lib/python3.7/site-packages/sklearn/linear_model/sag.py:326: ConvergenceWarning: The max_iter was reached which means the coef_ did not converge\n",
      "  \"the coef_ did not converge\", ConvergenceWarning)\n"
     ]
    },
    {
     "name": "stdout",
     "output_type": "stream",
     "text": [
      "[CV]  C=1000, max_iter=150, solver=saga, tol=0.001, score=0.7589208006962577, total=   0.2s\n",
      "[CV] C=1000, max_iter=150, solver=saga, tol=0.0001 ...................\n"
     ]
    },
    {
     "name": "stderr",
     "output_type": "stream",
     "text": [
      "/home2/BigData/anaconda3/lib/python3.7/site-packages/sklearn/linear_model/sag.py:326: ConvergenceWarning: The max_iter was reached which means the coef_ did not converge\n",
      "  \"the coef_ did not converge\", ConvergenceWarning)\n"
     ]
    },
    {
     "name": "stdout",
     "output_type": "stream",
     "text": [
      "[CV]  C=1000, max_iter=150, solver=saga, tol=0.0001, score=0.7489139878366637, total=   0.2s\n",
      "[CV] C=1000, max_iter=150, solver=saga, tol=0.0001 ...................\n"
     ]
    },
    {
     "name": "stderr",
     "output_type": "stream",
     "text": [
      "/home2/BigData/anaconda3/lib/python3.7/site-packages/sklearn/linear_model/sag.py:326: ConvergenceWarning: The max_iter was reached which means the coef_ did not converge\n",
      "  \"the coef_ did not converge\", ConvergenceWarning)\n"
     ]
    },
    {
     "name": "stdout",
     "output_type": "stream",
     "text": [
      "[CV]  C=1000, max_iter=150, solver=saga, tol=0.0001, score=0.7758470894874022, total=   0.2s\n",
      "[CV] C=1000, max_iter=150, solver=saga, tol=0.0001 ...................\n"
     ]
    },
    {
     "name": "stderr",
     "output_type": "stream",
     "text": [
      "/home2/BigData/anaconda3/lib/python3.7/site-packages/sklearn/linear_model/sag.py:326: ConvergenceWarning: The max_iter was reached which means the coef_ did not converge\n",
      "  \"the coef_ did not converge\", ConvergenceWarning)\n"
     ]
    },
    {
     "name": "stdout",
     "output_type": "stream",
     "text": [
      "[CV]  C=1000, max_iter=150, solver=saga, tol=0.0001, score=0.7589208006962577, total=   0.2s\n",
      "[CV] C=1000, max_iter=150, solver=saga, tol=0.01 .....................\n",
      "[CV]  C=1000, max_iter=150, solver=saga, tol=0.01, score=0.7523892267593397, total=   0.1s\n",
      "[CV] C=1000, max_iter=150, solver=saga, tol=0.01 .....................\n",
      "[CV]  C=1000, max_iter=150, solver=saga, tol=0.01, score=0.7767158992180713, total=   0.1s\n",
      "[CV] C=1000, max_iter=150, solver=saga, tol=0.01 .....................\n",
      "[CV]  C=1000, max_iter=150, solver=saga, tol=0.01, score=0.7493472584856397, total=   0.1s\n"
     ]
    },
    {
     "name": "stderr",
     "output_type": "stream",
     "text": [
      "[Parallel(n_jobs=1)]: Done 675 out of 675 | elapsed:  1.2min finished\n",
      "/home2/BigData/anaconda3/lib/python3.7/site-packages/sklearn/utils/optimize.py:203: ConvergenceWarning: newton-cg failed to converge. Increase the number of iterations.\n",
      "  \"number of iterations.\", ConvergenceWarning)\n"
     ]
    },
    {
     "data": {
      "text/plain": [
       "GridSearchCV(cv=None, error_score='raise',\n",
       "       estimator=LogisticRegression(C=1.0, class_weight=None, dual=False, fit_intercept=True,\n",
       "          intercept_scaling=1, max_iter=100, multi_class='ovr', n_jobs=1,\n",
       "          penalty='l2', random_state=None, solver='liblinear', tol=0.0001,\n",
       "          verbose=0, warm_start=False),\n",
       "       fit_params=None, iid=True, n_jobs=1,\n",
       "       param_grid={'C': [0.1, 1, 10, 100, 1000], 'max_iter': [50, 100, 150], 'tol': [0.001, 0.0001, 0.01], 'solver': ['newton-cg', 'lbfgs', 'liblinear', 'sag', 'saga']},\n",
       "       pre_dispatch='2*n_jobs', refit=True, return_train_score='warn',\n",
       "       scoring=None, verbose=3)"
      ]
     },
     "execution_count": 66,
     "metadata": {},
     "output_type": "execute_result"
    }
   ],
   "source": [
    "grid.fit(X_train,y_train)"
   ]
  },
  {
   "cell_type": "code",
   "execution_count": 67,
   "metadata": {},
   "outputs": [
    {
     "data": {
      "text/plain": [
       "{'C': 1, 'max_iter': 50, 'solver': 'newton-cg', 'tol': 0.001}"
      ]
     },
     "execution_count": 67,
     "metadata": {},
     "output_type": "execute_result"
    }
   ],
   "source": [
    "grid.best_params_"
   ]
  },
  {
   "cell_type": "code",
   "execution_count": 68,
   "metadata": {},
   "outputs": [
    {
     "data": {
      "text/plain": [
       "LogisticRegression(C=1, class_weight=None, dual=False, fit_intercept=True,\n",
       "          intercept_scaling=1, max_iter=50, multi_class='ovr', n_jobs=1,\n",
       "          penalty='l2', random_state=None, solver='newton-cg', tol=0.001,\n",
       "          verbose=0, warm_start=False)"
      ]
     },
     "execution_count": 68,
     "metadata": {},
     "output_type": "execute_result"
    }
   ],
   "source": [
    "grid.best_estimator_"
   ]
  },
  {
   "cell_type": "code",
   "execution_count": 69,
   "metadata": {},
   "outputs": [],
   "source": [
    "predictions = grid.predict(X_test)"
   ]
  },
  {
   "cell_type": "code",
   "execution_count": 70,
   "metadata": {},
   "outputs": [
    {
     "name": "stdout",
     "output_type": "stream",
     "text": [
      "             precision    recall  f1-score   support\n",
      "\n",
      "          0       1.00      1.00      1.00      1096\n",
      "          1       1.00      1.00      1.00       383\n",
      "\n",
      "avg / total       1.00      1.00      1.00      1479\n",
      "\n",
      "[[1096    0]\n",
      " [   0  383]]\n"
     ]
    }
   ],
   "source": [
    "from sklearn.metrics import classification_report,confusion_matrix\n",
    "print(classification_report(predictions,y_test))\n",
    "print(confusion_matrix(predictions,y_test))"
   ]
  }
 ],
 "metadata": {
  "kernelspec": {
   "display_name": "Python 3",
   "language": "python",
   "name": "python3"
  },
  "language_info": {
   "codemirror_mode": {
    "name": "ipython",
    "version": 3
   },
   "file_extension": ".py",
   "mimetype": "text/x-python",
   "name": "python",
   "nbconvert_exporter": "python",
   "pygments_lexer": "ipython3",
   "version": "3.7.0"
  }
 },
 "nbformat": 4,
 "nbformat_minor": 2
}

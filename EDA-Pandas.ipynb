{
 "cells": [
  {
   "cell_type": "markdown",
   "metadata": {},
   "source": [
    "# Customer churn data EDA - Pandas\n",
    "- Dependent variable: Churn"
   ]
  },
  {
   "cell_type": "code",
   "execution_count": 1,
   "metadata": {
    "scrolled": true
   },
   "outputs": [
    {
     "data": {
      "text/html": [
       "<div>\n",
       "<style scoped>\n",
       "    .dataframe tbody tr th:only-of-type {\n",
       "        vertical-align: middle;\n",
       "    }\n",
       "\n",
       "    .dataframe tbody tr th {\n",
       "        vertical-align: top;\n",
       "    }\n",
       "\n",
       "    .dataframe thead th {\n",
       "        text-align: right;\n",
       "    }\n",
       "</style>\n",
       "<table border=\"1\" class=\"dataframe\">\n",
       "  <thead>\n",
       "    <tr style=\"text-align: right;\">\n",
       "      <th></th>\n",
       "      <th>gender</th>\n",
       "      <th>SeniorCitizen</th>\n",
       "      <th>Partner</th>\n",
       "      <th>Dependents</th>\n",
       "      <th>tenure</th>\n",
       "      <th>PhoneService</th>\n",
       "      <th>PaperlessBilling</th>\n",
       "      <th>MonthlyCharges</th>\n",
       "      <th>TotalCharges</th>\n",
       "      <th>Churn</th>\n",
       "      <th>...</th>\n",
       "      <th>TechSupportYes</th>\n",
       "      <th>StreamingTVNo internet service</th>\n",
       "      <th>StreamingTVYes</th>\n",
       "      <th>StreamingMoviesNo internet service</th>\n",
       "      <th>StreamingMoviesYes</th>\n",
       "      <th>ContractOne year</th>\n",
       "      <th>ContractTwo year</th>\n",
       "      <th>PaymentMethodCredit card (automatic)</th>\n",
       "      <th>PaymentMethodElectronic check</th>\n",
       "      <th>PaymentMethodMailed check</th>\n",
       "    </tr>\n",
       "  </thead>\n",
       "  <tbody>\n",
       "    <tr>\n",
       "      <th>0</th>\n",
       "      <td>0</td>\n",
       "      <td>0</td>\n",
       "      <td>1</td>\n",
       "      <td>1</td>\n",
       "      <td>45</td>\n",
       "      <td>1</td>\n",
       "      <td>1</td>\n",
       "      <td>81.00</td>\n",
       "      <td>3533.60</td>\n",
       "      <td>No</td>\n",
       "      <td>...</td>\n",
       "      <td>1</td>\n",
       "      <td>0</td>\n",
       "      <td>1</td>\n",
       "      <td>0</td>\n",
       "      <td>1</td>\n",
       "      <td>0</td>\n",
       "      <td>1</td>\n",
       "      <td>0</td>\n",
       "      <td>0</td>\n",
       "      <td>1</td>\n",
       "    </tr>\n",
       "    <tr>\n",
       "      <th>1</th>\n",
       "      <td>1</td>\n",
       "      <td>0</td>\n",
       "      <td>0</td>\n",
       "      <td>0</td>\n",
       "      <td>4</td>\n",
       "      <td>1</td>\n",
       "      <td>1</td>\n",
       "      <td>81.00</td>\n",
       "      <td>340.85</td>\n",
       "      <td>Yes</td>\n",
       "      <td>...</td>\n",
       "      <td>0</td>\n",
       "      <td>0</td>\n",
       "      <td>1</td>\n",
       "      <td>0</td>\n",
       "      <td>0</td>\n",
       "      <td>0</td>\n",
       "      <td>0</td>\n",
       "      <td>0</td>\n",
       "      <td>1</td>\n",
       "      <td>0</td>\n",
       "    </tr>\n",
       "    <tr>\n",
       "      <th>2</th>\n",
       "      <td>0</td>\n",
       "      <td>0</td>\n",
       "      <td>1</td>\n",
       "      <td>1</td>\n",
       "      <td>18</td>\n",
       "      <td>1</td>\n",
       "      <td>1</td>\n",
       "      <td>20.25</td>\n",
       "      <td>401.95</td>\n",
       "      <td>No</td>\n",
       "      <td>...</td>\n",
       "      <td>0</td>\n",
       "      <td>1</td>\n",
       "      <td>0</td>\n",
       "      <td>1</td>\n",
       "      <td>0</td>\n",
       "      <td>0</td>\n",
       "      <td>0</td>\n",
       "      <td>0</td>\n",
       "      <td>0</td>\n",
       "      <td>1</td>\n",
       "    </tr>\n",
       "    <tr>\n",
       "      <th>3</th>\n",
       "      <td>0</td>\n",
       "      <td>0</td>\n",
       "      <td>1</td>\n",
       "      <td>0</td>\n",
       "      <td>53</td>\n",
       "      <td>1</td>\n",
       "      <td>1</td>\n",
       "      <td>93.45</td>\n",
       "      <td>4872.20</td>\n",
       "      <td>No</td>\n",
       "      <td>...</td>\n",
       "      <td>1</td>\n",
       "      <td>0</td>\n",
       "      <td>1</td>\n",
       "      <td>0</td>\n",
       "      <td>1</td>\n",
       "      <td>1</td>\n",
       "      <td>0</td>\n",
       "      <td>0</td>\n",
       "      <td>1</td>\n",
       "      <td>0</td>\n",
       "    </tr>\n",
       "    <tr>\n",
       "      <th>4</th>\n",
       "      <td>0</td>\n",
       "      <td>1</td>\n",
       "      <td>1</td>\n",
       "      <td>0</td>\n",
       "      <td>3</td>\n",
       "      <td>1</td>\n",
       "      <td>1</td>\n",
       "      <td>74.60</td>\n",
       "      <td>239.05</td>\n",
       "      <td>No</td>\n",
       "      <td>...</td>\n",
       "      <td>0</td>\n",
       "      <td>0</td>\n",
       "      <td>0</td>\n",
       "      <td>0</td>\n",
       "      <td>0</td>\n",
       "      <td>0</td>\n",
       "      <td>0</td>\n",
       "      <td>0</td>\n",
       "      <td>0</td>\n",
       "      <td>0</td>\n",
       "    </tr>\n",
       "  </tbody>\n",
       "</table>\n",
       "<p>5 rows × 31 columns</p>\n",
       "</div>"
      ],
      "text/plain": [
       "   gender  SeniorCitizen  Partner  Dependents  tenure  PhoneService  \\\n",
       "0       0              0        1           1      45             1   \n",
       "1       1              0        0           0       4             1   \n",
       "2       0              0        1           1      18             1   \n",
       "3       0              0        1           0      53             1   \n",
       "4       0              1        1           0       3             1   \n",
       "\n",
       "   PaperlessBilling  MonthlyCharges  TotalCharges Churn  \\\n",
       "0                 1           81.00       3533.60    No   \n",
       "1                 1           81.00        340.85   Yes   \n",
       "2                 1           20.25        401.95    No   \n",
       "3                 1           93.45       4872.20    No   \n",
       "4                 1           74.60        239.05    No   \n",
       "\n",
       "             ...              TechSupportYes  StreamingTVNo internet service  \\\n",
       "0            ...                           1                               0   \n",
       "1            ...                           0                               0   \n",
       "2            ...                           0                               1   \n",
       "3            ...                           1                               0   \n",
       "4            ...                           0                               0   \n",
       "\n",
       "   StreamingTVYes  StreamingMoviesNo internet service  StreamingMoviesYes  \\\n",
       "0               1                                   0                   1   \n",
       "1               1                                   0                   0   \n",
       "2               0                                   1                   0   \n",
       "3               1                                   0                   1   \n",
       "4               0                                   0                   0   \n",
       "\n",
       "   ContractOne year  ContractTwo year  PaymentMethodCredit card (automatic)  \\\n",
       "0                 0                 1                                     0   \n",
       "1                 0                 0                                     0   \n",
       "2                 0                 0                                     0   \n",
       "3                 1                 0                                     0   \n",
       "4                 0                 0                                     0   \n",
       "\n",
       "   PaymentMethodElectronic check  PaymentMethodMailed check  \n",
       "0                              0                          1  \n",
       "1                              1                          0  \n",
       "2                              0                          1  \n",
       "3                              1                          0  \n",
       "4                              0                          0  \n",
       "\n",
       "[5 rows x 31 columns]"
      ]
     },
     "execution_count": 1,
     "metadata": {},
     "output_type": "execute_result"
    }
   ],
   "source": [
    "import pandas as pd\n",
    "import matplotlib.pyplot as plt\n",
    "tc_data = pd.read_csv(\"/home2/MyNotes/Python/DataSets/CustomerChurn/telecomChurn.csv\",\n",
    "                             sep=\",\",\n",
    "                             header=0)\n",
    "tc_data.head(5)"
   ]
  },
  {
   "cell_type": "code",
   "execution_count": 2,
   "metadata": {},
   "outputs": [
    {
     "data": {
      "text/plain": [
       "gender                                    int64\n",
       "SeniorCitizen                             int64\n",
       "Partner                                   int64\n",
       "Dependents                                int64\n",
       "tenure                                    int64\n",
       "PhoneService                              int64\n",
       "PaperlessBilling                          int64\n",
       "MonthlyCharges                          float64\n",
       "TotalCharges                            float64\n",
       "Churn                                    object\n",
       "MultipleLinesNo phone service             int64\n",
       "MultipleLinesYes                          int64\n",
       "InternetServiceFiber optic                int64\n",
       "InternetServiceNo                         int64\n",
       "OnlineSecurityNo internet service         int64\n",
       "OnlineSecurityYes                         int64\n",
       "OnlineBackupNo internet service           int64\n",
       "OnlineBackupYes                           int64\n",
       "DeviceProtectionNo internet service       int64\n",
       "DeviceProtectionYes                       int64\n",
       "TechSupportNo internet service            int64\n",
       "TechSupportYes                            int64\n",
       "StreamingTVNo internet service            int64\n",
       "StreamingTVYes                            int64\n",
       "StreamingMoviesNo internet service        int64\n",
       "StreamingMoviesYes                        int64\n",
       "ContractOne year                          int64\n",
       "ContractTwo year                          int64\n",
       "PaymentMethodCredit card (automatic)      int64\n",
       "PaymentMethodElectronic check             int64\n",
       "PaymentMethodMailed check                 int64\n",
       "dtype: object"
      ]
     },
     "execution_count": 2,
     "metadata": {},
     "output_type": "execute_result"
    }
   ],
   "source": [
    "tc_data.dtypes"
   ]
  },
  {
   "cell_type": "code",
   "execution_count": 3,
   "metadata": {},
   "outputs": [
    {
     "data": {
      "text/plain": [
       "gender                                  4930\n",
       "SeniorCitizen                           4930\n",
       "Partner                                 4930\n",
       "Dependents                              4930\n",
       "tenure                                  4930\n",
       "PhoneService                            4930\n",
       "PaperlessBilling                        4930\n",
       "MonthlyCharges                          4930\n",
       "TotalCharges                            4924\n",
       "Churn                                   4930\n",
       "MultipleLinesNo phone service           4930\n",
       "MultipleLinesYes                        4930\n",
       "InternetServiceFiber optic              4930\n",
       "InternetServiceNo                       4930\n",
       "OnlineSecurityNo internet service       4930\n",
       "OnlineSecurityYes                       4930\n",
       "OnlineBackupNo internet service         4930\n",
       "OnlineBackupYes                         4930\n",
       "DeviceProtectionNo internet service     4930\n",
       "DeviceProtectionYes                     4930\n",
       "TechSupportNo internet service          4930\n",
       "TechSupportYes                          4930\n",
       "StreamingTVNo internet service          4930\n",
       "StreamingTVYes                          4930\n",
       "StreamingMoviesNo internet service      4930\n",
       "StreamingMoviesYes                      4930\n",
       "ContractOne year                        4930\n",
       "ContractTwo year                        4930\n",
       "PaymentMethodCredit card (automatic)    4930\n",
       "PaymentMethodElectronic check           4930\n",
       "PaymentMethodMailed check               4930\n",
       "dtype: int64"
      ]
     },
     "execution_count": 3,
     "metadata": {},
     "output_type": "execute_result"
    }
   ],
   "source": [
    "tc_data.count() # we find missing values for TotalCharges"
   ]
  },
  {
   "cell_type": "code",
   "execution_count": 4,
   "metadata": {},
   "outputs": [
    {
     "data": {
      "text/html": [
       "<div>\n",
       "<style scoped>\n",
       "    .dataframe tbody tr th:only-of-type {\n",
       "        vertical-align: middle;\n",
       "    }\n",
       "\n",
       "    .dataframe tbody tr th {\n",
       "        vertical-align: top;\n",
       "    }\n",
       "\n",
       "    .dataframe thead th {\n",
       "        text-align: right;\n",
       "    }\n",
       "</style>\n",
       "<table border=\"1\" class=\"dataframe\">\n",
       "  <thead>\n",
       "    <tr style=\"text-align: right;\">\n",
       "      <th></th>\n",
       "      <th>gender</th>\n",
       "      <th>SeniorCitizen</th>\n",
       "      <th>Partner</th>\n",
       "      <th>Dependents</th>\n",
       "      <th>tenure</th>\n",
       "      <th>PhoneService</th>\n",
       "      <th>PaperlessBilling</th>\n",
       "      <th>MonthlyCharges</th>\n",
       "      <th>TotalCharges</th>\n",
       "      <th>Churn</th>\n",
       "      <th>...</th>\n",
       "      <th>TechSupportYes</th>\n",
       "      <th>StreamingTVNo internet service</th>\n",
       "      <th>StreamingTVYes</th>\n",
       "      <th>StreamingMoviesNo internet service</th>\n",
       "      <th>StreamingMoviesYes</th>\n",
       "      <th>ContractOne year</th>\n",
       "      <th>ContractTwo year</th>\n",
       "      <th>PaymentMethodCredit card (automatic)</th>\n",
       "      <th>PaymentMethodElectronic check</th>\n",
       "      <th>PaymentMethodMailed check</th>\n",
       "    </tr>\n",
       "  </thead>\n",
       "  <tbody>\n",
       "    <tr>\n",
       "      <th>361</th>\n",
       "      <td>0</td>\n",
       "      <td>0</td>\n",
       "      <td>1</td>\n",
       "      <td>1</td>\n",
       "      <td>0</td>\n",
       "      <td>0</td>\n",
       "      <td>0</td>\n",
       "      <td>56.05</td>\n",
       "      <td>NaN</td>\n",
       "      <td>No</td>\n",
       "      <td>...</td>\n",
       "      <td>1</td>\n",
       "      <td>0</td>\n",
       "      <td>1</td>\n",
       "      <td>0</td>\n",
       "      <td>0</td>\n",
       "      <td>0</td>\n",
       "      <td>1</td>\n",
       "      <td>1</td>\n",
       "      <td>0</td>\n",
       "      <td>0</td>\n",
       "    </tr>\n",
       "    <tr>\n",
       "      <th>999</th>\n",
       "      <td>1</td>\n",
       "      <td>0</td>\n",
       "      <td>1</td>\n",
       "      <td>1</td>\n",
       "      <td>0</td>\n",
       "      <td>1</td>\n",
       "      <td>0</td>\n",
       "      <td>25.75</td>\n",
       "      <td>NaN</td>\n",
       "      <td>No</td>\n",
       "      <td>...</td>\n",
       "      <td>0</td>\n",
       "      <td>1</td>\n",
       "      <td>0</td>\n",
       "      <td>1</td>\n",
       "      <td>0</td>\n",
       "      <td>0</td>\n",
       "      <td>1</td>\n",
       "      <td>0</td>\n",
       "      <td>0</td>\n",
       "      <td>1</td>\n",
       "    </tr>\n",
       "    <tr>\n",
       "      <th>2486</th>\n",
       "      <td>1</td>\n",
       "      <td>0</td>\n",
       "      <td>1</td>\n",
       "      <td>1</td>\n",
       "      <td>0</td>\n",
       "      <td>1</td>\n",
       "      <td>0</td>\n",
       "      <td>25.35</td>\n",
       "      <td>NaN</td>\n",
       "      <td>No</td>\n",
       "      <td>...</td>\n",
       "      <td>0</td>\n",
       "      <td>1</td>\n",
       "      <td>0</td>\n",
       "      <td>1</td>\n",
       "      <td>0</td>\n",
       "      <td>0</td>\n",
       "      <td>1</td>\n",
       "      <td>0</td>\n",
       "      <td>0</td>\n",
       "      <td>1</td>\n",
       "    </tr>\n",
       "    <tr>\n",
       "      <th>3534</th>\n",
       "      <td>1</td>\n",
       "      <td>0</td>\n",
       "      <td>1</td>\n",
       "      <td>1</td>\n",
       "      <td>0</td>\n",
       "      <td>1</td>\n",
       "      <td>0</td>\n",
       "      <td>19.85</td>\n",
       "      <td>NaN</td>\n",
       "      <td>No</td>\n",
       "      <td>...</td>\n",
       "      <td>0</td>\n",
       "      <td>1</td>\n",
       "      <td>0</td>\n",
       "      <td>1</td>\n",
       "      <td>0</td>\n",
       "      <td>0</td>\n",
       "      <td>1</td>\n",
       "      <td>0</td>\n",
       "      <td>0</td>\n",
       "      <td>1</td>\n",
       "    </tr>\n",
       "    <tr>\n",
       "      <th>4235</th>\n",
       "      <td>0</td>\n",
       "      <td>0</td>\n",
       "      <td>1</td>\n",
       "      <td>1</td>\n",
       "      <td>0</td>\n",
       "      <td>1</td>\n",
       "      <td>0</td>\n",
       "      <td>20.00</td>\n",
       "      <td>NaN</td>\n",
       "      <td>No</td>\n",
       "      <td>...</td>\n",
       "      <td>0</td>\n",
       "      <td>1</td>\n",
       "      <td>0</td>\n",
       "      <td>1</td>\n",
       "      <td>0</td>\n",
       "      <td>0</td>\n",
       "      <td>1</td>\n",
       "      <td>0</td>\n",
       "      <td>0</td>\n",
       "      <td>1</td>\n",
       "    </tr>\n",
       "    <tr>\n",
       "      <th>4605</th>\n",
       "      <td>1</td>\n",
       "      <td>0</td>\n",
       "      <td>1</td>\n",
       "      <td>1</td>\n",
       "      <td>0</td>\n",
       "      <td>1</td>\n",
       "      <td>1</td>\n",
       "      <td>19.70</td>\n",
       "      <td>NaN</td>\n",
       "      <td>No</td>\n",
       "      <td>...</td>\n",
       "      <td>0</td>\n",
       "      <td>1</td>\n",
       "      <td>0</td>\n",
       "      <td>1</td>\n",
       "      <td>0</td>\n",
       "      <td>1</td>\n",
       "      <td>0</td>\n",
       "      <td>0</td>\n",
       "      <td>0</td>\n",
       "      <td>1</td>\n",
       "    </tr>\n",
       "  </tbody>\n",
       "</table>\n",
       "<p>6 rows × 31 columns</p>\n",
       "</div>"
      ],
      "text/plain": [
       "      gender  SeniorCitizen  Partner  Dependents  tenure  PhoneService  \\\n",
       "361        0              0        1           1       0             0   \n",
       "999        1              0        1           1       0             1   \n",
       "2486       1              0        1           1       0             1   \n",
       "3534       1              0        1           1       0             1   \n",
       "4235       0              0        1           1       0             1   \n",
       "4605       1              0        1           1       0             1   \n",
       "\n",
       "      PaperlessBilling  MonthlyCharges  TotalCharges Churn  \\\n",
       "361                  0           56.05           NaN    No   \n",
       "999                  0           25.75           NaN    No   \n",
       "2486                 0           25.35           NaN    No   \n",
       "3534                 0           19.85           NaN    No   \n",
       "4235                 0           20.00           NaN    No   \n",
       "4605                 1           19.70           NaN    No   \n",
       "\n",
       "                ...              TechSupportYes  \\\n",
       "361             ...                           1   \n",
       "999             ...                           0   \n",
       "2486            ...                           0   \n",
       "3534            ...                           0   \n",
       "4235            ...                           0   \n",
       "4605            ...                           0   \n",
       "\n",
       "      StreamingTVNo internet service  StreamingTVYes  \\\n",
       "361                                0               1   \n",
       "999                                1               0   \n",
       "2486                               1               0   \n",
       "3534                               1               0   \n",
       "4235                               1               0   \n",
       "4605                               1               0   \n",
       "\n",
       "      StreamingMoviesNo internet service  StreamingMoviesYes  \\\n",
       "361                                    0                   0   \n",
       "999                                    1                   0   \n",
       "2486                                   1                   0   \n",
       "3534                                   1                   0   \n",
       "4235                                   1                   0   \n",
       "4605                                   1                   0   \n",
       "\n",
       "      ContractOne year  ContractTwo year  \\\n",
       "361                  0                 1   \n",
       "999                  0                 1   \n",
       "2486                 0                 1   \n",
       "3534                 0                 1   \n",
       "4235                 0                 1   \n",
       "4605                 1                 0   \n",
       "\n",
       "      PaymentMethodCredit card (automatic)  PaymentMethodElectronic check  \\\n",
       "361                                      1                              0   \n",
       "999                                      0                              0   \n",
       "2486                                     0                              0   \n",
       "3534                                     0                              0   \n",
       "4235                                     0                              0   \n",
       "4605                                     0                              0   \n",
       "\n",
       "      PaymentMethodMailed check  \n",
       "361                           0  \n",
       "999                           1  \n",
       "2486                          1  \n",
       "3534                          1  \n",
       "4235                          1  \n",
       "4605                          1  \n",
       "\n",
       "[6 rows x 31 columns]"
      ]
     },
     "execution_count": 4,
     "metadata": {},
     "output_type": "execute_result"
    }
   ],
   "source": [
    "# we check which rows have null values\n",
    "tc_data[tc_data.isnull().any(axis=1)] "
   ]
  },
  {
   "cell_type": "code",
   "execution_count": 5,
   "metadata": {},
   "outputs": [],
   "source": [
    "# Looks like these are new customers as the tenure is zero. We can update the MonthlyCharges into TotalCharges\n",
    "tc_data[\"TotalCharges\"] = tc_data[\"TotalCharges\"].fillna(value=tc_data[\"MonthlyCharges\"])"
   ]
  },
  {
   "cell_type": "code",
   "execution_count": 6,
   "metadata": {},
   "outputs": [
    {
     "data": {
      "text/html": [
       "<div>\n",
       "<style scoped>\n",
       "    .dataframe tbody tr th:only-of-type {\n",
       "        vertical-align: middle;\n",
       "    }\n",
       "\n",
       "    .dataframe tbody tr th {\n",
       "        vertical-align: top;\n",
       "    }\n",
       "\n",
       "    .dataframe thead th {\n",
       "        text-align: right;\n",
       "    }\n",
       "</style>\n",
       "<table border=\"1\" class=\"dataframe\">\n",
       "  <thead>\n",
       "    <tr style=\"text-align: right;\">\n",
       "      <th></th>\n",
       "      <th>gender</th>\n",
       "      <th>SeniorCitizen</th>\n",
       "      <th>Partner</th>\n",
       "      <th>Dependents</th>\n",
       "      <th>tenure</th>\n",
       "      <th>PhoneService</th>\n",
       "      <th>PaperlessBilling</th>\n",
       "      <th>MonthlyCharges</th>\n",
       "      <th>TotalCharges</th>\n",
       "      <th>Churn</th>\n",
       "      <th>...</th>\n",
       "      <th>TechSupportYes</th>\n",
       "      <th>StreamingTVNo internet service</th>\n",
       "      <th>StreamingTVYes</th>\n",
       "      <th>StreamingMoviesNo internet service</th>\n",
       "      <th>StreamingMoviesYes</th>\n",
       "      <th>ContractOne year</th>\n",
       "      <th>ContractTwo year</th>\n",
       "      <th>PaymentMethodCredit card (automatic)</th>\n",
       "      <th>PaymentMethodElectronic check</th>\n",
       "      <th>PaymentMethodMailed check</th>\n",
       "    </tr>\n",
       "  </thead>\n",
       "  <tbody>\n",
       "  </tbody>\n",
       "</table>\n",
       "<p>0 rows × 31 columns</p>\n",
       "</div>"
      ],
      "text/plain": [
       "Empty DataFrame\n",
       "Columns: [gender, SeniorCitizen, Partner, Dependents, tenure, PhoneService, PaperlessBilling, MonthlyCharges, TotalCharges, Churn, MultipleLinesNo phone service, MultipleLinesYes, InternetServiceFiber optic, InternetServiceNo, OnlineSecurityNo internet service, OnlineSecurityYes, OnlineBackupNo internet service, OnlineBackupYes, DeviceProtectionNo internet service, DeviceProtectionYes, TechSupportNo internet service, TechSupportYes, StreamingTVNo internet service, StreamingTVYes, StreamingMoviesNo internet service, StreamingMoviesYes, ContractOne year, ContractTwo year, PaymentMethodCredit card (automatic), PaymentMethodElectronic check, PaymentMethodMailed check]\n",
       "Index: []\n",
       "\n",
       "[0 rows x 31 columns]"
      ]
     },
     "execution_count": 6,
     "metadata": {},
     "output_type": "execute_result"
    }
   ],
   "source": [
    "# Verify\n",
    "tc_data.head(10)\n",
    "tc_data[tc_data.isnull().any(axis=1)] # we check which rows have null values"
   ]
  },
  {
   "cell_type": "code",
   "execution_count": 7,
   "metadata": {},
   "outputs": [
    {
     "data": {
      "text/plain": [
       "No     3651\n",
       "Yes    1279\n",
       "Name: Churn, dtype: int64"
      ]
     },
     "execution_count": 7,
     "metadata": {},
     "output_type": "execute_result"
    }
   ],
   "source": [
    "tc_data[\"Churn\"].value_counts()"
   ]
  },
  {
   "cell_type": "code",
   "execution_count": 8,
   "metadata": {},
   "outputs": [
    {
     "data": {
      "text/plain": [
       "<function matplotlib.pyplot.show(*args, **kw)>"
      ]
     },
     "execution_count": 8,
     "metadata": {},
     "output_type": "execute_result"
    },
    {
     "data": {
      "image/png": "[encoded data removed]",
      "text/plain": [
       "<Figure size 864x288 with 2 Axes>"
      ]
     },
     "metadata": {
      "needs_background": "light"
     },
     "output_type": "display_data"
    },
    {
     "data": {
      "image/png": "[encoded data removed]",
      "text/plain": [
       "<Figure size 864x288 with 2 Axes>"
      ]
     },
     "metadata": {
      "needs_background": "light"
     },
     "output_type": "display_data"
    }
   ],
   "source": [
    "\n",
    "tc_data.hist(column=\"TotalCharges\", by=\"Churn\", bins=50,figsize=(12,4))\n",
    "tc_data.hist(column=\"tenure\",by=\"Churn\", bins=50,figsize=(12,4))\n",
    "plt.show"
   ]
  },
  {
   "cell_type": "code",
   "execution_count": 9,
   "metadata": {},
   "outputs": [],
   "source": [
    "def bucktenure(t):\n",
    "    if t <= 10:\n",
    "        return(\"LessThan10\")\n",
    "    if t > 10 and t <=20:\n",
    "        return(\"10-20\")\n",
    "    if t > 20 and t <=30:\n",
    "        return(\"20-30\")\n",
    "    if t > 30 and t <=40:\n",
    "        return(\"30-40\")\n",
    "    if t > 40 and t <=50:\n",
    "        return(\"40-50\")\n",
    "    if t > 50 and t <=60:\n",
    "        return(\"50-60\")\n",
    "    if t > 60 and t <=70:\n",
    "        return(\"60-70\")\n",
    "    if t > 70 and t <=80:\n",
    "        return(\"70-80\")"
   ]
  },
  {
   "cell_type": "code",
   "execution_count": 10,
   "metadata": {},
   "outputs": [],
   "source": [
    "tc_data[\"tenure_bktd\"] = tc_data[\"tenure\"].apply(lambda x:bucktenure(x))"
   ]
  },
  {
   "cell_type": "code",
   "execution_count": 11,
   "metadata": {},
   "outputs": [],
   "source": [
    "import seaborn as sns"
   ]
  },
  {
   "cell_type": "code",
   "execution_count": 12,
   "metadata": {},
   "outputs": [
    {
     "name": "stderr",
     "output_type": "stream",
     "text": [
      "/home2/BigData/anaconda3/lib/python3.7/site-packages/scipy/stats/stats.py:1713: FutureWarning: Using a non-tuple sequence for multidimensional indexing is deprecated; use `arr[tuple(seq)]` instead of `arr[seq]`. In the future this will be interpreted as an array index, `arr[np.array(seq)]`, which will result either in an error or a different result.\n",
      "  return np.add.reduce(sorted[indexer] * weights, axis=axis) / sumval\n"
     ]
    },
    {
     "data": {
      "text/plain": [
       "<Figure size 432x288 with 0 Axes>"
      ]
     },
     "execution_count": 12,
     "metadata": {},
     "output_type": "execute_result"
    },
    {
     "data": {
      "image/png": "[encoded data removed]",
      "text/plain": [
       "<Figure size 432x288 with 1 Axes>"
      ]
     },
     "metadata": {
      "needs_background": "light"
     },
     "output_type": "display_data"
    },
    {
     "data": {
      "image/png": "[encoded data removed]",
      "text/plain": [
       "<Figure size 432x288 with 1 Axes>"
      ]
     },
     "metadata": {
      "needs_background": "light"
     },
     "output_type": "display_data"
    },
    {
     "data": {
      "image/png": "[encoded data removed]",
      "text/plain": [
       "<Figure size 432x288 with 1 Axes>"
      ]
     },
     "metadata": {
      "needs_background": "light"
     },
     "output_type": "display_data"
    },
    {
     "data": {
      "text/plain": [
       "<Figure size 432x288 with 0 Axes>"
      ]
     },
     "metadata": {},
     "output_type": "display_data"
    }
   ],
   "source": [
    "# Graphs to make\n",
    "# 1. churn vs total bill \n",
    "# 2. churn vs tenure\n",
    "# 3. Churn vs gender\n",
    "# 4. Churn vs dependents\n",
    "# 5. Churn vs senior citizen\n",
    "orderList = [\"Less Than 10\",\"10-20\",\"20-30\",\"30-40\",\"40-50\",\"50-60\",\"60-70\",\"70-80\"]\n",
    "sns.barplot(x=tc_data[\"tenure_bktd\"],y=tc_data[\"TotalCharges\"],order=orderList)\n",
    "plt.figure()\n",
    "sns.countplot(x=tc_data[\"Churn\"],hue=tc_data[\"tenure_bktd\"])\n",
    "plt.figure()\n",
    "sns.countplot(x=\"Churn\",data=tc_data)\n",
    "plt.figure()"
   ]
  },
  {
   "cell_type": "code",
   "execution_count": 18,
   "metadata": {},
   "outputs": [
    {
     "data": {
      "text/plain": [
       "<matplotlib.axes._subplots.AxesSubplot at 0x7f40a1069d30>"
      ]
     },
     "execution_count": 18,
     "metadata": {},
     "output_type": "execute_result"
    },
    {
     "data": {
      "image/png": "[encoded data removed]",
      "text/plain": [
       "<Figure size 432x288 with 1 Axes>"
      ]
     },
     "metadata": {
      "needs_background": "light"
     },
     "output_type": "display_data"
    },
    {
     "data": {
      "image/png": "[encoded data removed]",
      "text/plain": [
       "<Figure size 432x288 with 1 Axes>"
      ]
     },
     "metadata": {
      "needs_background": "light"
     },
     "output_type": "display_data"
    }
   ],
   "source": [
    "sns.boxplot(y=\"TotalCharges\",x=\"gender\",data=tc_data)\n",
    "plt.figure()\n",
    "sns.boxplot(y=\"TotalCharges\",x=\"SeniorCitizen\",data=tc_data)\n"
   ]
  }
 ],
 "metadata": {
  "kernelspec": {
   "display_name": "Python 3",
   "language": "python",
   "name": "python3"
  },
  "language_info": {
   "codemirror_mode": {
    "name": "ipython",
    "version": 3
   },
   "file_extension": ".py",
   "mimetype": "text/x-python",
   "name": "python",
   "nbconvert_exporter": "python",
   "pygments_lexer": "ipython3",
   "version": "3.7.0"
  }
 },
 "nbformat": 4,
 "nbformat_minor": 2
}
